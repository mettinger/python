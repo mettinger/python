{
 "cells": [
  {
   "cell_type": "code",
   "execution_count": 15,
   "id": "9c04a961-4969-4b8b-b45c-19c7dbc9a887",
   "metadata": {},
   "outputs": [],
   "source": [
    "from scapy.layers.l2 import arping"
   ]
  },
  {
   "cell_type": "code",
   "execution_count": 17,
   "id": "525c14ea-7286-41b6-9a56-57b8fbd0f389",
   "metadata": {},
   "outputs": [
    {
     "name": "stdout",
     "output_type": "stream",
     "text": [
      "Begin emission:\n",
      "Finished sending 1 packets.\n",
      "\n",
      "Received 0 packets, got 0 answers, remaining 1 packets\n"
     ]
    }
   ],
   "source": [
    "tmep = arping(\"73.68.69.84\")"
   ]
  },
  {
   "cell_type": "code",
   "execution_count": null,
   "id": "459014e4-d4ac-4deb-9bd3-a7ab4e6c0e39",
   "metadata": {},
   "outputs": [],
   "source": []
  }
 ],
 "metadata": {
  "kernelspec": {
   "display_name": "Python 3 (ipykernel)",
   "language": "python",
   "name": "python3"
  },
  "language_info": {
   "codemirror_mode": {
    "name": "ipython",
    "version": 3
   },
   "file_extension": ".py",
   "mimetype": "text/x-python",
   "name": "python",
   "nbconvert_exporter": "python",
   "pygments_lexer": "ipython3",
   "version": "3.11.5"
  }
 },
 "nbformat": 4,
 "nbformat_minor": 5
}
