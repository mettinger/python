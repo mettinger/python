{
 "cells": [
  {
   "cell_type": "code",
   "execution_count": 1,
   "id": "9c04a961-4969-4b8b-b45c-19c7dbc9a887",
   "metadata": {},
   "outputs": [],
   "source": [
    "from scapy.all import *\n",
    "import pyshark\n",
    "import pickle"
   ]
  },
  {
   "cell_type": "markdown",
   "id": "c7864fbc",
   "metadata": {},
   "source": [
    "### PyShark"
   ]
  },
  {
   "cell_type": "code",
   "execution_count": 2,
   "id": "51192802",
   "metadata": {},
   "outputs": [
    {
     "name": "stderr",
     "output_type": "stream",
     "text": [
      "c:\\Users\\jetti\\mambaforge\\envs\\scapy\\Lib\\site-packages\\pyshark\\capture\\capture.py:177: UserWarning: The running eventloop has tasks but pyshark must set a new eventloop to continue. Existing tasks may not run.\n",
      "  warnings.warn(\"The running eventloop has tasks but pyshark must set a new eventloop to continue. \"\n"
     ]
    },
    {
     "ename": "FileNotFoundError",
     "evalue": "[Errno 2] No such file or directory: ..\\..\\..\\OneDrive\\Desktop\\sampleCap.pcapng",
     "output_type": "error",
     "traceback": [
      "\u001b[1;31m---------------------------------------------------------------------------\u001b[0m",
      "\u001b[1;31mFileNotFoundError\u001b[0m                         Traceback (most recent call last)",
      "\u001b[1;32mc:\\Users\\jetti\\github\\python\\packets\\packetTest.ipynb Cell 3\u001b[0m line \u001b[0;36m1\n\u001b[1;32m----> <a href='vscode-notebook-cell:/c%3A/Users/jetti/github/python/packets/packetTest.ipynb#W2sZmlsZQ%3D%3D?line=0'>1</a>\u001b[0m cap \u001b[39m=\u001b[39m pyshark\u001b[39m.\u001b[39;49mFileCapture(\u001b[39m\"\u001b[39;49m\u001b[39m../../../OneDrive/Desktop/sampleCap.pcapng\u001b[39;49m\u001b[39m\"\u001b[39;49m)\n",
      "File \u001b[1;32mc:\\Users\\jetti\\mambaforge\\envs\\scapy\\Lib\\site-packages\\pyshark\\capture\\file_capture.py:47\u001b[0m, in \u001b[0;36mFileCapture.__init__\u001b[1;34m(self, input_file, keep_packets, display_filter, only_summaries, decryption_key, encryption_type, decode_as, disable_protocol, tshark_path, override_prefs, use_json, use_ek, output_file, include_raw, eventloop, custom_parameters, debug)\u001b[0m\n\u001b[0;32m     45\u001b[0m \u001b[39mself\u001b[39m\u001b[39m.\u001b[39minput_filepath \u001b[39m=\u001b[39m pathlib\u001b[39m.\u001b[39mPath(input_file)\n\u001b[0;32m     46\u001b[0m \u001b[39mif\u001b[39;00m \u001b[39mnot\u001b[39;00m \u001b[39mself\u001b[39m\u001b[39m.\u001b[39minput_filepath\u001b[39m.\u001b[39mexists():\n\u001b[1;32m---> 47\u001b[0m     \u001b[39mraise\u001b[39;00m \u001b[39mFileNotFoundError\u001b[39;00m(\u001b[39mf\u001b[39m\u001b[39m\"\u001b[39m\u001b[39m[Errno 2] No such file or directory: \u001b[39m\u001b[39m{\u001b[39;00m\u001b[39mself\u001b[39m\u001b[39m.\u001b[39minput_filepath\u001b[39m}\u001b[39;00m\u001b[39m\"\u001b[39m)\n\u001b[0;32m     48\u001b[0m \u001b[39mif\u001b[39;00m \u001b[39mnot\u001b[39;00m \u001b[39mself\u001b[39m\u001b[39m.\u001b[39minput_filepath\u001b[39m.\u001b[39mis_file():\n\u001b[0;32m     49\u001b[0m     \u001b[39mraise\u001b[39;00m \u001b[39mFileNotFoundError\u001b[39;00m(\u001b[39mf\u001b[39m\u001b[39m\"\u001b[39m\u001b[39m{\u001b[39;00m\u001b[39mself\u001b[39m\u001b[39m.\u001b[39minput_filepath\u001b[39m}\u001b[39;00m\u001b[39m is a directory\u001b[39m\u001b[39m\"\u001b[39m)\n",
      "\u001b[1;31mFileNotFoundError\u001b[0m: [Errno 2] No such file or directory: ..\\..\\..\\OneDrive\\Desktop\\sampleCap.pcapng"
     ]
    }
   ],
   "source": [
    "cap = pyshark.FileCapture(\"../../../OneDrive/Desktop/sampleCap.pcapng\")"
   ]
  },
  {
   "cell_type": "code",
   "execution_count": 90,
   "id": "077aa076",
   "metadata": {},
   "outputs": [
    {
     "data": {
      "text/plain": [
       "<TCP/TLS Packet>"
      ]
     },
     "execution_count": 90,
     "metadata": {},
     "output_type": "execute_result"
    }
   ],
   "source": [
    "# 176 http\n",
    "\n",
    "index = 4681\n",
    "t0 = cap[index]\n",
    "t0"
   ]
  },
  {
   "cell_type": "code",
   "execution_count": 3,
   "id": "a8951912",
   "metadata": {},
   "outputs": [
    {
     "data": {
      "text/plain": [
       "[<UDP/DATA Packet>,\n",
       " <UDP/SSDP Packet>,\n",
       " <TCP/TLS Packet>,\n",
       " <TCP Packet>,\n",
       " <ICMPV6 Packet>,\n",
       " <UDP/DNS Packet>,\n",
       " <UDP/QUIC Packet>,\n",
       " <ARP Packet>,\n",
       " <IGMP Packet>,\n",
       " <TCP/AJP13 Packet>,\n",
       " <TCP/HTTP Packet>,\n",
       " <UDP/MDNS Packet>,\n",
       " <TCP/OCSP Packet>,\n",
       " <UDP/NBNS Packet>,\n",
       " <ICMP Packet>,\n",
       " <UDP/TPLINK-SMARTHOME Packet>,\n",
       " <TCP/XML Packet>,\n",
       " <UDP/DHCP Packet>,\n",
       " <TCP/_WS.MALFORMED Packet>,\n",
       " <TCP/MEDIA Packet>,\n",
       " <UDP/MP2T Packet>,\n",
       " <UDP/LLMNR Packet>,\n",
       " <UDP/_WS.UNREASSEMBLED Packet>,\n",
       " <UDP/THRIFT Packet>,\n",
       " <TCP/IMAGE-JFIF Packet>,\n",
       " <TCP/PKIX-CERT Packet>,\n",
       " <TCP/DATA-TEXT-LINES Packet>,\n",
       " <UDP/NTP Packet>,\n",
       " <UDP/DHCPV6 Packet>,\n",
       " <TCP/PNG Packet>,\n",
       " <UDP/BJNP Packet>,\n",
       " <TCP/JSON Packet>,\n",
       " <UDP/STUN Packet>]"
      ]
     },
     "execution_count": 3,
     "metadata": {},
     "output_type": "execute_result"
    }
   ],
   "source": [
    "with open('protocolPackets.pkl', 'rb') as f:\n",
    "    packetList = pickle.load(f)\n",
    "\n",
    "packetList"
   ]
  },
  {
   "cell_type": "markdown",
   "id": "1d773c96",
   "metadata": {},
   "source": [
    "### Scapy"
   ]
  },
  {
   "cell_type": "code",
   "execution_count": 40,
   "id": "dde5b94e",
   "metadata": {},
   "outputs": [],
   "source": [
    "pcap = rdpcap(\"../../../OneDrive/Desktop/sampleCap.pcapng\")"
   ]
  },
  {
   "cell_type": "code",
   "execution_count": 43,
   "id": "92fef8e9",
   "metadata": {},
   "outputs": [
    {
     "name": "stdout",
     "output_type": "stream",
     "text": [
      "###[ Ethernet ]### \n",
      "  dst       = 5c:76:95:ea:f1:c5\n",
      "  src       = 44:af:28:20:ca:f6\n",
      "  type      = IPv4\n",
      "###[ IP ]### \n",
      "     version   = 4\n",
      "     ihl       = 5\n",
      "     tos       = 0x0\n",
      "     len       = 668\n",
      "     id        = 39627\n",
      "     flags     = DF\n",
      "     frag      = 0\n",
      "     ttl       = 128\n",
      "     proto     = tcp\n",
      "     chksum    = 0x0\n",
      "     src       = 10.0.0.141\n",
      "     dst       = 130.65.255.57\n",
      "     \\options   \\\n",
      "###[ TCP ]### \n",
      "        sport     = 12708\n",
      "        dport     = http\n",
      "        seq       = 3328298624\n",
      "        ack       = 2235865670\n",
      "        dataofs   = 5\n",
      "        reserved  = 0\n",
      "        flags     = PA\n",
      "        window    = 513\n",
      "        chksum    = 0x8e96\n",
      "        urgptr    = 0\n",
      "        options   = []\n",
      "###[ Raw ]### \n",
      "           load      = 'GET /~pearce/modules/lectures/web/html/HTTP.htm HTTP/1.1\\r\\nHost: www.cs.sjsu.edu\\r\\nConnection: keep-alive\\r\\nCache-Control: max-age=0\\r\\nUpgrade-Insecure-Requests: 1\\r\\nUser-Agent: Mozilla/5.0 (Windows NT 10.0; Win64; x64) AppleWebKit/537.36 (KHTML, like Gecko) Chrome/117.0.0.0 Safari/537.36\\r\\nAccept: text/html,application/xhtml+xml,application/xml;q=0.9,image/avif,image/webp,image/apng,*/*;q=0.8,application/signed-exchange;v=b3;q=0.7\\r\\nReferer: https://www.google.com/\\r\\nAccept-Encoding: gzip, deflate\\r\\nAccept-Language: en-US,en;q=0.9,es;q=0.8\\r\\nIf-None-Match: \"34d3-444245cc88840\"\\r\\nIf-Modified-Since: Sun, 20 Jan 2008 09:54:33 GMT\\r\\n\\r\\n'\n",
      "\n"
     ]
    }
   ],
   "source": [
    "index = 176\n",
    "a = pcap[index]\n",
    "a.show()"
   ]
  },
  {
   "cell_type": "code",
   "execution_count": 44,
   "id": "00213933",
   "metadata": {},
   "outputs": [
    {
     "data": {
      "text/plain": [
       "[scapy.layers.l2.Ether,\n",
       " scapy.layers.inet.IP,\n",
       " scapy.layers.inet.TCP,\n",
       " scapy.packet.Raw]"
      ]
     },
     "execution_count": 44,
     "metadata": {},
     "output_type": "execute_result"
    }
   ],
   "source": [
    "a.layers()"
   ]
  },
  {
   "cell_type": "code",
   "execution_count": 45,
   "id": "d711c7b7",
   "metadata": {},
   "outputs": [
    {
     "name": "stdout",
     "output_type": "stream",
     "text": [
      "dst        : DestMACField                        = '5c:76:95:ea:f1:c5' ('None')\n",
      "src        : SourceMACField                      = '44:af:28:20:ca:f6' ('None')\n",
      "type       : XShortEnumField                     = 2048            ('36864')\n",
      "--\n",
      "version    : BitField  (4 bits)                  = 4               ('4')\n",
      "ihl        : BitField  (4 bits)                  = 5               ('None')\n",
      "tos        : XByteField                          = 0               ('0')\n",
      "len        : ShortField                          = 668             ('None')\n",
      "id         : ShortField                          = 39627           ('1')\n",
      "flags      : FlagsField                          = <Flag 2 (DF)>   ('<Flag 0 ()>')\n",
      "frag       : BitField  (13 bits)                 = 0               ('0')\n",
      "ttl        : ByteField                           = 128             ('64')\n",
      "proto      : ByteEnumField                       = 6               ('0')\n",
      "chksum     : XShortField                         = 0               ('None')\n",
      "src        : SourceIPField                       = '10.0.0.141'    ('None')\n",
      "dst        : DestIPField                         = '130.65.255.57' ('None')\n",
      "options    : PacketListField                     = []              ('[]')\n",
      "--\n",
      "sport      : ShortEnumField                      = 12708           ('20')\n",
      "dport      : ShortEnumField                      = 80              ('80')\n",
      "seq        : IntField                            = 3328298624      ('0')\n",
      "ack        : IntField                            = 2235865670      ('0')\n",
      "dataofs    : BitField  (4 bits)                  = 5               ('None')\n",
      "reserved   : BitField  (3 bits)                  = 0               ('0')\n",
      "flags      : FlagsField                          = <Flag 24 (PA)>  ('<Flag 2 (S)>')\n",
      "window     : ShortField                          = 513             ('8192')\n",
      "chksum     : XShortField                         = 36502           ('None')\n",
      "urgptr     : ShortField                          = 0               ('0')\n",
      "options    : TCPOptionsField                     = []              (\"b''\")\n",
      "--\n",
      "load       : StrField                            = b'GET /~pearce/modules/lectures/web/html/HTTP.htm HTTP/1.1\\r\\nHost: www.cs.sjsu.edu\\r\\nConnection: keep-alive\\r\\nCache-Control: max-age=0\\r\\nUpgrade-Insecure-Requests: 1\\r\\nUser-Agent: Mozilla/5.0 (Windows NT 10.0; Win64; x64) AppleWebKit/537.36 (KHTML, like Gecko) Chrome/117.0.0.0 Safari/537.36\\r\\nAccept: text/html,application/xhtml+xml,application/xml;q=0.9,image/avif,image/webp,image/apng,*/*;q=0.8,application/signed-exchange;v=b3;q=0.7\\r\\nReferer: https://www.google.com/\\r\\nAccept-Encoding: gzip, deflate\\r\\nAccept-Language: en-US,en;q=0.9,es;q=0.8\\r\\nIf-None-Match: \"34d3-444245cc88840\"\\r\\nIf-Modified-Since: Sun, 20 Jan 2008 09:54:33 GMT\\r\\n\\r\\n' (\"b''\")\n"
     ]
    }
   ],
   "source": [
    "ls(a)"
   ]
  },
  {
   "cell_type": "code",
   "execution_count": null,
   "id": "d8532b50",
   "metadata": {},
   "outputs": [],
   "source": []
  }
 ],
 "metadata": {
  "kernelspec": {
   "display_name": "Python 3 (ipykernel)",
   "language": "python",
   "name": "python3"
  },
  "language_info": {
   "codemirror_mode": {
    "name": "ipython",
    "version": 3
   },
   "file_extension": ".py",
   "mimetype": "text/x-python",
   "name": "python",
   "nbconvert_exporter": "python",
   "pygments_lexer": "ipython3",
   "version": "3.11.5"
  }
 },
 "nbformat": 4,
 "nbformat_minor": 5
}
