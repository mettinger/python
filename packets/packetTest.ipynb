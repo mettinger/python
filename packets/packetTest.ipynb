{
 "cells": [
  {
   "cell_type": "code",
   "execution_count": 6,
   "id": "9c04a961-4969-4b8b-b45c-19c7dbc9a887",
   "metadata": {},
   "outputs": [],
   "source": [
    "from scapy.all import *\n",
    "import pyshark"
   ]
  },
  {
   "cell_type": "code",
   "execution_count": 12,
   "id": "37480c74",
   "metadata": {},
   "outputs": [],
   "source": [
    "#capture = sniff()"
   ]
  },
  {
   "cell_type": "code",
   "execution_count": 7,
   "id": "dde5b94e",
   "metadata": {},
   "outputs": [],
   "source": [
    "pcap = rdpcap(\"../../../OneDrive/Desktop/warzoneSessionTotal.pcapng\")"
   ]
  },
  {
   "cell_type": "code",
   "execution_count": 8,
   "id": "92fef8e9",
   "metadata": {},
   "outputs": [
    {
     "name": "stdout",
     "output_type": "stream",
     "text": [
      "###[ Ethernet ]### \n",
      "  dst       = 5c:61:99:40:d6:12\n",
      "  src       = 44:af:28:20:ca:f6\n",
      "  type      = IPv6\n",
      "###[ IPv6 ]### \n",
      "     version   = 6\n",
      "     tc        = 0\n",
      "     fl        = 493124\n",
      "     plen      = 933\n",
      "     nh        = TCP\n",
      "     hlim      = 64\n",
      "     src       = fe80::147d:af49:92e0:48a3\n",
      "     dst       = fe80::5e61:99ff:fe40:d612\n",
      "###[ TCP ]### \n",
      "        sport     = 64003\n",
      "        dport     = http\n",
      "        seq       = 4120855412\n",
      "        ack       = 126944773\n",
      "        dataofs   = 5\n",
      "        reserved  = 0\n",
      "        flags     = PA\n",
      "        window    = 513\n",
      "        chksum    = 0x6cac\n",
      "        urgptr    = 0\n",
      "        options   = []\n",
      "###[ Raw ]### \n",
      "           load      = '<?xml version=\"1.0\" encoding=\"utf-8\"?><soap:Envelope xmlns:soap=\"http://www.w3.org/2003/05/soap-envelope\" xmlns:wsa=\"http://schemas.xmlsoap.org/ws/2004/08/addressing\" xmlns:pri=\"http://schemas.microsoft.com/windows/2006/08/wdp/print\"><soap:Header><wsa:To>http://[FE80::5E61:99FF:FE40:D612]:80/WebServices/PrinterService</wsa:To><wsa:Action>http://schemas.microsoft.com/windows/2006/08/wdp/print/GetPrinterElements</wsa:Action><wsa:MessageID>urn:uuid:0224bdd6-aafe-4432-928b-d76123448cc6</wsa:MessageID><wsa:ReplyTo><wsa:Address>http://schemas.xmlsoap.org/ws/2004/08/addressing/role/anonymous</wsa:Address></wsa:ReplyTo><wsa:From><wsa:Address>urn:uuid:67d07746-f576-4a45-867f-a20df9e476b1</wsa:Address></wsa:From></soap:Header><soap:Body><pri:GetPrinterElementsRequest><pri:RequestedElements><pri:Name>pri:PrinterStatus</pri:Name></pri:RequestedElements></pri:GetPrinterElementsRequest></soap:Body></soap:Envelope>'\n",
      "\n"
     ]
    }
   ],
   "source": [
    "index = 25273\n",
    "a = pcap[index]\n",
    "a.show()"
   ]
  },
  {
   "cell_type": "code",
   "execution_count": 9,
   "id": "00213933",
   "metadata": {},
   "outputs": [
    {
     "data": {
      "text/plain": [
       "[scapy.layers.l2.Ether,\n",
       " scapy.layers.inet6.IPv6,\n",
       " scapy.layers.inet.TCP,\n",
       " scapy.packet.Raw]"
      ]
     },
     "execution_count": 9,
     "metadata": {},
     "output_type": "execute_result"
    }
   ],
   "source": [
    "a.layers()"
   ]
  },
  {
   "cell_type": "code",
   "execution_count": 10,
   "id": "d711c7b7",
   "metadata": {},
   "outputs": [
    {
     "name": "stdout",
     "output_type": "stream",
     "text": [
      "dst        : DestMACField                        = '5c:61:99:40:d6:12' ('None')\n",
      "src        : SourceMACField                      = '44:af:28:20:ca:f6' ('None')\n",
      "type       : XShortEnumField                     = 34525           ('36864')\n",
      "--\n",
      "version    : BitField  (4 bits)                  = 6               ('6')\n",
      "tc         : BitField  (8 bits)                  = 0               ('0')\n",
      "fl         : BitField  (20 bits)                 = 493124          ('0')\n",
      "plen       : ShortField                          = 933             ('None')\n",
      "nh         : ByteEnumField                       = 6               ('59')\n",
      "hlim       : ByteField                           = 64              ('64')\n",
      "src        : SourceIP6Field                      = 'fe80::147d:af49:92e0:48a3' ('None')\n",
      "dst        : DestIP6Field                        = 'fe80::5e61:99ff:fe40:d612' ('None')\n",
      "--\n",
      "sport      : ShortEnumField                      = 64003           ('20')\n",
      "dport      : ShortEnumField                      = 80              ('80')\n",
      "seq        : IntField                            = 4120855412      ('0')\n",
      "ack        : IntField                            = 126944773       ('0')\n",
      "dataofs    : BitField  (4 bits)                  = 5               ('None')\n",
      "reserved   : BitField  (3 bits)                  = 0               ('0')\n",
      "flags      : FlagsField                          = <Flag 24 (PA)>  ('<Flag 2 (S)>')\n",
      "window     : ShortField                          = 513             ('8192')\n",
      "chksum     : XShortField                         = 27820           ('None')\n",
      "urgptr     : ShortField                          = 0               ('0')\n",
      "options    : TCPOptionsField                     = []              (\"b''\")\n",
      "--\n",
      "load       : StrField                            = b'<?xml version=\"1.0\" encoding=\"utf-8\"?><soap:Envelope xmlns:soap=\"http://www.w3.org/2003/05/soap-envelope\" xmlns:wsa=\"http://schemas.xmlsoap.org/ws/2004/08/addressing\" xmlns:pri=\"http://schemas.microsoft.com/windows/2006/08/wdp/print\"><soap:Header><wsa:To>http://[FE80::5E61:99FF:FE40:D612]:80/WebServices/PrinterService</wsa:To><wsa:Action>http://schemas.microsoft.com/windows/2006/08/wdp/print/GetPrinterElements</wsa:Action><wsa:MessageID>urn:uuid:0224bdd6-aafe-4432-928b-d76123448cc6</wsa:MessageID><wsa:ReplyTo><wsa:Address>http://schemas.xmlsoap.org/ws/2004/08/addressing/role/anonymous</wsa:Address></wsa:ReplyTo><wsa:From><wsa:Address>urn:uuid:67d07746-f576-4a45-867f-a20df9e476b1</wsa:Address></wsa:From></soap:Header><soap:Body><pri:GetPrinterElementsRequest><pri:RequestedElements><pri:Name>pri:PrinterStatus</pri:Name></pri:RequestedElements></pri:GetPrinterElementsRequest></soap:Body></soap:Envelope>' (\"b''\")\n"
     ]
    }
   ],
   "source": [
    "ls(a)"
   ]
  },
  {
   "cell_type": "code",
   "execution_count": 2,
   "id": "e8b66b22",
   "metadata": {},
   "outputs": [
    {
     "name": "stderr",
     "output_type": "stream",
     "text": [
      "c:\\Users\\jetti\\mambaforge\\envs\\scapy\\Lib\\site-packages\\pyshark\\capture\\capture.py:177: UserWarning: The running eventloop has tasks but pyshark must set a new eventloop to continue. Existing tasks may not run.\n",
      "  warnings.warn(\"The running eventloop has tasks but pyshark must set a new eventloop to continue. \"\n"
     ]
    }
   ],
   "source": [
    "pcap2 = pyshark.FileCapture('../../../OneDrive/Desktop/warzoneSessionTotal.pcapng')"
   ]
  },
  {
   "cell_type": "code",
   "execution_count": 4,
   "id": "24fb6227",
   "metadata": {},
   "outputs": [
    {
     "name": "stdout",
     "output_type": "stream",
     "text": [
      "Packet (Length: 987)\n",
      "Layer ETH\n",
      ":\tDestination: 5c:61:99:40:d6:12\n",
      "\tAddress: 5c:61:99:40:d6:12\n",
      "\t.... ..0. .... .... .... .... = LG bit: Globally unique address (factory default)\n",
      "\t.... ...0 .... .... .... .... = IG bit: Individual address (unicast)\n",
      "\tSource: 44:af:28:20:ca:f6\n",
      "\t.... ..0. .... .... .... .... = LG bit: Globally unique address (factory default)\n",
      "\t.... ...0 .... .... .... .... = IG bit: Individual address (unicast)\n",
      "\tType: IPv6 (0x86dd)\n",
      "\tAddress: 44:af:28:20:ca:f6\n",
      "Layer IPV6\n",
      ":\t0110 .... = Version: 6\n",
      "\t.... 0000 0000 .... .... .... .... .... = Traffic Class: 0x00 (DSCP: CS0, ECN: Not-ECT)\n",
      "\t.... 0000 00.. .... .... .... .... .... = Differentiated Services Codepoint: Default (0)\n",
      "\t.... .... ..00 .... .... .... .... .... = Explicit Congestion Notification: Not ECN-Capable Transport (0)\n",
      "\t.... 0111 1000 0110 0100 0100 = Flow Label: 0x78644\n",
      "\tPayload Length: 933\n",
      "\tNext Header: TCP (6)\n",
      "\tHop Limit: 64\n",
      "\tSource Address: fe80::147d:af49:92e0:48a3\n",
      "\tDestination Address: fe80::5e61:99ff:fe40:d612\n",
      "\tDestination SLAAC MAC: 5c:61:99:40:d6:12\n",
      "Layer TCP\n",
      ":\tSource Port: 64003\n",
      "\tDestination Port: 80\n",
      "\tStream index: 83\n",
      "\tConversation completeness: Incomplete, DATA (15)\n",
      "\tTCP Segment Len: 913\n",
      "\tSequence Number: 225    (relative sequence number)\n",
      "\tSequence Number (raw): 4120855412\n",
      "\tNext Sequence Number: 1138    (relative sequence number)\n",
      "\tAcknowledgment Number: 1    (relative ack number)\n",
      "\tAcknowledgment number (raw): 126944773\n",
      "\t0101 .... = Header Length: 20 bytes (5)\n",
      "\tFlags: 0x018 (PSH, ACK)\n",
      "\t000. .... .... = Reserved: Not set\n",
      "\t...0 .... .... = Accurate ECN: Not set\n",
      "\t.... 0... .... = Congestion Window Reduced: Not set\n",
      "\t.... .0.. .... = ECN-Echo: Not set\n",
      "\t.... ..0. .... = Urgent: Not set\n",
      "\t.... ...1 .... = Acknowledgment: Set\n",
      "\t.... .... 1... = Push: Set\n",
      "\t.... .... .0.. = Reset: Not set\n",
      "\t.... .... ..0. = Syn: Not set\n",
      "\t.... .... ...0 = Fin: Not set\n",
      "\tTCP Flags: ·······AP···\n",
      "\tWindow: 513\n",
      "\tCalculated window size: 131328\n",
      "\tWindow size scaling factor: 256\n",
      "\tChecksum: 0x6cac [unverified]\n",
      "\tChecksum Status: Unverified\n",
      "\tUrgent Pointer: 0\n",
      "\tTimestamps\n",
      "\tTime since first frame in this TCP stream: 0.168356000 seconds\n",
      "\tTime since previous frame in this TCP stream: 0.000253000 seconds\n",
      "\tSEQ/ACK analysis\n",
      "\tiRTT: 0.166073000 seconds\n",
      "\tBytes in flight: 1137\n",
      "\tBytes sent since last PSH flag: 913\n",
      "\tTCP payload (913 bytes)\n",
      "\tTCP segment data (913 bytes)\n",
      "DATALayer HTTP\n",
      ":\tPOST /WebServices/PrinterService HTTP/1.1\\r\\n\n",
      "\tExpert Info (Chat/Sequence): POST /WebServices/PrinterService HTTP/1.1\\r\\n\n",
      "\tPOST /WebServices/PrinterService HTTP/1.1\\r\\n\n",
      "\tSeverity level: Chat\n",
      "\tGroup: Sequence\n",
      "\tRequest Method: POST\n",
      "\tRequest URI: /WebServices/PrinterService\n",
      "\tRequest Version: HTTP/1.1\n",
      "\tCache-Control: no-cache\\r\\n\n",
      "\tConnection: Keep-Alive\\r\\n\n",
      "\tContent-Type: application/soap+xml\\r\\n\n",
      "\tUser-Agent: WSDAPI\\r\\n\n",
      "\tContent-Length: 913\\r\\n\n",
      "\tContent length: 913\n",
      "\tHost: [fe80::5e61:99ff:fe40:d612]\\r\\n\n",
      "\tFull request URI: http://[fe80::5e61:99ff:fe40:d612]/WebServices/PrinterService\n",
      "\tHTTP request 1/1\n",
      "\tFile Data: 913 bytes\n",
      "\t\\r\\n\n",
      "\tPragma: no-cache\\r\\n\n",
      "Layer XML\n",
      ":\t<?xml\n",
      "\tversion=\"1.0\"\n",
      "\tencoding=\"utf-8\"\n",
      "\t?>\n",
      "\t<soap:Envelope\n",
      "\txmlns:soap=\"http://www.w3.org/2003/05/soap-envelope\"\n",
      "\thttp://[FE80::5E61:99FF:FE40:D612]:80/WebServices/PrinterService\n",
      "\t</wsa:To>\n",
      "\t</wsa:Action>\n",
      "\t</wsa:MessageID>\n",
      "\t</wsa:Address>\n",
      "\t</wsa:ReplyTo>\n",
      "\t</wsa:Address>\n",
      "\t</wsa:From>\n",
      "\t</soap:Header>\n",
      "\t</pri:Name>\n",
      "\t</pri:RequestedElements>\n",
      "\t</pri:GetPrinterElementsRequest>\n",
      "\t</soap:Body>\n",
      "\t</soap:Envelope>\n",
      "\t<soap:Header>\n",
      "\t<wsa:To>\n",
      "\t<wsa:Action>\n",
      "\t<wsa:MessageID>\n",
      "\t<wsa:ReplyTo>\n",
      "\t<wsa:Address>\n",
      "\t<wsa:From>\n",
      "\t<wsa:Address>\n",
      "\t<soap:Body>\n",
      "\t<pri:GetPrinterElementsRequest>\n",
      "\t<pri:RequestedElements>\n",
      "\t<pri:Name>\n",
      "\txmlns:wsa=\"http://schemas.xmlsoap.org/ws/2004/08/addressing\"\n",
      "\txmlns:pri=\"http://schemas.microsoft.com/windows/2006/08/wdp/print\">\n",
      "\thttp://schemas.microsoft.com/windows/2006/08/wdp/print/GetPrinterElements\n",
      "\turn:uuid:0224bdd6-aafe-4432-928b-d76123448cc6\n",
      "\thttp://schemas.xmlsoap.org/ws/2004/08/addressing/role/anonymous\n",
      "\turn:uuid:67d07746-f576-4a45-867f-a20df9e476b1\n",
      "\tpri:PrinterStatus\n",
      "\n"
     ]
    }
   ],
   "source": [
    "index = 25273\n",
    "\n",
    "a = pcap2[index]\n",
    "print(a)"
   ]
  },
  {
   "cell_type": "code",
   "execution_count": null,
   "id": "1f2515da",
   "metadata": {},
   "outputs": [],
   "source": []
  }
 ],
 "metadata": {
  "kernelspec": {
   "display_name": "Python 3 (ipykernel)",
   "language": "python",
   "name": "python3"
  },
  "language_info": {
   "codemirror_mode": {
    "name": "ipython",
    "version": 3
   },
   "file_extension": ".py",
   "mimetype": "text/x-python",
   "name": "python",
   "nbconvert_exporter": "python",
   "pygments_lexer": "ipython3",
   "version": "3.11.5"
  }
 },
 "nbformat": 4,
 "nbformat_minor": 5
}
