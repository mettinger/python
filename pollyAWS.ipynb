{
 "cells": [
  {
   "cell_type": "code",
   "execution_count": 159,
   "metadata": {
    "collapsed": true
   },
   "outputs": [],
   "source": [
    "import os\n",
    "import tempfile\n",
    "import pdb"
   ]
  },
  {
   "cell_type": "code",
   "execution_count": 163,
   "metadata": {
    "collapsed": true
   },
   "outputs": [],
   "source": [
    "def pollyStringCall(xmlString, outputPathMP3):\n",
    "    pollyCall = \"aws polly synthesize-speech --text-type ssml --text '%s' --output-format mp3 --voice-id Matthew %s\" % (xmlString, outputPathMP3)\n",
    "    print pollyCall\n",
    "    result = os.system(pollyCall)\n",
    "    return result\n",
    "\n",
    "#pollyString = '<speak> Lie down on your stomach in crocodile pose with your forehead resting on your forearms (left hand on the right elbow and right hand on the left elbow), legs slightly apart with your feet pointing outward <break time=\"3s\"/> close your eyes </speak>'\n",
    "#pollyStringCall(pollyString, outputPathMP3)"
   ]
  },
  {
   "cell_type": "code",
   "execution_count": 161,
   "metadata": {},
   "outputs": [],
   "source": [
    "def postProcessLine(thisLine):  \n",
    "    thisLine = '<speak> ' + thisLine + ' </speak>'\n",
    "    thisLine = thisLine.replace(\"\\n\",\" \")\n",
    "    thisLine = thisLine.replace(\"\\\\\",\"\")\n",
    "    thisLine = thisLine.replace(\"'\",\"\")\n",
    "    return thisLine\n",
    "    \n",
    "def pollyFileCall(pathToXML, outputPathMP3):\n",
    "    with open(pathToXML,'r') as fp:\n",
    "        line = fp.read()\n",
    "    if line[0:7] == \"<speak>\":\n",
    "        line = line[7:]\n",
    "    if line[-9:] == \"</speak>\\n\":\n",
    "        line = line[0:-9]\n",
    "        \n",
    "    breakList = line.split('<break time=\"3s\"/>')\n",
    "    allLines = []\n",
    "    thisLineList = []\n",
    "    for thisSentence in breakList:\n",
    "        thisLineList = thisLineList + [thisSentence,'<break time=\"3s\"/>']\n",
    "        thisLine = \" \".join(thisLineList)\n",
    "        if len(thisLine) > 1000:\n",
    "            thisLine = postProcessLine(thisLine)\n",
    "            allLines.append(thisLine)\n",
    "            thisLineList = []\n",
    "    \n",
    "    thisLine = '<speak> ' + thisLine + ' </speak>'\n",
    "    thisLine = thisLine.replace(\"\\n\",\" \")\n",
    "    allLines.append(thisLine)\n",
    "            \n",
    "    for thisLine in allLines:\n",
    "        with tempfile.NamedTemporaryFile() as thisFile:\n",
    "            result = pollyStringCall(thisLine, outputPathMP3) \n",
    "            print result\n",
    "    \n",
    "    return allLines"
   ]
  },
  {
   "cell_type": "code",
   "execution_count": 164,
   "metadata": {},
   "outputs": [
    {
     "name": "stdout",
     "output_type": "stream",
     "text": [
      "aws polly synthesize-speech --profile spoken --text-type ssml --text '<speak>  Lie down on your stomach in crocodile pose with your forehead resting on your forearms (left hand on the right elbow and right hand on the left elbow), legs slightly apart with your feet pointing outward  <break time=\"3s\"/>  close your eyes  <break time=\"3s\"/>   and become aware of the gravity of your body  <break time=\"3s\"/>   and of your abdominal breathing  <break time=\"3s\"/>   the abdomen rises as you breathe in <break time=\"3s\"/>   falls as your breathe out <break time=\"3s\"/>   allow the body to relax  <break time=\"3s\"/>   let your breath flow freely, without pauses  <break time=\"3s\"/>   [Practice this exercise for about five minutes or the time needed for the abdominal breathing to set in). Be totally aware of your breath and of your body, be attentive to any change in your position and of the transition from one pose to another  <break time=\"3s\"/>   Then, turn over to lie down on your back, in corpse pose (shavasana), arms and legs slightly apart from the body, palms facing upward, feet turned outward, back straight  <break time=\"3s\"/> </speak>' --output-format mp3 --voice-id Matthew /Users/marke/Desktop/testMP3.mp3\n",
      "65280\n",
      "aws polly synthesize-speech --profile spoken --text-type ssml --text '<speak>   Promise yourself that you will not move during the entire session  <break time=\"3s\"/>    RELAXATION  Become aware of the floor on which you are lying down  <break time=\"3s\"/>   of the space that your body occupies on the floor, from head to toe  <break time=\"3s\"/>   of the subtle movement of your stomach rising and falling to the rhythm of your breathing  <break time=\"3s\"/>   mentally, draw a mandala of three circles of light around yourself  <break time=\"3s\"/>   and decide that your mind will neither leave this mandala, nor allow anything to enter it <break time=\"3s\"/>   observe your body surrounded by the circle of light  <break time=\"3s\"/>   your breath, your stomach rising and falling  <break time=\"3s\"/>   relax your mind  <break time=\"3s\"/>   bring your attention to the top of your head and relax your whole head and forehead  <break time=\"3s\"/>   your eyebrows, your eyelids, your eyes, and eyeballs  <break time=\"3s\"/>   relax your nostrils  <break time=\"3s\"/>   your cheeks  <break time=\"3s\"/> </speak>' --output-format mp3 --voice-id Matthew /Users/marke/Desktop/testMP3.mp3\n",
      "65280\n",
      "aws polly synthesize-speech --profile spoken --text-type ssml --text '<speak>   your lips, mouth, and tongue  <break time=\"3s\"/>   your chin  <break time=\"3s\"/>   your neck, back of the neck, and your throat  <break time=\"3s\"/>   relax your right shoulder  <break time=\"3s\"/>   the shoulder joint  <break time=\"3s\"/>   the upper arm and the elbow <break time=\"3s\"/>   forearm, your wrist  <break time=\"3s\"/>   the back of your hand, your palm  <break time=\"3s\"/>   your right thumb <break time=\"3s\"/>   right index finger, middle finger, ring finger, and little finger  <break time=\"3s\"/>   the tips of your fingers  <break time=\"3s\"/>   every joint  <break time=\"3s\"/>   your palm, the back of your hand  <break time=\"3s\"/>   your wrist  <break time=\"3s\"/>   forearm, elbow  <break time=\"3s\"/>   upper arm up to the shoulder joint  <break time=\"3s\"/>   relax your shoulder completely  <break time=\"3s\"/>   your neck and neck joints  <break time=\"3s\"/>   the base of your throat  <break time=\"3s\"/>   relax your left shoulder and shoulder joint  <break time=\"3s\"/>   your upper arm up to the elbow  <break time=\"3s\"/> </speak>' --output-format mp3 --voice-id Matthew /Users/marke/Desktop/testMP3.mp3\n",
      "65280\n",
      "aws polly synthesize-speech --profile spoken --text-type ssml --text '<speak>   your forearm, wrist  <break time=\"3s\"/>   the back of your hand, your palm  <break time=\"3s\"/>   your thumb <break time=\"3s\"/>   index finger, middle finger, ring finger, and little finger  <break time=\"3s\"/>   your fingertips  <break time=\"3s\"/>   your palm, the back of your hand  <break time=\"3s\"/>   your wrist  <break time=\"3s\"/>   your forearm, your elbow <break time=\"3s\"/>   your upper arm up to the shoulder joint  <break time=\"3s\"/>   your neck and neck joint  <break time=\"3s\"/>   the base of your throat  <break time=\"3s\"/>   your chest  <break time=\"3s\"/>   your ribs, under your armpits, and under your ribs  <break time=\"3s\"/>   your chest  <break time=\"3s\"/>   your back  <break time=\"3s\"/>   the heart region  <break time=\"3s\"/>   your stomach  <break time=\"3s\"/>   around your stomach <break time=\"3s\"/>   your navel  <break time=\"3s\"/>   lower abdomen  <break time=\"3s\"/>   waist <break time=\"3s\"/>   hips  <break time=\"3s\"/>   relax your right thigh and all its muscles  <break time=\"3s\"/> </speak>' --output-format mp3 --voice-id Matthew /Users/marke/Desktop/testMP3.mp3\n",
      "65280\n",
      "aws polly synthesize-speech --profile spoken --text-type ssml --text '<speak>   your knee  <break time=\"3s\"/>   your calf  <break time=\"3s\"/>   your right ankle <break time=\"3s\"/>   right foot  <break time=\"3s\"/>   each toe, starting with the big toe <break time=\"3s\"/>   the sole of your foot, your heel  <break time=\"3s\"/>   right ankle, calf  <break time=\"3s\"/>   your whole knee  <break time=\"3s\"/>   your thigh  <break time=\"3s\"/>   your right hip joint <break time=\"3s\"/>   your pelvis  <break time=\"3s\"/>   your left hip joint  <break time=\"3s\"/>   left thigh <break time=\"3s\"/>   your whole left knee  <break time=\"3s\"/>   calf  <break time=\"3s\"/>  left ankle <break time=\"3s\"/>  left foot  <break time=\"3s\"/>   each toe, starting with the big toe  <break time=\"3s\"/>   the sole of your left foot, your left heel  <break time=\"3s\"/>  left ankle <break time=\"3s\"/>   calf  <break time=\"3s\"/>   your whole knee <break time=\"3s\"/>   your thigh <break time=\"3s\"/>   the left hip joint <break time=\"3s\"/>   pelvis  <break time=\"3s\"/>   your hips. .. waist <break time=\"3s\"/>   lower abdomen  <break time=\"3s\"/> </speak>' --output-format mp3 --voice-id Matthew /Users/marke/Desktop/testMP3.mp3\n",
      "65280\n",
      "aws polly synthesize-speech --profile spoken --text-type ssml --text '<speak>   navel  <break time=\"3s\"/>   stomach  <break time=\"3s\"/>   feel your whole stomach  <break time=\"3s\"/>   relax all your inner organs  <break time=\"3s\"/>   the heart center  <break time=\"3s\"/>   rib cage, chest  <break time=\"3s\"/>   your lungs and chest  <break time=\"3s\"/>   your armpits  <break time=\"3s\"/>   back <break time=\"3s\"/>   shoulders and shoulder joints  <break time=\"3s\"/>   your upper arms, elbows, forearms  <break time=\"3s\"/>   your wrists, hands  <break time=\"3s\"/>   your thumbs, index fingers, middle fingers, ring fingers, and little fingers  <break time=\"3s\"/>   your fingertips  <break time=\"3s\"/>   your palms .. .wrists  <break time=\"3s\"/>   forearms, elbows  <break time=\"3s\"/>   upper arms, shoulder joints, and shoulders  <break time=\"3s\"/>   your whole neck, the base of your throat, the Adams apple, inside your throat, and the base of your tongue  <break time=\"3s\"/>   relax your tongue, your chin, jaws, mouth, lips, your cheeks, and cheekbones  <break time=\"3s\"/>   your nostrils  <break time=\"3s\"/> </speak>' --output-format mp3 --voice-id Matthew /Users/marke/Desktop/testMP3.mp3\n",
      "65280\n",
      "aws polly synthesize-speech --profile spoken --text-type ssml --text '<speak>   your eyes and eyeballs, eyelids, eyebrows, the space between your eyebrows  <break time=\"3s\"/>   temples  <break time=\"3s\"/>   forehead  <break time=\"3s\"/>   relax your whole head and focus your attention on your breath as if your whole body is breathing, from head to toe, and from toe to head, like one big wave, without jerks, without pauses  <break time=\"3s\"/>    THE \"CORPSE JOURNEY” AND “BLUE STARS”  Now, bring your attention to the center of your forehead  <break time=\"3s\"/>   prepare yourself for a grand journey in your body  <break time=\"3s\"/>   the corpse <break time=\"3s\"/>   bring your attention to the center of your forehead and visualize a blue star or a bright circle (bindu) there  <break time=\"3s\"/>   if you like, repeat your mantra while remaining aware of the star throughout the journey <break time=\"3s\"/>   let the mantra vibrate with the bright star  <break time=\"3s\"/>   once again, in the center of your forehead, the bright star, the vibration  <break time=\"3s\"/> </speak>' --output-format mp3 --voice-id Matthew /Users/marke/Desktop/testMP3.mp3\n"
     ]
    },
    {
     "name": "stdout",
     "output_type": "stream",
     "text": [
      "65280\n",
      "aws polly synthesize-speech --profile spoken --text-type ssml --text '<speak>   in the pit of your throat  <break time=\"3s\"/>   the bright blue star in the right shoulder joint  <break time=\"3s\"/>   elbow <break time=\"3s\"/>   wrist  <break time=\"3s\"/>   the tip of your right thumb <break time=\"3s\"/>   tip of your index finger  <break time=\"3s\"/>   middle finger  <break time=\"3s\"/>   ring finger  <break time=\"3s\"/>   little finger  <break time=\"3s\"/>   in the right wrist joint <break time=\"3s\"/>   elbow <break time=\"3s\"/>   right shoulder  <break time=\"3s\"/>   blue star in the pit of your throat <break time=\"3s\"/>  th .. blue star in the pit of your throat  <break time=\"3s\"/>   the left shoulder joint  <break time=\"3s\"/>   elbow <break time=\"3s\"/>   wrist  <break time=\"3s\"/>   tip of your left thumb  <break time=\"3s\"/>   tip of your index finger  <break time=\"3s\"/>   middle finger  <break time=\"3s\"/>   ring finger  <break time=\"3s\"/>   little finger  <break time=\"3s\"/>   in the left wrist joint  <break time=\"3s\"/>   elbow <break time=\"3s\"/>   left shoulder  <break time=\"3s\"/> </speak>' --output-format mp3 --voice-id Matthew /Users/marke/Desktop/testMP3.mp3\n",
      "65280\n",
      "aws polly synthesize-speech --profile spoken --text-type ssml --text '<speak>   blue star in the pit of your throat  <break time=\"3s\"/>   with each breath, feel the radiance, the vibration  <break time=\"3s\"/>   in the heart center  <break time=\"3s\"/>   your right breast  <break time=\"3s\"/>   heart center  <break time=\"3s\"/>   your left breast  <break time=\"3s\"/>   heart center  <break time=\"3s\"/>   your navel  <break time=\"3s\"/>   pubis  <break time=\"3s\"/>   perineum  <break time=\"3s\"/>   blue star in your right hip <break time=\"3s\"/>   knee <break time=\"3s\"/>   ankle <break time=\"3s\"/>   in the tips of your toes from the little toe to the big toe  <break time=\"3s\"/>   your right ankle <break time=\"3s\"/>   knee  <break time=\"3s\"/>   hip  <break time=\"3s\"/>   blue star in the perineum  <break time=\"3s\"/>   your left hip  <break time=\"3s\"/>   knee <break time=\"3s\"/>   ankle <break time=\"3s\"/>   in the tips of your toes from the little toe to the big toe .. . your left ankle <break time=\"3s\"/>   knee  <break time=\"3s\"/>   hip <break time=\"3s\"/>   blue star in the perineum  <break time=\"3s\"/> </speak>' --output-format mp3 --voice-id Matthew /Users/marke/Desktop/testMP3.mp3\n",
      "65280\n",
      "aws polly synthesize-speech --profile spoken --text-type ssml --text '<speak>   your navel  <break time=\"3s\"/>   heart center  <break time=\"3s\"/>   in the pit of your throat  <break time=\"3s\"/>   your mantra, its vibration, and light <break time=\"3s\"/>   blue star in the middle of your forehead with the mantra  <break time=\"3s\"/>   the rise and fall of your breath  <break time=\"3s\"/>   feel the breath vibrate in the whole body, in all the points, from the top of your head to the tips of your toes and from the tips of your toes to the top of your head  <break time=\"3s\"/>   feel all the stars at the same time  <break time=\"3s\"/>   the light and vibration, everywhere <break time=\"3s\"/>   like one single presence, vibrating and luminous  <break time=\"3s\"/>   the energy points in one single field, one star  <break time=\"3s\"/>   no pauses in your breathing  <break time=\"3s\"/>   like a never-ending wave, allow your body to breathe through all the points  <break time=\"3s\"/>   allow it to radiate with light and vibrations  <break time=\"3s\"/>    THE MOON  Bring your attention back to the contact of your nostrils with the air  <break time=\"3s\"/> </speak>' --output-format mp3 --voice-id Matthew /Users/marke/Desktop/testMP3.mp3\n",
      "65280\n",
      "aws polly synthesize-speech --profile spoken --text-type ssml --text '<speak>   the feeling, the movement <break time=\"3s\"/>   like two rays of white light <break time=\"3s\"/>   like the moon  <break time=\"3s\"/>   as if your face is becoming an unblemished moon  <break time=\"3s\"/>   a bright moon rises in the back of your throat <break time=\"3s\"/>   your whole face is an unblemished moon  <break time=\"3s\"/>   your breath, two luminous rays <break time=\"3s\"/>   that come and go from the middle of your forehead  <break time=\"3s\"/>   the moonlight flows through your nostrils  <break time=\"3s\"/>   through your fingers  <break time=\"3s\"/>   a cool and vibrating light <break time=\"3s\"/>   flowing through your hands like the light flowing through your fingers, as if your breath is flowing downward into your toes .. . the same light is flowing through your feet and encircling them  <break time=\"3s\"/>   rays of light, of moonlight, flowing through your toes  <break time=\"3s\"/>   all your agitation and physical, emotional, energetic, and mental tensions are cleansed by this cool moonlight  <break time=\"3s\"/> </speak>' --output-format mp3 --voice-id Matthew /Users/marke/Desktop/testMP3.mp3\n",
      "65280\n",
      "aws polly synthesize-speech --profile spoken --text-type ssml --text '<speak>   observe the moon rising in the back of your throat, your face is a disc, an unblemished moon  <break time=\"3s\"/>   your breath, two rays  <break time=\"3s\"/>   your hands, fingers, feet, and toes spread the moonlight  <break time=\"3s\"/>   observe the radiance <break time=\"3s\"/>   taste the vibrations  <break time=\"3s\"/>    COMING BACK TO SITTING POSITION  Very slowly, allow the light from your hands and fingers to come back to your face  <break time=\"3s\"/>   bring your hands to your face as if to unite the two rays  <break time=\"3s\"/>   slowly, open your eyes filled with this light and look at your hands  <break time=\"3s\"/>   massage your face, your temples, and the nape of your neck with your fingers full of light <break time=\"3s\"/>   repeat your mantra  <break time=\"3s\"/>   sit up slowly, with awareness of the moonlight in your face, breath, hands, and fingers  <break time=\"3s\"/>   then join the light in your hands with the light in your feet and toes  <break time=\"3s\"/>   gently place your hands on your feet so that the rays of light unite, so that the light in the fingers and in the toes becomes one single ray of light  <break time=\"3s\"/> </speak>' --output-format mp3 --voice-id Matthew /Users/marke/Desktop/testMP3.mp3\n",
      "65280\n",
      "aws polly synthesize-speech --profile spoken --text-type ssml --text '<speak>   very slowly, massage your ankles, feet, and toes, and sit in any meditation pose  <break time=\"3s\"/>    MEDITATIVE BREATHING  Sit in any meditation pose with a straight back <break time=\"3s\"/>   all your limbs are completely relaxed  <break time=\"3s\"/>   place your right hand turned upward in your left palm, at the level of the lower abdomen  <break time=\"3s\"/>   your thumbs are touching  <break time=\"3s\"/>   be aware of the flow of light and vibrations that unite  <break time=\"3s\"/>   feel the luminous circle around your body  <break time=\"3s\"/>   the moonlike disc in your face  <break time=\"3s\"/>   the bright stars, all together, in the circle  <break time=\"3s\"/>   the vibration of the mantra  <break time=\"3s\"/>   feel the contact of the air in your nostrils with the mantra  <break time=\"3s\"/>   feel the breath without pauses  <break time=\"3s\"/>   the ray of sunlight coming out of the right nostril  <break time=\"3s\"/>   the moonbeam entering the left nostril  <break time=\"3s\"/>   three times  <break time=\"3s\"/> </speak>' --output-format mp3 --voice-id Matthew /Users/marke/Desktop/testMP3.mp3\n",
      "65280\n",
      "aws polly synthesize-speech --profile spoken --text-type ssml --text '<speak>   then the other way around  <break time=\"3s\"/>   the moonbeam coming out of your left nostril  <break time=\"3s\"/>   the ray of sunlight entering your right nostril  <break time=\"3s\"/>   three times  <break time=\"3s\"/>   then both nostrils at the same time <break time=\"3s\"/>   three breaths  <break time=\"3s\"/>   that unite in the center  <break time=\"3s\"/>   with your mantra  <break time=\"3s\"/>   the moonbeam coming out of the left nostril as you exhale  <break time=\"3s\"/>   the ray of sunlight entering the right nostril as you inhale  <break time=\"3s\"/>   three times  <break time=\"3s\"/>   then the other way around  <break time=\"3s\"/>   three breaths  <break time=\"3s\"/>   then feel the breath in both nostrils at the same time <break time=\"3s\"/>   simultaneously, uniting in the axis  <break time=\"3s\"/>   three times  <break time=\"3s\"/>   then exhale the sunlight through the right nostril <break time=\"3s\"/>   inhale the moonbeam through the left nostril <break time=\"3s\"/>   three times  <break time=\"3s\"/> </speak>' --output-format mp3 --voice-id Matthew /Users/marke/Desktop/testMP3.mp3\n"
     ]
    },
    {
     "name": "stdout",
     "output_type": "stream",
     "text": [
      "65280\n",
      "aws polly synthesize-speech --profile spoken --text-type ssml --text '<speak>   then the other way around  <break time=\"3s\"/>   three breaths  <break time=\"3s\"/>   then observe the moon on the left, the sun on the right  <break time=\"3s\"/>   let them unite in the middle  <break time=\"3s\"/>   observe the breathing on both sides, without differentiation  <break time=\"3s\"/>   between your eyebrows down to the space between the nose and the upper lip  <break time=\"3s\"/>   with the mantra, exhale the ray of sunlight . .. inhale the moonbeam  <break time=\"3s\"/>   feel the stars in your body  <break time=\"3s\"/>   light, vibration  <break time=\"3s\"/>   the circle of light all around it <break time=\"3s\"/>   the moon in your face  <break time=\"3s\"/>   the flow of breath, the rays of light, the mantra  <break time=\"3s\"/>   be silent, be still . ..a being of light  <break time=\"3s\"/>   slowly open your eyes  <break time=\"3s\"/>   repeat the mantra  <break time=\"3s\"/>   total awareness of being a being of light <break time=\"3s\"/>  join your hands in front of your chest and bow your head <break time=\"3s\"/> </speak>' --output-format mp3 --voice-id Matthew /Users/marke/Desktop/testMP3.mp3\n",
      "65280\n",
      "aws polly synthesize-speech --profile spoken --text-type ssml --text '<speak>   feel love in your heart  <break time=\"3s\"/>   the energy in your hands  <break time=\"3s\"/>   feel full of peace, joy, gratitude  <break time=\"3s\"/>   chant the sound AUM three times  <break time=\"3s\"/>   like a prayer  <break time=\"3s\"/>   then go back to your activities with this feeling, allowing the light of consciousness to illuminate every moment <break time=\"3s\"/>   <break time=\"3s\"/> </speak>' --output-format mp3 --voice-id Matthew /Users/marke/Desktop/testMP3.mp3\n",
      "65280\n"
     ]
    }
   ],
   "source": [
    "pathToXML = \"/Users/marke/Google Drive/yogaNidraConvert/sessionOne/yogaNidraSessionOne.xml\"\n",
    "#pathToXML = \"/Users/marke/Desktop/test.xml\"\n",
    "outputPathMP3 = \"/Users/marke/Desktop/testMP3.mp3\"\n",
    "\n",
    "allLines = pollyFileCall(pathToXML,outputPathMP3)"
   ]
  }
 ],
 "metadata": {
  "anaconda-cloud": {},
  "kernelspec": {
   "display_name": "Python 3",
   "language": "python",
   "name": "python3"
  },
  "language_info": {
   "codemirror_mode": {
    "name": "ipython",
    "version": 2
   },
   "file_extension": ".py",
   "mimetype": "text/x-python",
   "name": "python",
   "nbconvert_exporter": "python",
   "pygments_lexer": "ipython2",
   "version": "2.7.13"
  }
 },
 "nbformat": 4,
 "nbformat_minor": 2
}
