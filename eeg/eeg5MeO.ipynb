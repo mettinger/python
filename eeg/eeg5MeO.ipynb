{
 "cells": [
  {
   "cell_type": "markdown",
   "metadata": {},
   "source": [
    "# MNE is best run locally, rather than remotely, to enable interactive features."
   ]
  },
  {
   "cell_type": "markdown",
   "metadata": {},
   "source": [
    "# Set this flag if we are on Colab"
   ]
  },
  {
   "cell_type": "code",
   "execution_count": null,
   "metadata": {},
   "outputs": [],
   "source": [
    "colab = False"
   ]
  },
  {
   "cell_type": "markdown",
   "metadata": {},
   "source": [
    "# Specify graphical frontend "
   ]
  },
  {
   "cell_type": "code",
   "execution_count": null,
   "metadata": {},
   "outputs": [],
   "source": [
    "if colab:\n",
    "    %matplotlib inline\n",
    "else:\n",
    "    #%matplotlib notebook\n",
    "    %matplotlib qt"
   ]
  },
  {
   "cell_type": "markdown",
   "metadata": {},
   "source": [
    "# If we are on Colab, mount Google Drive"
   ]
  },
  {
   "cell_type": "code",
   "execution_count": null,
   "metadata": {},
   "outputs": [],
   "source": [
    "if colab:\n",
    "    from google.colab import drive\n",
    "    drive.mount('/content/drive')"
   ]
  },
  {
   "cell_type": "markdown",
   "metadata": {},
   "source": [
    "# If we are on Colab, install MNE and prerequisites"
   ]
  },
  {
   "cell_type": "code",
   "execution_count": null,
   "metadata": {},
   "outputs": [],
   "source": [
    "if colab:\n",
    "    !wget -c https://repo.anaconda.com/archive/Anaconda3-2019.10-Linux-x86_64.sh\n",
    "    !chmod +x Anaconda3-2019.10-Linux-x86_64.sh\n",
    "    !bash ./Anaconda3-2019.10-Linux-x86_64.sh -b -f -p /usr/local > /dev/null\n",
    "    #!conda install -q -y --prefix /usr/local -c conda-forge <PACKAGE_NAME>\n",
    "\n",
    "    !pip install pyvista dipy -q\n",
    "\n",
    "    !apt-get -qq install vtk6 > /dev/null\n",
    "    !apt-get -qq install libvtk6-dev python-vtk6 > /dev/null\n",
    "\n",
    "    !pip install mayavi -q\n",
    "\n",
    "    !conda env update --prefix /usr/local --file '/content/drive/My Drive/environment.yml' > /dev/null\n",
    "    import sys\n",
    "    sys.path.append('/usr/local/lib/python3.7/site-packages/')"
   ]
  },
  {
   "cell_type": "markdown",
   "metadata": {},
   "source": [
    "# Imports"
   ]
  },
  {
   "cell_type": "code",
   "execution_count": null,
   "metadata": {},
   "outputs": [],
   "source": [
    "import mne\n",
    "import numpy as np\n",
    "import scipy\n",
    "from scipy import signal\n",
    "import matplotlib.pyplot as plt\n",
    "plt.style.use('ggplot')"
   ]
  },
  {
   "cell_type": "markdown",
   "metadata": {},
   "source": [
    "# Load data"
   ]
  },
  {
   "cell_type": "code",
   "execution_count": null,
   "metadata": {},
   "outputs": [],
   "source": [
    "if colab:\n",
    "    raw = mne.io.read_raw_edf('/content/drive/My Drive/5MeODMT EE G DrJuan/Jacob5MeO2min.edf', preload=True)\n",
    "    print(raw.info)\n",
    "else:\n",
    "    raw = mne.io.read_raw_edf('/Users/mettinger/Desktop/5MeODMT EE G DrJuan/Jacob5MeO2min.edf', preload=True)\n",
    "    #raw = mne.io.read_raw_edf('/Users/mettinger/Desktop/5MeODMT EE G DrJuan/Jacob6195MeO.EDF', preload=True)\n",
    "    print(raw.info)"
   ]
  },
  {
   "cell_type": "markdown",
   "metadata": {},
   "source": [
    "# Plot EEG sample"
   ]
  },
  {
   "cell_type": "code",
   "execution_count": null,
   "metadata": {},
   "outputs": [],
   "source": [
    "raw.plot(duration=1)"
   ]
  },
  {
   "cell_type": "markdown",
   "metadata": {},
   "source": [
    "# Illustrate 60Hz and 120Hz noise"
   ]
  },
  {
   "cell_type": "code",
   "execution_count": null,
   "metadata": {},
   "outputs": [],
   "source": [
    "fig = raw.plot_psd()"
   ]
  },
  {
   "cell_type": "markdown",
   "metadata": {},
   "source": [
    "# Filter the 60hz noise (and harmonics)"
   ]
  },
  {
   "cell_type": "code",
   "execution_count": null,
   "metadata": {},
   "outputs": [],
   "source": [
    "raw.notch_filter(np.arange(60, 125, 60), fir_design='firwin')\n",
    "raw.plot_psd(area_mode='range', average=False)"
   ]
  },
  {
   "cell_type": "markdown",
   "metadata": {},
   "source": [
    "# Calculate coherence for specified channels"
   ]
  },
  {
   "cell_type": "code",
   "execution_count": null,
   "metadata": {},
   "outputs": [],
   "source": [
    "channel_0 = 2\n",
    "channel_1 = 5\n",
    "\n",
    "y_0 = raw[channel_0,:][0]\n",
    "y_1 = raw[channel_1,:][0]\n",
    "fs = raw.info['sfreq']\n",
    "\n",
    "sample_freqs, coherence = signal.coherence(y_0, y_1, fs=fs)"
   ]
  },
  {
   "cell_type": "markdown",
   "metadata": {},
   "source": [
    "# Plot coherence"
   ]
  },
  {
   "cell_type": "code",
   "execution_count": null,
   "metadata": {},
   "outputs": [],
   "source": [
    "plt.figure()\n",
    "plt.xlabel('Frequency')\n",
    "plt.ylabel('Coherence')\n",
    "plt.title('Coherence for channels: %s, %s' % (str(channel_0), str(channel_1)))\n",
    "plt.plot(sample_freqs, coherence[0])\n",
    "plt.show()"
   ]
  },
  {
   "cell_type": "markdown",
   "metadata": {},
   "source": [
    "# Scratch"
   ]
  },
  {
   "cell_type": "code",
   "execution_count": null,
   "metadata": {},
   "outputs": [],
   "source": [
    "'''\n",
    "sampling_freq = raw.info['sfreq']\n",
    "start_stop_seconds = np.array([11, 13])\n",
    "start_sample, stop_sample = (start_stop_seconds * sampling_freq).astype(int)\n",
    "channel_index = 0\n",
    "raw_selection = raw[channel_index, start_sample:stop_sample]\n",
    "\n",
    "x = raw_selection[1]\n",
    "y = raw_selection[0].T\n",
    "plt.plot(x, y)\n",
    "'''"
   ]
  },
  {
   "cell_type": "code",
   "execution_count": null,
   "metadata": {},
   "outputs": [],
   "source": []
  }
 ],
 "metadata": {
  "kernelspec": {
   "display_name": "Python 3",
   "language": "python",
   "name": "python3"
  },
  "language_info": {
   "codemirror_mode": {
    "name": "ipython",
    "version": 3
   },
   "file_extension": ".py",
   "mimetype": "text/x-python",
   "name": "python",
   "nbconvert_exporter": "python",
   "pygments_lexer": "ipython3",
   "version": "3.7.3"
  }
 },
 "nbformat": 4,
 "nbformat_minor": 2
}
