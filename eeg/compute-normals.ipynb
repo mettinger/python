{
 "cells": [
  {
   "cell_type": "code",
   "execution_count": 2,
   "metadata": {},
   "outputs": [],
   "source": [
    "%matplotlib inline\n",
    "from pyvista import set_plot_theme\n",
    "set_plot_theme('document')\n",
    "\n",
    "import pyvista\n",
    "pyvista._wrappers['vtkPolyData'] = pyvista.PolyData"
   ]
  },
  {
   "cell_type": "markdown",
   "metadata": {},
   "source": [
    "Computing Surface Normals {#surface_normal_example}\n",
    "=========================\n",
    "\n",
    "Compute normals on a surface.\n"
   ]
  },
  {
   "cell_type": "code",
   "execution_count": 3,
   "metadata": {},
   "outputs": [],
   "source": [
    "# sphinx_gallery_thumbnail_number = 2\n",
    "from pyvista import examples\n",
    "import numpy as np"
   ]
  },
  {
   "cell_type": "markdown",
   "metadata": {},
   "source": [
    "Computing the normals of a surface is quite easy using\n",
    "`pyvista.PolyData`{.interpreted-text role=\"class\"}\\'s\n",
    "`pyvista.PolyDataFilters.compute_normals`{.interpreted-text role=\"func\"}\n",
    "method.\n"
   ]
  },
  {
   "cell_type": "code",
   "execution_count": 4,
   "metadata": {},
   "outputs": [
    {
     "data": {
      "application/vnd.jupyter.widget-view+json": {
       "model_id": "99120dc100b8499f88f71373cb321636",
       "version_major": 2,
       "version_minor": 0
      },
      "text/plain": [
       "ViewInteractiveWidget(height=768, layout=Layout(height='auto', width='100%'), width=1024)"
      ]
     },
     "metadata": {},
     "output_type": "display_data"
    }
   ],
   "source": [
    "mesh = examples.download_topo_global()\n",
    "mesh.plot(cmap=\"gist_earth\", show_scalar_bar=False)"
   ]
  },
  {
   "cell_type": "markdown",
   "metadata": {},
   "source": [
    "Now we have a surface dataset of the globe loaded - unfortunately, the\n",
    "dataset shows the globe with a uniform radius which hides topographic\n",
    "relief. Using `pyvista.PolyData.compute_normals`{.interpreted-text\n",
    "role=\"func\"}, we can compute the normal vectors on the globe at all\n",
    "points in the dataset, then use the values given in the dataset to warp\n",
    "the surface in the normals direction to create some exaggerated\n",
    "topographic relief.\n"
   ]
  },
  {
   "cell_type": "code",
   "execution_count": 5,
   "metadata": {},
   "outputs": [
    {
     "data": {
      "application/vnd.jupyter.widget-view+json": {
       "model_id": "ecc5d79459b34a07ad21179c8f3dd908",
       "version_major": 2,
       "version_minor": 0
      },
      "text/plain": [
       "ViewInteractiveWidget(height=768, layout=Layout(height='auto', width='100%'), width=1024)"
      ]
     },
     "metadata": {},
     "output_type": "display_data"
    }
   ],
   "source": [
    "# Compute the normals in-place and use them to warp the globe\n",
    "mesh.compute_normals(inplace=True)  # this activates the normals as well\n",
    "\n",
    "# Now use those normals to warp the surface\n",
    "warp = mesh.warp_by_scalar(factor=0.5e-5)\n",
    "\n",
    "# And let's see it!\n",
    "warp.plot(cmap=\"gist_earth\", show_scalar_bar=False)"
   ]
  },
  {
   "cell_type": "markdown",
   "metadata": {},
   "source": [
    "We could also use face/cell normals to extract all the faces of a mesh\n",
    "facing a general direction. In the following snippet, we take a mesh,\n",
    "compute the normals along its cell faces, and extract the faces that\n",
    "face upward.\n"
   ]
  },
  {
   "cell_type": "code",
   "execution_count": 6,
   "metadata": {},
   "outputs": [
    {
     "data": {
      "application/vnd.jupyter.widget-view+json": {
       "model_id": "7325f063f3e34c389732719860c85cad",
       "version_major": 2,
       "version_minor": 0
      },
      "text/plain": [
       "ViewInteractiveWidget(height=768, layout=Layout(height='auto', width='100%'), width=1024)"
      ]
     },
     "metadata": {},
     "output_type": "display_data"
    }
   ],
   "source": [
    "mesh = examples.download_nefertiti()\n",
    "# Compute normals\n",
    "mesh.compute_normals(cell_normals=True, point_normals=False, inplace=True)\n",
    "\n",
    "# Get list of cell IDs that meet condition\n",
    "ids = np.arange(mesh.n_cells)[mesh['Normals'][:,2] > 0.0]\n",
    "\n",
    "# Extract those cells\n",
    "top = mesh.extract_cells(ids)\n",
    "\n",
    "cpos = [(-834.3184529757553, -918.4677714398535, 236.5468795300025),\n",
    " (11.03829376004883, -13.642289291587957, -35.91218884207208),\n",
    " (0.19212361465657216, 0.11401076390090074, 0.9747256344254143)]\n",
    "\n",
    "top.plot(cpos=cpos, color=True)"
   ]
  },
  {
   "cell_type": "code",
   "execution_count": null,
   "metadata": {},
   "outputs": [],
   "source": []
  }
 ],
 "metadata": {
  "kernelspec": {
   "display_name": "Python 3 (ipykernel)",
   "language": "python",
   "name": "python3"
  },
  "language_info": {
   "codemirror_mode": {
    "name": "ipython",
    "version": 3
   },
   "file_extension": ".py",
   "mimetype": "text/x-python",
   "name": "python",
   "nbconvert_exporter": "python",
   "pygments_lexer": "ipython3",
   "version": "3.8.12"
  }
 },
 "nbformat": 4,
 "nbformat_minor": 1
}
