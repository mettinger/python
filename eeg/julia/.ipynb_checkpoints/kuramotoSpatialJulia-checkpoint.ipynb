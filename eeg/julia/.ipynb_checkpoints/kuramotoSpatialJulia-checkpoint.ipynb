{
 "cells": [
  {
   "cell_type": "code",
   "execution_count": null,
   "id": "88184bd9",
   "metadata": {},
   "outputs": [],
   "source": [
    "using Logging: global_logger\n",
    "using TerminalLoggers: TerminalLogger\n",
    "global_logger(TerminalLogger())\n",
    "\n",
    "using DifferentialEquations\n",
    "using Random\n",
    "using Distributions\n",
    "using SpecialPolynomials\n",
    "using LinearAlgebra\n",
    "using BenchmarkTools\n",
    "using Plots\n",
    "using StatsPlots"
   ]
  },
  {
   "cell_type": "code",
   "execution_count": null,
   "id": "cfefc69a",
   "metadata": {},
   "outputs": [],
   "source": [
    "function kernel(r)\n",
    "    scale = 10\n",
    "    amplitudeMultiple = 2\n",
    "    \n",
    "    r = r/scale\n",
    "    p = basis(Hermite, 4)\n",
    "    return amplitudeMultiple * .25 * p(r/sqrt(2)) * pdf(Normal(),r)\n",
    "end\n",
    "\n",
    "function indexToCoord(i)\n",
    "    i = i -1\n",
    "    nOneDimension = Int(sqrt(nOsc))\n",
    "    x = mod(i, nOneDimension)\n",
    "    y = Int(floor(i/nOneDimension))\n",
    "    return [x,y]\n",
    "end\n",
    "    \n",
    "function distance(x0, x1)\n",
    "    coord0 = indexToCoord(x0)\n",
    "    coord1 = indexToCoord(x1)\n",
    "    return norm(coord0 - coord1)\n",
    "end\n",
    "\n",
    "function kernelMatrixGet()\n",
    "    kernelMatrix = zeros(nOsc, nOsc)\n",
    "    for i in 1:nOsc\n",
    "        for j in i:nOsc\n",
    "            r = distance(i,j)\n",
    "            kernelMatrix[i,j] = kernel(r)\n",
    "            kernelMatrix[j,i] = kernelMatrix[i,j]\n",
    "        end\n",
    "    end\n",
    "    return kernelMatrix\n",
    "end\n",
    "    \n",
    "function sinDiffGet(theta)\n",
    "    A = zeros(nOsc, nOsc)\n",
    "    for i in 1:nOsc\n",
    "        for j in i:nOsc\n",
    "            A[i,j] = theta[i] - theta[j]\n",
    "            A[j,i] = -A[i,j]\n",
    "        end\n",
    "    end\n",
    "    A = sin(A)\n",
    "    return A\n",
    "end\n",
    "\n",
    "function kuramoto2d!(du, u, p, t)\n",
    "    \n",
    "    #sinDiff = sinDiffGet(theta)\n",
    "    #temp = W + dropdims(sum(sinDiff, dims = 2); dims=2)\n",
    "    \n",
    "    for i in 1:length(u)\n",
    "        du[i] = W[i]\n",
    "        for j in 1:length(u)\n",
    "            du[i] = du[i] + ((K/nOsc) * p[1][i,j] * (sin(u[j] - u[i])))\n",
    "        end\n",
    "    end\n",
    "end"
   ]
  },
  {
   "cell_type": "code",
   "execution_count": null,
   "id": "d425422f",
   "metadata": {},
   "outputs": [],
   "source": [
    "nOsc = 128 * 128\n",
    "upperTimeBound = 20.0\n",
    "K = .01 * nOsc\n",
    "\n",
    "# theta0, W are initial phase, intrinsic freq\n",
    "theta0 = 2 * pi * rand(Float64, nOsc);\n",
    "W = .5 * randn(Float64, nOsc);"
   ]
  },
  {
   "cell_type": "code",
   "execution_count": null,
   "id": "778d4558",
   "metadata": {},
   "outputs": [],
   "source": [
    "benchmarkFlag = false\n",
    "methodSwitch = 1\n",
    "trivialKernel = false\n",
    "\n",
    "if methodSwitch == 1\n",
    "    method = Tsit5()\n",
    "else\n",
    "    method = RadauIIA5()\n",
    "end\n",
    "\n",
    "if trivialKernel\n",
    "    kernelMatrix = ones((nOsc, nOsc));\n",
    "else\n",
    "    kernelMatrix = kernelMatrixGet();\n",
    "end\n",
    "\n",
    "print(\"Solving...\")\n",
    "prob = ODEProblem(kuramoto2d!, theta0, (0, upperTimeBound), [kernelMatrix]);"
   ]
  },
  {
   "cell_type": "code",
   "execution_count": null,
   "id": "7eaa96d9",
   "metadata": {},
   "outputs": [],
   "source": [
    "if benchmarkFlag\n",
    "    @benchmark solve($prob, method=method, reltol=1e-8, abstol=1e-8, saveat=0.1)\n",
    "else\n",
    "    sol = solve(prob, method=method, reltol=1e-8, abstol=1e-8, saveat=0.1, progress=true, progress_steps=5);\n",
    "    print(sol.retcode)\n",
    "end"
   ]
  },
  {
   "cell_type": "code",
   "execution_count": null,
   "id": "1b45d5c3",
   "metadata": {},
   "outputs": [],
   "source": [
    "time = sol.t\n",
    "u = sol.u\n",
    "\n",
    "odePhi = transpose(reduce(hcat, u))\n",
    "orderParameterAbs = [abs(sum(exp.(odePhi[i,:] * (0+1im)))) for i in 1:length(time)]\n",
    "plot(time, orderParameterAbs)"
   ]
  },
  {
   "cell_type": "code",
   "execution_count": null,
   "id": "7d74242a",
   "metadata": {},
   "outputs": [],
   "source": [
    "density(vec(W))"
   ]
  },
  {
   "cell_type": "code",
   "execution_count": null,
   "id": "3c33c167",
   "metadata": {},
   "outputs": [],
   "source": [
    "plot(cos.(theta0), sin.(theta0),seriestype = :scatter)"
   ]
  },
  {
   "cell_type": "code",
   "execution_count": null,
   "id": "5d7c4274",
   "metadata": {},
   "outputs": [],
   "source": [
    "x = LinRange(-100,100,100)\n",
    "y = [kernel(i) for i in x]\n",
    "plot(x, y)"
   ]
  },
  {
   "cell_type": "code",
   "execution_count": null,
   "id": "f2f2447f",
   "metadata": {},
   "outputs": [],
   "source": [
    "heatmap(kernelMatrix)"
   ]
  },
  {
   "cell_type": "code",
   "execution_count": null,
   "id": "483bb237",
   "metadata": {},
   "outputs": [],
   "source": []
  }
 ],
 "metadata": {
  "kernelspec": {
   "display_name": "Julia 1.6.3",
   "language": "julia",
   "name": "julia-1.6"
  },
  "language_info": {
   "file_extension": ".jl",
   "mimetype": "application/julia",
   "name": "julia",
   "version": "1.6.3"
  }
 },
 "nbformat": 4,
 "nbformat_minor": 5
}
