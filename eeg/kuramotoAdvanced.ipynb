{
 "cells": [
  {
   "cell_type": "code",
   "execution_count": 1,
   "metadata": {
    "id": "DTO8xRKyQ9R0"
   },
   "outputs": [],
   "source": [
    "import numpy as np\n",
    "import pylab as plt\n",
    "import matplotlib\n",
    "from scipy.signal import welch\n",
    "import seaborn as sns\n",
    "import types\n",
    "import time\n",
    "import pandas as pd\n",
    "import datetime\n",
    "\n",
    "from scipy import special\n",
    "from scipy.stats import norm\n",
    "from scipy.integrate import solve_ivp\n",
    "\n",
    "plt.style.use('ggplot')"
   ]
  },
  {
   "cell_type": "markdown",
   "metadata": {
    "id": "x2MWd6IaQ9R2"
   },
   "source": [
    "# Utility function definitions"
   ]
  },
  {
   "cell_type": "code",
   "execution_count": 2,
   "metadata": {
    "id": "RnY3zhfAQ9R2"
   },
   "outputs": [],
   "source": [
    "# sum the oscillators into one signal\n",
    "# phiMatrix = phases\n",
    "# A = amplitudes\n",
    "def sumOsc(phiMatrix, A):\n",
    "    A = np.resize(A, (1, len(A)))\n",
    "    return A.dot(np.sin(phiMatrix)).sum(0)"
   ]
  },
  {
   "cell_type": "markdown",
   "metadata": {
    "id": "d3ioF28hLDUO"
   },
   "source": [
    "# ODE function and Jacobian"
   ]
  },
  {
   "cell_type": "code",
   "execution_count": 16,
   "metadata": {
    "id": "9DgL3r75LDUO"
   },
   "outputs": [],
   "source": [
    "def kernel(r):\n",
    "    p = special.hermite(4, monic=False)\n",
    "    return .25 * p(r/np.sqrt(2)) * norm.pdf(r,0,1)\n",
    "\n",
    "def indexToCoord(i):\n",
    "    nOneDimension = int(np.sqrt(nOsc))\n",
    "    x = i % nOneDimension\n",
    "    y = np.floor(i/nOneDimension)\n",
    "    return np.array([x,y])\n",
    "    \n",
    "def distance(x0, x1):\n",
    "    coord0 = indexToCoord(x0)\n",
    "    coord1 = indexToCoord(x1)\n",
    "    return np.linalg.norm(coord0 - coord1)\n",
    "\n",
    "def extendedKernelMatrixGet():\n",
    "    extendedKernelMatrix = np.zeros(shape=(nOsc, nOsc))\n",
    "    for i in range(nOsc):\n",
    "        for j in range(i,nOsc):\n",
    "            r = distance(i,j)\n",
    "            extendedKernelMatrix[i,j] = (K/nOsc) * kernel(r)\n",
    "            extendedKernelMatrix[j,i] = extendedKernelMatrix[i,j]\n",
    "    return extendedKernelMatrix\n",
    "    \n",
    "def sinDiffGet(theta):\n",
    "    A = np.zeros(shape=(nOsc, nOsc))\n",
    "    for i in range(nOsc):\n",
    "        for j in range(i, nOsc):\n",
    "            A[i,j] = theta[i] - theta[j]\n",
    "            A[j,i] = -A[i,j]\n",
    "    A = np.sin(A)\n",
    "    return A\n",
    "            \n",
    "def kuramoto2d(t, theta):\n",
    "    sinDiff = sinDiffGet(theta)\n",
    "    thetaDot = W + np.sum(np.dot(V,sinDiff), axis=1)\n",
    "    return thetaDot"
   ]
  },
  {
   "cell_type": "markdown",
   "metadata": {
    "id": "xOVPw_HGQ9R3"
   },
   "source": [
    "# Set the parameters for the Kuramoto model."
   ]
  },
  {
   "cell_type": "code",
   "execution_count": 19,
   "metadata": {
    "id": "PraptroqQ9R3"
   },
   "outputs": [],
   "source": [
    "# set these simulation parameters\n",
    "nOsc = 400\n",
    "upperTimeBound = 10\n",
    "K = 20\n",
    "\n",
    "# theta0, W are initial phase, intrinsic freq\n",
    "theta0 = np.random.uniform(low=0.0, high=2*np.pi, size=nOsc)\n",
    "W = np.random.normal(loc=0, scale=.5, size=nOsc)\n",
    "\n",
    "V = extendedKernelMatrixGet()"
   ]
  },
  {
   "cell_type": "markdown",
   "metadata": {
    "id": "o9nF-3RGQ9R3"
   },
   "source": [
    "# Numerically solve the model and plot the results."
   ]
  },
  {
   "cell_type": "code",
   "execution_count": 25,
   "metadata": {},
   "outputs": [
    {
     "name": "stdout",
     "output_type": "stream",
     "text": [
      "400\n",
      "0:00:17.501997\n",
      "  message: 'The solver successfully reached the end of the integration interval.'\n",
      "     nfev: 314\n",
      "     njev: 0\n",
      "      nlu: 0\n",
      "      sol: None\n",
      "   status: 0\n",
      "  success: True\n",
      "        t: array([ 0.        ,  0.04881326,  0.13647651,  0.21966312,  0.31311958,\n",
      "        0.43799935,  0.61188468,  0.86079176,  1.1464935 ,  1.39269011,\n",
      "        1.63888673,  1.89388073,  2.15904928,  2.40159442,  2.64413956,\n",
      "        2.92116294,  3.23400217,  3.43834309,  3.64268401,  3.90362336,\n",
      "        4.21302015,  4.43616474,  4.65930933,  4.91958328,  5.25168526,\n",
      "        5.54474806,  5.83781086,  6.1214453 ,  6.38982062,  6.66884684,\n",
      "        7.03961863,  7.26639564,  7.49317264,  7.7897566 ,  8.03464447,\n",
      "        8.27953234,  8.54397503,  8.76065477,  8.97733451,  9.21451215,\n",
      "        9.51214746,  9.77847989, 10.        ])\n",
      " t_events: None\n",
      "        y: array([[ 2.10823387,  2.22218699,  2.3101677 , ...,  4.07122227,\n",
      "         4.12116583,  4.16235997],\n",
      "       [ 0.14071932,  0.08960894,  0.03265858, ..., -5.08920935,\n",
      "        -5.2429251 , -5.36802909],\n",
      "       [ 3.38379582,  3.37000071,  3.39138637, ...,  9.79021305,\n",
      "         9.97910738, 10.13593171],\n",
      "       ...,\n",
      "       [ 5.98289433,  6.02133989,  6.11269438, ..., 14.54219993,\n",
      "        14.77487222, 14.96894778],\n",
      "       [ 4.07763709,  4.10686018,  4.10292112, ..., -0.52710256,\n",
      "        -0.6527617 , -0.7565373 ],\n",
      "       [ 3.25888737,  3.36761995,  3.47231073, ...,  9.07674306,\n",
      "         9.23670473,  9.36919303]])\n",
      " y_events: None\n"
     ]
    }
   ],
   "source": [
    "# time = quadratic in nOsc with nOsc = 400 => 18secs\n",
    "start = datetime.datetime.now()\n",
    "result = solve_ivp(kuramoto2d, [0, upperTimeBound], theta0)\n",
    "print(nOsc)\n",
    "print(datetime.datetime.now() - start)\n",
    "print(result)"
   ]
  },
  {
   "cell_type": "code",
   "execution_count": null,
   "metadata": {},
   "outputs": [],
   "source": []
  },
  {
   "cell_type": "code",
   "execution_count": null,
   "metadata": {},
   "outputs": [],
   "source": []
  },
  {
   "cell_type": "code",
   "execution_count": null,
   "metadata": {},
   "outputs": [],
   "source": []
  },
  {
   "cell_type": "code",
   "execution_count": null,
   "metadata": {
    "colab": {
     "base_uri": "https://localhost:8080/"
    },
    "id": "42UEyvdtQ9R5",
    "outputId": "e6235922-6db3-4352-bcd9-d7bf31e7fee4"
   },
   "outputs": [],
   "source": [
    "completeTimeFlag = False\n",
    "\n",
    "if completeTimeFlag:\n",
    "    solution_times = T\n",
    "    ode_fn = kuramoto_ODE_timeDependent_tf\n",
    "    jacobian_fn = kuramoto_jac_timeDependent_tf\n",
    "else:\n",
    "    solution_times=tfp.math.ode.ChosenBySolver(final_time=upperTimeBound)\n",
    "    ode_fn = kuramoto_ODE_tf\n",
    "    jacobian_fn = kuramoto_jac_tf\n",
    "\n",
    "\n",
    "print(\"Solving ODEs...\")\n",
    "start = time.time()\n",
    "\n",
    "results = tfp.math.ode.BDF().solve(ode_fn=ode_fn, \n",
    "                            initial_time=0, \n",
    "                            initial_state=Y0, \n",
    "                            solution_times=solution_times, \n",
    "                            jacobian_fn=jacobian_fn)\n",
    "print(\"Finished.\")\n",
    "print(\"Seconds elapsed: {}\".format(time.time() - start))\n",
    "\n",
    "odePhi = results.states.numpy().T\n",
    "times = results.times.numpy()\n",
    "orderParameterAbs = [np.abs(np.exp(odePhi[:,i] * (0+1j)).sum())  for i in range(odePhi.shape[1])]"
   ]
  },
  {
   "cell_type": "code",
   "execution_count": null,
   "metadata": {},
   "outputs": [],
   "source": [
    "odePhi.shape"
   ]
  },
  {
   "cell_type": "code",
   "execution_count": null,
   "metadata": {},
   "outputs": [],
   "source": [
    "np.save('odePhi',odePhi)"
   ]
  },
  {
   "cell_type": "code",
   "execution_count": null,
   "metadata": {
    "colab": {
     "base_uri": "https://localhost:8080/",
     "height": 299
    },
    "id": "rXp4ykZwQ9R7",
    "outputId": "2d2181dc-1740-4337-80c3-4bb4c6ddefce"
   },
   "outputs": [],
   "source": [
    "plt.figure()\n",
    "plt.plot(times, orderParameterAbs)\n",
    "plt.ylabel('Order Parameter Magnitude')\n",
    "plt.xlabel('Time');\n",
    "plt.title('Order Parameter evolution');"
   ]
  },
  {
   "cell_type": "code",
   "execution_count": null,
   "metadata": {
    "colab": {
     "base_uri": "https://localhost:8080/",
     "height": 299
    },
    "id": "p41QyhWvQ9R7",
    "outputId": "40d098b4-c1e1-4e67-a5a1-d1a9712f40d1"
   },
   "outputs": [],
   "source": [
    "index = -1\n",
    "\n",
    "plt.figure()\n",
    "plt.hist(np.mod(odePhi[:,index], 2*np.pi),100)\n",
    "plt.xlim([0, 2 * np.pi])\n",
    "plt.xlabel('Phase');\n",
    "plt.ylabel('Count');\n",
    "plt.title('Phase cluster histogram at index: {}'.format(index))\n",
    "plt.show()"
   ]
  },
  {
   "cell_type": "code",
   "execution_count": null,
   "metadata": {
    "id": "eONB5EA-Q9R7",
    "outputId": "65964a84-a88b-4776-95c2-3240ac9a2395"
   },
   "outputs": [],
   "source": [
    "# Plotting response\n",
    "if completeTimeFlag:\n",
    "    oscList = range(4)\n",
    "    \n",
    "    angularVelocity = np.diff(odePhi)/dt\n",
    "    lenPlot = len(oscList)\n",
    "    plt.figure(figsize=(15,2 * lenPlot))\n",
    "    for i, osc in enumerate(oscList):\n",
    "        plt.subplot(lenPlot, 1, 1+i)\n",
    "        plt.plot(T[:-1], angularVelocity[osc])\n",
    "        plt.ylabel(\"$\\dot\\phi_{%i}$\" %(osc))"
   ]
  },
  {
   "cell_type": "markdown",
   "metadata": {
    "id": "WWK4bpiYQ9R8"
   },
   "source": [
    "# Figure 3a.1 Plot the sum of the oscillators"
   ]
  },
  {
   "cell_type": "code",
   "execution_count": null,
   "metadata": {
    "colab": {
     "base_uri": "https://localhost:8080/",
     "height": 282
    },
    "id": "RtWrRzX8Q9R8",
    "outputId": "3713b152-d394-4ee5-8923-a26992994990"
   },
   "outputs": [],
   "source": [
    "if completeTimeFlag:\n",
    "    plt.figure(figsize=(15,10))\n",
    "    sumSignal = sumOsc(odePhi, A)\n",
    "    plt.plot(times, sumSignal)\n",
    "    plt.xlabel('Time')\n",
    "    plt.ylabel('Signal sum.')\n",
    "    plt.title(\"Sum of all oscillators\");"
   ]
  },
  {
   "cell_type": "code",
   "execution_count": null,
   "metadata": {
    "id": "7iHMqXR_LDUR",
    "outputId": "1f9e5c6e-4039-4d42-a3fd-2a461d2e9004"
   },
   "outputs": [],
   "source": [
    "plt.figure()\n",
    "sumSignal = sumOsc(odePhi, A)\n",
    "sig = sumSignal[1600:2000]\n",
    "plt.plot(sig)"
   ]
  },
  {
   "cell_type": "markdown",
   "metadata": {
    "id": "BU46sqfVLDUR"
   },
   "source": [
    "# Figure 3a.2"
   ]
  },
  {
   "cell_type": "code",
   "execution_count": null,
   "metadata": {
    "id": "faeKzna0LDUS",
    "outputId": "e96b9192-a1b4-44f4-8b8b-653d4174b21c"
   },
   "outputs": [],
   "source": [
    "fig=plt.figure(figsize=(15,10))\n",
    "pxx,  freq, t, cax = plt.specgram(sumSignal, Fs=100);\n",
    "plt.xlabel('Time')\n",
    "plt.ylabel('Frequency (Hz)')\n",
    "fig.colorbar(cax).set_label('Intensity [dB]')\n",
    "plt.title('The spectrum of the global signal as the coupling coefficient changes.');"
   ]
  },
  {
   "cell_type": "code",
   "execution_count": null,
   "metadata": {
    "colab": {
     "base_uri": "https://localhost:8080/",
     "height": 265
    },
    "id": "n5t90CB6Q9R8",
    "outputId": "8af221eb-4dff-4584-f114-6530dbcf166c"
   },
   "outputs": [],
   "source": [
    "f, psd = welch(sumSignal, fs=100)\n",
    "plt.plot(f,psd);"
   ]
  },
  {
   "cell_type": "code",
   "execution_count": null,
   "metadata": {
    "id": "heIIj6XFLDUS"
   },
   "outputs": [],
   "source": [
    "parameterList = []\n",
    "solution_times=tfp.math.ode.ChosenBySolver(final_time=10)\n",
    "ode_fn = kuramoto_ODE_tf\n",
    "jacobian_fn = kuramoto_jac_tf\n",
    "    \n",
    "for k in np.linspace(1,100,1001):\n",
    "    K_tf = tf.constant(k * tf.eye(nOsc, dtype=tf.double))\n",
    "    results = tfp.math.ode.BDF().solve(ode_fn=ode_fn, \n",
    "                                initial_time=0, \n",
    "                                initial_state=Y0, \n",
    "                                solution_times=solution_times, \n",
    "                                jacobian_fn=jacobian_fn)\n",
    "    \n",
    "    odePhi = results.states.numpy().T\n",
    "    finalOrderParamter = np.abs(np.exp(odePhi[:,-1] * (0+1j)).sum())\n",
    "    parameterList.append(finalOrderParamter)"
   ]
  },
  {
   "cell_type": "markdown",
   "metadata": {
    "id": "EqoixI5dLDUS"
   },
   "source": [
    "# Figure 3b"
   ]
  },
  {
   "cell_type": "code",
   "execution_count": null,
   "metadata": {
    "id": "d7myPkFlLDUS",
    "outputId": "3abd7008-a7f9-43ca-bc58-5bc7c7a2167c"
   },
   "outputs": [],
   "source": [
    "plt.figure(figsize=(15,10))\n",
    "plt.plot(np.linspace(1,100,1001),parameterList)\n",
    "plt.xlabel('Coupling parameter K')\n",
    "plt.ylabel('Magnitude of order parameter at equilibrium (if equilibrium exists)')\n",
    "plt.title('Phase transition in synchrony by coupling.');"
   ]
  },
  {
   "cell_type": "code",
   "execution_count": null,
   "metadata": {
    "id": "vIAoui1RLDUT"
   },
   "outputs": [],
   "source": [
    "orderParameterMatrix = []\n",
    "solution_times=tfp.math.ode.ChosenBySolver(final_time=10)\n",
    "ode_fn = kuramoto_ODE_tf\n",
    "jacobian_fn = kuramoto_jac_tf\n",
    "    \n",
    "for sigma in np.linspace(1,10,91):\n",
    "    print(sigma)\n",
    "    newRow = []\n",
    "    W_tf = tf.constant(2 * np.pi * np.random.normal(loc=20, scale=sigma, size=nOsc), dtype=tf.double)\n",
    "    for k in range(1,101):\n",
    "        K_tf = tf.constant(k * tf.eye(nOsc, dtype=tf.double))\n",
    "        results = tfp.math.ode.BDF().solve(ode_fn=ode_fn, \n",
    "                                    initial_time=0, \n",
    "                                    initial_state=Y0, \n",
    "                                    solution_times=solution_times, \n",
    "                                    jacobian_fn=jacobian_fn)\n",
    "\n",
    "        odePhi = results.states.numpy().T\n",
    "        finalOrderParamter = np.abs(np.exp(odePhi[:,-1] * (0+1j)).sum())\n",
    "        newRow.append(finalOrderParamter)\n",
    "    orderParameterMatrix.append(newRow)\n",
    "    \n",
    "orderParameterMatrix = np.array(orderParameterMatrix)"
   ]
  },
  {
   "cell_type": "markdown",
   "metadata": {
    "id": "ypHZrK64LDUT"
   },
   "source": [
    "# Figure 3c"
   ]
  },
  {
   "cell_type": "code",
   "execution_count": null,
   "metadata": {
    "id": "f5Bqz4ncLDUU",
    "outputId": "2b6a3c55-68c3-4732-8a9f-7f43489cba43"
   },
   "outputs": [],
   "source": [
    "plt.figure(figsize=(15,10))\n",
    "plt.imshow(orderParameterMatrix, aspect='auto', origin='lower')\n",
    "plt.xlabel('Coupling parameter K')\n",
    "plt.ylabel('Standard deviation of initial frequencies')\n",
    "plt.colorbar().set_label('Magnitude of order parameter')\n",
    "plt.title('Coupling/Dispersion relationship for 200 oscillators.  Mean frequency is 20Hz');"
   ]
  },
  {
   "cell_type": "markdown",
   "metadata": {
    "id": "aFiVBeDiLDUU"
   },
   "source": [
    "# Scratch"
   ]
  },
  {
   "cell_type": "code",
   "execution_count": null,
   "metadata": {},
   "outputs": [],
   "source": []
  }
 ],
 "metadata": {
  "accelerator": "GPU",
  "colab": {
   "collapsed_sections": [],
   "name": "kuramoto.ipynb",
   "provenance": []
  },
  "deepnote_execution_queue": [],
  "deepnote_notebook_id": "8fe54df9-457c-4d98-b3b7-c694e73eb5b2",
  "kernelspec": {
   "display_name": "Python 3 (ipykernel)",
   "language": "python",
   "name": "python3"
  },
  "language_info": {
   "codemirror_mode": {
    "name": "ipython",
    "version": 3
   },
   "file_extension": ".py",
   "mimetype": "text/x-python",
   "name": "python",
   "nbconvert_exporter": "python",
   "pygments_lexer": "ipython3",
   "version": "3.8.5"
  }
 },
 "nbformat": 4,
 "nbformat_minor": 1
}
