{
 "cells": [
  {
   "cell_type": "code",
   "execution_count": 1,
   "metadata": {
    "id": "DTO8xRKyQ9R0"
   },
   "outputs": [],
   "source": [
    "import numpy as np\n",
    "import pylab as plt\n",
    "import matplotlib\n",
    "from scipy.signal import welch\n",
    "import seaborn as sns\n",
    "import types\n",
    "import time\n",
    "\n",
    "import tensorflow as tf\n",
    "import tensorflow_probability as tfp\n",
    "\n",
    "plt.style.use('ggplot')"
   ]
  },
  {
   "cell_type": "markdown",
   "metadata": {
    "id": "x2MWd6IaQ9R2"
   },
   "source": [
    "# Utility function definitions"
   ]
  },
  {
   "cell_type": "code",
   "execution_count": 2,
   "metadata": {
    "id": "RnY3zhfAQ9R2"
   },
   "outputs": [],
   "source": [
    "# sum the oscillators into one signal\n",
    "# phiMatrix = phases\n",
    "# A = amplitudes\n",
    "def sumOsc(phiMatrix, A):\n",
    "    A = np.resize(A, (1, len(A)))\n",
    "    return A.dot(np.sin(phiMatrix)).sum(0)"
   ]
  },
  {
   "cell_type": "markdown",
   "metadata": {},
   "source": [
    "# ODE function and Jacobian"
   ]
  },
  {
   "cell_type": "code",
   "execution_count": 28,
   "metadata": {},
   "outputs": [],
   "source": [
    "def kuramoto_ODE_tf(t,y):\n",
    "    a = tf.linalg.matvec(K_tf/nOsc, tf.reduce_sum(tf.sin(y - y[:,None]),1))\n",
    "    #a = (K_tf/nOsc) * tf.reduce_sum(tf.sin(y - y[:,None]),1)\n",
    "    return W_tf + a\n",
    "\n",
    "def kuramoto_jac_tf(t,y):\n",
    "    a = tf.cos(y[:,None] - y) - tf.eye(len(y), dtype=tf.double)\n",
    "    b = -tf.reduce_sum(tf.cos(y - y[:,None]), 1) + tf.ones(len(y), dtype=tf.double)\n",
    "    c = tf.linalg.diag(b)\n",
    "    return (K_tf/nOsc) * (a + c)\n",
    "\n",
    "def kuramoto_ODE_timeDependent_tf(t,y):\n",
    "    K_tf = couplingMatrix(t)\n",
    "    a = tf.linalg.matvec(K_tf/nOsc, tf.reduce_sum(tf.sin(y - y[:,None]),1))\n",
    "    return W_tf + a\n",
    "\n",
    "def kuramoto_jac_timeDependent_tf(t,y):\n",
    "    K_tf = couplingMatrix(t)\n",
    "    a = tf.cos(y[:,None] - y) - tf.eye(len(y), dtype=tf.double)\n",
    "    b = -tf.reduce_sum(tf.cos(y - y[:,None]), 1) + tf.ones(len(y), dtype=tf.double)\n",
    "    c = tf.linalg.diag(b)\n",
    "    return (K_tf/nOsc) * (a + c)\n",
    "\n",
    "def couplingMatrix(t):\n",
    "    \n",
    "    K1 = .001 * tf.eye(nOsc, dtype=tf.double)\n",
    "    K2 = 20 * tf.eye(nOsc, dtype=tf.double)\n",
    "    \n",
    "    if t < 15.:\n",
    "        return K1\n",
    "    elif t < 20.:\n",
    "        alpha = t - 15.\n",
    "        return (alpha * K2) + ((1 - alpha) * K1)\n",
    "    elif t < 25.:\n",
    "        alpha = t - 20.\n",
    "        return (alpha * K1) + ((1 - alpha) * K2)\n",
    "    elif t > 25.:\n",
    "        return K1"
   ]
  },
  {
   "cell_type": "markdown",
   "metadata": {
    "id": "xOVPw_HGQ9R3"
   },
   "source": [
    "# Set the parameters for the Kuramoto model."
   ]
  },
  {
   "cell_type": "code",
   "execution_count": 29,
   "metadata": {
    "id": "PraptroqQ9R3"
   },
   "outputs": [],
   "source": [
    "# set these simulation parameters\n",
    "nOsc = 200\n",
    "upperTimeBound = 40\n",
    "dt = 0.01\n",
    "\n",
    "# Defining time array\n",
    "numTimePoints = int(upperTimeBound/dt) + 1\n",
    "T = np.linspace(0, upperTimeBound, numTimePoints)\n",
    " \n",
    "# Y0, W, K, A are initial phase, intrinsic freq, amplitude and\n",
    "# coupling K matrix (or list of K matricies) respectively \n",
    "# (note K can be arbitary, in particular inhomogeneous, in contrast to Kuramoto's original model)\n",
    "\n",
    "Y0 = np.random.uniform(low=0.0, high=2*np.pi, size=nOsc)\n",
    "W = np.random.normal(loc=20, scale=2, size=nOsc)\n",
    "A = np.ones(nOsc)\n",
    "\n",
    "#K1 = .001 * np.eye(nOsc)\n",
    "#K2 = 20 * np.eye(nOsc)\n",
    "#K = linearKGenerator([K1,K1,K2,K1,K1],[0.,15.,20.,25.,40.],dt)\n",
    "\n",
    "W_tf = tf.constant(W)\n",
    "K_tf = tf.constant(10. * tf.eye(nOsc, dtype=tf.double))"
   ]
  },
  {
   "cell_type": "markdown",
   "metadata": {
    "id": "o9nF-3RGQ9R3"
   },
   "source": [
    "# Numerically solve the model and plot the results."
   ]
  },
  {
   "cell_type": "code",
   "execution_count": 31,
   "metadata": {
    "colab": {
     "base_uri": "https://localhost:8080/"
    },
    "id": "42UEyvdtQ9R5",
    "outputId": "e6235922-6db3-4352-bcd9-d7bf31e7fee4"
   },
   "outputs": [
    {
     "name": "stdout",
     "output_type": "stream",
     "text": [
      "Solving ODEs...\n",
      "Finished.\n",
      "Seconds elapsed: 0.7424881458282471\n"
     ]
    }
   ],
   "source": [
    "completeTimeFlag = False\n",
    "\n",
    "if completeTimeFlag:\n",
    "    solution_times = T\n",
    "    ode_fn = kuramoto_ODE_timeDependent_tf\n",
    "    jacobian_fn = kuramoto_jac_timeDependent_tf\n",
    "else:\n",
    "    solution_times=tfp.math.ode.ChosenBySolver(final_time=upperTimeBound)\n",
    "    ode_fn = kuramoto_ODE_tf\n",
    "    jacobian_fn = kuramoto_jac_tf\n",
    "\n",
    "\n",
    "print(\"Solving ODEs...\")\n",
    "start = time.time()\n",
    "\n",
    "results = tfp.math.ode.BDF().solve(ode_fn=ode_fn, \n",
    "                            initial_time=0, \n",
    "                            initial_state=Y0, \n",
    "                            solution_times=solution_times, \n",
    "                            jacobian_fn=jacobian_fn)\n",
    "print(\"Finished.\")\n",
    "print(\"Seconds elapsed: {}\".format(time.time() - start))\n",
    "\n",
    "odePhi = results.states.numpy().T\n",
    "times = results.times.numpy()\n",
    "orderParameterAbs = [np.abs(np.exp(odePhi[:,i] * (0+1j)).sum())  for i in range(odePhi.shape[1])]"
   ]
  },
  {
   "cell_type": "code",
   "execution_count": 32,
   "metadata": {
    "colab": {
     "base_uri": "https://localhost:8080/",
     "height": 299
    },
    "id": "rXp4ykZwQ9R7",
    "outputId": "2d2181dc-1740-4337-80c3-4bb4c6ddefce"
   },
   "outputs": [
    {
     "data": {
      "image/png": "[encoded data removed]",
      "text/plain": [
       "<Figure size 432x288 with 1 Axes>"
      ]
     },
     "metadata": {},
     "output_type": "display_data"
    }
   ],
   "source": [
    "plt.figure()\n",
    "plt.plot(times, orderParameterAbs)\n",
    "plt.ylabel('Order Parameter Magnitude')\n",
    "plt.xlabel('Time');\n",
    "plt.title('Order Parameter evolution');"
   ]
  },
  {
   "cell_type": "code",
   "execution_count": 33,
   "metadata": {
    "colab": {
     "base_uri": "https://localhost:8080/",
     "height": 299
    },
    "id": "p41QyhWvQ9R7",
    "outputId": "40d098b4-c1e1-4e67-a5a1-d1a9712f40d1"
   },
   "outputs": [
    {
     "data": {
      "image/png": "[encoded data removed]",
      "text/plain": [
       "<Figure size 432x288 with 1 Axes>"
      ]
     },
     "metadata": {},
     "output_type": "display_data"
    }
   ],
   "source": [
    "index = -1\n",
    "\n",
    "plt.figure()\n",
    "plt.hist(np.mod(odePhi[:,index], 2*np.pi),100)\n",
    "plt.xlim([0, 2 * np.pi])\n",
    "plt.xlabel('Phase');\n",
    "plt.ylabel('Count');\n",
    "plt.title('Phase cluster histogram at index: {}'.format(index))\n",
    "plt.show()"
   ]
  },
  {
   "cell_type": "code",
   "execution_count": 34,
   "metadata": {
    "id": "eONB5EA-Q9R7"
   },
   "outputs": [],
   "source": [
    "# Plotting response\n",
    "if completeTimeFlag:\n",
    "    oscList = range(4)\n",
    "    \n",
    "    angularVelocity = np.diff(odePhi)/dt\n",
    "    lenPlot = len(oscList)\n",
    "    plt.figure(figsize=(15,2 * lenPlot))\n",
    "    for i, osc in enumerate(oscList):\n",
    "        plt.subplot(lenPlot, 1, 1+i)\n",
    "        plt.plot(T[:-1], angularVelocity[osc])\n",
    "        plt.ylabel(\"$\\dot\\phi_{%i}$\" %(osc))"
   ]
  },
  {
   "cell_type": "markdown",
   "metadata": {
    "id": "WWK4bpiYQ9R8"
   },
   "source": [
    "# Plot the sum of the oscillators"
   ]
  },
  {
   "cell_type": "code",
   "execution_count": 35,
   "metadata": {
    "colab": {
     "base_uri": "https://localhost:8080/",
     "height": 282
    },
    "id": "RtWrRzX8Q9R8",
    "outputId": "3713b152-d394-4ee5-8923-a26992994990"
   },
   "outputs": [],
   "source": [
    "if completeTimeFlag:\n",
    "    plt.figure()\n",
    "    sumSignal = sumOsc(odePhi, A)\n",
    "    plt.plot(times, sumSignal)\n",
    "    plt.title(\"Sum of all oscillators\");"
   ]
  },
  {
   "cell_type": "markdown",
   "metadata": {},
   "source": [
    "# Scratch"
   ]
  },
  {
   "cell_type": "code",
   "execution_count": null,
   "metadata": {
    "colab": {
     "base_uri": "https://localhost:8080/",
     "height": 265
    },
    "id": "n5t90CB6Q9R8",
    "outputId": "8af221eb-4dff-4584-f114-6530dbcf166c"
   },
   "outputs": [],
   "source": [
    "f, psd = welch(sumSignal, fs=upperTimeBound/dt)\n",
    "plt.plot(f,psd);"
   ]
  },
  {
   "cell_type": "code",
   "execution_count": null,
   "metadata": {},
   "outputs": [],
   "source": [
    "# The Kuramoto class, borrowed from http://www.laszukdawid.com/codes, and modified to permit time-varying coupling.\n",
    "\n",
    "from __future__ import print_function\n",
    "\n",
    "import numpy as np\n",
    "from scipy.integrate import ode\n",
    "\n",
    "__version__ = '0.3'\n",
    "__author__ = 'Dawid Laszuk'\n",
    "\n",
    "class Kuramoto(object):\n",
    "    \"\"\"\n",
    "    Implementation of Kuramoto coupling model [1] with harmonic terms\n",
    "    and possible perturbation.\n",
    "    It uses NumPy and Scipy's implementation of Runge-Kutta 4(5)\n",
    "    for numerical integration.\n",
    "\n",
    "    Usage example:\n",
    "    >>> kuramoto = Kuramoto(initial_values)\n",
    "    >>> phase = kuramoto.solve(X)\n",
    "    \"\"\"\n",
    "\n",
    "    def __init__(self, init_values):\n",
    "        \"\"\"\n",
    "        Passed arguments should be a dictionary with NumPy arrays\n",
    "        for initial phase (Y0), intrisic frequencies (W) and coupling\n",
    "        matrix (K).\n",
    "        \"\"\"\n",
    "        self.dtype = np.float32\n",
    "\n",
    "        self.dt = 1.\n",
    "        self.init_phase = np.array(init_values['Y0'])\n",
    "        self.W = np.array(init_values['W'])\n",
    "\n",
    "        self.n_osc = len(self.W)\n",
    "\n",
    "        if isinstance(init_values['K'], list) or isinstance(init_values['K'], types.GeneratorType):\n",
    "            self.m_order = 1\n",
    "            self.K = init_values['K']\n",
    "        else:\n",
    "            self.m_order = 1\n",
    "            self.K = np.array(init_values['K'])\n",
    "        \n",
    "\n",
    "    def kuramoto_ODE(self, t, y, arg):\n",
    "        \"\"\"General Kuramoto ODE of m'th harmonic order.\n",
    "           Argument `arg` = (w, k), with\n",
    "            w -- iterable frequency\n",
    "            k -- 3D coupling matrix, unless 1st order\n",
    "            \"\"\"\n",
    "\n",
    "        w, k = arg\n",
    "        yt = y[:,None]\n",
    "        dy = y-yt\n",
    "        phase = w.astype(self.dtype)\n",
    "        for m, _k in enumerate(k):\n",
    "            phase += np.sum(_k*np.sin((m+1)*dy),axis=1)\n",
    "\n",
    "        return phase\n",
    "\n",
    "    def kuramoto_ODE_jac(self, t, y, arg):\n",
    "        \"\"\"Kuramoto's Jacobian passed for ODE solver.\"\"\"\n",
    "\n",
    "        w, k = arg\n",
    "        yt = y[:,None]\n",
    "        dy = y-yt\n",
    "\n",
    "        phase = [m*k[m-1]*np.cos(m*dy) for m in range(1,1+self.m_order)]\n",
    "        phase = np.sum(phase, axis=0)\n",
    "\n",
    "        for i in range(self.n_osc):\n",
    "            phase[i,i] = -np.sum(phase[:,i])\n",
    "\n",
    "        return phase\n",
    "\n",
    "    def solve(self, t):\n",
    "        \"\"\"Solves Kuramoto ODE for time series `t` with initial\n",
    "        parameters passed when initiated object.\n",
    "        \"\"\"\n",
    "        dt = t[1]-t[0]\n",
    "\n",
    "        kODE = ode(self.kuramoto_ODE, jac=self.kuramoto_ODE_jac)\n",
    "        \n",
    "        #kODE.set_integrator(\"dopri5\", nsteps=20000)\n",
    "        #kODE.set_integrator(\"lsoda\", nsteps=20000)\n",
    "        kODE.set_integrator(\"vode\", nsteps=20000)\n",
    "        \n",
    "        # Set parameters into model\n",
    "        kODE.set_initial_value(self.init_phase, t[0])\n",
    "        \n",
    "        if isinstance(self.K, np.ndarray):\n",
    "            kODE.set_f_params((self.W, self.K))\n",
    "            kODE.set_jac_params((self.W, self.K))\n",
    "        elif isinstance(self.K, types.GeneratorType):\n",
    "            throwAwayFirst = next(self.K)\n",
    "\n",
    "        phase = np.empty((self.n_osc, len(t)))\n",
    "        \n",
    "        # Run ODE integrator\n",
    "        for idx, _t in enumerate(t[1:]):\n",
    "            if idx % int(len(t)/10) == 0:\n",
    "                print(idx)\n",
    "            if isinstance(self.K, list):\n",
    "                kODE.set_f_params((self.W, self.K[idx]))\n",
    "                kODE.set_jac_params((self.W, self.K[idx]))\n",
    "            elif isinstance(self.K, types.GeneratorType):\n",
    "                thisK = next(self.K)\n",
    "                kODE.set_f_params((self.W, thisK))\n",
    "                kODE.set_jac_params((self.W, thisK))\n",
    "            phase[:,idx] = kODE.y\n",
    "            kODE.integrate(_t)\n",
    "\n",
    "        phase[:,-1] = kODE.y\n",
    "\n",
    "        return phase"
   ]
  },
  {
   "cell_type": "code",
   "execution_count": null,
   "metadata": {
    "id": "AGW1p1cHQ9R9",
    "outputId": "9d13576b-3aed-4d2b-f0d9-4935bfbfa3f4"
   },
   "outputs": [],
   "source": [
    "def linearKList(KpointList, changePoints, dt):\n",
    "    Klist = []\n",
    "    for i in range(1,len(changePoints)):\n",
    "        thisList = []\n",
    "        startMatrix = KpointList[i-1]\n",
    "        endMatrix = KpointList[i]\n",
    "        numTimePoints = int(np.ceil((changePoints[i] - changePoints[i-1])/dt)) + 1\n",
    "        for j in np.linspace(0,1,numTimePoints)[0:-1]:\n",
    "            thisMatrix = ((1-j) * startMatrix) + (j * endMatrix)\n",
    "            thisList.append(thisMatrix.copy())\n",
    "        Klist.extend(thisList)\n",
    "    Klist.append(endMatrix.copy())\n",
    "    return Klist\n",
    "\n",
    "# make a generator of coupling matrices that evolve piecewise linearly\n",
    "# KpointList is a list of coupling matrices\n",
    "# changePoints is a list of time points at which the corresponding matrices hold\n",
    "# In between the change points the matrices evolve linearly from first to second\n",
    "# dt is the time step\n",
    "def linearKGenerator(KpointList, changePoints, dt):\n",
    "    for i in range(1,len(changePoints)):\n",
    "        thisList = []\n",
    "        startMatrix = KpointList[i-1]\n",
    "        endMatrix = KpointList[i]\n",
    "        numTimePoints = int(np.ceil((changePoints[i] - changePoints[i-1])/dt)) + 1\n",
    "        for j in np.linspace(0,1,numTimePoints)[0:-1]:\n",
    "            thisMatrix = ((1-j) * startMatrix) + (j * endMatrix)\n",
    "            yield tf.constant(thisMatrix, dtype=tf.double)\n",
    "    yield tf.constant(endMatrix, dtype=tf.double)\n",
    "    \n",
    "def negPosK(nOsc, probNeg):\n",
    "    K = np.ones(shape=(nOsc,nOsc))\n",
    "    for i in range(nOsc):\n",
    "        for j in range(i):\n",
    "            q = np.random.uniform()\n",
    "            if q <= probNeg:\n",
    "                K[i,j] = -1\n",
    "                K[j,i] = -1\n",
    "    return K"
   ]
  },
  {
   "cell_type": "code",
   "execution_count": null,
   "metadata": {
    "id": "TnyJgGvq7m3J"
   },
   "outputs": [],
   "source": []
  }
 ],
 "metadata": {
  "accelerator": "GPU",
  "colab": {
   "collapsed_sections": [],
   "name": "kuramoto.ipynb",
   "provenance": []
  },
  "deepnote_execution_queue": [],
  "deepnote_notebook_id": "8fe54df9-457c-4d98-b3b7-c694e73eb5b2",
  "kernelspec": {
   "display_name": "Python 3",
   "language": "python",
   "name": "python3"
  },
  "language_info": {
   "codemirror_mode": {
    "name": "ipython",
    "version": 3
   },
   "file_extension": ".py",
   "mimetype": "text/x-python",
   "name": "python",
   "nbconvert_exporter": "python",
   "pygments_lexer": "ipython3",
   "version": "3.8.6"
  }
 },
 "nbformat": 4,
 "nbformat_minor": 1
}
