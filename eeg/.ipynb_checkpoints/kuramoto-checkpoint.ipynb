{
 "cells": [
  {
   "cell_type": "code",
   "execution_count": 1,
   "metadata": {
    "cell_id": "00001-5f74ceb5-d65d-4bac-b469-812c26934fe1",
    "deepnote_cell_type": "code",
    "execution_millis": 0,
    "execution_start": 1608832900629,
    "output_cleared": false,
    "source_hash": "751812ae",
    "tags": []
   },
   "outputs": [],
   "source": [
    "import numpy as np\n",
    "import pylab as plt\n",
    "import matplotlib.animation as animation\n",
    "import matplotlib\n",
    "from scipy.signal import welch\n",
    "import seaborn as sns\n",
    "import time\n",
    "from IPython.display import HTML\n",
    "import types\n",
    "\n",
    "plt.style.use('ggplot')"
   ]
  },
  {
   "cell_type": "markdown",
   "metadata": {},
   "source": [
    "# The Kuramoto class, borrowed from http://www.laszukdawid.com/codes, and modified to permit time-varying coupling."
   ]
  },
  {
   "cell_type": "code",
   "execution_count": 2,
   "metadata": {},
   "outputs": [],
   "source": [
    "from __future__ import print_function\n",
    "\n",
    "import numpy as np\n",
    "from scipy.integrate import ode\n",
    "\n",
    "__version__ = '0.3'\n",
    "__author__ = 'Dawid Laszuk'\n",
    "\n",
    "class Kuramoto(object):\n",
    "    \"\"\"\n",
    "    Implementation of Kuramoto coupling model [1] with harmonic terms\n",
    "    and possible perturbation.\n",
    "    It uses NumPy and Scipy's implementation of Runge-Kutta 4(5)\n",
    "    for numerical integration.\n",
    "\n",
    "    Usage example:\n",
    "    >>> kuramoto = Kuramoto(initial_values)\n",
    "    >>> phase = kuramoto.solve(X)\n",
    "\n",
    "    [1] Kuramoto, Y. (1984). Chemical Oscillations, Waves, and Turbulence\n",
    "        (Vol. 19). doi: doi.org/10.1007/978-3-642-69689-3\n",
    "    \"\"\"\n",
    "\n",
    "    _noises = { 'logistic': np.random.logistic,\n",
    "                'normal': np.random.normal,\n",
    "                'uniform': np.random.uniform,\n",
    "                'custom': None\n",
    "              }\n",
    "\n",
    "    noise_types = _noises.keys()\n",
    "\n",
    "    def __init__(self, init_values, noise=None):\n",
    "        \"\"\"\n",
    "        Passed arguments should be a dictionary with NumPy arrays\n",
    "        for initial phase (Y0), intrisic frequencies (W) and coupling\n",
    "        matrix (K).\n",
    "        \"\"\"\n",
    "        self.dtype = np.float32\n",
    "\n",
    "        self.dt = 1.\n",
    "        self.init_phase = np.array(init_values['Y0'])\n",
    "        self.W = np.array(init_values['W'])\n",
    "\n",
    "        self.n_osc = len(self.W)\n",
    "\n",
    "        if isinstance(init_values['K'], list) or isinstance(init_values['K'], types.GeneratorType):\n",
    "            self.m_order = 1\n",
    "            self.K = init_values['K']\n",
    "        else:\n",
    "            self.m_order = self.K.shape[0]\n",
    "            self.K = np.array(init_values['K'])\n",
    "        \n",
    "        self.noise = noise\n",
    "\n",
    "\n",
    "    @property\n",
    "    def noise(self):\n",
    "        \"\"\"Sets perturbations added to the system at each timestamp.\n",
    "        Noise function can be manually defined or selected from\n",
    "        predefined by assgining corresponding name. List of available\n",
    "        pertrubations is reachable through `noise_types`. \"\"\"\n",
    "        return self._noise\n",
    "\n",
    "    @noise.setter\n",
    "    def noise(self, _noise):\n",
    "\n",
    "        self._noise = None\n",
    "        self.noise_params = None\n",
    "        self.noise_type = 'custom'\n",
    "\n",
    "        # If passed a function\n",
    "        if callable(_noise):\n",
    "            self._noise = _noise\n",
    "\n",
    "        # In case passing string\n",
    "        elif isinstance(_noise, str):\n",
    "\n",
    "            if _noise.lower() not in self.noise_types:\n",
    "                self.noise_type = None\n",
    "                raise NameError(\"No such noise method\")\n",
    "\n",
    "            self.noise_type = _noise.lower()\n",
    "            self.update_noise_params(self.dt)\n",
    "\n",
    "            noise_function = self._noises[self.noise_type]\n",
    "            self._noise = lambda: np.array([noise_function(**p) for p in self.noise_params])\n",
    "\n",
    "    def update_noise_params(self, dt):\n",
    "        self.scale_func = lambda dt: dt/np.abs(self.W**2)\n",
    "        scale = self.scale_func(dt)\n",
    "\n",
    "        if self.noise_type == 'uniform':\n",
    "            self.noise_params = [{'low':-s, 'high': s} for s in scale]\n",
    "        elif self.noise_type in self.noise_types:\n",
    "            self.noise_params = [{'loc':0, 'scale': s} for s in scale]\n",
    "        else:\n",
    "            pass\n",
    "\n",
    "    def kuramoto_ODE(self, t, y, arg):\n",
    "        \"\"\"General Kuramoto ODE of m'th harmonic order.\n",
    "           Argument `arg` = (w, k), with\n",
    "            w -- iterable frequency\n",
    "            k -- 3D coupling matrix, unless 1st order\n",
    "            \"\"\"\n",
    "\n",
    "        w, k = arg\n",
    "        yt = y[:,None]\n",
    "        dy = y-yt\n",
    "        phase = w.astype(self.dtype)\n",
    "        if self.noise != None:\n",
    "            n = self.noise().astype(self.dtype)\n",
    "            phase += n\n",
    "        for m, _k in enumerate(k):\n",
    "            phase += np.sum(_k*np.sin((m+1)*dy),axis=1)\n",
    "\n",
    "        return phase\n",
    "\n",
    "    def kuramoto_ODE_jac(self, t, y, arg):\n",
    "        \"\"\"Kuramoto's Jacobian passed for ODE solver.\"\"\"\n",
    "\n",
    "        w, k = arg\n",
    "        yt = y[:,None]\n",
    "        dy = y-yt\n",
    "\n",
    "        phase = [m*k[m-1]*np.cos(m*dy) for m in range(1,1+self.m_order)]\n",
    "        phase = np.sum(phase, axis=0)\n",
    "\n",
    "        for i in range(self.n_osc):\n",
    "            phase[i,i] = -np.sum(phase[:,i])\n",
    "\n",
    "        return phase\n",
    "\n",
    "    def solve(self, t):\n",
    "        \"\"\"Solves Kuramoto ODE for time series `t` with initial\n",
    "        parameters passed when initiated object.\n",
    "        \"\"\"\n",
    "        dt = t[1]-t[0]\n",
    "        if self.dt != dt and self.noise_type != 'custom':\n",
    "            self.dt = dt\n",
    "            self.update_noise_params(dt)\n",
    "\n",
    "        kODE = ode(self.kuramoto_ODE, jac=self.kuramoto_ODE_jac)\n",
    "        #kODE.set_integrator(\"dopri5\", nsteps=20000)\n",
    "        kODE.set_integrator(\"lsoda\", nsteps=20000)\n",
    "        # Set parameters into model\n",
    "        kODE.set_initial_value(self.init_phase, t[0])\n",
    "        \n",
    "        if isinstance(self.K, np.ndarray):\n",
    "            kODE.set_f_params((self.W, self.K))\n",
    "            kODE.set_jac_params((self.W, self.K))\n",
    "        elif isinstance(self.K, types.GeneratorType):\n",
    "            throwAwayFirst = next(self.K)\n",
    "\n",
    "        if self._noise != None:\n",
    "            self.update_noise_params(dt)\n",
    "\n",
    "        phase = np.empty((self.n_osc, len(t)))\n",
    "        \n",
    "        # Run ODE integrator\n",
    "        for idx, _t in enumerate(t[1:]):\n",
    "            if idx % int(len(t)/20) == 0:\n",
    "                print(idx)\n",
    "            if isinstance(self.K, list):\n",
    "                kODE.set_f_params((self.W, self.K[idx]))\n",
    "                kODE.set_jac_params((self.W, self.K[idx]))\n",
    "            elif isinstance(self.K, types.GeneratorType):\n",
    "                thisK = next(self.K)\n",
    "                kODE.set_f_params((self.W, thisK))\n",
    "                kODE.set_jac_params((self.W, thisK))\n",
    "            phase[:,idx] = kODE.y\n",
    "            kODE.integrate(_t)\n",
    "\n",
    "        phase[:,-1] = kODE.y\n",
    "\n",
    "        return phase"
   ]
  },
  {
   "cell_type": "markdown",
   "metadata": {},
   "source": [
    "# Utility function definitions"
   ]
  },
  {
   "cell_type": "code",
   "execution_count": 3,
   "metadata": {
    "cell_id": "00002-f4f0f8f3-f3e6-4ab4-854a-35cc93d15ed8",
    "deepnote_cell_type": "code",
    "execution_millis": 8,
    "execution_start": 1608832900920,
    "output_cleared": false,
    "source_hash": "47b18442",
    "tags": []
   },
   "outputs": [],
   "source": [
    "# sum the oscillators into one signal\n",
    "# phiMatrix = phases\n",
    "# A = amplitudes\n",
    "def sumOsc(phiMatrix, A):\n",
    "    A = np.resize(A, (1, len(A)))\n",
    "    return A.dot(np.sin(phiMatrix)).sum(0)\n",
    "\n",
    "# make a generator of coupling matrices that evolve piecewise linearly\n",
    "# KpointList is a list of coupling matrices\n",
    "# changePoints is a list of time points at which the corresponding matrices hold\n",
    "# In between the change points the matrices evolve linearly from first to second\n",
    "# dt is the time step\n",
    "def linearKGenerator(KpointList, changePoints, dt):\n",
    "    for i in range(1,len(changePoints)):\n",
    "        thisList = []\n",
    "        startMatrix = KpointList[i-1]\n",
    "        endMatrix = KpointList[i]\n",
    "        numTimePoints = int(np.ceil((changePoints[i] - changePoints[i-1])/dt)) + 1\n",
    "        for j in np.linspace(0,1,numTimePoints)[0:-1]:\n",
    "            thisMatrix = ((1-j) * startMatrix) + (j * endMatrix)\n",
    "            yield thisMatrix\n",
    "    yield endMatrix"
   ]
  },
  {
   "cell_type": "markdown",
   "metadata": {
    "cell_id": "00001-d048061c-9f60-4136-8a73-3f55c0ac4188",
    "deepnote_cell_type": "markdown",
    "output_cleared": false,
    "tags": []
   },
   "source": [
    "# Set the parameters for the Kuramoto model."
   ]
  },
  {
   "cell_type": "code",
   "execution_count": 4,
   "metadata": {
    "cell_id": "00002-23473b71-c96b-4545-89db-0a4a94674e60",
    "deepnote_cell_type": "code",
    "execution_millis": 8,
    "execution_start": 1608833158192,
    "output_cleared": false,
    "source_hash": "5f1ab973",
    "tags": []
   },
   "outputs": [],
   "source": [
    "# set these simulation parameters\n",
    "nOsc = 200\n",
    "upperFreqBound = 10.0\n",
    "upperTimeBound = 40\n",
    "dt = 0.01\n",
    "k = .01 # coupling strength for homogeneous coupling matrix K\n",
    "\n",
    "# Defining time array\n",
    "#T = np.arange(0, upperTimeBound, dt)\n",
    "numTimePoints = int(upperTimeBound/dt) + 1\n",
    "T = np.linspace(0, upperTimeBound, numTimePoints)\n",
    " \n",
    "# Y0, W, K, A are initial phase, intrinsic freq, amplitude and\n",
    "# coupling K matrix (or list of K matricies) respectively \n",
    "# (note K can be arbitary, in particular inhomogeneous, in contrast to Kuramoto's original model)\n",
    "\n",
    "Y0 = np.random.uniform(low=0.0, high=2*np.pi, size=nOsc)\n",
    "W = np.random.uniform(low=0.1, high=upperFreqBound, size=nOsc)\n",
    "A = np.ones(nOsc)\n",
    "\n",
    "#K = k * np.ones(shape=(nOsc,nOsc))\n",
    "#K = [k * np.ones(shape=(nOsc,nOsc)) for i in range(int(upperTimeBound/dt))]\n",
    "K1 = .001 * np.ones(shape=(nOsc,nOsc))\n",
    "K2 = 1 * np.ones(shape=(nOsc,nOsc))\n",
    "\n",
    "K = linearKGenerator([K1,K1,K2,K1,K1],[0.,15.,20.,25.,40.],dt)\n",
    "\n",
    "# Passing parameters as a dictionary\n",
    "init_params = {'W':W, 'K':K, 'Y0':Y0}"
   ]
  },
  {
   "cell_type": "markdown",
   "metadata": {
    "cell_id": "00003-d74ef93b-92a2-42be-865b-4a411af94df6",
    "deepnote_cell_type": "markdown",
    "output_cleared": false,
    "tags": []
   },
   "source": [
    "# Numerically solve the model and plot the results."
   ]
  },
  {
   "cell_type": "code",
   "execution_count": 5,
   "metadata": {
    "cell_id": "00004-f2d0e837-846f-4459-980f-9dced009de7b",
    "deepnote_cell_type": "code",
    "execution_millis": 61488,
    "execution_start": 1608833197637,
    "output_cleared": false,
    "source_hash": "6eafe7ed",
    "tags": []
   },
   "outputs": [
    {
     "name": "stdout",
     "output_type": "stream",
     "text": [
      "0\n",
      "200\n",
      "400\n",
      "600\n",
      "800\n",
      "1000\n",
      "1200\n",
      "1400\n"
     ]
    },
    {
     "name": "stderr",
     "output_type": "stream",
     "text": [
      "/Users/mettinger/opt/anaconda3/envs/mne/lib/python3.8/site-packages/scipy/integrate/_ode.py:1179: UserWarning: dopri5: problem is probably stiff (interrupted)\n",
      "  warnings.warn('{:s}: {:s}'.format(self.__class__.__name__,\n"
     ]
    },
    {
     "ename": "KeyboardInterrupt",
     "evalue": "",
     "output_type": "error",
     "traceback": [
      "\u001b[0;31m---------------------------------------------------------------------------\u001b[0m",
      "\u001b[0;31mKeyboardInterrupt\u001b[0m                         Traceback (most recent call last)",
      "\u001b[0;32m<ipython-input-5-1577e5560ed4>\u001b[0m in \u001b[0;36m<module>\u001b[0;34m\u001b[0m\n\u001b[1;32m      1\u001b[0m \u001b[0;31m# Running Kuramoto model\u001b[0m\u001b[0;34m\u001b[0m\u001b[0;34m\u001b[0m\u001b[0;34m\u001b[0m\u001b[0m\n\u001b[1;32m      2\u001b[0m \u001b[0mkuramoto\u001b[0m \u001b[0;34m=\u001b[0m \u001b[0mKuramoto\u001b[0m\u001b[0;34m(\u001b[0m\u001b[0minit_params\u001b[0m\u001b[0;34m)\u001b[0m\u001b[0;34m\u001b[0m\u001b[0;34m\u001b[0m\u001b[0m\n\u001b[0;32m----> 3\u001b[0;31m \u001b[0modePhi\u001b[0m \u001b[0;34m=\u001b[0m \u001b[0mkuramoto\u001b[0m\u001b[0;34m.\u001b[0m\u001b[0msolve\u001b[0m\u001b[0;34m(\u001b[0m\u001b[0mT\u001b[0m\u001b[0;34m)\u001b[0m\u001b[0;34m\u001b[0m\u001b[0;34m\u001b[0m\u001b[0m\n\u001b[0m\u001b[1;32m      4\u001b[0m \u001b[0;34m\u001b[0m\u001b[0m\n\u001b[1;32m      5\u001b[0m \u001b[0;31m# Computing phase dynamics\u001b[0m\u001b[0;34m\u001b[0m\u001b[0;34m\u001b[0m\u001b[0;34m\u001b[0m\u001b[0m\n",
      "\u001b[0;32m<ipython-input-2-15eb9b4cf9bb>\u001b[0m in \u001b[0;36msolve\u001b[0;34m(self, t)\u001b[0m\n\u001b[1;32m    169\u001b[0m                 \u001b[0mkODE\u001b[0m\u001b[0;34m.\u001b[0m\u001b[0mset_jac_params\u001b[0m\u001b[0;34m(\u001b[0m\u001b[0;34m(\u001b[0m\u001b[0mself\u001b[0m\u001b[0;34m.\u001b[0m\u001b[0mW\u001b[0m\u001b[0;34m,\u001b[0m \u001b[0mthisK\u001b[0m\u001b[0;34m)\u001b[0m\u001b[0;34m)\u001b[0m\u001b[0;34m\u001b[0m\u001b[0;34m\u001b[0m\u001b[0m\n\u001b[1;32m    170\u001b[0m             \u001b[0mphase\u001b[0m\u001b[0;34m[\u001b[0m\u001b[0;34m:\u001b[0m\u001b[0;34m,\u001b[0m\u001b[0midx\u001b[0m\u001b[0;34m]\u001b[0m \u001b[0;34m=\u001b[0m \u001b[0mkODE\u001b[0m\u001b[0;34m.\u001b[0m\u001b[0my\u001b[0m\u001b[0;34m\u001b[0m\u001b[0;34m\u001b[0m\u001b[0m\n\u001b[0;32m--> 171\u001b[0;31m             \u001b[0mkODE\u001b[0m\u001b[0;34m.\u001b[0m\u001b[0mintegrate\u001b[0m\u001b[0;34m(\u001b[0m\u001b[0m_t\u001b[0m\u001b[0;34m)\u001b[0m\u001b[0;34m\u001b[0m\u001b[0;34m\u001b[0m\u001b[0m\n\u001b[0m\u001b[1;32m    172\u001b[0m \u001b[0;34m\u001b[0m\u001b[0m\n\u001b[1;32m    173\u001b[0m         \u001b[0mphase\u001b[0m\u001b[0;34m[\u001b[0m\u001b[0;34m:\u001b[0m\u001b[0;34m,\u001b[0m\u001b[0;34m-\u001b[0m\u001b[0;36m1\u001b[0m\u001b[0;34m]\u001b[0m \u001b[0;34m=\u001b[0m \u001b[0mkODE\u001b[0m\u001b[0;34m.\u001b[0m\u001b[0my\u001b[0m\u001b[0;34m\u001b[0m\u001b[0;34m\u001b[0m\u001b[0m\n",
      "\u001b[0;32m~/opt/anaconda3/envs/mne/lib/python3.8/site-packages/scipy/integrate/_ode.py\u001b[0m in \u001b[0;36mintegrate\u001b[0;34m(self, t, step, relax)\u001b[0m\n\u001b[1;32m    431\u001b[0m \u001b[0;34m\u001b[0m\u001b[0m\n\u001b[1;32m    432\u001b[0m         \u001b[0;32mtry\u001b[0m\u001b[0;34m:\u001b[0m\u001b[0;34m\u001b[0m\u001b[0;34m\u001b[0m\u001b[0m\n\u001b[0;32m--> 433\u001b[0;31m             self._y, self.t = mth(self.f, self.jac or (lambda: None),\n\u001b[0m\u001b[1;32m    434\u001b[0m                                   \u001b[0mself\u001b[0m\u001b[0;34m.\u001b[0m\u001b[0m_y\u001b[0m\u001b[0;34m,\u001b[0m \u001b[0mself\u001b[0m\u001b[0;34m.\u001b[0m\u001b[0mt\u001b[0m\u001b[0;34m,\u001b[0m \u001b[0mt\u001b[0m\u001b[0;34m,\u001b[0m\u001b[0;34m\u001b[0m\u001b[0;34m\u001b[0m\u001b[0m\n\u001b[1;32m    435\u001b[0m                                   self.f_params, self.jac_params)\n",
      "\u001b[0;32m~/opt/anaconda3/envs/mne/lib/python3.8/site-packages/scipy/integrate/_ode.py\u001b[0m in \u001b[0;36mrun\u001b[0;34m(self, f, jac, y0, t0, t1, f_params, jac_params)\u001b[0m\n\u001b[1;32m   1172\u001b[0m \u001b[0;34m\u001b[0m\u001b[0m\n\u001b[1;32m   1173\u001b[0m     \u001b[0;32mdef\u001b[0m \u001b[0mrun\u001b[0m\u001b[0;34m(\u001b[0m\u001b[0mself\u001b[0m\u001b[0;34m,\u001b[0m \u001b[0mf\u001b[0m\u001b[0;34m,\u001b[0m \u001b[0mjac\u001b[0m\u001b[0;34m,\u001b[0m \u001b[0my0\u001b[0m\u001b[0;34m,\u001b[0m \u001b[0mt0\u001b[0m\u001b[0;34m,\u001b[0m \u001b[0mt1\u001b[0m\u001b[0;34m,\u001b[0m \u001b[0mf_params\u001b[0m\u001b[0;34m,\u001b[0m \u001b[0mjac_params\u001b[0m\u001b[0;34m)\u001b[0m\u001b[0;34m:\u001b[0m\u001b[0;34m\u001b[0m\u001b[0;34m\u001b[0m\u001b[0m\n\u001b[0;32m-> 1174\u001b[0;31m         x, y, iwork, istate = self.runner(*((f, t0, y0, t1) +\n\u001b[0m\u001b[1;32m   1175\u001b[0m                                           tuple(self.call_args) + (f_params,)))\n\u001b[1;32m   1176\u001b[0m         \u001b[0mself\u001b[0m\u001b[0;34m.\u001b[0m\u001b[0mistate\u001b[0m \u001b[0;34m=\u001b[0m \u001b[0mistate\u001b[0m\u001b[0;34m\u001b[0m\u001b[0;34m\u001b[0m\u001b[0m\n",
      "\u001b[0;32m<ipython-input-2-15eb9b4cf9bb>\u001b[0m in \u001b[0;36mkuramoto_ODE\u001b[0;34m(self, t, y, arg)\u001b[0m\n\u001b[1;32m    112\u001b[0m             \u001b[0mphase\u001b[0m \u001b[0;34m+=\u001b[0m \u001b[0mn\u001b[0m\u001b[0;34m\u001b[0m\u001b[0;34m\u001b[0m\u001b[0m\n\u001b[1;32m    113\u001b[0m         \u001b[0;32mfor\u001b[0m \u001b[0mm\u001b[0m\u001b[0;34m,\u001b[0m \u001b[0m_k\u001b[0m \u001b[0;32min\u001b[0m \u001b[0menumerate\u001b[0m\u001b[0;34m(\u001b[0m\u001b[0mk\u001b[0m\u001b[0;34m)\u001b[0m\u001b[0;34m:\u001b[0m\u001b[0;34m\u001b[0m\u001b[0;34m\u001b[0m\u001b[0m\n\u001b[0;32m--> 114\u001b[0;31m             \u001b[0mphase\u001b[0m \u001b[0;34m+=\u001b[0m \u001b[0mnp\u001b[0m\u001b[0;34m.\u001b[0m\u001b[0msum\u001b[0m\u001b[0;34m(\u001b[0m\u001b[0m_k\u001b[0m\u001b[0;34m*\u001b[0m\u001b[0mnp\u001b[0m\u001b[0;34m.\u001b[0m\u001b[0msin\u001b[0m\u001b[0;34m(\u001b[0m\u001b[0;34m(\u001b[0m\u001b[0mm\u001b[0m\u001b[0;34m+\u001b[0m\u001b[0;36m1\u001b[0m\u001b[0;34m)\u001b[0m\u001b[0;34m*\u001b[0m\u001b[0mdy\u001b[0m\u001b[0;34m)\u001b[0m\u001b[0;34m,\u001b[0m\u001b[0maxis\u001b[0m\u001b[0;34m=\u001b[0m\u001b[0;36m1\u001b[0m\u001b[0;34m)\u001b[0m\u001b[0;34m\u001b[0m\u001b[0;34m\u001b[0m\u001b[0m\n\u001b[0m\u001b[1;32m    115\u001b[0m \u001b[0;34m\u001b[0m\u001b[0m\n\u001b[1;32m    116\u001b[0m         \u001b[0;32mreturn\u001b[0m \u001b[0mphase\u001b[0m\u001b[0;34m\u001b[0m\u001b[0;34m\u001b[0m\u001b[0m\n",
      "\u001b[0;31mKeyboardInterrupt\u001b[0m: "
     ]
    }
   ],
   "source": [
    "# Running Kuramoto model\n",
    "kuramoto = Kuramoto(init_params)\n",
    "odePhi = kuramoto.solve(T)\n",
    " \n",
    "# Computing phase dynamics\n",
    "phaseDynamics = np.diff(odePhi)/dt"
   ]
  },
  {
   "cell_type": "code",
   "execution_count": null,
   "metadata": {
    "cell_id": "00003-4f579304-7945-4479-9a05-8709c4223720",
    "deepnote_cell_type": "code",
    "execution_millis": 586,
    "execution_start": 1608833259169,
    "output_cleared": false,
    "source_hash": "b402c200",
    "tags": []
   },
   "outputs": [],
   "source": [
    "# Plotting response\n",
    "\n",
    "#oscList = range(len(W)) # plot all the oscillators\n",
    "oscList = [0,1,2,3]\n",
    "\n",
    "nOsc = len(oscList)\n",
    "plt.figure(figsize=(15,2 * nOsc))\n",
    "for i, osc in enumerate(oscList):\n",
    "    plt.subplot(nOsc, 1, 1+i)\n",
    "    plt.plot(T[:-1], phaseDynamics[osc])\n",
    "    plt.ylabel(\"$\\dot\\phi_{%i}$\" %(osc))\n",
    "plt.show()"
   ]
  },
  {
   "cell_type": "markdown",
   "metadata": {
    "cell_id": "00007-a1a57537-3469-4463-b2c5-13d2511b9417",
    "deepnote_cell_type": "markdown",
    "output_cleared": false,
    "tags": []
   },
   "source": [
    "# Plot the sum of the oscillators"
   ]
  },
  {
   "cell_type": "code",
   "execution_count": null,
   "metadata": {
    "cell_id": "00007-146f1db9-fccc-489e-bbca-e0e24f3ffde7",
    "deepnote_cell_type": "code",
    "execution_millis": 211,
    "execution_start": 1608833259762,
    "output_cleared": false,
    "source_hash": "95e3a895",
    "tags": []
   },
   "outputs": [],
   "source": [
    "plt.figure()\n",
    "sumSignal = sumOsc(odePhi, A)\n",
    "plt.plot(T, sumSignal)\n",
    "plt.title(\"Sum of all oscillators\");"
   ]
  },
  {
   "cell_type": "markdown",
   "metadata": {
    "cell_id": "00007-01c9b666-6893-4a4c-8ef5-e6623005c87f",
    "deepnote_cell_type": "markdown",
    "output_cleared": false,
    "tags": []
   },
   "source": [
    "# Plot the frequency distribution of oscillators"
   ]
  },
  {
   "cell_type": "code",
   "execution_count": null,
   "metadata": {
    "cell_id": "00007-96284be9-9f7d-49b9-bef4-d07d6feeaa66",
    "deepnote_cell_type": "code",
    "execution_millis": 150,
    "execution_start": 1608833259977,
    "output_cleared": false,
    "source_hash": "5099d489",
    "tags": []
   },
   "outputs": [],
   "source": [
    "index = 1550\n",
    "\n",
    "sns.kdeplot(phaseDynamics[:,index]);\n",
    "plt.xlim([0,20])\n",
    "plt.xlabel('frequency')\n",
    "plt.title(\"Time= {}\".format(index * dt));"
   ]
  },
  {
   "cell_type": "code",
   "execution_count": null,
   "metadata": {
    "cell_id": "00009-88f7fbd5-49ea-4264-94ee-9ffa22f2faf5",
    "deepnote_cell_type": "code",
    "execution_millis": 115,
    "execution_start": 1608826520945,
    "output_cleared": false,
    "source_hash": "f68f9c9f",
    "tags": []
   },
   "outputs": [],
   "source": [
    "f, psd = welch(sumSignal, fs=upperTimeBound/dt)\n",
    "plt.plot(f,psd);"
   ]
  },
  {
   "cell_type": "code",
   "execution_count": null,
   "metadata": {},
   "outputs": [],
   "source": [
    "'''\n",
    "def linearKList(KpointList, changePoints, dt):\n",
    "    Klist = []\n",
    "    for i in range(1,len(changePoints)):\n",
    "        thisList = []\n",
    "        startMatrix = KpointList[i-1]\n",
    "        endMatrix = KpointList[i]\n",
    "        numTimePoints = int(np.ceil((changePoints[i] - changePoints[i-1])/dt)) + 1\n",
    "        for j in np.linspace(0,1,numTimePoints)[0:-1]:\n",
    "            thisMatrix = ((1-j) * startMatrix) + (j * endMatrix)\n",
    "            thisList.append(thisMatrix.copy())\n",
    "        Klist.extend(thisList)\n",
    "    Klist.append(endMatrix.copy())\n",
    "    return Klist\n",
    "'''"
   ]
  }
 ],
 "metadata": {
  "deepnote_execution_queue": [],
  "deepnote_notebook_id": "8fe54df9-457c-4d98-b3b7-c694e73eb5b2",
  "kernelspec": {
   "display_name": "Python 3",
   "language": "python",
   "name": "python3"
  },
  "language_info": {
   "codemirror_mode": {
    "name": "ipython",
    "version": 3
   },
   "file_extension": ".py",
   "mimetype": "text/x-python",
   "name": "python",
   "nbconvert_exporter": "python",
   "pygments_lexer": "ipython3",
   "version": "3.8.6"
  }
 },
 "nbformat": 4,
 "nbformat_minor": 2
}
