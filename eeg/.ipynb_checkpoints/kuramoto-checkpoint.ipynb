{
 "cells": [
  {
   "cell_type": "code",
   "execution_count": 2,
   "metadata": {
    "cell_id": "00001-5f74ceb5-d65d-4bac-b469-812c26934fe1",
    "deepnote_cell_type": "code",
    "execution_millis": 1,
    "execution_start": 1608491086701,
    "output_cleared": false,
    "source_hash": "40fb775c",
    "tags": []
   },
   "outputs": [],
   "source": [
    "import numpy as np\n",
    "import pylab as plt\n",
    "import matplotlib.animation as animation\n",
    "import matplotlib\n",
    "from kuramoto import Kuramoto\n",
    "from scipy.signal import welch\n",
    "import seaborn as sns\n",
    "from IPython.display import HTML\n",
    "\n",
    "plt.style.use('ggplot')"
   ]
  },
  {
   "cell_type": "markdown",
   "metadata": {
    "cell_id": "00001-d048061c-9f60-4136-8a73-3f55c0ac4188",
    "deepnote_cell_type": "markdown",
    "tags": []
   },
   "source": [
    "# Set the parameters for the Kuramoto model."
   ]
  },
  {
   "cell_type": "code",
   "execution_count": 3,
   "metadata": {
    "cell_id": "00002-23473b71-c96b-4545-89db-0a4a94674e60",
    "deepnote_cell_type": "code",
    "execution_millis": 1,
    "execution_start": 1608489462226,
    "output_cleared": false,
    "source_hash": "5b20bb4c",
    "tags": []
   },
   "outputs": [],
   "source": [
    "# Defining time array\n",
    "t0, t1, dt = 0, 40, 0.01\n",
    "T = np.arange(t0, t1, dt)\n",
    " \n",
    "# Y0, W, K are initial phase, intrinsic freq and\n",
    "# coupling K matrix respectively\n",
    "\n",
    "nOsc = 20\n",
    "k = 1\n",
    "\n",
    "np.random.seed(0)\n",
    "Y0 = np.random.uniform(low=0.0, high=2*np.pi, size=nOsc)\n",
    "W = np.random.uniform(low=0.0, high=50.0, size=nOsc)\n",
    "K = k * np.ones(shape=(nOsc,nOsc))\n",
    "\n",
    "\n",
    "# Passing parameters as a dictionary\n",
    "init_params = {'W':W, 'K':K, 'Y0':Y0}"
   ]
  },
  {
   "cell_type": "markdown",
   "metadata": {
    "cell_id": "00003-d74ef93b-92a2-42be-865b-4a411af94df6",
    "deepnote_cell_type": "markdown",
    "tags": []
   },
   "source": [
    "# Numerically solve the model and plot the results."
   ]
  },
  {
   "cell_type": "code",
   "execution_count": null,
   "metadata": {
    "cell_id": "00004-f2d0e837-846f-4459-980f-9dced009de7b",
    "deepnote_cell_type": "code",
    "execution_millis": 109483,
    "execution_start": 1608489464797,
    "output_cleared": false,
    "source_hash": "6eafe7ed",
    "tags": []
   },
   "outputs": [],
   "source": [
    "# Running Kuramoto model\n",
    "kuramoto = Kuramoto(init_params)\n",
    "odePhi = kuramoto.solve(T)\n",
    " \n",
    "# Computing phase dynamics\n",
    "phaseDynamics = np.diff(odePhi)/dt"
   ]
  },
  {
   "cell_type": "code",
   "execution_count": null,
   "metadata": {
    "cell_id": "00003-4f579304-7945-4479-9a05-8709c4223720",
    "deepnote_cell_type": "code",
    "execution_millis": 2388,
    "execution_start": 1608489574325,
    "output_cleared": false,
    "source_hash": "c10beddd",
    "tags": []
   },
   "outputs": [],
   "source": [
    "# Plotting response\n",
    "nOsc = len(W)\n",
    "plt.figure(figsize=(15,2 * nOsc))\n",
    "for osc in range(nOsc):\n",
    "    plt.subplot(nOsc, 1, 1+osc)\n",
    "    plt.plot(T[:-1], phaseDynamics[osc])\n",
    "    plt.ylabel(\"$\\dot\\phi_{%i}$\" %(osc+1))\n",
    "plt.show()"
   ]
  },
  {
   "cell_type": "code",
   "execution_count": null,
   "metadata": {
    "cell_id": "00006-9cd07575-4f2d-4ba7-bfc3-5a9fcd373fbb",
    "deepnote_cell_type": "code",
    "execution_millis": 2,
    "execution_start": 1608490305568,
    "output_cleared": false,
    "source_hash": "5ac64163",
    "tags": []
   },
   "outputs": [],
   "source": [
    "phaseDynamics[:,20]"
   ]
  },
  {
   "cell_type": "markdown",
   "metadata": {
    "cell_id": "00007-01c9b666-6893-4a4c-8ef5-e6623005c87f",
    "deepnote_cell_type": "markdown",
    "tags": []
   },
   "source": [
    "# Plot the frequency distribution of oscillators"
   ]
  },
  {
   "cell_type": "code",
   "execution_count": null,
   "metadata": {
    "cell_id": "00007-2de0eae5-80eb-4a8c-acca-333aa58dd0ef",
    "deepnote_cell_type": "code",
    "execution_millis": 117,
    "execution_start": 1608490962771,
    "output_cleared": false,
    "source_hash": "84c3f486",
    "tags": []
   },
   "outputs": [],
   "source": [
    "sns.kdeplot(phaseDynamics[:,200]);"
   ]
  },
  {
   "cell_type": "code",
   "execution_count": 48,
   "metadata": {
    "cell_id": "00009-20b561b0-2777-482a-b4ec-c6090b780b8b",
    "deepnote_cell_type": "code",
    "execution_millis": 0,
    "execution_start": 1608491110907,
    "output_cleared": false,
    "source_hash": "5268785",
    "tags": []
   },
   "outputs": [
    {
     "ename": "RuntimeError",
     "evalue": "Requested MovieWriter (ffmpeg) not available",
     "output_type": "error",
     "traceback": [
      "\u001b[0;31m---------------------------------------------------------------------------\u001b[0m",
      "\u001b[0;31mRuntimeError\u001b[0m                              Traceback (most recent call last)",
      "\u001b[0;32m<ipython-input-48-29f441a128cc>\u001b[0m in \u001b[0;36m<module>\u001b[0;34m\u001b[0m\n\u001b[1;32m      6\u001b[0m \u001b[0;34m\u001b[0m\u001b[0m\n\u001b[1;32m      7\u001b[0m \u001b[0mani\u001b[0m \u001b[0;34m=\u001b[0m \u001b[0mmatplotlib\u001b[0m\u001b[0;34m.\u001b[0m\u001b[0manimation\u001b[0m\u001b[0;34m.\u001b[0m\u001b[0mFuncAnimation\u001b[0m\u001b[0;34m(\u001b[0m\u001b[0mfig\u001b[0m\u001b[0;34m,\u001b[0m \u001b[0manimate\u001b[0m\u001b[0;34m,\u001b[0m \u001b[0mframes\u001b[0m\u001b[0;34m=\u001b[0m\u001b[0mlen\u001b[0m\u001b[0;34m(\u001b[0m\u001b[0mphaseDynamics\u001b[0m\u001b[0;34m)\u001b[0m\u001b[0;34m,\u001b[0m \u001b[0mrepeat\u001b[0m\u001b[0;34m=\u001b[0m\u001b[0;32mTrue\u001b[0m\u001b[0;34m)\u001b[0m\u001b[0;34m\u001b[0m\u001b[0;34m\u001b[0m\u001b[0m\n\u001b[0;32m----> 8\u001b[0;31m \u001b[0mHTML\u001b[0m\u001b[0;34m(\u001b[0m\u001b[0mani\u001b[0m\u001b[0;34m.\u001b[0m\u001b[0mto_html5_video\u001b[0m\u001b[0;34m(\u001b[0m\u001b[0;34m)\u001b[0m\u001b[0;34m)\u001b[0m\u001b[0;34m\u001b[0m\u001b[0;34m\u001b[0m\u001b[0m\n\u001b[0m",
      "\u001b[0;32m/opt/venv/lib/python3.7/site-packages/matplotlib/animation.py\u001b[0m in \u001b[0;36mto_html5_video\u001b[0;34m(self, embed_limit)\u001b[0m\n\u001b[1;32m   1314\u001b[0m                 \u001b[0;31m# We create a writer manually so that we can get the\u001b[0m\u001b[0;34m\u001b[0m\u001b[0;34m\u001b[0m\u001b[0;34m\u001b[0m\u001b[0m\n\u001b[1;32m   1315\u001b[0m                 \u001b[0;31m# appropriate size for the tag\u001b[0m\u001b[0;34m\u001b[0m\u001b[0;34m\u001b[0m\u001b[0;34m\u001b[0m\u001b[0m\n\u001b[0;32m-> 1316\u001b[0;31m                 \u001b[0mWriter\u001b[0m \u001b[0;34m=\u001b[0m \u001b[0mwriters\u001b[0m\u001b[0;34m[\u001b[0m\u001b[0mmpl\u001b[0m\u001b[0;34m.\u001b[0m\u001b[0mrcParams\u001b[0m\u001b[0;34m[\u001b[0m\u001b[0;34m'animation.writer'\u001b[0m\u001b[0;34m]\u001b[0m\u001b[0;34m]\u001b[0m\u001b[0;34m\u001b[0m\u001b[0;34m\u001b[0m\u001b[0m\n\u001b[0m\u001b[1;32m   1317\u001b[0m                 writer = Writer(codec='h264',\n\u001b[1;32m   1318\u001b[0m                                 \u001b[0mbitrate\u001b[0m\u001b[0;34m=\u001b[0m\u001b[0mmpl\u001b[0m\u001b[0;34m.\u001b[0m\u001b[0mrcParams\u001b[0m\u001b[0;34m[\u001b[0m\u001b[0;34m'animation.bitrate'\u001b[0m\u001b[0;34m]\u001b[0m\u001b[0;34m,\u001b[0m\u001b[0;34m\u001b[0m\u001b[0;34m\u001b[0m\u001b[0m\n",
      "\u001b[0;32m/opt/venv/lib/python3.7/site-packages/matplotlib/animation.py\u001b[0m in \u001b[0;36m__getitem__\u001b[0;34m(self, name)\u001b[0m\n\u001b[1;32m    164\u001b[0m         \u001b[0;32mif\u001b[0m \u001b[0mself\u001b[0m\u001b[0;34m.\u001b[0m\u001b[0mis_available\u001b[0m\u001b[0;34m(\u001b[0m\u001b[0mname\u001b[0m\u001b[0;34m)\u001b[0m\u001b[0;34m:\u001b[0m\u001b[0;34m\u001b[0m\u001b[0;34m\u001b[0m\u001b[0m\n\u001b[1;32m    165\u001b[0m             \u001b[0;32mreturn\u001b[0m \u001b[0mself\u001b[0m\u001b[0;34m.\u001b[0m\u001b[0m_registered\u001b[0m\u001b[0;34m[\u001b[0m\u001b[0mname\u001b[0m\u001b[0;34m]\u001b[0m\u001b[0;34m\u001b[0m\u001b[0;34m\u001b[0m\u001b[0m\n\u001b[0;32m--> 166\u001b[0;31m         \u001b[0;32mraise\u001b[0m \u001b[0mRuntimeError\u001b[0m\u001b[0;34m(\u001b[0m\u001b[0;34mf\"Requested MovieWriter ({name}) not available\"\u001b[0m\u001b[0;34m)\u001b[0m\u001b[0;34m\u001b[0m\u001b[0;34m\u001b[0m\u001b[0m\n\u001b[0m\u001b[1;32m    167\u001b[0m \u001b[0;34m\u001b[0m\u001b[0m\n\u001b[1;32m    168\u001b[0m \u001b[0;34m\u001b[0m\u001b[0m\n",
      "\u001b[0;31mRuntimeError\u001b[0m: Requested MovieWriter (ffmpeg) not available"
     ]
    },
    {
     "data": {
      "text/plain": [
       "<Figure size 720x432 with 0 Axes>"
      ]
     },
     "metadata": {},
     "output_type": "display_data"
    }
   ],
   "source": [
    "fig = plt.figure(figsize=(10,6))\n",
    "\n",
    "def animate(i):\n",
    "    p = sns.kdeplot(phaseDynamics[:,i])\n",
    "    return p\n",
    "\n",
    "ani = matplotlib.animation.FuncAnimation(fig, animate, frames=len(phaseDynamics), repeat=True)\n",
    "HTML(ani.to_html5_video())"
   ]
  },
  {
   "cell_type": "markdown",
   "metadata": {
    "cell_id": "00005-1d59315c-4b6f-47d3-b6f8-d344eb2e88a2",
    "deepnote_cell_type": "markdown",
    "tags": []
   },
   "source": [
    "# Calculate and plot the power spectral density."
   ]
  },
  {
   "cell_type": "code",
   "execution_count": null,
   "metadata": {
    "cell_id": "00003-f538bf5f-73e5-45ac-a9d6-2884afd821f2",
    "deepnote_cell_type": "code",
    "execution_millis": 171,
    "execution_start": 1607889547274,
    "output_cleared": false,
    "source_hash": "e42d8d24",
    "tags": []
   },
   "outputs": [
    {
     "data": {
      "image/png": "[encoded data removed]",
      "text/plain": [
       "<Figure size 1080x720 with 1 Axes>"
      ]
     },
     "metadata": {},
     "output_type": "display_data"
    }
   ],
   "source": [
    "oscIndex = 1\n",
    "\n",
    "f, psd, = welch(phaseDynamics[oscIndex], 1/dt)\n",
    "plt.figure(figsize=(15,10))\n",
    "plt.plot(f,psd)\n",
    "plt.title(\"PSD of phase derivative for oscillator {}\".format(oscIndex))\n",
    "plt.xlabel('frequency')\n",
    "plt.ylabel('power spectral density (welch estimate)');"
   ]
  },
  {
   "cell_type": "code",
   "execution_count": null,
   "metadata": {
    "cell_id": "00006-afac7be6-e2b7-41a3-ac2d-6ddc16a0d81e",
    "deepnote_cell_type": "code",
    "tags": []
   },
   "outputs": [],
   "source": []
  }
 ],
 "metadata": {
  "deepnote_execution_queue": [],
  "deepnote_notebook_id": "8fe54df9-457c-4d98-b3b7-c694e73eb5b2",
  "kernelspec": {
   "display_name": "Python 3",
   "language": "python",
   "name": "python3"
  },
  "language_info": {
   "codemirror_mode": {
    "name": "ipython",
    "version": 3
   },
   "file_extension": ".py",
   "mimetype": "text/x-python",
   "name": "python",
   "nbconvert_exporter": "python",
   "pygments_lexer": "ipython3",
   "version": "3.8.6"
  }
 },
 "nbformat": 4,
 "nbformat_minor": 2
}
