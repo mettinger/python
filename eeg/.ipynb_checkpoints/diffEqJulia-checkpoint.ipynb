{
 "cells": [
  {
   "cell_type": "code",
   "execution_count": 2,
   "id": "16aa0f8c",
   "metadata": {},
   "outputs": [
    {
     "data": {
      "text/plain": [
       "retcode: Success\n",
       "Interpolation: specialized 4th order \"free\" interpolation\n",
       "t: 17-element Vector{Float64}:\n",
       " 0.0\n",
       " 0.012407826196308189\n",
       " 0.042501278333560696\n",
       " 0.0817804940926822\n",
       " 0.12887384498704435\n",
       " 0.18409796286152927\n",
       " 0.24627457447456758\n",
       " 0.31479297816557983\n",
       " 0.3885963515160237\n",
       " 0.4668617724420117\n",
       " 0.5487161305960653\n",
       " 0.6334346972152323\n",
       " 0.7203630000154827\n",
       " 0.808957991167541\n",
       " 0.8987655040395068\n",
       " 0.9894161889652783\n",
       " 1.0\n",
       "u: 17-element Vector{Float64}:\n",
       " 0.5\n",
       " 0.5063053789114713\n",
       " 0.5219304750950854\n",
       " 0.5430527156531716\n",
       " 0.5695067765051011\n",
       " 0.6021743618001767\n",
       " 0.6412025634645868\n",
       " 0.6871475244605603\n",
       " 0.7403258398933249\n",
       " 0.8012223416244076\n",
       " 0.8702768595124217\n",
       " 0.9480214633315531\n",
       " 1.0350186537489083\n",
       " 1.1319031171663114\n",
       " 1.2393734610662304\n",
       " 1.3582039071131542\n",
       " 1.3728005076225747"
      ]
     },
     "execution_count": 2,
     "metadata": {},
     "output_type": "execute_result"
    }
   ],
   "source": [
    "using DifferentialEquations\n",
    "f(u,p,t) = 1.01*u\n",
    "u0 = 1/2\n",
    "tspan = (0.0,1.0)\n",
    "prob = ODEProblem(f,u0,tspan)\n",
    "sol = solve(prob, Tsit5(), reltol=1e-8, abstol=1e-8)"
   ]
  },
  {
   "cell_type": "code",
   "execution_count": null,
   "id": "feb6179e",
   "metadata": {},
   "outputs": [],
   "source": []
  }
 ],
 "metadata": {
  "kernelspec": {
   "display_name": "Julia 1.6.3",
   "language": "julia",
   "name": "julia-1.6"
  },
  "language_info": {
   "file_extension": ".jl",
   "mimetype": "application/julia",
   "name": "julia",
   "version": "1.6.3"
  }
 },
 "nbformat": 4,
 "nbformat_minor": 5
}
