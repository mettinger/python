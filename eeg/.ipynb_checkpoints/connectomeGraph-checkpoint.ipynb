{
 "cells": [
  {
   "cell_type": "code",
   "execution_count": 2,
   "metadata": {},
   "outputs": [],
   "source": [
    "%matplotlib inline\n",
    "\n",
    "import networkx as nx\n",
    "import matplotlib.pyplot as plt\n",
    "from simplicial import *\n",
    "\n",
    "import jpype\n",
    "import jpype.imports\n",
    "from jpype.types import *\n",
    "\n",
    "jpype.addClassPath(\"/Users/the_m/github/javaplex/lib/*\")\n",
    "jpype.addClassPath(\"C:/Users/the_m/github/javaplex/src/matlab/for_distribution/lib/javaplex.jar\")\n",
    "\n",
    "jpype.startJVM()\n",
    "import java.lang\n",
    "from java.lang import System\n",
    "from edu.stanford.math.plex4 import *"
   ]
  },
  {
   "cell_type": "code",
   "execution_count": null,
   "metadata": {},
   "outputs": [],
   "source": [
    "filepath = 'c:/Users/the_m/Desktop/connectomeGraphs/nodes_86/100206_repeated10_scale33.graphml'\n",
    "g = nx.readwrite.graphml.read_graphml(filepath)"
   ]
  },
  {
   "cell_type": "code",
   "execution_count": null,
   "metadata": {},
   "outputs": [],
   "source": [
    "numNodes = len(list(g.nodes))\n",
    "print(numNodes)"
   ]
  },
  {
   "cell_type": "code",
   "execution_count": null,
   "metadata": {},
   "outputs": [],
   "source": [
    "g.nodes['1']"
   ]
  },
  {
   "cell_type": "code",
   "execution_count": null,
   "metadata": {},
   "outputs": [],
   "source": [
    "g.edges[list(g.edges())[0]]"
   ]
  },
  {
   "cell_type": "code",
   "execution_count": null,
   "metadata": {},
   "outputs": [],
   "source": [
    "cliques = list(nx.algorithms.find_cliques(g))\n",
    "print(len(cliques))\n",
    "print(max([len(i) for i in cliques]))\n",
    "cliques = [[int(j) for j in i] for i in cliques]\n",
    "cliques"
   ]
  },
  {
   "cell_type": "code",
   "execution_count": null,
   "metadata": {},
   "outputs": [],
   "source": [
    "stream = api.Plex4.createExplicitSimplexStream()\n",
    "\n",
    "for i,thisClique in enumerate(cliques):\n",
    "    stream.addElement(thisClique);\n",
    "\n",
    "stream.ensureAllFaces();\n",
    "stream.finalizeStream();\n",
    "stream.getSize()"
   ]
  },
  {
   "cell_type": "code",
   "execution_count": null,
   "metadata": {},
   "outputs": [],
   "source": [
    "# simplicial complex = initial graph\n",
    "\n",
    "print(len(g.edges()))\n",
    "\n",
    "stream = api.Plex4.createExplicitSimplexStream()\n",
    "\n",
    "for thisEdge in list(g.edges()):\n",
    "    stream.addElement([int(thisEdge[0]), int(thisEdge[1])]);\n",
    "\n",
    "stream.ensureAllFaces();\n",
    "stream.finalizeStream();\n",
    "stream.getSize()"
   ]
  },
  {
   "cell_type": "code",
   "execution_count": null,
   "metadata": {},
   "outputs": [],
   "source": [
    "cliques = nx.algorithms.enumerate_all_cliques(g)\n",
    "cliques_3 = [i for i in cliques if len(i)==3]\n",
    "cliques_3 = [[int(j) for j in i] for i in cliques_3]\n",
    "print(len(cliques_3))"
   ]
  },
  {
   "cell_type": "code",
   "execution_count": null,
   "metadata": {},
   "outputs": [],
   "source": [
    "# simplicial complex = initial graph + 3-cliques\n",
    "\n",
    "stream = api.Plex4.createExplicitSimplexStream()\n",
    "\n",
    "for thisEdge in list(g.edges()):\n",
    "    stream.addElement([int(thisEdge[0]), int(thisEdge[1])]);\n",
    "    \n",
    "for thisClique in cliques_3:\n",
    "    stream.addElement(thisClique);\n",
    "\n",
    "stream.ensureAllFaces();\n",
    "stream.finalizeStream();\n",
    "stream.getSize()"
   ]
  },
  {
   "cell_type": "code",
   "execution_count": null,
   "metadata": {},
   "outputs": [],
   "source": [
    "persistence = api.Plex4.getModularSimplicialAlgorithm(10, 2);\n",
    "intervals = persistence.computeIntervals(stream)\n",
    "print(intervals)"
   ]
  },
  {
   "cell_type": "code",
   "execution_count": null,
   "metadata": {},
   "outputs": [],
   "source": [
    "h = nx.Graph()\n",
    "h.add_nodes_from([0,1,2,3])\n",
    "h.add_edges_from([(0,1), (0,2), (1,3), (2,3)])\n",
    "\n",
    "stream = api.Plex4.createExplicitSimplexStream()\n",
    "\n",
    "for thisEdge in list(h.edges()):\n",
    "    stream.addElement([int(thisEdge[0]), int(thisEdge[1])]);\n",
    "\n",
    "stream.ensureAllFaces();\n",
    "stream.getSize()\n",
    "stream.finalizeStream();\n",
    "\n",
    "print(stream.getSize())\n",
    "\n",
    "persistence = api.Plex4.getModularSimplicialAlgorithm(5, 2);\n",
    "intervals = persistence.computeIntervals(stream)\n",
    "print(intervals)"
   ]
  },
  {
   "cell_type": "code",
   "execution_count": 32,
   "metadata": {},
   "outputs": [
    {
     "name": "stdout",
     "output_type": "stream",
     "text": [
      "8\n",
      "[[0], [1], [0, 1], [2], [0, 2], [3], [1, 3], [2, 3]]\n",
      "[0, 0, 0, 1, 1, 2, 2, 3]\n",
      "[0.0, 0.0, 0.0, 1.0, 1.0, 2.0, 2.0, 3.0]\n"
     ]
    }
   ],
   "source": [
    "h = nx.Graph()\n",
    "h.add_nodes_from([0,1,2,3])\n",
    "h.add_edges_from([(0,1), (0,2), (1,3), (2,3)])\n",
    "\n",
    "stream = api.Plex4.createExplicitSimplexStream()\n",
    "\n",
    "for i,thisEdge in enumerate(list(h.edges())):\n",
    "    stream.addElement([int(thisEdge[0]), int(thisEdge[1])],i);\n",
    "\n",
    "stream.ensureAllFaces();\n",
    "stream.finalizeStream();\n",
    "a = list(stream)\n",
    "\n",
    "print(stream.getSize())\n",
    "print([list(i.getVertices()) for i in a])\n",
    "print([stream.getFiltrationIndex(i) for i in a])\n",
    "print([stream.getFiltrationValue(i) for i in a])"
   ]
  },
  {
   "cell_type": "code",
   "execution_count": null,
   "metadata": {},
   "outputs": [],
   "source": []
  }
 ],
 "metadata": {
  "kernelspec": {
   "display_name": "Python 3",
   "language": "python",
   "name": "python3"
  },
  "language_info": {
   "codemirror_mode": {
    "name": "ipython",
    "version": 3
   },
   "file_extension": ".py",
   "mimetype": "text/x-python",
   "name": "python",
   "nbconvert_exporter": "python",
   "pygments_lexer": "ipython3",
   "version": "3.8.5"
  }
 },
 "nbformat": 4,
 "nbformat_minor": 4
}
