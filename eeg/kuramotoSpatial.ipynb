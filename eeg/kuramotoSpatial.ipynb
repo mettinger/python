{
 "cells": [
  {
   "cell_type": "code",
   "execution_count": null,
   "metadata": {
    "id": "DTO8xRKyQ9R0"
   },
   "outputs": [],
   "source": [
    "%matplotlib notebook\n",
    "\n",
    "import numpy as np\n",
    "import pylab as plt\n",
    "import matplotlib.pyplot as plt\n",
    "import time\n",
    "import pandas as pd\n",
    "import datetime\n",
    "import seaborn as sns\n",
    "import pdb\n",
    "\n",
    "from scipy import special\n",
    "from scipy.stats import norm\n",
    "from scipy.integrate import solve_ivp\n",
    "\n",
    "plt.style.use('ggplot')"
   ]
  },
  {
   "cell_type": "markdown",
   "metadata": {
    "id": "d3ioF28hLDUO"
   },
   "source": [
    "# ODE function and Jacobian"
   ]
  },
  {
   "cell_type": "code",
   "execution_count": null,
   "metadata": {
    "id": "9DgL3r75LDUO"
   },
   "outputs": [],
   "source": [
    "def kernel(r):\n",
    "    p = special.hermite(4, monic=False)\n",
    "    r = r/4\n",
    "    return .25 * p(r/np.sqrt(2)) * norm.pdf(r,0,1)\n",
    "\n",
    "def indexToCoord(i):\n",
    "    nOneDimension = int(np.sqrt(nOsc))\n",
    "    x = i % nOneDimension\n",
    "    y = np.floor(i/nOneDimension)\n",
    "    return np.array([x,y])\n",
    "    \n",
    "def distance(x0, x1):\n",
    "    coord0 = indexToCoord(x0)\n",
    "    coord1 = indexToCoord(x1)\n",
    "    return np.linalg.norm(coord0 - coord1)\n",
    "\n",
    "def kernelMatrixGet():\n",
    "    kernelMatrix = np.zeros(shape=(nOsc, nOsc))\n",
    "    for i in range(nOsc):\n",
    "        for j in range(i,nOsc):\n",
    "            r = distance(i,j)\n",
    "            kernelMatrix[i,j] = kernel(r)\n",
    "            kernelMatrix[j,i] = kernelMatrix[i,j]\n",
    "    return kernelMatrix\n",
    "\n",
    "def sinDiffGet(theta):\n",
    "    A = np.zeros(shape=(nOsc, nOsc))\n",
    "    for i in range(nOsc):\n",
    "        for j in range(i, nOsc):\n",
    "            A[i,j] = theta[i] - theta[j]\n",
    "            A[j,i] = -A[i,j]\n",
    "    A = np.sin(A)\n",
    "    return A\n",
    "\n",
    "def cosDiffGet(theta):\n",
    "    A = np.zeros(shape=(nOsc, nOsc))\n",
    "    for i in range(nOsc):\n",
    "        for j in range(i, nOsc):\n",
    "            A[i,j] = theta[i] - theta[j]\n",
    "            A[j,i] = -A[i,j]\n",
    "    A = np.cos(A)\n",
    "    return A\n",
    "\n",
    "def jac(t, theta):\n",
    "    jacMatrix = np.zeros((nOsc, nOsc))\n",
    "    cosDiff = cosDiffGet(theta)\n",
    "    for i in range(nOsc):\n",
    "        for j in range(nOsc):\n",
    "            jacMatrix[i,j] = K * kernelMatrix[i,j] * np.mean(cosDiff[:,j]) * (-1)**(i == j)\n",
    "    return jacMatrix\n",
    "\n",
    "def kuramoto2d(t, theta):\n",
    "    \n",
    "    sinDiff = sinDiffGet(theta)\n",
    "    thetaDot = W + (K * np.mean(np.multiply(kernelMatrix,sinDiff), axis=0))\n",
    "    \n",
    "    return thetaDot"
   ]
  },
  {
   "cell_type": "markdown",
   "metadata": {
    "id": "xOVPw_HGQ9R3"
   },
   "source": [
    "# Set the parameters for the spatial Kuramoto model."
   ]
  },
  {
   "cell_type": "code",
   "execution_count": null,
   "metadata": {
    "id": "PraptroqQ9R3"
   },
   "outputs": [],
   "source": [
    "# set these simulation parameters\n",
    "nOsc = 128 * 128\n",
    "K = .1 * nOsc\n",
    "upperTimeBound = 50\n",
    "method='BDF'\n",
    "\n",
    "# theta0, W are initial phase, intrinsic freq\n",
    "theta0 = np.random.uniform(low=0.0, high=2*np.pi, size=nOsc)\n",
    "W = np.random.normal(loc=0, scale=5, size=nOsc)\n",
    "\n",
    "kernelMatrix = kernelMatrixGet()\n",
    "#kernelMatrix = np.ones((nOsc, nOsc))\n",
    "\n",
    "nEval = (10 * upperTimeBound) + 1\n",
    "t_eval = np.linspace(0., upperTimeBound, nEval)"
   ]
  },
  {
   "cell_type": "markdown",
   "metadata": {
    "id": "o9nF-3RGQ9R3"
   },
   "source": [
    "# Numerically solve the model and plot the results."
   ]
  },
  {
   "cell_type": "code",
   "execution_count": null,
   "metadata": {},
   "outputs": [],
   "source": [
    "start = datetime.datetime.now()\n",
    "result = solve_ivp(kuramoto2d, [0, upperTimeBound], theta0, t_eval=t_eval, method=method, jac=None)\n",
    "\n",
    "print(nOsc)\n",
    "print(datetime.datetime.now() - start)\n",
    "print()\n",
    "print(result.success)"
   ]
  },
  {
   "cell_type": "code",
   "execution_count": null,
   "metadata": {},
   "outputs": [],
   "source": [
    "time = result.t\n",
    "odePhi = result.y\n",
    "\n",
    "orderParameterAbs = [np.abs(np.exp(odePhi[:,i] * (0+1j)).sum()) for i in range(len(time))]\n",
    "\n",
    "plt.figure()\n",
    "plt.plot(time, orderParameterAbs);"
   ]
  },
  {
   "cell_type": "code",
   "execution_count": null,
   "metadata": {},
   "outputs": [],
   "source": [
    "t = 0\n",
    "\n",
    "plt.figure()\n",
    "plt.scatter(np.cos(odePhi[:,t]), np.sin(odePhi[:,t]));\n",
    "plt.title('Phases at t=%s' % str(t));"
   ]
  },
  {
   "cell_type": "code",
   "execution_count": null,
   "metadata": {},
   "outputs": [],
   "source": [
    "plt.figure()\n",
    "sns.kdeplot(W)\n",
    "plt.title('Natural frequencies');"
   ]
  },
  {
   "cell_type": "code",
   "execution_count": null,
   "metadata": {},
   "outputs": [],
   "source": [
    "plt.figure()\n",
    "r = np.linspace(-30,30,101)\n",
    "plt.plot(r, kernel(r));"
   ]
  },
  {
   "cell_type": "code",
   "execution_count": null,
   "metadata": {},
   "outputs": [],
   "source": []
  }
 ],
 "metadata": {
  "accelerator": "GPU",
  "colab": {
   "collapsed_sections": [],
   "name": "kuramoto.ipynb",
   "provenance": []
  },
  "deepnote_execution_queue": [],
  "deepnote_notebook_id": "8fe54df9-457c-4d98-b3b7-c694e73eb5b2",
  "kernelspec": {
   "display_name": "Python 3 (ipykernel)",
   "language": "python",
   "name": "python3"
  },
  "language_info": {
   "codemirror_mode": {
    "name": "ipython",
    "version": 3
   },
   "file_extension": ".py",
   "mimetype": "text/x-python",
   "name": "python",
   "nbconvert_exporter": "python",
   "pygments_lexer": "ipython3",
   "version": "3.8.5"
  }
 },
 "nbformat": 4,
 "nbformat_minor": 1
}
