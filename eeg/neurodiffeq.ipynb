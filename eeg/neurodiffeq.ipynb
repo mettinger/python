{
 "cells": [
  {
   "cell_type": "code",
   "execution_count": 1,
   "id": "c79c34d2",
   "metadata": {},
   "outputs": [],
   "source": [
    "from neurodiffeq import diff\n",
    "from neurodiffeq.solvers import Solver1D, Solver2D\n",
    "from neurodiffeq.conditions import IVP, DirichletBVP2D\n",
    "from neurodiffeq.networks import FCNN, SinActv"
   ]
  },
  {
   "cell_type": "code",
   "execution_count": 12,
   "id": "02ef70b5",
   "metadata": {},
   "outputs": [
    {
     "data": {
      "application/vnd.jupyter.widget-view+json": {
       "model_id": "dba663c68f414c82bc6e812b63621084",
       "version_major": 2,
       "version_minor": 0
      },
      "text/plain": [
       "Training Progress:   0%|                                                                    | 0/3000 [00:00<?,…"
      ]
     },
     "metadata": {},
     "output_type": "display_data"
    }
   ],
   "source": [
    "def ode_system(u, v, t): \n",
    "    return [diff(u,t)-(u-u*v), diff(v,t)-(u*v-v)]\n",
    "\n",
    "conditions = [IVP(t_0=0.0, u_0=1.5), IVP(t_0=0.0, u_0=1.0)]\n",
    "nets = [FCNN(actv=SinActv), FCNN(actv=SinActv)]\n",
    "\n",
    "solver = Solver1D(ode_system, conditions, t_min=0.1, t_max=12.0, nets=nets)\n",
    "solver.fit(max_epochs=3000)\n",
    "solution = solver.get_solution()"
   ]
  },
  {
   "cell_type": "code",
   "execution_count": 11,
   "id": "01615483",
   "metadata": {},
   "outputs": [
    {
     "data": {
      "text/plain": [
       "[FCNN(\n",
       "   (NN): Sequential(\n",
       "     (0): Linear(in_features=1, out_features=32, bias=True)\n",
       "     (1): SinActv()\n",
       "     (2): Linear(in_features=32, out_features=32, bias=True)\n",
       "     (3): SinActv()\n",
       "     (4): Linear(in_features=32, out_features=1, bias=True)\n",
       "   )\n",
       " ),\n",
       " FCNN(\n",
       "   (NN): Sequential(\n",
       "     (0): Linear(in_features=1, out_features=32, bias=True)\n",
       "     (1): SinActv()\n",
       "     (2): Linear(in_features=32, out_features=32, bias=True)\n",
       "     (3): SinActv()\n",
       "     (4): Linear(in_features=32, out_features=1, bias=True)\n",
       "   )\n",
       " )]"
      ]
     },
     "execution_count": 11,
     "metadata": {},
     "output_type": "execute_result"
    }
   ],
   "source": [
    "solution.nets"
   ]
  },
  {
   "cell_type": "code",
   "execution_count": null,
   "id": "7777e495",
   "metadata": {},
   "outputs": [],
   "source": []
  }
 ],
 "metadata": {
  "kernelspec": {
   "display_name": "Python 3 (ipykernel)",
   "language": "python",
   "name": "python3"
  },
  "language_info": {
   "codemirror_mode": {
    "name": "ipython",
    "version": 3
   },
   "file_extension": ".py",
   "mimetype": "text/x-python",
   "name": "python",
   "nbconvert_exporter": "python",
   "pygments_lexer": "ipython3",
   "version": "3.8.12"
  }
 },
 "nbformat": 4,
 "nbformat_minor": 5
}
