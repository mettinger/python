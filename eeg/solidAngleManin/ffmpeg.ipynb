{
 "cells": [
  {
   "cell_type": "code",
   "execution_count": null,
   "id": "7e75b4c8",
   "metadata": {},
   "outputs": [],
   "source": [
    "!ffmpeg -i C:/Users/the_m/github/python/eeg/solidAngleManin/media/videos/dipoleSphereGraph/480p15/dipoleSphereGraph.mp4 \\\n",
    "-ss 00:00:00 -t 00:00:05 -c:v libx264 -crf 23\\\n",
    "C:/Users/the_m/github/python/eeg/solidAngleManin/media/videos/dipoleSphereGraph/480p15/dipoleSphereGraph_clipped.mp4"
   ]
  },
  {
   "cell_type": "code",
   "execution_count": null,
   "id": "6df729e9",
   "metadata": {},
   "outputs": [],
   "source": [
    "!ffmpeg -i C:/Users/the_m/github/python/eeg/solidAngleManin/media/videos/sphereScene/480p15/SphereWithDipoles.mp4 \\\n",
    "-ss 00:00:01 -t 00:00:05 -c:v libx264 -crf 23 \\\n",
    "C:/Users/the_m/github/python/eeg/solidAngleManin/media/videos/sphereScene/480p15/SphereWithDipoles_clipped.mp4"
   ]
  },
  {
   "cell_type": "code",
   "execution_count": 1,
   "id": "ce5de004",
   "metadata": {},
   "outputs": [
    {
     "name": "stderr",
     "output_type": "stream",
     "text": [
      "ffmpeg version 4.4.1-essentials_build-www.gyan.dev Copyright (c) 2000-2021 the FFmpeg developers\n",
      "  built with gcc 11.2.0 (Rev1, Built by MSYS2 project)\n",
      "  configuration: --enable-gpl --enable-version3 --enable-static --disable-w32threads --disable-autodetect --enable-fontconfig --enable-iconv --enable-gnutls --enable-libxml2 --enable-gmp --enable-lzma --enable-zlib --enable-libsrt --enable-libssh --enable-libzmq --enable-avisynth --enable-sdl2 --enable-libwebp --enable-libx264 --enable-libx265 --enable-libxvid --enable-libaom --enable-libopenjpeg --enable-libvpx --enable-libass --enable-libfreetype --enable-libfribidi --enable-libvidstab --enable-libvmaf --enable-libzimg --enable-amf --enable-cuda-llvm --enable-cuvid --enable-ffnvcodec --enable-nvdec --enable-nvenc --enable-d3d11va --enable-dxva2 --enable-libmfx --enable-libgme --enable-libopenmpt --enable-libopencore-amrwb --enable-libmp3lame --enable-libtheora --enable-libvo-amrwbenc --enable-libgsm --enable-libopencore-amrnb --enable-libopus --enable-libspeex --enable-libvorbis --enable-librubberband\n",
      "  libavutil      56. 70.100 / 56. 70.100\n",
      "  libavcodec     58.134.100 / 58.134.100\n",
      "  libavformat    58. 76.100 / 58. 76.100\n",
      "  libavdevice    58. 13.100 / 58. 13.100\n",
      "  libavfilter     7.110.100 /  7.110.100\n",
      "  libswscale      5.  9.100 /  5.  9.100\n",
      "  libswresample   3.  9.100 /  3.  9.100\n",
      "  libpostproc    55.  9.100 / 55.  9.100\n",
      "Input #0, mov,mp4,m4a,3gp,3g2,mj2, from 'C:/Users/the_m/github/python/eeg/solidAngleManin/media/videos/sphereScene/480p15/SphereWithDipoles_clipped.mp4':\n",
      "  Metadata:\n",
      "    major_brand     : isom\n",
      "    minor_version   : 512\n",
      "    compatible_brands: isomiso2avc1mp41\n",
      "    encoder         : Lavf58.76.100\n",
      "    comment         : Rendered with Manim Community v0.12.0\n",
      "  Duration: 00:00:05.00, start: 0.000000, bitrate: 40 kb/s\n",
      "  Stream #0:0(und): Video: h264 (High) (avc1 / 0x31637661), yuv420p, 854x480, 38 kb/s, 15 fps, 15 tbr, 15360 tbn, 30 tbc (default)\n",
      "    Metadata:\n",
      "      handler_name    : VideoHandler\n",
      "      vendor_id       : [0][0][0][0]\n",
      "Input #1, mov,mp4,m4a,3gp,3g2,mj2, from 'C:/Users/the_m/github/python/eeg/solidAngleManin/media/videos/dipoleSphereGraph/480p15/dipoleSphereGraph_clipped.mp4':\n",
      "  Metadata:\n",
      "    major_brand     : isom\n",
      "    minor_version   : 512\n",
      "    compatible_brands: isomiso2avc1mp41\n",
      "    encoder         : Lavf58.76.100\n",
      "    comment         : Rendered with Manim Community v0.12.0\n",
      "  Duration: 00:00:05.00, start: 0.000000, bitrate: 20 kb/s\n",
      "  Stream #1:0(und): Video: h264 (High) (avc1 / 0x31637661), yuv420p, 854x480, 17 kb/s, 15 fps, 15 tbr, 15360 tbn, 30 tbc (default)\n",
      "    Metadata:\n",
      "      handler_name    : VideoHandler\n",
      "      vendor_id       : [0][0][0][0]\n",
      "Stream mapping:\n",
      "  Stream #0:0 (h264) -> pad\n",
      "  Stream #1:0 (h264) -> overlay:overlay\n",
      "  overlay -> Stream #0:0 (libx264)\n",
      "Press [q] to stop, [?] for help\n",
      "[libx264 @ 00000155e31e4c40] using cpu capabilities: MMX2 SSE2Fast SSSE3 SSE4.2 AVX FMA3 BMI2 AVX2\n",
      "[libx264 @ 00000155e31e4c40] profile High, level 3.1, 4:2:0, 8-bit\n",
      "[libx264 @ 00000155e31e4c40] 264 - core 164 r3075 66a5bc1 - H.264/MPEG-4 AVC codec - Copyleft 2003-2021 - http://www.videolan.org/x264.html - options: cabac=1 ref=3 deblock=1:0:0 analyse=0x3:0x113 me=hex subme=7 psy=1 psy_rd=1.00:0.00 mixed_ref=1 me_range=16 chroma_me=1 trellis=1 8x8dct=1 cqm=0 deadzone=21,11 fast_pskip=1 chroma_qp_offset=-2 threads=15 lookahead_threads=2 sliced_threads=0 nr=0 decimate=1 interlaced=0 bluray_compat=0 constrained_intra=0 bframes=3 b_pyramid=2 b_adapt=1 b_bias=0 direct=1 weightb=1 open_gop=0 weightp=2 keyint=250 keyint_min=15 scenecut=40 intra_refresh=0 rc_lookahead=40 rc=crf mbtree=1 crf=23.0 qcomp=0.60 qpmin=0 qpmax=69 qpstep=4 ip_ratio=1.40 aq=1:1.00\n",
      "Output #0, mp4, to 'C:\\Users\\the_m\\github\\python\\eeg\\solidAngleManin\\media\\sphereDipole.mp4':\n",
      "  Metadata:\n",
      "    major_brand     : isom\n",
      "    minor_version   : 512\n",
      "    compatible_brands: isomiso2avc1mp41\n",
      "    comment         : Rendered with Manim Community v0.12.0\n",
      "    encoder         : Lavf58.76.100\n",
      "  Stream #0:0: Video: h264 (avc1 / 0x31637661), yuv420p(progressive), 1708x480, q=2-31, 15 fps, 15360 tbn (default)\n",
      "    Metadata:\n",
      "      encoder         : Lavc58.134.100 libx264\n",
      "    Side data:\n",
      "      cpb: bitrate max/min/avg: 0/0/0 buffer size: 0 vbv_delay: N/A\n",
      "frame=    1 fps=0.0 q=0.0 size=       0kB time=00:00:00.00 bitrate=N/A speed=   0x    \n",
      "frame=   75 fps=0.0 q=-1.0 Lsize=      34kB time=00:00:04.80 bitrate=  57.8kbits/s speed=18.9x    \n",
      "video:32kB audio:0kB subtitle:0kB other streams:0kB global headers:0kB muxing overhead: 5.307881%\n",
      "[libx264 @ 00000155e31e4c40] frame I:1     Avg QP:12.01  size: 20318\n",
      "[libx264 @ 00000155e31e4c40] frame P:35    Avg QP:15.91  size:   215\n",
      "[libx264 @ 00000155e31e4c40] frame B:39    Avg QP:21.39  size:   113\n",
      "[libx264 @ 00000155e31e4c40] consecutive B-frames: 20.0% 29.3%  8.0% 42.7%\n",
      "[libx264 @ 00000155e31e4c40] mb I  I16..4: 38.2% 49.9% 11.9%\n",
      "[libx264 @ 00000155e31e4c40] mb P  I16..4:  0.0%  0.0%  0.0%  P16..4:  0.4%  0.1%  0.0%  0.0%  0.0%    skip:99.4%\n",
      "[libx264 @ 00000155e31e4c40] mb B  I16..4:  0.0%  0.0%  0.0%  B16..8:  0.3%  0.1%  0.0%  direct: 0.0%  skip:99.6%  L0:50.5% L1:45.5% BI: 4.0%\n",
      "[libx264 @ 00000155e31e4c40] 8x8 transform intra:49.2% inter:12.8%\n",
      "[libx264 @ 00000155e31e4c40] coded y,uvDC,uvAC intra: 9.6% 9.6% 9.3% inter: 0.1% 0.1% 0.0%\n",
      "[libx264 @ 00000155e31e4c40] i16 v,h,dc,p: 83%  9%  9%  0%\n",
      "[libx264 @ 00000155e31e4c40] i8 v,h,dc,ddl,ddr,vr,hd,vl,hu: 67% 11% 21%  0%  0%  0%  0%  0%  0%\n",
      "[libx264 @ 00000155e31e4c40] i4 v,h,dc,ddl,ddr,vr,hd,vl,hu: 27% 31% 17%  6%  3%  4%  4%  4%  5%\n",
      "[libx264 @ 00000155e31e4c40] i8c dc,h,v,p: 93%  4%  2%  0%\n",
      "[libx264 @ 00000155e31e4c40] Weighted P-Frames: Y:0.0% UV:0.0%\n",
      "[libx264 @ 00000155e31e4c40] ref P L0: 70.6%  2.0% 13.5% 13.8%\n",
      "[libx264 @ 00000155e31e4c40] ref B L0: 74.3% 20.9%  4.9%\n",
      "[libx264 @ 00000155e31e4c40] ref B L1: 92.9%  7.1%\n",
      "[libx264 @ 00000155e31e4c40] kb/s:51.62\n"
     ]
    }
   ],
   "source": [
    "!ffmpeg.exe -i C:/Users/the_m/github/python/eeg/solidAngleManin/media/videos/sphereScene/480p15/SphereWithDipoles_clipped.mp4 \\\n",
    "-i C:/Users/the_m/github/python/eeg/solidAngleManin/media/videos/dipoleSphereGraph/480p15/dipoleSphereGraph_clipped.mp4 \\\n",
    " -filter_complex \"[0:v]pad=iw*2:ih[int]; [int][1:v]overlay=W/2:0[vid]\" \\\n",
    "-map \"[vid]\" \\\n",
    "-c:v libx264 -crf 23 \\\n",
    "C:\\Users\\the_m\\github\\python\\eeg\\solidAngleManin\\media\\sphereDipole.mp4"
   ]
  },
  {
   "cell_type": "code",
   "execution_count": null,
   "id": "3ed01a21",
   "metadata": {},
   "outputs": [],
   "source": []
  }
 ],
 "metadata": {
  "kernelspec": {
   "display_name": "Python 3 (ipykernel)",
   "language": "python",
   "name": "python3"
  },
  "language_info": {
   "codemirror_mode": {
    "name": "ipython",
    "version": 3
   },
   "file_extension": ".py",
   "mimetype": "text/x-python",
   "name": "python",
   "nbconvert_exporter": "python",
   "pygments_lexer": "ipython3",
   "version": "3.8.5"
  }
 },
 "nbformat": 4,
 "nbformat_minor": 5
}
