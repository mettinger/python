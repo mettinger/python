{
 "cells": [
  {
   "cell_type": "code",
   "execution_count": 1,
   "metadata": {},
   "outputs": [],
   "source": [
    "import matlab.engine"
   ]
  },
  {
   "cell_type": "code",
   "execution_count": 2,
   "metadata": {},
   "outputs": [],
   "source": [
    "eng = matlab.engine.start_matlab()"
   ]
  },
  {
   "cell_type": "code",
   "execution_count": 3,
   "metadata": {},
   "outputs": [
    {
     "name": "stdout",
     "output_type": "stream",
     "text": [
      "2.0\n"
     ]
    }
   ],
   "source": [
    "x = 4.0\n",
    "eng.workspace['y'] = x\n",
    "a = eng.eval('sqrt(y)')\n",
    "print(a)"
   ]
  },
  {
   "cell_type": "code",
   "execution_count": 4,
   "metadata": {},
   "outputs": [
    {
     "data": {
      "text/plain": []
     },
     "execution_count": 4,
     "metadata": {},
     "output_type": "execute_result"
    }
   ],
   "source": [
    "eng.workspace"
   ]
  },
  {
   "cell_type": "code",
   "execution_count": 5,
   "metadata": {},
   "outputs": [
    {
     "data": {
      "text/plain": [
       "4.0"
      ]
     },
     "execution_count": 5,
     "metadata": {},
     "output_type": "execute_result"
    }
   ],
   "source": [
    "eng.workspace['y']"
   ]
  },
  {
   "cell_type": "code",
   "execution_count": 8,
   "metadata": {},
   "outputs": [
    {
     "data": {
      "text/plain": [
       "dict_keys(['sampleFs', 'sampleLFP'])"
      ]
     },
     "execution_count": 8,
     "metadata": {},
     "output_type": "execute_result"
    }
   ],
   "source": [
    "b = eng.eval(\"load('sampleData_marmosetLFP.mat')\")\n",
    "b.keys()"
   ]
  },
  {
   "cell_type": "code",
   "execution_count": 13,
   "metadata": {},
   "outputs": [
    {
     "data": {
      "text/plain": [
       "{'downsampleScale': 5.0,\n",
       " 'subtractBaseline': True,\n",
       " 'zscoreChannels': False,\n",
       " 'filterData': True,\n",
       " 'useHilbert': False,\n",
       " 'morletCfreq': 6.0,\n",
       " 'morletParam': 5.0,\n",
       " 'hilbFreqLow': 1.0,\n",
       " 'hilbFreqHigh': 4.0,\n",
       " 'opAlpha': 0.5,\n",
       " 'opBeta': 1.0,\n",
       " 'useAmplitude': False,\n",
       " 'performSVD': True,\n",
       " 'useComplexSVD': False,\n",
       " 'nSVDmodes': 6.0,\n",
       " 'planeWaveThreshold': 0.85,\n",
       " 'synchronyThreshold': 0.85,\n",
       " 'minDurationSecs': 0.02,\n",
       " 'maxTimeGapSecs': 0.005,\n",
       " 'maxDisplacement': 1.0,\n",
       " 'minCritRadius': 2.0,\n",
       " 'minEdgeDistance': 2.0,\n",
       " 'combineNodeFocus': False,\n",
       " 'combineStableUnstable': False,\n",
       " 'maxTimeGapSteps': 1.0,\n",
       " 'minDurationSteps': 4.0}"
      ]
     },
     "execution_count": 13,
     "metadata": {},
     "output_type": "execute_result"
    }
   ],
   "source": [
    "params = eng.setNeuroPattParams(b['sampleFs'])\n",
    "params"
   ]
  },
  {
   "cell_type": "code",
   "execution_count": 16,
   "metadata": {},
   "outputs": [
    {
     "data": {
      "text/plain": [
       "dict_keys(['filteredSignal', 'velocityFields', 'badChannels', 'nTimeSteps', 'patternTypes', 'patternResultColumns', 'patterns', 'patternLocs', 'params', 'pattTransitionsObs', 'pattTransitionsExp', 'Fs', 'processTime'])"
      ]
     },
     "execution_count": 16,
     "metadata": {},
     "output_type": "execute_result"
    }
   ],
   "source": [
    "results = eng.mainProcessingWithOutput(b['sampleLFP'], b['sampleFs'], params);\n",
    "results.keys()"
   ]
  },
  {
   "cell_type": "code",
   "execution_count": null,
   "metadata": {},
   "outputs": [],
   "source": []
  }
 ],
 "metadata": {
  "kernelspec": {
   "display_name": "Python 3.8 (full)",
   "language": "python",
   "name": "python3-3.8-ufrc"
  },
  "language_info": {
   "codemirror_mode": {
    "name": "ipython",
    "version": 3
   },
   "file_extension": ".py",
   "mimetype": "text/x-python",
   "name": "python",
   "nbconvert_exporter": "python",
   "pygments_lexer": "ipython3",
   "version": "3.8.5"
  }
 },
 "nbformat": 4,
 "nbformat_minor": 4
}
