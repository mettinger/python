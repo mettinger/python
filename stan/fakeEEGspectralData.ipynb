{
 "cells": [
  {
   "cell_type": "code",
   "execution_count": null,
   "metadata": {},
   "outputs": [],
   "source": [
    "import numpy as np\n",
    "import pystan"
   ]
  },
  {
   "cell_type": "code",
   "execution_count": null,
   "metadata": {},
   "outputs": [],
   "source": [
    "numPeople = 2\n",
    "numModesPerPerson = 3\n",
    "numSpectralCoeff = 5\n",
    "numSamplesPerMode = 1000"
   ]
  },
  {
   "cell_type": "code",
   "execution_count": null,
   "metadata": {},
   "outputs": [],
   "source": [
    "modeVariance = 10\n",
    "\n",
    "modeMatrixList = [np.random.multivariate_normal(np.zeros(numSpectralCoeff), \n",
    "                                                modeVariance * np.identity(numSpectralCoeff), \n",
    "                                                size=numModesPerPerson) for i in range(numPeople)]\n",
    "modeMatrixList"
   ]
  },
  {
   "cell_type": "code",
   "execution_count": null,
   "metadata": {},
   "outputs": [],
   "source": [
    "dataList = [[np.random.multivariate_normal(modeMatrixList[j][i,:], \n",
    "                                          np.identity(numSpectralCoeff), \n",
    "                                          size=numSamplesPerMode) for i in range(numModesPerPerson)] \n",
    "            for j in range(numPeople)]\n",
    "\n",
    "len(dataList), len(dataList[0]) # (numPeople, numModesPerPerson)"
   ]
  },
  {
   "cell_type": "code",
   "execution_count": null,
   "metadata": {},
   "outputs": [],
   "source": [
    "data = np.random.permutation(np.concatenate([dataList[j][i] for i in range(numModesPerPerson) \n",
    "                                             for j in range(numPeople)]))\n",
    "data.shape"
   ]
  },
  {
   "cell_type": "code",
   "execution_count": null,
   "metadata": {},
   "outputs": [],
   "source": [
    "mixModel = '''\n",
    "data {\n",
    "  int<lower=1> K;          // number of mixture components\n",
    "  int<lower=1> N;          // number of data points\n",
    "  vector[5] y[N];               // observations\n",
    "}\n",
    "parameters {\n",
    "  simplex[K] theta;          // mixing proportions\n",
    "  ordered[5] mu;             // locations of mixture components\n",
    "  cov_matrix[5] Sigma;\n",
    "}\n",
    "model {\n",
    "  vector[K] log_theta = log(theta);  // cache log calculation\n",
    "  mu ~ normal(0, 10);\n",
    "  for (n in 1:N) {\n",
    "      y[n] ~ multi_normal(mu, Sigma);\n",
    "  }\n",
    "}\n",
    "'''"
   ]
  },
  {
   "cell_type": "code",
   "execution_count": null,
   "metadata": {},
   "outputs": [],
   "source": [
    "mixModel_dat = {'K': 6,\n",
    "                'N': data.shape[0],\n",
    "                'y': data}"
   ]
  },
  {
   "cell_type": "code",
   "execution_count": null,
   "metadata": {},
   "outputs": [],
   "source": [
    "sm = pystan.StanModel(model_code=mixModel)"
   ]
  },
  {
   "cell_type": "code",
   "execution_count": null,
   "metadata": {},
   "outputs": [],
   "source": [
    "fit = sm.sampling(data=mixModel_dat, iter=1000, chains=4)"
   ]
  },
  {
   "cell_type": "code",
   "execution_count": null,
   "metadata": {},
   "outputs": [],
   "source": []
  }
 ],
 "metadata": {
  "kernelspec": {
   "display_name": "Python 3",
   "language": "python",
   "name": "python3"
  },
  "language_info": {
   "codemirror_mode": {
    "name": "ipython",
    "version": 3
   },
   "file_extension": ".py",
   "mimetype": "text/x-python",
   "name": "python",
   "nbconvert_exporter": "python",
   "pygments_lexer": "ipython3",
   "version": "3.8.6"
  }
 },
 "nbformat": 4,
 "nbformat_minor": 4
}
