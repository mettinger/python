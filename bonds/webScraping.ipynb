{
 "cells": [
  {
   "cell_type": "code",
   "execution_count": 3,
   "id": "fa763c6b-8a30-4d6e-a022-1c8b93e4ab17",
   "metadata": {},
   "outputs": [],
   "source": [
    "\n",
    "import requests\n",
    "import datetime\n",
    "import time\n",
    "from bs4 import BeautifulSoup\n",
    "import pickle\n",
    "import pandas as pd"
   ]
  },
  {
   "cell_type": "code",
   "execution_count": 8,
   "id": "e1f85737-c117-41dd-88d5-045299c98048",
   "metadata": {},
   "outputs": [],
   "source": [
    "url = 'https://treasurydirect.gov/GA-FI/FedInvest/selectSecurityPriceDate'\n",
    "treasuriesPicklePath = '/Users/jetti/data/bonds/treasuries.pkl'"
   ]
  },
  {
   "cell_type": "code",
   "execution_count": 4,
   "id": "fe5fa1e7-dd54-43ae-bb87-e98c765420c2",
   "metadata": {},
   "outputs": [],
   "source": [
    "def processBondDay(thisDate, treasuryDay):\n",
    "    thisDay = []\n",
    "    for thisRow in treasuryDay:\n",
    "        thisRow = thisRow.find_all('td')\n",
    "        thisRow = [i.text for i in thisRow]\n",
    "        if float(thisRow[-1]) > 0.0: # if end-of-day price is non-zero\n",
    "            thisDay.append([thisDate] + thisRow)\n",
    "    return thisDay\n",
    "\n",
    "def dataframeFromPickleData(data):\n",
    "    df = pd.DataFrame(data)\n",
    "    df.columns = ['date','cusip','description','coupon','maturity','call','buy','sell','end-of-day-price']\n",
    "    df = df.drop(['description','call','buy','sell'], axis=1)\n",
    "    df['end-of-day-price'] = df['end-of-day-price'].astype('float')\n",
    "    df['coupon'] = [float(i[0:-1]) for i in df['coupon']]\n",
    "    df['maturity'] = [datetime.datetime.strptime(i,'%m/%d/%Y') for i in df['maturity']]\n",
    "    return df\n",
    "\n",
    "def queryTreasuryDirect(thisDate):\n",
    "    \n",
    "    day = thisDate.day\n",
    "    month = thisDate.month\n",
    "    year = thisDate.year\n",
    "    data = {'submit': 'Show Prices', \n",
    "            'priceDate.month':str(month), \n",
    "            'priceDate.day':str(day), \n",
    "            'priceDate.year':str(year)}\n",
    "\n",
    "    r = requests.post(url, data=data)\n",
    "    soup = BeautifulSoup(r.text, 'html.parser')\n",
    "    rows = soup.findAll('tr')\n",
    "\n",
    "    processedDay = processBondDay(thisDate, rows[1:])\n",
    "    return processedDay\n",
    "\n",
    "def refreshTreasuryData(startDateString, endDateString, pathToPickle):\n",
    "    \n",
    "    with open(pathToPickle, 'rb') as f:\n",
    "          currentData = pickle.load(f)\n",
    "        \n",
    "    df = dataframeFromPickleData(currentData)\n",
    "    currentDates = set(df['date'])\n",
    "    startDate = datetime.datetime.strptime(startDateString,'%m/%d/%Y')\n",
    "    endDate = datetime.datetime.strptime(endDateString,'%m/%d/%Y')\n",
    "\n",
    "    days = (endDate - startDate).days\n",
    "    daysInInterval = set([startDate + datetime.timedelta(days=i) for i in range(0,days)])\n",
    "    daysToGet = [i for i in list(daysInInterval - currentDates) if i.weekday() < 5]\n",
    "\n",
    "    print('days to get: ' + str(len(daysToGet)))\n",
    "    for i,thisDate in enumerate(daysToGet):\n",
    "        if i % 100 == 0:\n",
    "            print(i)\n",
    "        thisData = queryTreasuryDirect(thisDate)\n",
    "        if len(thisData) > 1:\n",
    "            currentData.extend(thisData)\n",
    "            \n",
    "    return currentData"
   ]
  },
  {
   "cell_type": "code",
   "execution_count": 9,
   "id": "da8e2d15-4a87-4ab8-a6cd-0cc6613f2683",
   "metadata": {},
   "outputs": [
    {
     "name": "stdout",
     "output_type": "stream",
     "text": [
      "days to get: 620\n",
      "0\n",
      "100\n",
      "200\n",
      "300\n",
      "400\n",
      "500\n",
      "600\n"
     ]
    }
   ],
   "source": [
    "dataList = refreshTreasuryData('9/17/2012', '9/17/2023', treasuriesPicklePath)"
   ]
  },
  {
   "cell_type": "code",
   "execution_count": 10,
   "id": "7ea1e1dc-a922-4260-bac2-bca8d1ca3141",
   "metadata": {},
   "outputs": [],
   "source": [
    "with open(treasuriesPicklePath, 'wb') as f:\n",
    "  pickle.dump(dataList, f)"
   ]
  },
  {
   "cell_type": "markdown",
   "id": "40d41780-7d7d-4e23-beff-34abf6d2a302",
   "metadata": {},
   "source": [
    "# Scratch"
   ]
  },
  {
   "cell_type": "code",
   "execution_count": null,
   "id": "2c3b7d5a-9b83-435d-b2ec-b5a2df0d817f",
   "metadata": {},
   "outputs": [],
   "source": [
    "'''\n",
    "url = 'https://treasurydirect.gov/GA-FI/FedInvest/selectSecurityPriceDate'\n",
    "daysBack = 366\n",
    "dataList = []\n",
    "sleepTime = 0.0\n",
    "\n",
    "for thisDay in range(0, daysBack):\n",
    "    if thisDay % 100 == 0:\n",
    "        print(thisDay)\n",
    "    thisDate = datetime.datetime(2023, 9, 16) + datetime.timedelta(-thisDay)\n",
    "    if thisDate.weekday() < 5:\n",
    "        day = thisDate.day\n",
    "        month = thisDate.month\n",
    "        year = thisDate.year\n",
    "        data = {'submit': 'Show Prices', \n",
    "                'priceDate.month':str(month), \n",
    "                'priceDate.day':str(day), \n",
    "                'priceDate.year':str(year)}\n",
    "    \n",
    "        r = requests.post(url, data=data)\n",
    "        soup = BeautifulSoup(r.text, 'html.parser')\n",
    "        rows = soup.findAll('tr')\n",
    "\n",
    "        processedDay = processBondDay(thisDate, rows[1:])\n",
    "        dataList.extend(processedDay)\n",
    "        time.sleep(sleepTime)\n",
    "\n",
    "print(len(dataList))\n",
    "'''"
   ]
  },
  {
   "cell_type": "code",
   "execution_count": 3,
   "id": "f4d1563e",
   "metadata": {},
   "outputs": [],
   "source": [
    "\n",
    "import requests\n",
    "import datetime\n",
    "import time\n",
    "from bs4 import BeautifulSoup\n",
    "import pickle\n",
    "import pandas as pd"
   ]
  },
  {
   "cell_type": "code",
   "execution_count": 8,
   "id": "1c108914",
   "metadata": {},
   "outputs": [],
   "source": [
    "url = 'https://treasurydirect.gov/GA-FI/FedInvest/selectSecurityPriceDate'\n",
    "treasuriesPicklePath = '/Users/jetti/data/bonds/treasuries.pkl'"
   ]
  },
  {
   "cell_type": "code",
   "execution_count": 4,
   "id": "9736eddb",
   "metadata": {},
   "outputs": [],
   "source": [
    "def processBondDay(thisDate, treasuryDay):\n",
    "    thisDay = []\n",
    "    for thisRow in treasuryDay:\n",
    "        thisRow = thisRow.find_all('td')\n",
    "        thisRow = [i.text for i in thisRow]\n",
    "        if float(thisRow[-1]) > 0.0: # if end-of-day price is non-zero\n",
    "            thisDay.append([thisDate] + thisRow)\n",
    "    return thisDay\n",
    "\n",
    "def dataframeFromPickleData(data):\n",
    "    df = pd.DataFrame(data)\n",
    "    df.columns = ['date','cusip','description','coupon','maturity','call','buy','sell','end-of-day-price']\n",
    "    df = df.drop(['description','call','buy','sell'], axis=1)\n",
    "    df['end-of-day-price'] = df['end-of-day-price'].astype('float')\n",
    "    df['coupon'] = [float(i[0:-1]) for i in df['coupon']]\n",
    "    df['maturity'] = [datetime.datetime.strptime(i,'%m/%d/%Y') for i in df['maturity']]\n",
    "    return df\n",
    "\n",
    "def queryTreasuryDirect(thisDate):\n",
    "    \n",
    "    day = thisDate.day\n",
    "    month = thisDate.month\n",
    "    year = thisDate.year\n",
    "    data = {'submit': 'Show Prices', \n",
    "            'priceDate.month':str(month), \n",
    "            'priceDate.day':str(day), \n",
    "            'priceDate.year':str(year)}\n",
    "\n",
    "    r = requests.post(url, data=data)\n",
    "    soup = BeautifulSoup(r.text, 'html.parser')\n",
    "    rows = soup.findAll('tr')\n",
    "\n",
    "    processedDay = processBondDay(thisDate, rows[1:])\n",
    "    return processedDay\n",
    "\n",
    "def refreshTreasuryData(startDateString, endDateString, pathToPickle):\n",
    "    \n",
    "    with open(pathToPickle, 'rb') as f:\n",
    "          currentData = pickle.load(f)\n",
    "        \n",
    "    df = dataframeFromPickleData(currentData)\n",
    "    currentDates = set(df['date'])\n",
    "    startDate = datetime.datetime.strptime(startDateString,'%m/%d/%Y')\n",
    "    endDate = datetime.datetime.strptime(endDateString,'%m/%d/%Y')\n",
    "\n",
    "    days = (endDate - startDate).days\n",
    "    daysInInterval = set([startDate + datetime.timedelta(days=i) for i in range(0,days)])\n",
    "    daysToGet = [i for i in list(daysInInterval - currentDates) if i.weekday() < 5]\n",
    "\n",
    "    print('days to get: ' + str(len(daysToGet)))\n",
    "    for i,thisDate in enumerate(daysToGet):\n",
    "        if i % 100 == 0:\n",
    "            print(i)\n",
    "        thisData = queryTreasuryDirect(thisDate)\n",
    "        if len(thisData) > 1:\n",
    "            currentData.extend(thisData)\n",
    "            \n",
    "    return currentData"
   ]
  },
  {
   "cell_type": "code",
   "execution_count": 9,
   "id": "ff5f9369",
   "metadata": {},
   "outputs": [
    {
     "name": "stdout",
     "output_type": "stream",
     "text": [
      "days to get: 620\n",
      "0\n",
      "100\n",
      "200\n",
      "300\n",
      "400\n",
      "500\n",
      "600\n"
     ]
    }
   ],
   "source": [
    "dataList = refreshTreasuryData('9/17/2012', '9/17/2023', treasuriesPicklePath)"
   ]
  },
  {
   "cell_type": "code",
   "execution_count": 10,
   "id": "4a8e1b03",
   "metadata": {},
   "outputs": [],
   "source": [
    "with open(treasuriesPicklePath, 'wb') as f:\n",
    "  pickle.dump(dataList, f)"
   ]
  },
  {
   "cell_type": "markdown",
   "id": "28685df4",
   "metadata": {},
   "source": [
    "# Scratch"
   ]
  },
  {
   "cell_type": "code",
   "execution_count": null,
   "id": "578d19ff",
   "metadata": {},
   "outputs": [],
   "source": [
    "'''\n",
    "url = 'https://treasurydirect.gov/GA-FI/FedInvest/selectSecurityPriceDate'\n",
    "daysBack = 366\n",
    "dataList = []\n",
    "sleepTime = 0.0\n",
    "\n",
    "for thisDay in range(0, daysBack):\n",
    "    if thisDay % 100 == 0:\n",
    "        print(thisDay)\n",
    "    thisDate = datetime.datetime(2023, 9, 16) + datetime.timedelta(-thisDay)\n",
    "    if thisDate.weekday() < 5:\n",
    "        day = thisDate.day\n",
    "        month = thisDate.month\n",
    "        year = thisDate.year\n",
    "        data = {'submit': 'Show Prices', \n",
    "                'priceDate.month':str(month), \n",
    "                'priceDate.day':str(day), \n",
    "                'priceDate.year':str(year)}\n",
    "    \n",
    "        r = requests.post(url, data=data)\n",
    "        soup = BeautifulSoup(r.text, 'html.parser')\n",
    "        rows = soup.findAll('tr')\n",
    "\n",
    "        processedDay = processBondDay(thisDate, rows[1:])\n",
    "        dataList.extend(processedDay)\n",
    "        time.sleep(sleepTime)\n",
    "\n",
    "print(len(dataList))\n",
    "'''"
   ]
  }
 ],
 "metadata": {
  "kernelspec": {
   "display_name": "Python 3 (ipykernel)",
   "language": "python",
   "name": "python3"
  },
  "language_info": {
   "codemirror_mode": {
    "name": "ipython",
    "version": 3
   },
   "file_extension": ".py",
   "mimetype": "text/x-python",
   "name": "python",
   "nbconvert_exporter": "python",
   "pygments_lexer": "ipython3",
   "version": "3.10.12"
  }
 },
 "nbformat": 4,
 "nbformat_minor": 5
}
