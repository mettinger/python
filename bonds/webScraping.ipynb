{
 "cells": [
  {
   "cell_type": "code",
   "execution_count": 1,
   "id": "fa763c6b-8a30-4d6e-a022-1c8b93e4ab17",
   "metadata": {},
   "outputs": [],
   "source": [
    "\n",
    "import requests\n",
    "import datetime\n",
    "import time\n",
    "from bs4 import BeautifulSoup\n",
    "import pickle\n",
    "import pandas as pd"
   ]
  },
  {
   "cell_type": "code",
   "execution_count": 2,
   "id": "e1f85737-c117-41dd-88d5-045299c98048",
   "metadata": {},
   "outputs": [],
   "source": [
    "url = 'https://treasurydirect.gov/GA-FI/FedInvest/selectSecurityPriceDate'\n",
    "treasuriesPicklePath = '/Users/jetti/data/bonds/treasuries.pkl'"
   ]
  },
  {
   "cell_type": "code",
   "execution_count": 3,
   "id": "fe5fa1e7-dd54-43ae-bb87-e98c765420c2",
   "metadata": {},
   "outputs": [],
   "source": [
    "def processBondDay(thisDate, treasuryDay):\n",
    "    thisDay = []\n",
    "    for thisRow in treasuryDay:\n",
    "        thisRow = thisRow.find_all('td')\n",
    "        thisRow = [i.text for i in thisRow]\n",
    "        if float(thisRow[-1]) > 0.0: # if end-of-day price is non-zero\n",
    "            thisDay.append([thisDate] + thisRow)\n",
    "    return thisDay\n",
    "\n",
    "def dataframeFromPickleData(data):\n",
    "    df = pd.DataFrame(data)\n",
    "    df.columns = ['date','cusip','description','coupon','maturity','call','buy','sell','end-of-day-price']\n",
    "    df = df.drop(['description','call','buy','sell'], axis=1)\n",
    "    df['end-of-day-price'] = df['end-of-day-price'].astype('float')\n",
    "    df['coupon'] = [float(i[0:-1]) for i in df['coupon']]\n",
    "    df['maturity'] = [datetime.datetime.strptime(i,'%m/%d/%Y') for i in df['maturity']]\n",
    "    return df\n",
    "\n",
    "def queryTreasuryDirect(thisDate):\n",
    "    \n",
    "    day = thisDate.day\n",
    "    month = thisDate.month\n",
    "    year = thisDate.year\n",
    "    data = {'submit': 'Show Prices', \n",
    "            'priceDate.month':str(month), \n",
    "            'priceDate.day':str(day), \n",
    "            'priceDate.year':str(year)}\n",
    "\n",
    "    r = requests.post(url, data=data)\n",
    "    soup = BeautifulSoup(r.text, 'html.parser')\n",
    "    rows = soup.findAll('tr')\n",
    "\n",
    "    processedDay = processBondDay(thisDate, rows[1:])\n",
    "    return processedDay\n",
    "\n",
    "def refreshTreasuryData(startDateString, endDateString, pathToPickle):\n",
    "    \n",
    "    with open(pathToPickle, 'rb') as f:\n",
    "          currentData = pickle.load(f)\n",
    "        \n",
    "    df = dataframeFromPickleData(currentData)\n",
    "    currentDates = set(df['date'])\n",
    "    startDate = datetime.datetime.strptime(startDateString,'%m/%d/%Y')\n",
    "    endDate = datetime.datetime.strptime(endDateString,'%m/%d/%Y')\n",
    "\n",
    "    days = (endDate - startDate).days\n",
    "    daysInInterval = set([startDate + datetime.timedelta(days=i) for i in range(0,days)])\n",
    "    daysToGet = [i for i in list(daysInInterval - currentDates) if i.weekday() < 5]\n",
    "\n",
    "    print('days to get: ' + str(len(daysToGet)))\n",
    "    for i,thisDate in enumerate(daysToGet):\n",
    "        if i % 100 == 0:\n",
    "            print(i)\n",
    "        thisData = queryTreasuryDirect(thisDate)\n",
    "        if len(thisData) > 1:\n",
    "            currentData.extend(thisData)\n",
    "            \n",
    "    return currentData"
   ]
  },
  {
   "cell_type": "code",
   "execution_count": 7,
   "id": "da8e2d15-4a87-4ab8-a6cd-0cc6613f2683",
   "metadata": {},
   "outputs": [
    {
     "name": "stdout",
     "output_type": "stream",
     "text": [
      "days to get: 142\n",
      "0\n",
      "100\n"
     ]
    }
   ],
   "source": [
    "dataList = refreshTreasuryData('9/20/2011', '10/03/2023', treasuriesPicklePath)"
   ]
  }
 ],
 "metadata": {
  "kernelspec": {
   "display_name": "Python 3 (ipykernel)",
   "language": "python",
   "name": "python3"
  },
  "language_info": {
   "codemirror_mode": {
    "name": "ipython",
    "version": 3
   },
   "file_extension": ".py",
   "mimetype": "text/x-python",
   "name": "python",
   "nbconvert_exporter": "python",
   "pygments_lexer": "ipython3",
   "version": "3.10.12"
  }
 },
 "nbformat": 4,
 "nbformat_minor": 5
}
