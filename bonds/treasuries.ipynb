{
 "cells": [
  {
   "cell_type": "code",
   "execution_count": 8,
   "id": "e2b3a4bd-7222-4318-ba19-9f20c8046388",
   "metadata": {},
   "outputs": [],
   "source": [
    "%matplotlib widget\n",
    "\n",
    "import pickle\n",
    "import pandas as pd\n",
    "import dtale\n",
    "import datetime\n",
    "import matplotlib.pyplot as plt"
   ]
  },
  {
   "cell_type": "code",
   "execution_count": 2,
   "id": "752c74f1-1a55-4507-ab64-82940dfa6414",
   "metadata": {},
   "outputs": [],
   "source": [
    "with open('treasures.pkl', 'rb') as f:\n",
    "  data = pickle.load(f)"
   ]
  },
  {
   "cell_type": "code",
   "execution_count": 3,
   "id": "dc256582-6d04-4918-8924-0286cb78874b",
   "metadata": {},
   "outputs": [],
   "source": [
    "df = pd.DataFrame(data)\n",
    "df.columns = ['date','cusip','description','coupon','maturity','call','buy','sell','end-of-day-price']\n",
    "df = df.drop(['description','call','buy','sell'], axis=1)\n",
    "df['end-of-day-price'] = df['end-of-day-price'].astype('float')\n",
    "df['coupon'] = [float(i[0:-1]) for i in df['coupon']]\n",
    "df['maturity'] = [datetime.datetime.strptime(i,'%m/%d/%Y') for i in df['maturity']]"
   ]
  },
  {
   "cell_type": "code",
   "execution_count": 7,
   "id": "c4ca746e-7546-4d54-85ed-4c7cd547ae43",
   "metadata": {},
   "outputs": [
    {
     "data": {
      "text/html": [
       "\n",
       "        <iframe\n",
       "            width=\"100%\"\n",
       "            height=\"475\"\n",
       "            src=\"http://DESKTOP-30JQB5F:40000/dtale/iframe/1\"\n",
       "            frameborder=\"0\"\n",
       "            allowfullscreen\n",
       "            \n",
       "        ></iframe>\n",
       "        "
      ],
      "text/plain": [
       "<IPython.lib.display.IFrame at 0x1f7fd798b80>"
      ]
     },
     "metadata": {},
     "output_type": "display_data"
    },
    {
     "data": {
      "text/plain": []
     },
     "execution_count": 7,
     "metadata": {},
     "output_type": "execute_result"
    }
   ],
   "source": [
    "dtale.show(df)"
   ]
  },
  {
   "cell_type": "code",
   "execution_count": 4,
   "id": "764f21ef-7e4d-42c8-83a9-0b8382885b7f",
   "metadata": {},
   "outputs": [
    {
     "data": {
      "text/plain": [
       "['912796CR8']"
      ]
     },
     "execution_count": 4,
     "metadata": {},
     "output_type": "execute_result"
    }
   ],
   "source": [
    "year = 2023\n",
    "month = 9\n",
    "day = 21\n",
    "\n",
    "cusipList = list(set(df[df['maturity'] == datetime.datetime(year=year, month=month, day=day)]['cusip']))\n",
    "cusipList"
   ]
  },
  {
   "cell_type": "code",
   "execution_count": 5,
   "id": "1866a3df-6fcb-4840-a854-7a3448b4a766",
   "metadata": {},
   "outputs": [
    {
     "data": {
      "text/html": [
       "<div>\n",
       "<style scoped>\n",
       "    .dataframe tbody tr th:only-of-type {\n",
       "        vertical-align: middle;\n",
       "    }\n",
       "\n",
       "    .dataframe tbody tr th {\n",
       "        vertical-align: top;\n",
       "    }\n",
       "\n",
       "    .dataframe thead th {\n",
       "        text-align: right;\n",
       "    }\n",
       "</style>\n",
       "<table border=\"1\" class=\"dataframe\">\n",
       "  <thead>\n",
       "    <tr style=\"text-align: right;\">\n",
       "      <th></th>\n",
       "      <th>date</th>\n",
       "      <th>cusip</th>\n",
       "      <th>coupon</th>\n",
       "      <th>maturity</th>\n",
       "      <th>end-of-day-price</th>\n",
       "    </tr>\n",
       "  </thead>\n",
       "  <tbody>\n",
       "    <tr>\n",
       "      <th>53829</th>\n",
       "      <td>2023-03-23</td>\n",
       "      <td>912796CR8</td>\n",
       "      <td>0.0</td>\n",
       "      <td>2023-09-21</td>\n",
       "      <td>97.692250</td>\n",
       "    </tr>\n",
       "    <tr>\n",
       "      <th>53389</th>\n",
       "      <td>2023-03-24</td>\n",
       "      <td>912796CR8</td>\n",
       "      <td>0.0</td>\n",
       "      <td>2023-09-21</td>\n",
       "      <td>97.745333</td>\n",
       "    </tr>\n",
       "    <tr>\n",
       "      <th>52949</th>\n",
       "      <td>2023-03-27</td>\n",
       "      <td>912796CR8</td>\n",
       "      <td>0.0</td>\n",
       "      <td>2023-09-21</td>\n",
       "      <td>97.708833</td>\n",
       "    </tr>\n",
       "    <tr>\n",
       "      <th>52509</th>\n",
       "      <td>2023-03-28</td>\n",
       "      <td>912796CR8</td>\n",
       "      <td>0.0</td>\n",
       "      <td>2023-09-21</td>\n",
       "      <td>97.716889</td>\n",
       "    </tr>\n",
       "    <tr>\n",
       "      <th>52069</th>\n",
       "      <td>2023-03-29</td>\n",
       "      <td>912796CR8</td>\n",
       "      <td>0.0</td>\n",
       "      <td>2023-09-21</td>\n",
       "      <td>97.720139</td>\n",
       "    </tr>\n",
       "    <tr>\n",
       "      <th>...</th>\n",
       "      <td>...</td>\n",
       "      <td>...</td>\n",
       "      <td>...</td>\n",
       "      <td>...</td>\n",
       "      <td>...</td>\n",
       "    </tr>\n",
       "    <tr>\n",
       "      <th>1775</th>\n",
       "      <td>2023-09-11</td>\n",
       "      <td>912796CR8</td>\n",
       "      <td>0.0</td>\n",
       "      <td>2023-09-21</td>\n",
       "      <td>99.868500</td>\n",
       "    </tr>\n",
       "    <tr>\n",
       "      <th>1331</th>\n",
       "      <td>2023-09-12</td>\n",
       "      <td>912796CR8</td>\n",
       "      <td>0.0</td>\n",
       "      <td>2023-09-21</td>\n",
       "      <td>99.883111</td>\n",
       "    </tr>\n",
       "    <tr>\n",
       "      <th>888</th>\n",
       "      <td>2023-09-13</td>\n",
       "      <td>912796CR8</td>\n",
       "      <td>0.0</td>\n",
       "      <td>2023-09-21</td>\n",
       "      <td>99.897528</td>\n",
       "    </tr>\n",
       "    <tr>\n",
       "      <th>444</th>\n",
       "      <td>2023-09-14</td>\n",
       "      <td>912796CR8</td>\n",
       "      <td>0.0</td>\n",
       "      <td>2023-09-21</td>\n",
       "      <td>99.912500</td>\n",
       "    </tr>\n",
       "    <tr>\n",
       "      <th>1</th>\n",
       "      <td>2023-09-15</td>\n",
       "      <td>912796CR8</td>\n",
       "      <td>0.0</td>\n",
       "      <td>2023-09-21</td>\n",
       "      <td>0.000000</td>\n",
       "    </tr>\n",
       "  </tbody>\n",
       "</table>\n",
       "<p>123 rows × 5 columns</p>\n",
       "</div>"
      ],
      "text/plain": [
       "            date      cusip  coupon   maturity  end-of-day-price\n",
       "53829 2023-03-23  912796CR8     0.0 2023-09-21         97.692250\n",
       "53389 2023-03-24  912796CR8     0.0 2023-09-21         97.745333\n",
       "52949 2023-03-27  912796CR8     0.0 2023-09-21         97.708833\n",
       "52509 2023-03-28  912796CR8     0.0 2023-09-21         97.716889\n",
       "52069 2023-03-29  912796CR8     0.0 2023-09-21         97.720139\n",
       "...          ...        ...     ...        ...               ...\n",
       "1775  2023-09-11  912796CR8     0.0 2023-09-21         99.868500\n",
       "1331  2023-09-12  912796CR8     0.0 2023-09-21         99.883111\n",
       "888   2023-09-13  912796CR8     0.0 2023-09-21         99.897528\n",
       "444   2023-09-14  912796CR8     0.0 2023-09-21         99.912500\n",
       "1     2023-09-15  912796CR8     0.0 2023-09-21          0.000000\n",
       "\n",
       "[123 rows x 5 columns]"
      ]
     },
     "execution_count": 5,
     "metadata": {},
     "output_type": "execute_result"
    }
   ],
   "source": [
    "cusip = cusipList[0]\n",
    "\n",
    "thisTreasury = df[df['cusip'] == cusip].sort_values('date')\n",
    "thisTreasury"
   ]
  },
  {
   "cell_type": "code",
   "execution_count": 6,
   "id": "cff9b9a9-88cc-49a6-9e89-621b7a2e6a81",
   "metadata": {},
   "outputs": [
    {
     "data": {
      "application/vnd.jupyter.widget-view+json": {
       "model_id": "0d5213f34834496583eea13bc252aad3",
       "version_major": 2,
       "version_minor": 0
      },
      "image/png": "[encoded data removed]",
      "text/html": [
       "\n",
       "            <div style=\"display: inline-block;\">\n",
       "                <div class=\"jupyter-widgets widget-label\" style=\"text-align: center;\">\n",
       "                    Figure\n",
       "                </div>\n",
       "                <img src='data:image/png;base64,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' width=640.0/>\n",
       "            </div>\n",
       "        "
      ],
      "text/plain": [
       "Canvas(toolbar=Toolbar(toolitems=[('Home', 'Reset original view', 'home', 'home'), ('Back', 'Back to previous …"
      ]
     },
     "metadata": {},
     "output_type": "display_data"
    }
   ],
   "source": [
    "plt.plot(thisTreasury['end-of-day-price'].to_numpy()[0:-1])\n",
    "plt.show()"
   ]
  },
  {
   "cell_type": "code",
   "execution_count": null,
   "id": "dd984b65-7c20-4872-986a-e182868ad648",
   "metadata": {},
   "outputs": [],
   "source": []
  }
 ],
 "metadata": {
  "kernelspec": {
   "display_name": "Python 3 (ipykernel)",
   "language": "python",
   "name": "python3"
  },
  "language_info": {
   "codemirror_mode": {
    "name": "ipython",
    "version": 3
   },
   "file_extension": ".py",
   "mimetype": "text/x-python",
   "name": "python",
   "nbconvert_exporter": "python",
   "pygments_lexer": "ipython3",
   "version": "3.10.12"
  }
 },
 "nbformat": 4,
 "nbformat_minor": 5
}
