{
 "cells": [
  {
   "cell_type": "code",
   "execution_count": 26,
   "id": "e2b3a4bd-7222-4318-ba19-9f20c8046388",
   "metadata": {},
   "outputs": [],
   "source": [
    "import pickle\n",
    "import pandas as pd\n",
    "import dtale\n",
    "import datetime"
   ]
  },
  {
   "cell_type": "code",
   "execution_count": 3,
   "id": "752c74f1-1a55-4507-ab64-82940dfa6414",
   "metadata": {},
   "outputs": [],
   "source": [
    "with open('treasures.pkl', 'rb') as f:\n",
    "  data = pickle.load(f)"
   ]
  },
  {
   "cell_type": "code",
   "execution_count": null,
   "id": "dc256582-6d04-4918-8924-0286cb78874b",
   "metadata": {},
   "outputs": [],
   "source": [
    "df = pd.DataFrame(data)\n",
    "df.columns = ['date','cusip','description','coupon','maturity','call','buy','sell','end-of-day-price']\n",
    "df = df.drop(['description','call','buy','sell'], axis=1)\n",
    "df['end-of-day'] = df['end-of-day'].astype('float')\n",
    "df['coupon'] = [float(i[0:-1]) for i in df['coupon']]\n",
    "df['maturity'] = [datetime.datetime.strptime(i,'%m/%d/%Y') for i in df['maturity']]"
   ]
  },
  {
   "cell_type": "code",
   "execution_count": 34,
   "id": "c4ca746e-7546-4d54-85ed-4c7cd547ae43",
   "metadata": {},
   "outputs": [
    {
     "data": {
      "text/html": [
       "\n",
       "        <iframe\n",
       "            width=\"100%\"\n",
       "            height=\"475\"\n",
       "            src=\"http://DESKTOP-30JQB5F:40000/dtale/iframe/7\"\n",
       "            frameborder=\"0\"\n",
       "            allowfullscreen\n",
       "            \n",
       "        ></iframe>\n",
       "        "
      ],
      "text/plain": [
       "<IPython.lib.display.IFrame at 0x1fd628fae60>"
      ]
     },
     "metadata": {},
     "output_type": "display_data"
    },
    {
     "data": {
      "text/plain": []
     },
     "execution_count": 34,
     "metadata": {},
     "output_type": "execute_result"
    }
   ],
   "source": [
    "dtale.show(df)"
   ]
  },
  {
   "cell_type": "code",
   "execution_count": null,
   "id": "1866a3df-6fcb-4840-a854-7a3448b4a766",
   "metadata": {},
   "outputs": [],
   "source": []
  }
 ],
 "metadata": {
  "kernelspec": {
   "display_name": "Python 3 (ipykernel)",
   "language": "python",
   "name": "python3"
  },
  "language_info": {
   "codemirror_mode": {
    "name": "ipython",
    "version": 3
   },
   "file_extension": ".py",
   "mimetype": "text/x-python",
   "name": "python",
   "nbconvert_exporter": "python",
   "pygments_lexer": "ipython3",
   "version": "3.10.12"
  }
 },
 "nbformat": 4,
 "nbformat_minor": 5
}
