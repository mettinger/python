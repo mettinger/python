{
 "cells": [
  {
   "cell_type": "markdown",
   "id": "3650bf5d",
   "metadata": {},
   "source": [
    "### Substitute items specified in counts_dict for entire inventory.  Total counts must equal inventory length."
   ]
  },
  {
   "cell_type": "code",
   "execution_count": 67,
   "id": "0a4d8a46",
   "metadata": {},
   "outputs": [],
   "source": [
    "import re"
   ]
  },
  {
   "cell_type": "code",
   "execution_count": 92,
   "id": "c3b5653a",
   "metadata": {},
   "outputs": [],
   "source": [
    "inputFile = \"C:/Users/jetti/AppData/LocalLow/MijuGames/Planet Crafter/Standard-1.json\"\n",
    "outputFile = \"C:/Users/jetti/OneDrive/Desktop/Standard-1.json\""
   ]
  },
  {
   "cell_type": "code",
   "execution_count": 93,
   "id": "f51a3085",
   "metadata": {},
   "outputs": [],
   "source": [
    "with open(inputFile, 'r') as file:\n",
    "    originalJSON = file.read()\n",
    "\n",
    "newJSON = originalJSON"
   ]
  },
  {
   "cell_type": "code",
   "execution_count": 94,
   "id": "0181cdf4",
   "metadata": {},
   "outputs": [],
   "source": [
    "itemString = \"206115675,208369183,204068492,201852964,205052060,201046537,209393971,208176728,201513845,209856954,204539883,204112941,203290946,208272680,206097409,204352770,207105620,208168026,201097724,203094556,209713547,202237032\"\n",
    "\n",
    "itemIDList = itemString.split(\",\")"
   ]
  },
  {
   "cell_type": "code",
   "execution_count": 95,
   "id": "829e53f1",
   "metadata": {},
   "outputs": [
    {
     "name": "stdout",
     "output_type": "stream",
     "text": [
      "['Silk', 'Silk', 'Silk', 'Silk', 'Silk', 'Silk', 'Silk', 'Silk', 'Silk', 'Silk', 'Silk', 'Silk', 'Silk', 'Silk', 'Silk', 'Silk', 'Silk', 'Silk', 'Silk', 'Silk', 'Silk', 'Silk']\n"
     ]
    }
   ],
   "source": [
    "counts_dict = {'Silk': len(itemIDList)}\n",
    "\n",
    "\n",
    "newItemList = []\n",
    "for item, count in counts_dict.items():\n",
    "    for _ in range(count):\n",
    "        newItemList.append(item)\n",
    "\n",
    "if len(newItemList) != len(itemIDList):\n",
    "    print(\"ERROR...\")\n",
    "else:\n",
    "    print(newItemList)"
   ]
  },
  {
   "cell_type": "code",
   "execution_count": null,
   "id": "c0c2f94d",
   "metadata": {},
   "outputs": [],
   "source": [
    "startList = []\n",
    "\n",
    "for i, thisID in enumerate(itemIDList):\n",
    "    thisStart = [m.start() for m in re.finditer(thisID, newJSON)][0]\n",
    "    secondStart = newJSON[thisStart + 18:].find('\\\"')\n",
    "\n",
    "    firstPart = newJSON[0:thisStart + 17]\n",
    "    secondPart = newJSON[thisStart + 18:][secondStart:]\n",
    "\n",
    "    newJSON = firstPart + newItemList[i] + secondPart"
   ]
  },
  {
   "cell_type": "code",
   "execution_count": 97,
   "id": "0be44de6",
   "metadata": {},
   "outputs": [],
   "source": [
    "with open(outputFile, \"w\") as file:\n",
    "    file.write(newJSON)"
   ]
  }
 ],
 "metadata": {
  "kernelspec": {
   "display_name": "base",
   "language": "python",
   "name": "python3"
  },
  "language_info": {
   "codemirror_mode": {
    "name": "ipython",
    "version": 3
   },
   "file_extension": ".py",
   "mimetype": "text/x-python",
   "name": "python",
   "nbconvert_exporter": "python",
   "pygments_lexer": "ipython3",
   "version": "3.10.12"
  }
 },
 "nbformat": 4,
 "nbformat_minor": 5
}
