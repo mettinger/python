{
 "cells": [
  {
   "cell_type": "code",
   "execution_count": 12,
   "id": "c3b5653a",
   "metadata": {},
   "outputs": [],
   "source": [
    "inputFile = \"C:/Users/jetti/AppData/LocalLow/MijuGames/Planet Crafter/Standard-1.json\"\n",
    "outputFile = \"C:/Users/jetti/Desktop/Standard-1.json\""
   ]
  },
  {
   "cell_type": "code",
   "execution_count": 13,
   "id": "bbc55b96",
   "metadata": {},
   "outputs": [],
   "source": [
    "itemString = \"206115675,208369183,204068492,201852964,205052060,201046537,209393971,208176728,201513845,209856954,204539883,204112941,203290946,208272680,206097409,204352770,207105620,208168026,201097724,203094556,209713547,202237032\""
   ]
  },
  {
   "cell_type": "code",
   "execution_count": null,
   "id": "9639b8e6",
   "metadata": {},
   "outputs": [],
   "source": []
  }
 ],
 "metadata": {
  "kernelspec": {
   "display_name": "base",
   "language": "python",
   "name": "python3"
  },
  "language_info": {
   "codemirror_mode": {
    "name": "ipython",
    "version": 3
   },
   "file_extension": ".py",
   "mimetype": "text/x-python",
   "name": "python",
   "nbconvert_exporter": "python",
   "pygments_lexer": "ipython3",
   "version": "3.10.12"
  }
 },
 "nbformat": 4,
 "nbformat_minor": 5
}
