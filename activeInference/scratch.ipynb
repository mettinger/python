{
 "cells": [
  {
   "cell_type": "code",
   "execution_count": 12,
   "metadata": {},
   "outputs": [],
   "source": [
    "import pyro\n",
    "import torch"
   ]
  },
  {
   "cell_type": "code",
   "execution_count": 21,
   "metadata": {},
   "outputs": [],
   "source": [
    "pyro.clear_param_store()\n",
    "\n",
    "def model(x):\n",
    "    s = pyro.param(\"s\", torch.tensor(1.))\n",
    "    z = pyro.sample(\"z\", pyro.distributions.Normal(x, s))\n",
    "    return z "
   ]
  },
  {
   "cell_type": "code",
   "execution_count": 20,
   "metadata": {},
   "outputs": [
    {
     "data": {
      "text/plain": [
       "1.0"
      ]
     },
     "execution_count": 20,
     "metadata": {},
     "output_type": "execute_result"
    }
   ],
   "source": [
    "conditioned_model = pyro.poutine.condition(model, data={\"z\": 1.0})\n",
    "conditioned_model(2)"
   ]
  },
  {
   "cell_type": "code",
   "execution_count": 22,
   "metadata": {},
   "outputs": [],
   "source": [
    "trace = pyro.poutine.trace(model).get_trace(0.0)\n",
    "logp = trace.log_prob_sum()\n",
    "params = [trace.nodes[name][\"value\"].unconstrained() for name in trace.param_nodes]"
   ]
  },
  {
   "cell_type": "code",
   "execution_count": 28,
   "metadata": {},
   "outputs": [
    {
     "data": {
      "text/plain": [
       "OrderedDict([('_INPUT',\n",
       "              {'name': '_INPUT',\n",
       "               'type': 'args',\n",
       "               'args': (0.0,),\n",
       "               'kwargs': {}}),\n",
       "             ('s',\n",
       "              {'type': 'param',\n",
       "               'name': 's',\n",
       "               'fn': <bound method ParamStoreDict.get_param of <pyro.params.param_store.ParamStoreDict object at 0x0000014472F8C2D0>>,\n",
       "               'is_observed': False,\n",
       "               'args': ('s', tensor(1., requires_grad=True)),\n",
       "               'kwargs': {'constraint': Real(), 'event_dim': None},\n",
       "               'value': tensor(1., requires_grad=True),\n",
       "               'scale': 1.0,\n",
       "               'mask': None,\n",
       "               'cond_indep_stack': (),\n",
       "               'done': True,\n",
       "               'stop': False,\n",
       "               'continuation': None,\n",
       "               'infer': {}}),\n",
       "             ('z',\n",
       "              {'type': 'sample',\n",
       "               'name': 'z',\n",
       "               'fn': Normal(loc: 0.0, scale: 1.0),\n",
       "               'is_observed': False,\n",
       "               'args': (),\n",
       "               'kwargs': {},\n",
       "               'value': tensor(1.1398, grad_fn=<AddBackward0>),\n",
       "               'infer': {},\n",
       "               'scale': 1.0,\n",
       "               'mask': None,\n",
       "               'cond_indep_stack': (),\n",
       "               'done': True,\n",
       "               'stop': False,\n",
       "               'continuation': None,\n",
       "               'log_prob_sum': tensor(-1.5685, grad_fn=<SumBackward0>)}),\n",
       "             ('_RETURN',\n",
       "              {'name': '_RETURN',\n",
       "               'type': 'return',\n",
       "               'value': tensor(1.1398, grad_fn=<AddBackward0>)})])"
      ]
     },
     "execution_count": 28,
     "metadata": {},
     "output_type": "execute_result"
    }
   ],
   "source": [
    "trace.nodes"
   ]
  },
  {
   "cell_type": "code",
   "execution_count": null,
   "metadata": {},
   "outputs": [],
   "source": []
  }
 ],
 "metadata": {
  "kernelspec": {
   "display_name": "pyro",
   "language": "python",
   "name": "python3"
  },
  "language_info": {
   "codemirror_mode": {
    "name": "ipython",
    "version": 3
   },
   "file_extension": ".py",
   "mimetype": "text/x-python",
   "name": "python",
   "nbconvert_exporter": "python",
   "pygments_lexer": "ipython3",
   "version": "3.11.7"
  },
  "orig_nbformat": 4
 },
 "nbformat": 4,
 "nbformat_minor": 2
}
