{
 "cells": [
  {
   "cell_type": "code",
   "execution_count": 1,
   "metadata": {},
   "outputs": [],
   "source": [
    "import pandas as pd\n",
    "import numpy as np\n",
    "import csv"
   ]
  },
  {
   "cell_type": "code",
   "execution_count": 2,
   "metadata": {},
   "outputs": [],
   "source": [
    "flashcardCSVIn = \"/Users/mettinger/Downloads/flashcards_TMI - Sheet1.csv\"\n",
    "flashcardCSVOut = \"/Users/mettinger/Desktop/flashcards_tmi.csv\""
   ]
  },
  {
   "cell_type": "code",
   "execution_count": 3,
   "metadata": {},
   "outputs": [],
   "source": [
    "tmiSheet = pd.read_csv(flashcardCSVIn)"
   ]
  },
  {
   "cell_type": "code",
   "execution_count": 7,
   "metadata": {},
   "outputs": [],
   "source": [
    "# output for PDF via http://www.kitzkikz.com/flashcards/\n",
    "\n",
    "fontsize = \"8\"\n",
    "\n",
    "cards = [('[HTML]<font  size=%s>' % fontsize + i[2] + '</font>', \n",
    "          '[HTML]<font  size=%s>' % fontsize+ i[3].replace('\\n','<br>') + '</font>') for i in tmiSheet.values if type(i[0]) == float and type(i[1]) == float and type(i[2]) == str]\n",
    "\n",
    "\n",
    "cardFrame = pd.DataFrame(cards)"
   ]
  },
  {
   "cell_type": "code",
   "execution_count": 9,
   "metadata": {},
   "outputs": [],
   "source": [
    "# output for Anki\n",
    "\n",
    "cards = [(i[2], '<div align=\"left\">' + i[3].replace('\\n','<br>') + '</div>') for i in tmiSheet.values if type(i[0]) == float and type(i[1]) == float and type(i[2]) == str]\n",
    "\n",
    "cardFrame = pd.DataFrame(cards)"
   ]
  },
  {
   "cell_type": "code",
   "execution_count": 10,
   "metadata": {},
   "outputs": [],
   "source": [
    "cardFrame.to_csv(flashcardCSVOut, sep=';', header=False, index=False, quoting=csv.QUOTE_NONE)"
   ]
  },
  {
   "cell_type": "code",
   "execution_count": null,
   "metadata": {},
   "outputs": [],
   "source": []
  }
 ],
 "metadata": {
  "kernelspec": {
   "display_name": "Python 3",
   "language": "python",
   "name": "python3"
  },
  "language_info": {
   "codemirror_mode": {
    "name": "ipython",
    "version": 3
   },
   "file_extension": ".py",
   "mimetype": "text/x-python",
   "name": "python",
   "nbconvert_exporter": "python",
   "pygments_lexer": "ipython3",
   "version": "3.6.5"
  }
 },
 "nbformat": 4,
 "nbformat_minor": 2
}
