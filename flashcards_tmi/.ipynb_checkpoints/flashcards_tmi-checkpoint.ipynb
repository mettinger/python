{
 "cells": [
  {
   "cell_type": "code",
   "execution_count": 71,
   "metadata": {},
   "outputs": [],
   "source": [
    "import pandas as pd\n",
    "import numpy as np\n",
    "import csv"
   ]
  },
  {
   "cell_type": "code",
   "execution_count": 32,
   "metadata": {},
   "outputs": [],
   "source": [
    "flashcardCSVIn = \"/Users/mettinger/Desktop/flashcards_TMI - Sheet1.csv\"\n",
    "flashcardCSVOut = \"/Users/mettinger/Desktop/flashcards_tmi.csv\""
   ]
  },
  {
   "cell_type": "code",
   "execution_count": 62,
   "metadata": {},
   "outputs": [],
   "source": [
    "tmiSheet = pd.read_csv(flashcardCSVFile)"
   ]
  },
  {
   "cell_type": "code",
   "execution_count": 76,
   "metadata": {},
   "outputs": [],
   "source": [
    "# output for PDF via http://www.kitzkikz.com/flashcards/\n",
    "\n",
    "fontsize = \"8\"\n",
    "\n",
    "cards = [('[HTML]<font  size=%s>' % fontsize + i[2] + '</font>', \n",
    "          '[HTML]<font  size=%s>' % fontsize+ i[3].replace('\\n','<br>') + '</font>') for i in tmiSheet.values if type(i[0]) == float and type(i[1]) == float and type(i[2]) == str]"
   ]
  },
  {
   "cell_type": "code",
   "execution_count": 82,
   "metadata": {},
   "outputs": [],
   "source": [
    "# output for Anki\n",
    "\n",
    "cards = [(i[2], '<div align=\"left\">' + i[3].replace('\\n','<br>') + '</div>') for i in tmiSheet.values if type(i[0]) == float and type(i[1]) == float and type(i[2]) == str]"
   ]
  },
  {
   "cell_type": "code",
   "execution_count": 83,
   "metadata": {},
   "outputs": [
    {
     "data": {
      "text/html": [
       "<div>\n",
       "<style scoped>\n",
       "    .dataframe tbody tr th:only-of-type {\n",
       "        vertical-align: middle;\n",
       "    }\n",
       "\n",
       "    .dataframe tbody tr th {\n",
       "        vertical-align: top;\n",
       "    }\n",
       "\n",
       "    .dataframe thead th {\n",
       "        text-align: right;\n",
       "    }\n",
       "</style>\n",
       "<table border=\"1\" class=\"dataframe\">\n",
       "  <thead>\n",
       "    <tr style=\"text-align: right;\">\n",
       "      <th></th>\n",
       "      <th>0</th>\n",
       "      <th>1</th>\n",
       "    </tr>\n",
       "  </thead>\n",
       "  <tbody>\n",
       "    <tr>\n",
       "      <th>0</th>\n",
       "      <td>What are the ten stages of meditation?</td>\n",
       "      <td>&lt;div align=\"left\"&gt;1.  Establishing a practice&lt;...</td>\n",
       "    </tr>\n",
       "    <tr>\n",
       "      <th>1</th>\n",
       "      <td>What are the two forms of consciousness develo...</td>\n",
       "      <td>&lt;div align=\"left\"&gt;1.  attention&lt;br&gt;2.  awarene...</td>\n",
       "    </tr>\n",
       "    <tr>\n",
       "      <th>2</th>\n",
       "      <td>What are the two objectives of meditation prac...</td>\n",
       "      <td>&lt;div align=\"left\"&gt;1.  stable attention&lt;br&gt;2.  ...</td>\n",
       "    </tr>\n",
       "    <tr>\n",
       "      <th>3</th>\n",
       "      <td>How is \"mindfulness\" defined in TMI?</td>\n",
       "      <td>&lt;div align=\"left\"&gt;\"Mindfulness\" is the appropr...</td>\n",
       "    </tr>\n",
       "    <tr>\n",
       "      <th>4</th>\n",
       "      <td>What are three forms of spontaneous attention ...</td>\n",
       "      <td>&lt;div align=\"left\"&gt;1.  scanning&lt;br&gt;2.  captured...</td>\n",
       "    </tr>\n",
       "    <tr>\n",
       "      <th>5</th>\n",
       "      <td>What type of attention permits the illusion of...</td>\n",
       "      <td>&lt;div align=\"left\"&gt;alternating attention&lt;/div&gt;</td>\n",
       "    </tr>\n",
       "    <tr>\n",
       "      <th>6</th>\n",
       "      <td>Is it possible to attend to attention?</td>\n",
       "      <td>&lt;div align=\"left\"&gt;No.  Attention to attention ...</td>\n",
       "    </tr>\n",
       "    <tr>\n",
       "      <th>7</th>\n",
       "      <td>How does introspective attention differ from i...</td>\n",
       "      <td>&lt;div align=\"left\"&gt;When directed introspectivel...</td>\n",
       "    </tr>\n",
       "  </tbody>\n",
       "</table>\n",
       "</div>"
      ],
      "text/plain": [
       "                                                   0  \\\n",
       "0             What are the ten stages of meditation?   \n",
       "1  What are the two forms of consciousness develo...   \n",
       "2  What are the two objectives of meditation prac...   \n",
       "3               How is \"mindfulness\" defined in TMI?   \n",
       "4  What are three forms of spontaneous attention ...   \n",
       "5  What type of attention permits the illusion of...   \n",
       "6             Is it possible to attend to attention?   \n",
       "7  How does introspective attention differ from i...   \n",
       "\n",
       "                                                   1  \n",
       "0  <div align=\"left\">1.  Establishing a practice<...  \n",
       "1  <div align=\"left\">1.  attention<br>2.  awarene...  \n",
       "2  <div align=\"left\">1.  stable attention<br>2.  ...  \n",
       "3  <div align=\"left\">\"Mindfulness\" is the appropr...  \n",
       "4  <div align=\"left\">1.  scanning<br>2.  captured...  \n",
       "5      <div align=\"left\">alternating attention</div>  \n",
       "6  <div align=\"left\">No.  Attention to attention ...  \n",
       "7  <div align=\"left\">When directed introspectivel...  "
      ]
     },
     "execution_count": 83,
     "metadata": {},
     "output_type": "execute_result"
    }
   ],
   "source": [
    "cardFrame = pd.DataFrame(cards)\n",
    "cardFrame"
   ]
  },
  {
   "cell_type": "code",
   "execution_count": 84,
   "metadata": {},
   "outputs": [],
   "source": [
    "cardFrame.to_csv(flashcardCSVOut, sep=';', header=False, index=False, quoting=csv.QUOTE_NONE)"
   ]
  },
  {
   "cell_type": "code",
   "execution_count": null,
   "metadata": {},
   "outputs": [],
   "source": []
  }
 ],
 "metadata": {
  "kernelspec": {
   "display_name": "Python 3",
   "language": "python",
   "name": "python3"
  },
  "language_info": {
   "codemirror_mode": {
    "name": "ipython",
    "version": 3
   },
   "file_extension": ".py",
   "mimetype": "text/x-python",
   "name": "python",
   "nbconvert_exporter": "python",
   "pygments_lexer": "ipython3",
   "version": "3.6.5"
  }
 },
 "nbformat": 4,
 "nbformat_minor": 2
}
