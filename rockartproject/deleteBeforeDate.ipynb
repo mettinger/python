{
 "cells": [
  {
   "cell_type": "code",
   "execution_count": 1,
   "metadata": {},
   "outputs": [],
   "source": [
    "import glob\n",
    "import os\n",
    "import datetime"
   ]
  },
  {
   "cell_type": "code",
   "execution_count": 54,
   "metadata": {},
   "outputs": [
    {
     "data": {
      "text/plain": [
       "1960"
      ]
     },
     "execution_count": 54,
     "metadata": {},
     "output_type": "execute_result"
    }
   ],
   "source": [
    "origDir = 'C:\\\\Users\\\\the_m\\\\Desktop\\\\ralph\\\\ralph2020-21_mod\\\\'\n",
    "\n",
    "files = glob.glob(origDir + '**/*', recursive = True)\n",
    "len(files)"
   ]
  },
  {
   "cell_type": "code",
   "execution_count": 55,
   "metadata": {},
   "outputs": [],
   "source": [
    "errorList = []\n",
    "count = 0\n",
    "    \n",
    "for thisFile in files:\n",
    "    try:\n",
    "        thisFileYear = datetime.datetime.fromtimestamp(os.path.getmtime(thisFile)).year\n",
    "        if thisFileYear < 2020:\n",
    "            count = count + 1\n",
    "            os.remove(thisFile)\n",
    "    except:\n",
    "        errorList.append(thisFile)"
   ]
  },
  {
   "cell_type": "code",
   "execution_count": 56,
   "metadata": {},
   "outputs": [
    {
     "data": {
      "text/plain": [
       "1132"
      ]
     },
     "execution_count": 56,
     "metadata": {},
     "output_type": "execute_result"
    }
   ],
   "source": [
    "count"
   ]
  },
  {
   "cell_type": "code",
   "execution_count": 57,
   "metadata": {},
   "outputs": [
    {
     "data": {
      "text/plain": [
       "2"
      ]
     },
     "execution_count": 57,
     "metadata": {},
     "output_type": "execute_result"
    }
   ],
   "source": [
    "len(errorList)"
   ]
  },
  {
   "cell_type": "code",
   "execution_count": 58,
   "metadata": {},
   "outputs": [
    {
     "data": {
      "text/plain": [
       "828"
      ]
     },
     "execution_count": 58,
     "metadata": {},
     "output_type": "execute_result"
    }
   ],
   "source": [
    "origDir = 'C:\\\\Users\\\\the_m\\\\Desktop\\\\ralph\\\\ralph2020-21_mod\\\\'\n",
    "\n",
    "files = glob.glob(origDir + '**/*', recursive = True)\n",
    "len(files)"
   ]
  },
  {
   "cell_type": "code",
   "execution_count": 66,
   "metadata": {},
   "outputs": [
    {
     "data": {
      "text/plain": [
       "['2017-02-21 Eur-England-Kent-Swanscombe Area-Acheulian Biface-Dorsal View',\n",
       " '2017-02-21 Eur-England-Mildenhall-End scraper-Ventral',\n",
       " '2017-02-21 Eur-England-Mildenhall-End scraper3',\n",
       " '2017-02-21 Eur-England-Suffolk-Mildenhall-End scraper',\n",
       " '2017-02-21 Map-Eur-Englang-Acheulian',\n",
       " '2017-02-22 Eur-Eng-Oxfordshire-Handaxe-340,000 BP',\n",
       " '2017-02-22 Eur-Eng-Oxfordsire-Handaxe-340,000 BP',\n",
       " '2017-02-23 Eur-France Le Grand Pressigny-Core',\n",
       " '2017-02-23 Eur-France-Le Gande Pressigny-Burin',\n",
       " '2017-02-23 Eur-France-Le Grande Pressigny-Burin',\n",
       " 'A2001-Eur-England-Kent-Northfleet-Clactonian-Cordiform Biface-424,000 BP.docx',\n",
       " 'A2021-Eur-Czech Republic-Moravia-Dolní Věstonice-Figurine-Mammoth-26,800 BP.docx',\n",
       " 'A2022-Eur-Germany-Vogelherdhöhle-Figurine-Cave Lion-Ivory-40,000 BP.docx',\n",
       " 'A2022-Eur-Germany-Vogelherdhöhle-Figurine-Panthera leo spelaea-Ivory- 40,000 BP.docx',\n",
       " 'A2030-Eur-Germany-Vogelherdhöhle-Figurine-Cave Lion-Ivory-40,000 BP.docx',\n",
       " 'A2031-Eur-Czech Republic-Dolní Věstonice-Figurine-Cave Bear-Ceramic-28,600 BP.docx',\n",
       " 'A2031-Eur-Czech Republic-Dolní Věstonice-Figurine-Ursus spelaeus-Ceramic-29,000 BP.docx',\n",
       " 'A2035-Eur-Germany-Vogelherdhöhle-Cave Lion-Ivory-40,000 BP.docx',\n",
       " 'A2740-ME-Israel-Ubeidiya-Olduwan Denticulate-Sandstone-Homo habilis-1.6-1.2 Mya.docx',\n",
       " 'A2741-Afr-Libya-Uan Tabu-Aterian Lithics.docx',\n",
       " 'A2743-Eur-England-Wiltshire-Tools-Flint-2940 BCE.docx',\n",
       " 'A2760-Eur-Romania-Cernavoda-Hamangia Culture-Figurine-5000 BCE.docx',\n",
       " 'A3000-Afr-Kenya-Koobi Fora-Homo habilis-KNM ER 1813.docx',\n",
       " 'A4012-Eur-Spain-Atapuerca-Olduwan Hammerstone-780 Kya .docx',\n",
       " 'A5061-Eur-France-Sireuil-Venus Figurine.docx',\n",
       " 'Case 1-A000-Eur-Doggerland off Norfolk, England-Cave Bear Figurine-20 kya.docx',\n",
       " 'Case 1-A000-ME-Anatolia-Figurine-Female-Late Neolithic-3500 BCE.docx',\n",
       " 'Case 1-A1-Afr-Tanzania-Olduvai Gorge-Olduwan anvil-3.2 Mya (2).docx',\n",
       " 'Case 1-A1-Afr-Tanzania-Olduvai Gorge-Olduwan anvil-3.2 Mya.docx',\n",
       " 'Case 1-A10-Afr-Ethiopia, Hadar-Skull 288-3.8-2.9 Mya.docx',\n",
       " 'Case 1-A1096-Eur-Czech Republic- Předmostí-Figurine-Mammoth-26,870 BP-Replica.docx',\n",
       " 'Case 1-A11-Eur-England-Oxfordshire-Hand axe-424,000-374,000 BP-Lower Paleolithic (2).docx',\n",
       " 'Case 1-A1103- Afr-Kenya-Koobi Fora-Homo erectus-KNM ER 3733 (2).docx',\n",
       " 'Case 1-A1103- Afr-Kenya-Koobi Fora-Homo erectus-KNM ER 3733.docx',\n",
       " 'Case 1-A1134-Eur-France-Le Grand Pressigny-Side Burin-2400 BCE (2).docx',\n",
       " 'Case 1-A1134-Eur-France-Le Grand Pressigny-Side Burin-2400 BCE.docx',\n",
       " 'Case 1-A12-Eur-England-Kent County-Bout coupé handaxe-flint-MIS 3, 60-25 kya.docx',\n",
       " 'Case 1-A123-ME-Israel-’Ubeidiya-Figurine-Tuffaceous Pebble-Lower Paleolithic-1.2 mya (2).docx',\n",
       " 'Case 1-A124-Eur-Spain-Cantabria-Altamira-Figurine-36,000 BP.doc',\n",
       " 'Case 1-A126-Eur-Czech Republic-Figurine-Female-Ceramic-4,850-4,450 BCE.docx',\n",
       " 'Case 1-A129-Eur-Bulgaria-Stara Planina-Figurine-Female-Basalt-6500 BCE.docx',\n",
       " 'Case 1-A13-Eur-England-Kent-Northfleet-Clactonian Biface-400,000 BP.docx',\n",
       " 'Case 1-A130-Eur-Czech Republic-Dolní Věstonice-Figurine-Female-Bone.docx',\n",
       " 'Case 1-A132-Eur-Czech Republic-Těšetice-Figurine-Female-4,600 BCE.docx',\n",
       " 'Case 1-A133-Eur-Czech Republic-Těšetice-Figurine-Female-4,600 BCE.docx',\n",
       " 'Case 1-A133-Eur-Germany-Hohle Fels Cave-Figurine-Female.docx',\n",
       " 'Case 1-A134-Eur-Germany-Hohe Fels Cave-Upper Paleolithic-Figurine-Waterfowl.docx',\n",
       " 'Case 1-A135-Eur-Czech Republic-Těšetice-Figurine-Female-4,600 BCE.docx',\n",
       " 'Case 1-A1374-Eur-Germany-Asch-Jurassic Chert-Mousterian-Levallois-100,000 BP.docx',\n",
       " 'Case 1-A1375-Eur-Doggerland-Levallois Flint Scraper.docx',\n",
       " 'Case 1-A1375-Eur-England-Doggerland off Great Yarmouth-Flint Blade-40 kya.docx',\n",
       " 'Case 1-A1375-Eur-England-Kent County-Bout coupé handaxe-flint-MIS 3, 60-25 kya.docx',\n",
       " 'Case 1-A1376-Eur-England-Doggerland off Great Yarmouth-Flint Blade-40 kya.docx',\n",
       " 'Case 1-A1376-Eur-England-Doggerland off Great Yarmouth-Mousterian Blade-40 kya.docx',\n",
       " 'Case 1-A1376-Eur-England-Mousterian Hand Axe of Acheulean Techno-Complex-115,000 BP.docx',\n",
       " 'Case 1-A1376-Eur-France-St. Acheul-Acheulean Biface-350-300 Kya (2).docx',\n",
       " 'Case 1-A1377-Eur-France-Paris Basin-Vertus Site-Flint-Mousterian-Levallois-104-92 kya.docx',\n",
       " 'Case 1-A1378-Eur-Luxembourg-Bache Jang-Mousterian-Levallois-Knife-c 100,000 BP.docx',\n",
       " 'Case 1-A1382-ME-Anatolia-Gobekli Tepe-Figurine-Anthropomorphic-9130–8800 BCE.docx',\n",
       " 'Case 1-A14, A15-Eur-Italy-San Giorgio-Acheulean Biface and Abrader (2).doc',\n",
       " 'Case 1-A140-Eur-Czech Republic-Dolní Věstonice-Human Head-26,000 BP (2).docx',\n",
       " 'Case 1-A143-Eur-Czech Republic-Petrkovice, Figurine-Female-Hematite-20,790 BP.docx',\n",
       " 'Case 1-A152 Eur-Czech Republic-Těšetice-Figurine-Female-4,600 BCE (2).docx',\n",
       " 'Case 1-A153-Eur-Czech Republic-Petrkovice-Figurine-Female-Hematite-20,790 BP.docx',\n",
       " 'Case 1-A154-Eur-Czech Republic, Dolní Věstonice-Venus-Clay and Mammoth Bone-29–25 kya.docx',\n",
       " 'Case 1-A16-Afr-Namibia-Brandberg-Acheulean Biface-200 Kya (2).doc',\n",
       " 'Case 1-A2-Afr-Tanzania-Olduvai Gorge-Olduwan Discoidal Scraper-3.2 Mya (2).docx',\n",
       " 'Case 1-A2-Afr-Tanzania-Olduvai Gorge-Olduwan Discoidal Scraper-3.2 Mya.docx',\n",
       " 'Case 1-A20-Eur-France-Le Grand Pressigny-Neolithic Flint Core-3500 BP.docx',\n",
       " 'Case 1-A2001-Eur-England-Kent-Northfleet-Clactonian-Cordiform Biface-424,000 BP.docx',\n",
       " 'Case 1-A2002-Asia-China-Figurine-Female-Jade-Paleolithic.docx',\n",
       " 'Case 1-A2003-Asia-China-Figurine-Female-Venus-Paleolithic-Jade.docx',\n",
       " 'Case 1-A2007-Eur-France-Paris Basin-Flint-Mousterian-Levallois-100,000 BP.doc.docx',\n",
       " 'Case 1-A2008-Eur-France-Le Grand Pressigny-Flint Knife-3500 BP.docx',\n",
       " 'Case 1-A2009-US-CA-San Bernardino-Chisel-Rhyolite-Desert Varnish-9 kya.docx',\n",
       " 'Case 1-A2012-Eur-France-Hallencourt-Side Burin-Somme Flint-Mousterian-Levallois-100,000 BP.docx',\n",
       " 'Case 1-A2013-Eur-England-Kent County-Bout coupé handaxe-flint-MIS 3, 60-25 kya.docx',\n",
       " 'Case 1-A2014-Eur-France-Paris Basin-Side Burin-Flint-Mousterian-Levallois-100 kya.docx',\n",
       " 'Case 1-A2015-Eur-Czech Republic-Dolní Věstonice-Figurine-Mammoth-Ceramic-29 kya.docx',\n",
       " 'Case 1-A2016-Eur-Russia-Avdejevo-Figurine-Mammoth-Granite-22,000 BP.docx',\n",
       " 'Case 1-A2017-Indo-Borneo-Anthropomorphic Head-Mammoth Bone-18 kya.docx',\n",
       " 'Case 1-A2018-Eur-Czech Republic-Předmostí-Figurine-Mammoth-26,870 BP.docx',\n",
       " 'Case 1-A2019-Eur-Germany-Vogelherdhöhle-Figurine-Mammoth-Ivory-Mid Paleolithic-40 kya.docx',\n",
       " 'Case 1-A2021-Eur-Czech Republic-Moravia-Dolní Věstonice-Figurine-Mammoth-26,800 BP.docx',\n",
       " 'Case 1-A2022-Eur-Germany-Vogelherdhöhle-Figurine-Cave Lion-Ivory-40 kya.docx',\n",
       " 'Case 1-A2023-Eur-Germany-Vogelherdhöhle-Figurine-Mammoth-Ivory-40 kya.docx',\n",
       " 'Case 1-A2024-Eur-Germany-Vogelherdhöhle-Cave Lion Figurine-Ivory-40 kya.docx',\n",
       " 'Case 1-A2025-Eur-Germany-Vogelherdhöhle-Figurine-Mammoth-Ivory-Mid Paleolithic-40 kya.docx',\n",
       " 'Case 1-A2026-Eur-Germany-Vogelherd cave-figurine-mammoth-ivory-35 kya.docx',\n",
       " 'Case 1-A2027-Eur-France-Montastruc-Figurine-Mammoth-Late Magdalenian-12,500 BP.docx',\n",
       " 'Case 1-A2028-Eur-Germany-Vogelherdhöhle-Horse Figurine-Ivory-40 kya.docx',\n",
       " 'Case 1-A2029-Eur-Germany-Vogelherdhöhle-Figurine-Mammoth-Ivory-40 kya.docx',\n",
       " 'Case 1-A2030-Eur-Germany-Vogelherdhöhle-Figurine-Cave Lion-Ivory-Middle Paleolithic-40 kya.docx',\n",
       " 'Case 1-A2031-Eur-Czech Republic-Dolní Věstonice-Figurine-Cave Bear-Ceramic-28,600 BP.docx',\n",
       " 'Case 1-A2035-Eur-Germany-Vogelherdhöhle-Figurine-Cave Lion-Mammoth-Ivory-40 kya.docx',\n",
       " 'Case 1-A2037-Eur-Czech Republic-Pekárna-removable haft-12 940 ± 250 BP.docx',\n",
       " 'Case 1-A2038-Eur-Czech Republic-Pekárna Cave-Harpoon-Bone-12,940 BP.docx',\n",
       " 'Case 1-A2038-Eur-Slovenia-Pekarna-Brown Bear Canine-Late Paleolithic-13,000 BCE.docx',\n",
       " 'Case 1-A2040-Eur-Germany-Vogelherdhöhle-Figurine-Mammoth-Ivory-40 kya.docx',\n",
       " 'Case 1-A2042-Eur-Czech Republic-Pavlov-Mammoth-Ceramic-22,000 BP.docx',\n",
       " 'Case 1-A2124-Eur-France-Hunawihr-Muschelkalk Hornstone-Neolithic.docx',\n",
       " 'Case 1-A2125-Asia-China-Xinxiang-Kangiashimenzhi-Thumbnail Scraper-1800 BCE.docx',\n",
       " 'Case 1-A2126-Asia-China-Kangiashimenzhi-Projectile Point-Basalt-1800 BCE.docx',\n",
       " 'Case 1-A2127-Asia-China-Xinxiang-Kangiashimenzhi-Handaxe-1800 BCE.docx',\n",
       " 'Case 1-A2128-Asia-China-Kangiashimenzhi-Projectile Point-Basalt-1800 BCE.docx',\n",
       " 'Case 1-A2129-Asia-China-Kangiashimenzhi-Projectile point-Basalt-1800 BCE.docx',\n",
       " 'Case 1-A2422-Eur-England-Doggerland off Great Yarmouth-Figurine-40 kya.docx',\n",
       " 'Case 1-A2740-ME-Israel-Ubeidiya-Oldowan Denticulate-Sandstone-Homo habilis-1.6-1.2 Mya.docx',\n",
       " 'Case 1-A2740-ME-Israel-Ubeidiya-Olduwan Denticulate-Sandstone-Homo habilis-1.6-1.2 Mya.docx',\n",
       " 'Case 1-A2741-Afr-Libya-Uan Tabu-Aterian Lithics.docx',\n",
       " 'Case 1-A2743-Eur-England-Wiltshire-Tools-Flint-2940 BCE.docx',\n",
       " 'Case 1-A2744-Eur-England-Cambridgeshire-Morden Grange-Tools-Flint.docx',\n",
       " 'Case 1-A2745-Eur-Doggerland off Norfolk-Mammoth Molar-20 kya.docx',\n",
       " 'Case 1-A2745-Eur-Germany-Hohlenstein Stadel-Cave Lion Man-40 kya.docx',\n",
       " 'Case 1-A2746- Eur-Doggerland off Norfolk-Mammoth Right Maxilary Tooth-20 kya.docx',\n",
       " 'Case 1-A2747-Eur-Gloucester-Bout Coupé-Convergent Convex -Flint.docx',\n",
       " 'Case 1-A2748-Eur-France-Paris Basin-Vertus Site-Flint-Mousterian-Levallois-104-92 kya.docx',\n",
       " 'Case 1-A2749-Eur-England-Doggerland off Great Yarmouth-Flint Blade-40 kya.docx',\n",
       " 'Case 1-A2749-Eur-Germany-Wittlingen-Hornstone-Mousterian of Acheulean Tradition-60-40 kya (MIS-3).docx',\n",
       " 'Case 1-A2750-Eur-Czech Republic-Těšetice-Figurine-Female-4,600 BCE.docx',\n",
       " 'Case 1-A2760-Eur-Romania-Cernavoda-Hamangia Culture-Figurine-5000 BCE.docx',\n",
       " 'Case 1-A2765-Eur-Doggerland off Norfolk-Figurine-20 kya.docx',\n",
       " 'Case 1-A2765-Eur-England-Doggerland off Great Yarmouth-Figurine-40 kya.docx',\n",
       " 'Case 1-A2765-Eur-England-Doggerland off Norfolk-Figurine-20 kya.docx',\n",
       " 'Case 1-A2768-ME-Anatolia-Troy-Figure-Lemniscate shape-Neolithic.docx',\n",
       " 'Case 1-A2796-ME-Anatolia-Hacilar-Figurine-Female-5500 BCE.docx',\n",
       " 'Case 1-A2796-ME-Anatolia-Kösk Hoyük-Figurine-Female-5500 BCE.docx',\n",
       " 'Case 1-A2801-ME-Anatolia-Figurine-5300–3200 BCE.docx',\n",
       " 'Case 1-A3-Afr-Tanzania-Olduvai Gorge-Olduwan burin-3 Mya (2).docx',\n",
       " 'Case 1-A3-Afr-Tanzania-Olduvai Gorge-Olduwan burin-3 Mya.docx',\n",
       " 'Case 1-A3000-Afr-Kenya-Koobi Fora-Homo habilis-KNM ER 1813 (2).docx',\n",
       " 'Case 1-A3000-Afr-Kenya-Koobi Fora-Homo habilis-KNM ER 1813.docx',\n",
       " 'Case 1-A361, A365-Asia-Japan-Hokkaido-Mount Tokachi-Paleo-Hand Axe and Scraper-15,000 BP.docx',\n",
       " 'Case 1-A363-Asia-Japan-Hokkaido-Mount Tokachi-Scraper-Obsidian.docx',\n",
       " 'Case 1-A39-Asia-China-Xinjiang-Kangiashimenzhi-Handaxe-Basalt-1800 BCE.docx',\n",
       " 'Case 1-A4-Afr-Tanzania-Olduvai Gorge-Olduwan awl -3.2 Mya (2).docx',\n",
       " 'Case 1-A4-Afr-Tanzania-Olduvai Gorge-Olduwan awl -3.2 Mya (3).docx',\n",
       " 'Case 1-A4-Afr-Tanzania-Olduvai Gorge-Olduwan awl -3.2 Mya.docx',\n",
       " 'Case 1-A4006-Asia-Russia-Kostenki-Diminutive Mammoth Figurine-Ivory-Mid Paleolithic-40,000 BP.docx',\n",
       " 'Case 1-A4007-Asia-Russia-Kostenki-Diminutive Mammoth Figurine-Ivory-40 kya.docx',\n",
       " 'Case 1-A4012-Eur-Spain-Atapuerca-Olduwan Hammerstone-780 Kya.docx',\n",
       " 'Case 1-A42-Eur-Doggerland off Norfolk-Mammoth Left Mandibular Tooth-20 kya.docx',\n",
       " 'Case 1-A42-Eur-Doggerland off Norfolk-Mammoth Molar-20 kya.docx',\n",
       " 'Case 1-A422-Eur-England-Doggerland off Great Yarmouth-Figurine-40 kya.docx',\n",
       " 'Case 1-A5-Afr-Tanzania-Olduvai Gorge-Olduwan discoidal awl -3.2 Mya (2).docx',\n",
       " 'Case 1-A5-Afr-Tanzania-Olduvai Gorge-Olduwan discoidal awl -3.2 Mya.docx',\n",
       " 'Case 1-A5061-Eur-France-Sireuil-Venus Figurine.docx',\n",
       " 'Case 1-A6-Afr-Tanzania-Olduvai Gorge-Olduwan scraper -3.2 Mya (2).docx',\n",
       " 'Case 1-A6-Afr-Tanzania-Olduvai Gorge-Olduwan scraper -3.2 Mya.docx',\n",
       " 'Case 1-A7-Afr-Tanzania-Olduvai Gorge-Olduwan awl -3.2 Mya (2).docx',\n",
       " 'Case 1-A7-Afr-Tanzania-Olduvai Gorge-Olduwan awl -3.2 Mya.docx',\n",
       " 'Case 1-A8-Afr-Tanzania-Olduvai Gorge-Olduwan scraper -3.2 Mya.docx',\n",
       " 'Case 1-A9-Afr-Tanzania-Olduvai Gorge-Olduwan scraper -3.2 Mya (2).docx',\n",
       " 'Case 1-A9-Afr-Tanzania-Olduvai Gorge-Olduwan scraper -3.2 Mya.docx',\n",
       " 'Case 1-Asia-Japan-Hokkaido-Mount Tokachi-Hand Axe and Scraper-20,000 BCE.docx',\n",
       " 'Case 1-ME-Syria, Golan Heights, Berekhat Ram, Venus, 800,000-230,000 BP.docx',\n",
       " '~$00-Eur-England-Doggerland off Norfolk-Figurine-20 kya.docx',\n",
       " '~$007-Eur-France-Paris Basin-Flint-Mousterian-Levallois-100,000 BP.doc',\n",
       " '~$007-Eur-France-Paris Basin-Flint-Mousterian-Levallois-100,000 BP.doc.docx',\n",
       " '~$014-Eur-France-Paris Basin-Side Burin-Flint-Mousterian-Levallois-100 kya.docx',\n",
       " '~$126-Asia-China-Kangiashimenzhi-Projectile Point-Basalt-1800 BCE.docx',\n",
       " '~$127 Asia-China-Xinxiang-Kangiashimenshi-Bout Coupé Handaxe-Mousterian-60 kya.docx',\n",
       " '~$127 Asia-China-Xinxiang-Kangiashimenshi-Handaxe-1800 BCE.docx',\n",
       " '~$128-Asia-China-Kangiashimenzhi-Projectile Point-Basalt-1800 BCE.docx',\n",
       " '~$129-Asia-China-Kangiashimenzhi-Projectile point-Basalt-1800 BCE.docx',\n",
       " '~$134-Eur-France-Le Grand Pressigny-Side Burin-2400 BCE.docx',\n",
       " '~$24-Eur-Paleo-Spain-Cantabria- 36,000 BP.doc',\n",
       " '~$29- Eur-Bulgaria-Stara Planina-Figurine-Female-Paleozoic Rock-5000 BP.docx',\n",
       " '~$30-Eur-Czech Republic-Dolní Věstonice-Figurine-Female-Bone.docx',\n",
       " '~$376-Eur-England-Mousterian Hand Axe of Acheulean Techno-Complex-115,000 BP.docx',\n",
       " '~$378-Eur-Luxembourg-Bache Jang-Mousterian-Levallois-Knife-c 100,000 BP.docx',\n",
       " '~$743-Eur-England-Wiltshire-Tools-Flint-2940 BCE.docx',\n",
       " '~$744-Indonesia-Java-Sculpture-Buddha Head.docx',\n",
       " '~$9-Asia-China-Xinjiang-Kangiashimenzhi-Handaxe-Basalt-1800 BCE.docx',\n",
       " '~$se 1-A1375-Eur-England-Doggerland off Great Yarmouth-Flint Blade-40 kya.docx',\n",
       " '~$se 1-A1376-Eur-England-Doggerland off Great Yarmouth-Flint Blade-40 kya.docx',\n",
       " '~$se 1-A2749-Eur-England-Doggerland off Great Yarmouth-Flint Blade-40 kya.docx',\n",
       " '~$se 1-A2765-Eur-England-Doggerland off Great Yarmouth-Figurine-40 kya.docx',\n",
       " '~WRL3591.tmp']"
      ]
     },
     "execution_count": 66,
     "metadata": {},
     "output_type": "execute_result"
    }
   ],
   "source": [
    "thisDir = 'C://Users//the_m//Desktop//ralph/ralph2020-21_mod/Case 1-2020 - 2021/'\n",
    "sorted(os.listdir(thisDir))"
   ]
  },
  {
   "cell_type": "code",
   "execution_count": null,
   "metadata": {},
   "outputs": [],
   "source": []
  }
 ],
 "metadata": {
  "kernelspec": {
   "display_name": "Python 3",
   "language": "python",
   "name": "python3"
  },
  "language_info": {
   "codemirror_mode": {
    "name": "ipython",
    "version": 3
   },
   "file_extension": ".py",
   "mimetype": "text/x-python",
   "name": "python",
   "nbconvert_exporter": "python",
   "pygments_lexer": "ipython3",
   "version": "3.8.5"
  }
 },
 "nbformat": 4,
 "nbformat_minor": 4
}
