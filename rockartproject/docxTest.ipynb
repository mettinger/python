{
 "cells": [
  {
   "cell_type": "code",
   "execution_count": 91,
   "metadata": {},
   "outputs": [],
   "source": [
    "from docx import Document\n",
    "import glob"
   ]
  },
  {
   "cell_type": "code",
   "execution_count": 127,
   "metadata": {},
   "outputs": [],
   "source": [
    "def imageToDocx(imagePath, savePath):\n",
    "    \n",
    "    templatePath = '/Users/mettinger/Desktop/rockArtPhotos/rockartPhotosAndDocs/RA_Template.docx'\n",
    "    \n",
    "    if savePath == None:\n",
    "        photoName = '/'.join(imagePath.split('/')[7:])[0:-5]\n",
    "        savePath = '/Users/mettinger/Desktop/rockArtPhotos/rockartPhotosAndDocs/doc/' + photoName + '.docx'\n",
    "    imageName = imagePath.split('/')[-1]\n",
    "    accessionNumber = imageName.split('-')[0]\n",
    "    formalName = '-'.join(imageName.split('-')[1:])[0:-5]\n",
    "    \n",
    "    document = Document(templatePath)\n",
    "\n",
    "    p = document.paragraphs[0]\n",
    "    p.insert_paragraph_before(imageName[0:-5]).add_run().add_picture(imagePath)\n",
    "\n",
    "    document.paragraphs[1].add_run(formalName)\n",
    "    document.paragraphs[2].add_run(accessionNumber)\n",
    "\n",
    "    document.save(savePath)\n",
    "\n",
    "def needToProcess(photoPath, allDocs):\n",
    "    photoName = '/'.join(photoPath.split('/')[7:])[0:-5]\n",
    "    if photoName in allDocs:\n",
    "        return False\n",
    "    else:\n",
    "        return True"
   ]
  },
  {
   "cell_type": "code",
   "execution_count": 128,
   "metadata": {},
   "outputs": [
    {
     "data": {
      "text/plain": [
       "[None, None, None, None, None, None, None]"
      ]
     },
     "execution_count": 128,
     "metadata": {},
     "output_type": "execute_result"
    }
   ],
   "source": [
    "photoDirectory = '/Users/mettinger/Desktop/rockArtPhotos/rockartPhotosAndDocs/photos/'\n",
    "docxDirectory = '/Users/mettinger/Desktop/rockArtPhotos/rockartPhotosAndDocs/doc/'\n",
    "\n",
    "allPhotos = [name for name in glob.glob(photoDirectory + '**/*.jpeg', recursive=True)]\n",
    "allDocs = ['/'.join(name.split('/')[7:])[0:-5] for name in glob.glob(docxDirectory + '**/*.docx', recursive=True)]\n",
    "\n",
    "photosToProcess = [photoPath for photoPath in allPhotos if needToProcess(photoPath, allDocs)]\n",
    "\n",
    "[imageToDocx(photoPath,None) for photoPath in photosToProcess]"
   ]
  },
  {
   "cell_type": "code",
   "execution_count": null,
   "metadata": {},
   "outputs": [],
   "source": []
  }
 ],
 "metadata": {
  "kernelspec": {
   "display_name": "Python 3.7.3 64-bit ('base': conda)",
   "language": "python",
   "name": "python37364bitbasecondae85c44cab95f4015a8bcd7aebb80cc75"
  },
  "language_info": {
   "codemirror_mode": {
    "name": "ipython",
    "version": 3
   },
   "file_extension": ".py",
   "mimetype": "text/x-python",
   "name": "python",
   "nbconvert_exporter": "python",
   "pygments_lexer": "ipython3",
   "version": "3.7.3"
  }
 },
 "nbformat": 4,
 "nbformat_minor": 4
}
