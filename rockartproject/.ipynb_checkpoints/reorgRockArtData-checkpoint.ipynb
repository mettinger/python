{
 "cells": [
  {
   "cell_type": "code",
   "execution_count": 1,
   "metadata": {},
   "outputs": [],
   "source": [
    "import mammoth\n",
    "from IPython.core.display import display, HTML\n",
    "import subprocess\n",
    "import os\n",
    "import glob\n",
    "import string\n",
    "import stat\n",
    "import random\n",
    "from bs4 import BeautifulSoup\n",
    "import re\n",
    "from difflib import SequenceMatcher\n",
    "import shutil \n",
    "import filecmp\n",
    "import difflib\n",
    "import pickle"
   ]
  },
  {
   "cell_type": "code",
   "execution_count": 2,
   "metadata": {},
   "outputs": [],
   "source": [
    "def stripInfo(soup):\n",
    "    regExpList = [r'Coffman', r'149 Atlantic',r'Swampscott',r'\\$\\d*\\.\\d\\d']\n",
    "    for thisRegExp in regExpList:\n",
    "        for elem in soup(text=re.compile(thisRegExp)):\n",
    "            elem.parent.decompose()"
   ]
  },
  {
   "cell_type": "code",
   "execution_count": 3,
   "metadata": {},
   "outputs": [
    {
     "name": "stdout",
     "output_type": "stream",
     "text": [
      "2432\n",
      "0\n",
      "200\n",
      "400\n",
      "600\n",
      "800\n",
      "1000\n",
      "1200\n",
      "1400\n",
      "1600\n",
      "1800\n",
      "2000\n",
      "2200\n",
      "2400\n"
     ]
    },
    {
     "data": {
      "text/plain": [
       "(0, 6, 35)"
      ]
     },
     "execution_count": 3,
     "metadata": {},
     "output_type": "execute_result"
    }
   ],
   "source": [
    "# CONVERT TO HTML, DELETE SENSITIVE INFORMATION (ADDRESS, ORDER INFO, ETC....), SAVE HTML FILE\n",
    "\n",
    "allDocFilesGlob = \"/Users/mettinger/Desktop/rockArtData/**/*.docx\"\n",
    "allFiles = glob.glob(allDocFilesGlob, recursive=True)\n",
    "convertErrors = []\n",
    "regExErrors = []\n",
    "writeErrors = []\n",
    "print(len(allFiles))\n",
    "\n",
    "for i,filename in enumerate(allFiles):\n",
    "    if i % 200 == 0:\n",
    "        print(i)\n",
    "    with open(filename, \"rb\") as docx_file:\n",
    "        try:\n",
    "            result = mammoth.convert_to_html(docx_file)\n",
    "            html = result.value\n",
    "            soup = BeautifulSoup(html, 'html.parser')\n",
    "            try:\n",
    "                stripInfo(soup)\n",
    "                html = str(soup)\n",
    "                try:\n",
    "                    thisFileName = filename[0:-5] + \".html\"\n",
    "                    with open(thisFileName, \"w\") as thisHtmlFile:\n",
    "                        thisHtmlFile.write(str(html))\n",
    "                except:\n",
    "                    writeErrors.append(filename)\n",
    "            except:\n",
    "                regExErrors.append(filename)\n",
    "        except:\n",
    "            convertErrors.append(filename)\n",
    "    \n",
    "len(writeErrors), len(regExErrors), len(convertErrors)"
   ]
  },
  {
   "cell_type": "code",
   "execution_count": 7,
   "metadata": {},
   "outputs": [
    {
     "name": "stdout",
     "output_type": "stream",
     "text": [
      "2391\n",
      "0\n",
      "200\n",
      "400\n",
      "600\n",
      "800\n",
      "1000\n",
      "1200\n",
      "1400\n",
      "1600\n",
      "1800\n",
      "2000\n",
      "2200\n",
      "identical filenames: 5\n"
     ]
    }
   ],
   "source": [
    "# MEASURE SIMILARITY OF ALL FILENAMES TO DETECT DUPLICATES AND NEAR DUPLICATES\n",
    "\n",
    "allFilesGlob = \"/Users/mettinger/Desktop/rockArtData/**/*.html\"\n",
    "allFiles = glob.glob(allFilesGlob, recursive=True)\n",
    "print(len(allFiles))\n",
    "\n",
    "simNameList = []\n",
    "\n",
    "for i in range(len(allFiles)):\n",
    "    if i % 200 == 0:\n",
    "        print(i)\n",
    "    firstPath = allFiles[i]\n",
    "    firstName = firstPath.split('/')[-1].split('.')[0]\n",
    "    for j in range(i + 1, len(allFiles)):\n",
    "        secondPath = allFiles[j]\n",
    "        secondName = secondPath.split('/')[-1].split('.')[0]\n",
    "        score = SequenceMatcher(None, firstName, secondName).ratio()\n",
    "        simNameList.append((firstPath, secondPath, score))\n",
    "        \n",
    "simNameList = sorted(simNameList, key = lambda x: x[2], reverse = True)\n",
    "\n",
    "print(\"identical filenames: \" + str(len([i for i in simNameList if i[2] == 1])))"
   ]
  },
  {
   "cell_type": "code",
   "execution_count": 8,
   "metadata": {},
   "outputs": [
    {
     "name": "stdout",
     "output_type": "stream",
     "text": [
      "2391\n",
      "0\n",
      "200\n",
      "400\n",
      "600\n",
      "800\n",
      "1000\n",
      "1200\n",
      "1400\n",
      "1600\n",
      "1800\n",
      "2000\n",
      "2200\n"
     ]
    }
   ],
   "source": [
    "# MEASURE TO DETECT DUPLICATES AND NEAR DUPLICATES\n",
    "\n",
    "allFilesGlob = \"/Users/mettinger/Desktop/rockArtData/**/*.html\"\n",
    "allFiles = glob.glob(allFilesGlob, recursive=True)\n",
    "print(len(allFiles))\n",
    "\n",
    "simHTMLList = []\n",
    "\n",
    "for i,firstPath in enumerate(allFiles):\n",
    "    if i % 200 == 0:\n",
    "        print(i)\n",
    "    for j in range(i+1, len(allFiles)):\n",
    "        secondPath = allFiles[j]\n",
    "        score = SequenceMatcher(None, firstPath, secondPath).ratio()\n",
    "        simHTMLList.append((firstPath, secondPath, score))\n",
    "        \n",
    "simHTMLList = sorted(simHTMLList, key = lambda x: x[2], reverse = True)"
   ]
  },
  {
   "cell_type": "code",
   "execution_count": 9,
   "metadata": {},
   "outputs": [
    {
     "name": "stdout",
     "output_type": "stream",
     "text": [
      "Number of sets of equivalent files: 286\n",
      "\n",
      "/Users/mettinger/Desktop/rockArtData/2018_AS_Cathy_In_Process/Case 5_AS/OLD OR NOT IN CASE 5/A357-Asia-Thailand-Ban Chiang-Bangle-Shell-3600 BCE.html\n",
      "/Users/mettinger/Desktop/rockArtData/2018_AS_Cathy_In_Process/Case 5_AS/OLD OR NOT IN CASE 5/A357-Asia-Thailand-Ban Chiang-Bangles-Shell-3600 BCE.html\n"
     ]
    }
   ],
   "source": [
    "# MAKE LIST OF SETS OF \"EQUIVALENT\" FILES\n",
    "\n",
    "def equivExtend(equivRelation, equivList, cutoffScore):\n",
    "    for file1, file2, score in equivList:\n",
    "        if score >=  cutoffScore:\n",
    "            blockList = []\n",
    "            equivRelation.append(set([file1, file2]))\n",
    "            for blockIndex,thisBlock in enumerate(equivRelation):\n",
    "                if (file1 in thisBlock) or (file2 in thisBlock):\n",
    "                    blockList.append(blockIndex)\n",
    "            equivRelation[blockList[0]] = equivRelation[blockList[0]].union(*[equivRelation[i] for i in blockList])\n",
    "            \n",
    "            \n",
    "            for i in blockList[:0:-1]:\n",
    "                del equivRelation[i]\n",
    "                \n",
    "            ''' \n",
    "            blockList.reverse()\n",
    "            for i in blockList[0:-1]:\n",
    "                del equivRelation[i]\n",
    "            '''\n",
    "    return equivRelation\n",
    "\n",
    "\n",
    "a = equivExtend([], simNameList, .95)\n",
    "a = equivExtend(a, simHTMLList, .95)\n",
    "\n",
    "print(\"Number of sets of equivalent files: \" + str(len(a)))\n",
    "print()\n",
    "\n",
    "index = 15\n",
    "for thisPath in a[index]:\n",
    "    print(thisPath)"
   ]
  },
  {
   "cell_type": "code",
   "execution_count": 13,
   "metadata": {},
   "outputs": [],
   "source": [
    "# WRITE SIMILARITY FILE\n",
    "\n",
    "simList = a\n",
    "\n",
    "with open('/Users/mettinger/Desktop/similarList.txt', 'w') as f:\n",
    "    for thisSet in simList:\n",
    "        for item in thisSet:\n",
    "            item = '/Users/tip/'+ '/'.join(item.split('/')[3:])\n",
    "            f.write(\"%s\\n\" % item)\n",
    "        f.write(\"\\n\\n\")"
   ]
  },
  {
   "cell_type": "code",
   "execution_count": null,
   "metadata": {},
   "outputs": [],
   "source": []
  }
 ],
 "metadata": {
  "kernelspec": {
   "display_name": "Python 3",
   "language": "python",
   "name": "python3"
  },
  "language_info": {
   "codemirror_mode": {
    "name": "ipython",
    "version": 3
   },
   "file_extension": ".py",
   "mimetype": "text/x-python",
   "name": "python",
   "nbconvert_exporter": "python",
   "pygments_lexer": "ipython3",
   "version": "3.7.3"
  }
 },
 "nbformat": 4,
 "nbformat_minor": 2
}
