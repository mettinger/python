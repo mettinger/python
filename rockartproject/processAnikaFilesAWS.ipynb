{
 "cells": [
  {
   "cell_type": "code",
   "execution_count": 2,
   "metadata": {},
   "outputs": [],
   "source": [
    "import mammoth\n",
    "from IPython.core.display import display, HTML\n",
    "import subprocess\n",
    "import os\n",
    "import glob\n",
    "import string\n",
    "import stat\n",
    "import random\n",
    "from bs4 import BeautifulSoup\n",
    "import re\n",
    "from difflib import SequenceMatcher\n",
    "import shutil \n",
    "import filecmp\n",
    "import difflib"
   ]
  },
  {
   "cell_type": "code",
   "execution_count": 6,
   "metadata": {},
   "outputs": [
    {
     "name": "stdout",
     "output_type": "stream",
     "text": [
      "doc: 78\n",
      "docx: 5892\n"
     ]
    }
   ],
   "source": [
    "# COUNT THE DOC AND DOCX FILES\n",
    "\n",
    "allDocFilesGlob = \"/home/ubuntu/data/rockArtProject/**/*.docx\"\n",
    "allFilesDocx = glob.glob(allDocFilesGlob, recursive=True)\n",
    "\n",
    "allDocFilesGlob = \"/home/ubuntu/data/rockArtProject/**/*.doc\"\n",
    "allFilesDoc = glob.glob(allDocFilesGlob, recursive=True)\n",
    "\n",
    "print(\"doc: %s\\ndocx: %s\" % (str(len(allFilesDoc)), str(len(allFilesDocx))))"
   ]
  },
  {
   "cell_type": "code",
   "execution_count": 8,
   "metadata": {},
   "outputs": [
    {
     "name": "stdout",
     "output_type": "stream",
     "text": [
      "5892\n",
      "0\n",
      "1000\n",
      "2000\n",
      "3000\n",
      "4000\n",
      "5000\n",
      "repeated files: 38\n"
     ]
    }
   ],
   "source": [
    "# FIND IDENTICAL FILES\n",
    "\n",
    "allDocFilesGlob = \"/home/ubuntu/data/rockArtProject/**/*.docx\"\n",
    "allFilesDocx = glob.glob(allDocFilesGlob, recursive=True)\n",
    "print(len(allFilesDocx))\n",
    "\n",
    "identicalDict = {}\n",
    "\n",
    "for i,filename in enumerate(allFilesDocx):\n",
    "    flag = False\n",
    "    if i % 1000 == 0:\n",
    "        print(i)\n",
    "    for thisKey in identicalDict.keys():\n",
    "        if filecmp.cmp(thisKey, filename):\n",
    "            identicalDict[thisKey].append(filename)\n",
    "            flag = True\n",
    "            break\n",
    "    if not flag:\n",
    "        identicalDict[filename] = []\n",
    "        \n",
    "print(\"repeated files: \" + str(sum([len(value) for key,value in identicalDict.items()])))"
   ]
  },
  {
   "cell_type": "code",
   "execution_count": 10,
   "metadata": {},
   "outputs": [],
   "source": [
    "# DELETE IDENTICAL FILES\n",
    "\n",
    "for thisKey in identicalDict.keys():\n",
    "    thisFileList = identicalDict[thisKey]\n",
    "    for thisFile in thisFileList:\n",
    "        os.remove(thisFile)"
   ]
  },
  {
   "cell_type": "code",
   "execution_count": 12,
   "metadata": {},
   "outputs": [
    {
     "name": "stdout",
     "output_type": "stream",
     "text": [
      "5854\n",
      "0\n",
      "1000\n",
      "2000\n",
      "3000\n",
      "4000\n",
      "5000\n",
      "repeated files: 0\n"
     ]
    }
   ],
   "source": [
    "# CHECK IDENTICAL DOCX FILES HAVE BEEN ELIMINATED\n",
    "\n",
    "allDocFilesGlob = \"/home/ubuntu/data/rockArtProject/**/*.docx\"\n",
    "allFilesDocx = glob.glob(allDocFilesGlob, recursive=True)\n",
    "print(len(allFilesDocx))\n",
    "\n",
    "identicalDict = {}\n",
    "\n",
    "for i,filename in enumerate(allFilesDocx):\n",
    "    flag = False\n",
    "    if i % 1000 == 0:\n",
    "        print(i)\n",
    "    for thisKey in identicalDict.keys():\n",
    "        if filecmp.cmp(thisKey, filename):\n",
    "            identicalDict[thisKey].append(filename)\n",
    "            flag = True\n",
    "            break\n",
    "    if not flag:\n",
    "        identicalDict[filename] = []\n",
    "        \n",
    "print(\"repeated files: \" + str(sum([len(value) for key,value in identicalDict.items()])))"
   ]
  },
  {
   "cell_type": "code",
   "execution_count": 13,
   "metadata": {},
   "outputs": [],
   "source": [
    "def stripInfo(soup):\n",
    "    regExpList = [r'Coffman', r'149 Atlantic',r'Swampscott',r'\\$\\d*\\.\\d\\d']\n",
    "    for thisRegExp in regExpList:\n",
    "        for elem in soup(text=re.compile(thisRegExp)):\n",
    "            elem.parent.decompose()"
   ]
  },
  {
   "cell_type": "code",
   "execution_count": 14,
   "metadata": {},
   "outputs": [
    {
     "name": "stdout",
     "output_type": "stream",
     "text": [
      "5854\n",
      "0\n",
      "1000\n",
      "2000\n",
      "3000\n",
      "4000\n",
      "5000\n"
     ]
    },
    {
     "data": {
      "text/plain": [
       "(0, 11, 70)"
      ]
     },
     "execution_count": 14,
     "metadata": {},
     "output_type": "execute_result"
    }
   ],
   "source": [
    "# CONVERT TO HTML, DELETE SENSITIVE INFORMATION (ADDRESS, ORDER INFO, ETC....), SAVE HTML FILE\n",
    "\n",
    "allDocFilesGlob = \"/home/ubuntu/data/rockArtProject/**/*.docx\"\n",
    "allFiles = glob.glob(allDocFilesGlob, recursive=True)\n",
    "convertErrors = []\n",
    "regExErrors = []\n",
    "writeErrors = []\n",
    "print(len(allFiles))\n",
    "\n",
    "for i,filename in enumerate(allFiles):\n",
    "    if i % 1000 == 0:\n",
    "        print(i)\n",
    "    with open(filename, \"rb\") as docx_file:\n",
    "        try:\n",
    "            result = mammoth.convert_to_html(docx_file)\n",
    "            html = result.value\n",
    "            soup = BeautifulSoup(html, 'html.parser')\n",
    "            try:\n",
    "                stripInfo(soup)\n",
    "                html = str(soup)\n",
    "                try:\n",
    "                    thisFileName = filename[0:-5] + \".html\"\n",
    "                    with open(thisFileName, \"w\") as thisHtmlFile:\n",
    "                        thisHtmlFile.write(str(html))\n",
    "                except:\n",
    "                    writeErrors.append(filename)\n",
    "            except:\n",
    "                regExErrors.append(filename)\n",
    "        except:\n",
    "            convertErrors.append(filename)\n",
    "    \n",
    "len(writeErrors), len(regExErrors), len(convertErrors)"
   ]
  },
  {
   "cell_type": "code",
   "execution_count": 16,
   "metadata": {},
   "outputs": [
    {
     "name": "stdout",
     "output_type": "stream",
     "text": [
      "5773\n",
      "0\n",
      "1000\n",
      "2000\n",
      "3000\n",
      "4000\n",
      "5000\n",
      "repeated files: 1281\n"
     ]
    }
   ],
   "source": [
    "# FIND IDENTICAL HTML FILES\n",
    "\n",
    "allFilesGlob = \"/home/ubuntu/data/rockArtProject/**/*.html\"\n",
    "allFiles = glob.glob(allFilesGlob, recursive=True)\n",
    "print(len(allFiles))\n",
    "\n",
    "identicalDict = {}\n",
    "\n",
    "for i,filename in enumerate(allFiles):\n",
    "    flag = False\n",
    "    if i % 1000 == 0:\n",
    "        print(i)\n",
    "    for thisKey in identicalDict.keys():\n",
    "        if filecmp.cmp(thisKey, filename):\n",
    "            identicalDict[thisKey].append(filename)\n",
    "            flag = True\n",
    "            break\n",
    "    if not flag:\n",
    "        identicalDict[filename] = []\n",
    "        \n",
    "print(\"repeated files: \" + str(sum([len(value) for key,value in identicalDict.items()])))"
   ]
  },
  {
   "cell_type": "code",
   "execution_count": 17,
   "metadata": {},
   "outputs": [
    {
     "data": {
      "text/plain": [
       "(0, 0)"
      ]
     },
     "execution_count": 17,
     "metadata": {},
     "output_type": "execute_result"
    }
   ],
   "source": [
    "# DELETE IDENTICAL HTML FILES AND CORRESPONDING DOCX FILES\n",
    "\n",
    "htmlRemoveErrors = []\n",
    "docxRemoveErrors = []\n",
    "\n",
    "for thisKey in identicalDict.keys():\n",
    "    thisFileList = identicalDict[thisKey]\n",
    "    for thisFile in thisFileList:\n",
    "        thisDocxFile = thisFile[0:-5] + \".docx\"\n",
    "        \n",
    "        try:\n",
    "            os.remove(thisFile)\n",
    "        except:\n",
    "            htmlRemoveErrors.append(thisFile)\n",
    "        try:\n",
    "            os.remove(thisDocxFile)\n",
    "        except:\n",
    "            docxRemoveErrors.append(thisDocxFile)\n",
    "            \n",
    "len(htmlRemoveErrors), len(docxRemoveErrors)            "
   ]
  },
  {
   "cell_type": "code",
   "execution_count": 19,
   "metadata": {},
   "outputs": [
    {
     "name": "stdout",
     "output_type": "stream",
     "text": [
      "4492\n",
      "0\n",
      "1000\n",
      "2000\n",
      "3000\n",
      "4000\n",
      "repeated files: 0\n"
     ]
    }
   ],
   "source": [
    "# CHECK IDENTICAL HTML FILES HAVE BEEN ELIMINATED\n",
    "\n",
    "allFilesGlob = \"/home/ubuntu/data/rockArtProject/**/*.html\"\n",
    "allFiles = glob.glob(allFilesGlob, recursive=True)\n",
    "print(len(allFiles))\n",
    "\n",
    "identicalDict = {}\n",
    "\n",
    "for i,filename in enumerate(allFiles):\n",
    "    flag = False\n",
    "    if i % 1000 == 0:\n",
    "        print(i)\n",
    "    for thisKey in identicalDict.keys():\n",
    "        if filecmp.cmp(thisKey, filename):\n",
    "            identicalDict[thisKey].append(filename)\n",
    "            flag = True\n",
    "            break\n",
    "    if not flag:\n",
    "        identicalDict[filename] = []\n",
    "        \n",
    "print(\"repeated files: \" + str(sum([len(value) for key,value in identicalDict.items()])))"
   ]
  },
  {
   "cell_type": "code",
   "execution_count": null,
   "metadata": {},
   "outputs": [
    {
     "name": "stdout",
     "output_type": "stream",
     "text": [
      "4492\n",
      "0\n"
     ]
    }
   ],
   "source": [
    "# MEASURE TO DETECT DUPLICATES AND NEAR DUPLICATES\n",
    "\n",
    "allFilesGlob = \"/home/ubuntu/data/rockArtProject/**/*.html\"\n",
    "allFiles = glob.glob(allFilesGlob, recursive=True)\n",
    "print(len(allFiles))\n",
    "\n",
    "simHTMLList = []\n",
    "\n",
    "for i,firstPath in enumerate(allFiles):\n",
    "    if i % 1000 == 0:\n",
    "        print(i)\n",
    "    for j in range(i+1, len(allFiles)):\n",
    "        secondPath = allFiles[j]\n",
    "        score = SequenceMatcher(None, firstPath, secondPath).ratio()\n",
    "        simHTMLList.append((firstPath, secondPath, score))\n",
    "        \n",
    "simHTMLList = sorted(simHTMLList, key = lambda x: x[2], reverse = True)\n"
   ]
  },
  {
   "cell_type": "code",
   "execution_count": null,
   "metadata": {},
   "outputs": [],
   "source": [
    "simHTMLList[0:1000]"
   ]
  },
  {
   "cell_type": "code",
   "execution_count": null,
   "metadata": {},
   "outputs": [],
   "source": [
    "index = 20\n",
    "\n",
    "htmlFile1, htmlFile2, simScore = simHTMLList[index]\n",
    "\n",
    "with open(htmlFile1, 'r') as fp:\n",
    "    html1 = fp.readlines()[0]\n",
    "    \n",
    "with open(htmlFile2, 'r') as fp:\n",
    "    html2 = fp.readlines()[0]\n",
    "\n",
    "print(htmlFile1)\n",
    "print(htmlFile2)\n",
    "print(simScore)"
   ]
  },
  {
   "cell_type": "code",
   "execution_count": null,
   "metadata": {},
   "outputs": [],
   "source": [
    "display(HTML(html1))"
   ]
  },
  {
   "cell_type": "code",
   "execution_count": null,
   "metadata": {},
   "outputs": [],
   "source": [
    "display(HTML(html2))"
   ]
  },
  {
   "cell_type": "code",
   "execution_count": null,
   "metadata": {},
   "outputs": [
    {
     "name": "stdout",
     "output_type": "stream",
     "text": [
      "4494\n",
      "0\n"
     ]
    }
   ],
   "source": [
    "# MEASURE SIMILARITY OF ALL FILENAMES TO DETECT DUPLICATES AND NEAR DUPLICATES\n",
    "\n",
    "allFilesGlob = \"/Users/mettinger/Desktop/rockArtProjectData/**/*.html\"\n",
    "allFiles = glob.glob(allFilesGlob, recursive=True)\n",
    "print(len(allFiles))\n",
    "\n",
    "simNameList = []\n",
    "\n",
    "for i in range(len(allFiles)):\n",
    "    if i % 1000 == 0:\n",
    "        print(i)\n",
    "    firstPath = allFiles[i]\n",
    "    firstName = firstPath.split('/')[-1].split('.')[0]\n",
    "    for j in range(i + 1, len(allFiles)):\n",
    "        secondPath = allFiles[j]\n",
    "        secondName = secondPath.split('/')[-1].split('.')[0]\n",
    "        score = SequenceMatcher(None, firstName, secondName).ratio()\n",
    "        simNameList.append((firstPath, secondPath, score))\n",
    "        \n",
    "simNameList = sorted(simNameList, key = lambda x: x[2], reverse = True)\n",
    "\n",
    "print(\"identical filenames: \" + str(len([i for i in simList if i[2] == 1])))"
   ]
  },
  {
   "cell_type": "code",
   "execution_count": null,
   "metadata": {},
   "outputs": [],
   "source": [
    "# WRITE SIMILARITY FILE\n",
    "\n",
    "numEntries = 1000\n",
    "\n",
    "with open('/Users/mettinger/Desktop/similarList.txt', 'w') as f:\n",
    "    for item in simList[0:numEntries]:\n",
    "        f.write(\"%s\\n\" % item[0])\n",
    "        f.write(\"%s\\n\" % item[1])\n",
    "        f.write(\"%s\\n\" % str(item[2]))\n",
    "        f.write(\"\\n\\n\")"
   ]
  }
 ],
 "metadata": {
  "kernelspec": {
   "display_name": "Python 3",
   "language": "python",
   "name": "python3"
  },
  "language_info": {
   "codemirror_mode": {
    "name": "ipython",
    "version": 3
   },
   "file_extension": ".py",
   "mimetype": "text/x-python",
   "name": "python",
   "nbconvert_exporter": "python",
   "pygments_lexer": "ipython3",
   "version": "3.7.1"
  }
 },
 "nbformat": 4,
 "nbformat_minor": 2
}
