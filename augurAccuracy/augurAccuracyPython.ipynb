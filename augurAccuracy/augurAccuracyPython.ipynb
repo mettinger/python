{
 "cells": [
  {
   "cell_type": "code",
   "execution_count": 123,
   "metadata": {},
   "outputs": [],
   "source": [
    "import numpy as np\n",
    "import pdb"
   ]
  },
  {
   "cell_type": "code",
   "execution_count": 66,
   "metadata": {},
   "outputs": [],
   "source": [
    "with open('./finalizedPrices.txt','r') as fp:\n",
    "    finalizedMarkets = eval(fp.read())"
   ]
  },
  {
   "cell_type": "code",
   "execution_count": 213,
   "metadata": {},
   "outputs": [],
   "source": [
    "categoricalMarkets = [i for i in finalizedMarkets if i[0]['numOutcomes'] > 2]\n",
    "binaryMarkets = [i for i in finalizedMarkets if i[0]['marketType'] == 'yesNo']"
   ]
  },
  {
   "cell_type": "code",
   "execution_count": 50,
   "metadata": {},
   "outputs": [
    {
     "data": {
      "text/plain": [
       "[{'id': '0x79ee0681a6090ac5169aaf04422daa8c5cccacb3',\n",
       "  'universe': '0xe991247b78f937d7b69cfc00f1a487a293557677',\n",
       "  'marketType': 'yesNo',\n",
       "  'numOutcomes': 2,\n",
       "  'minPrice': '0',\n",
       "  'maxPrice': '1',\n",
       "  'cumulativeScale': '1',\n",
       "  'author': '0x9162a85e01a1863c9fa3549c5d83af1f587f1ac7',\n",
       "  'consensus': {'isInvalid': 'false', 'payout': ['0', '10000']},\n",
       "  'creationTime': 1532922190,\n",
       "  'creationBlock': 6055019,\n",
       "  'creationFee': '0.01',\n",
       "  'settlementFee': '0.0101',\n",
       "  'reportingFeeRate': '0.0001',\n",
       "  'marketCreatorFeeRate': '0.01',\n",
       "  'marketCreatorFeesBalance': '0',\n",
       "  'marketCreatorMailbox': '0x9f5bd91bbe94a9e00f5e7f6b0cf89f4a98dd75e1',\n",
       "  'marketCreatorMailboxOwner': '0x9162a85e01a1863c9fa3549c5d83af1f587f1ac7',\n",
       "  'initialReportSize': '404871326465451718',\n",
       "  'category': 'SPORTS',\n",
       "  'tags': ['SOCCER', 'BARCELONA'],\n",
       "  'volume': '98.47600655',\n",
       "  'openInterest': '17.789',\n",
       "  'outstandingShares': '17.789',\n",
       "  'feeWindow': '0xdf4b6800f9e462edf43d7efb16b27334506afb4d',\n",
       "  'endTime': 1540796400,\n",
       "  'finalizationBlockNumber': 6663242,\n",
       "  'finalizationTime': 1541636986,\n",
       "  'lastTradeBlockNumber': 6604085,\n",
       "  'lastTradeTime': 1540798985,\n",
       "  'reportingState': 'FINALIZED',\n",
       "  'forking': 0,\n",
       "  'needsMigration': 0,\n",
       "  'description': 'Will FC Barcelona win against Real Madrid the next time they face on 28 October 2018?',\n",
       "  'details': 'null',\n",
       "  'scalarDenomination': 'null',\n",
       "  'designatedReporter': '0x9162a85e01a1863c9fa3549c5d83af1f587f1ac7',\n",
       "  'designatedReportStake': '0.349680582682291667',\n",
       "  'resolutionSource': 'null',\n",
       "  'numTicks': '10000',\n",
       "  'outcomes': [{'id': 0, 'volume': '0', 'price': '0.5', 'description': 'null'},\n",
       "   {'id': 1, 'volume': '98.47600655', 'price': '0.85', 'description': 'null'}],\n",
       "  'tickSize': '0.0001'},\n",
       " {'1': [{'price': '0.5', 'timestamp': 1533020047, 'amount': '1.5'},\n",
       "   {'price': '0.4', 'timestamp': 1533021476, 'amount': '5'},\n",
       "   {'price': '0.4851', 'timestamp': 1533058113, 'amount': '0.3'},\n",
       "   {'price': '0.485', 'timestamp': 1533096308, 'amount': '4'},\n",
       "   {'price': '0.4872', 'timestamp': 1533100267, 'amount': '4.8369'},\n",
       "   {'price': '0.492', 'timestamp': 1533101807, 'amount': '4.8213'},\n",
       "   {'price': '0.4722', 'timestamp': 1533103415, 'amount': '4.85'},\n",
       "   {'price': '0.4692', 'timestamp': 1533108410, 'amount': '9.444'},\n",
       "   {'price': '0.4781', 'timestamp': 1533109173, 'amount': '9.999'},\n",
       "   {'price': '0.4691', 'timestamp': 1533110800, 'amount': '10'},\n",
       "   {'price': '0.4691', 'timestamp': 1533111348, 'amount': '10'},\n",
       "   {'price': '0.4726', 'timestamp': 1533111834, 'amount': '10'},\n",
       "   {'price': '0.4726', 'timestamp': 1533138566, 'amount': '10'},\n",
       "   {'price': '0.4683', 'timestamp': 1533139724, 'amount': '10'},\n",
       "   {'price': '0.4649', 'timestamp': 1533140228, 'amount': '9'},\n",
       "   {'price': '0.5554', 'timestamp': 1533179791, 'amount': '5'},\n",
       "   {'price': '0.5554', 'timestamp': 1533179791, 'amount': '3'},\n",
       "   {'price': '0.55', 'timestamp': 1533180414, 'amount': '6.85'},\n",
       "   {'price': '0.55', 'timestamp': 1533182287, 'amount': '6.85'},\n",
       "   {'price': '0.62', 'timestamp': 1533183364, 'amount': '7.8'},\n",
       "   {'price': '0.1337', 'timestamp': 1533184257, 'amount': '0.4'},\n",
       "   {'price': '0.3567', 'timestamp': 1533191615, 'amount': '0.15'},\n",
       "   {'price': '0.3865', 'timestamp': 1533191615, 'amount': '0.1'},\n",
       "   {'price': '0.5999', 'timestamp': 1533191615, 'amount': '0.45'},\n",
       "   {'price': '0.6', 'timestamp': 1533191646, 'amount': '0.4'},\n",
       "   {'price': '0.6382', 'timestamp': 1533191646, 'amount': '0.9'},\n",
       "   {'price': '0.6737', 'timestamp': 1533191646, 'amount': '0.7'},\n",
       "   {'price': '0.6737', 'timestamp': 1533191784, 'amount': '0.6876'},\n",
       "   {'price': '0.757', 'timestamp': 1533191784, 'amount': '2.2'},\n",
       "   {'price': '0.8', 'timestamp': 1533191784, 'amount': '1.1124'},\n",
       "   {'price': '0.8', 'timestamp': 1533191890, 'amount': '0.8876'},\n",
       "   {'price': '0.54', 'timestamp': 1533265488, 'amount': '0.09'},\n",
       "   {'price': '0.5885', 'timestamp': 1533265488, 'amount': '0.1111'},\n",
       "   {'price': '0.6', 'timestamp': 1533265488, 'amount': '0.1'},\n",
       "   {'price': '0.6262', 'timestamp': 1533266580, 'amount': '0.13'},\n",
       "   {'price': '0.63', 'timestamp': 1533266580, 'amount': '0.175'},\n",
       "   {'price': '0.648', 'timestamp': 1533266580, 'amount': '0.12'},\n",
       "   {'price': '0.6969', 'timestamp': 1533267482, 'amount': '0.199'},\n",
       "   {'price': '0.6999', 'timestamp': 1533267482, 'amount': '7.801'},\n",
       "   {'price': '0.6999', 'timestamp': 1533268627, 'amount': '0.199'},\n",
       "   {'price': '0.7', 'timestamp': 1533270819, 'amount': '0.1'},\n",
       "   {'price': '0.4', 'timestamp': 1533275685, 'amount': '0.1'},\n",
       "   {'price': '0.55', 'timestamp': 1533347739, 'amount': '0.1'},\n",
       "   {'price': '0.54', 'timestamp': 1533441547, 'amount': '1'},\n",
       "   {'price': '0.54', 'timestamp': 1533454478, 'amount': '1'},\n",
       "   {'price': '0.52', 'timestamp': 1533493855, 'amount': '0.05'},\n",
       "   {'price': '0.4', 'timestamp': 1533505926, 'amount': '0.1'},\n",
       "   {'price': '0.45', 'timestamp': 1533615263, 'amount': '0.5'},\n",
       "   {'price': '0.4545', 'timestamp': 1534003357, 'amount': '0.0156'},\n",
       "   {'price': '0.4545', 'timestamp': 1534106258, 'amount': '0.9844'},\n",
       "   {'price': '0.455', 'timestamp': 1534106258, 'amount': '0.5'},\n",
       "   {'price': '0.46', 'timestamp': 1534106258, 'amount': '0.5'},\n",
       "   {'price': '0.475', 'timestamp': 1534106368, 'amount': '0.5'},\n",
       "   {'price': '0.48', 'timestamp': 1534106368, 'amount': '1'},\n",
       "   {'price': '0.493', 'timestamp': 1534106368, 'amount': '1'},\n",
       "   {'price': '0.51', 'timestamp': 1534142519, 'amount': '0.5'},\n",
       "   {'price': '0.5', 'timestamp': 1534619350, 'amount': '1'},\n",
       "   {'price': '0.535', 'timestamp': 1534824923, 'amount': '0.1'},\n",
       "   {'price': '0.525', 'timestamp': 1534901902, 'amount': '0.5'},\n",
       "   {'price': '0.51', 'timestamp': 1535087984, 'amount': '0.5'},\n",
       "   {'price': '0.52', 'timestamp': 1535179380, 'amount': '0.5'},\n",
       "   {'price': '0.52', 'timestamp': 1535257310, 'amount': '0.5'},\n",
       "   {'price': '0.515', 'timestamp': 1535462219, 'amount': '0.5'},\n",
       "   {'price': '0.45', 'timestamp': 1536089178, 'amount': '0.1'},\n",
       "   {'price': '0.529', 'timestamp': 1536095266, 'amount': '0.1'},\n",
       "   {'price': '0.528', 'timestamp': 1536382950, 'amount': '0.2'},\n",
       "   {'price': '0.528', 'timestamp': 1536383209, 'amount': '0.1'},\n",
       "   {'price': '0.528', 'timestamp': 1536521870, 'amount': '0.1'},\n",
       "   {'price': '0.517', 'timestamp': 1536620852, 'amount': '0.2'},\n",
       "   {'price': '0.53', 'timestamp': 1537295917, 'amount': '0.05'},\n",
       "   {'price': '0.45', 'timestamp': 1538109855, 'amount': '0.1'},\n",
       "   {'price': '0.45', 'timestamp': 1538430642, 'amount': '0.3'},\n",
       "   {'price': '0.53', 'timestamp': 1538914486, 'amount': '0.45'},\n",
       "   {'price': '0.54', 'timestamp': 1538914486, 'amount': '1'},\n",
       "   {'price': '0.58', 'timestamp': 1538942654, 'amount': '4'},\n",
       "   {'price': '0.53', 'timestamp': 1539296015, 'amount': '0.5'},\n",
       "   {'price': '0.58', 'timestamp': 1539351678, 'amount': '0.05'},\n",
       "   {'price': '0.58', 'timestamp': 1539484733, 'amount': '1'},\n",
       "   {'price': '0.575', 'timestamp': 1540027540, 'amount': '1'},\n",
       "   {'price': '0.58', 'timestamp': 1540027540, 'amount': '1.8844'},\n",
       "   {'price': '0.59', 'timestamp': 1540027540, 'amount': '0.244'},\n",
       "   {'price': '0.53', 'timestamp': 1540061906, 'amount': '0.02'},\n",
       "   {'price': '0.53', 'timestamp': 1540061936, 'amount': '0.04'},\n",
       "   {'price': '0.75', 'timestamp': 1540064091, 'amount': '0.06'},\n",
       "   {'price': '0.53', 'timestamp': 1540112801, 'amount': '0.035'},\n",
       "   {'price': '0.53', 'timestamp': 1540128387, 'amount': '0.405'},\n",
       "   {'price': '0.55', 'timestamp': 1540215502, 'amount': '2'},\n",
       "   {'price': '0.55', 'timestamp': 1540299978, 'amount': '0.003'},\n",
       "   {'price': '0.53', 'timestamp': 1540571073, 'amount': '0.01'},\n",
       "   {'price': '0.549', 'timestamp': 1540571073, 'amount': '0.997'},\n",
       "   {'price': '0.56', 'timestamp': 1540652379, 'amount': '0.05'},\n",
       "   {'price': '0.56', 'timestamp': 1540670782, 'amount': '1.95'},\n",
       "   {'price': '0.59', 'timestamp': 1540694826, 'amount': '0.1'},\n",
       "   {'price': '0.58', 'timestamp': 1540738729, 'amount': '0.1'},\n",
       "   {'price': '0.59', 'timestamp': 1540738729, 'amount': '0.9'},\n",
       "   {'price': '0.65', 'timestamp': 1540738729, 'amount': '1'},\n",
       "   {'price': '0.7', 'timestamp': 1540741538, 'amount': '1'},\n",
       "   {'price': '0.7', 'timestamp': 1540741587, 'amount': '0.5'},\n",
       "   {'price': '0.75', 'timestamp': 1540741617, 'amount': '0.44'},\n",
       "   {'price': '0.8', 'timestamp': 1540741617, 'amount': '0.75'},\n",
       "   {'price': '0.85', 'timestamp': 1540741783, 'amount': '1'},\n",
       "   {'price': '0.85', 'timestamp': 1540744071, 'amount': '0.835'},\n",
       "   {'price': '0.85', 'timestamp': 1540798985, 'amount': '0.1'}]}]"
      ]
     },
     "execution_count": 50,
     "metadata": {},
     "output_type": "execute_result"
    }
   ],
   "source": [
    "finalizedMarkets[0]"
   ]
  },
  {
   "cell_type": "code",
   "execution_count": 63,
   "metadata": {},
   "outputs": [
    {
     "data": {
      "text/plain": [
       "{'id': '0x79ee0681a6090ac5169aaf04422daa8c5cccacb3',\n",
       " 'universe': '0xe991247b78f937d7b69cfc00f1a487a293557677',\n",
       " 'marketType': 'yesNo',\n",
       " 'numOutcomes': 2,\n",
       " 'minPrice': '0',\n",
       " 'maxPrice': '1',\n",
       " 'cumulativeScale': '1',\n",
       " 'author': '0x9162a85e01a1863c9fa3549c5d83af1f587f1ac7',\n",
       " 'consensus': {'isInvalid': 'false', 'payout': ['0', '10000']},\n",
       " 'creationTime': 1532922190,\n",
       " 'creationBlock': 6055019,\n",
       " 'creationFee': '0.01',\n",
       " 'settlementFee': '0.0101',\n",
       " 'reportingFeeRate': '0.0001',\n",
       " 'marketCreatorFeeRate': '0.01',\n",
       " 'marketCreatorFeesBalance': '0',\n",
       " 'marketCreatorMailbox': '0x9f5bd91bbe94a9e00f5e7f6b0cf89f4a98dd75e1',\n",
       " 'marketCreatorMailboxOwner': '0x9162a85e01a1863c9fa3549c5d83af1f587f1ac7',\n",
       " 'initialReportSize': '404871326465451718',\n",
       " 'category': 'SPORTS',\n",
       " 'tags': ['SOCCER', 'BARCELONA'],\n",
       " 'volume': '98.47600655',\n",
       " 'openInterest': '17.789',\n",
       " 'outstandingShares': '17.789',\n",
       " 'feeWindow': '0xdf4b6800f9e462edf43d7efb16b27334506afb4d',\n",
       " 'endTime': 1540796400,\n",
       " 'finalizationBlockNumber': 6663242,\n",
       " 'finalizationTime': 1541636986,\n",
       " 'lastTradeBlockNumber': 6604085,\n",
       " 'lastTradeTime': 1540798985,\n",
       " 'reportingState': 'FINALIZED',\n",
       " 'forking': 0,\n",
       " 'needsMigration': 0,\n",
       " 'description': 'Will FC Barcelona win against Real Madrid the next time they face on 28 October 2018?',\n",
       " 'details': 'null',\n",
       " 'scalarDenomination': 'null',\n",
       " 'designatedReporter': '0x9162a85e01a1863c9fa3549c5d83af1f587f1ac7',\n",
       " 'designatedReportStake': '0.349680582682291667',\n",
       " 'resolutionSource': 'null',\n",
       " 'numTicks': '10000',\n",
       " 'outcomes': [{'id': 0, 'volume': '0', 'price': '0.5', 'description': 'null'},\n",
       "  {'id': 1, 'volume': '98.47600655', 'price': '0.85', 'description': 'null'}],\n",
       " 'tickSize': '0.0001'}"
      ]
     },
     "execution_count": 63,
     "metadata": {},
     "output_type": "execute_result"
    }
   ],
   "source": [
    "finalizedMarkets[0][0]"
   ]
  },
  {
   "cell_type": "code",
   "execution_count": 52,
   "metadata": {},
   "outputs": [],
   "source": [
    "admittedMarkets = finalizedMarkets\n",
    "secondsAhead = 60 * 60 * 24 * 7 # 7 days"
   ]
  },
  {
   "cell_type": "code",
   "execution_count": 198,
   "metadata": {},
   "outputs": [],
   "source": [
    "def gaussianKernel(x, y, sigma):\n",
    "    return np.exp(-(x-y)**2/(2 * (sigma**2)))/(np.sqrt(2*np.pi) * sigma)\n",
    "\n",
    "def uniformKernel(x, y, halfWidth):\n",
    "    if abs(x - y) <= halfWidth:\n",
    "        return 1.\n",
    "    else:\n",
    "        return 0.\n",
    "\n",
    "def logScore(probVector, outcomeIndex):\n",
    "    return np.log(probVector[outcomeIndex])\n",
    "\n",
    "def brierScore(probVector, outcomeIndex):\n",
    "    if outcomeIndex == 0:\n",
    "        return (1 - probVector[0]**2) + (0 - probVector[1]**2)\n",
    "    else:\n",
    "        return (0 - probVector[0]**2) + (1 - probVector[1]**2)\n",
    "    \n",
    "def sphericalScore(probVector, outcomeIndex):\n",
    "    return probVector[outcomeIndex]/np.norm(probVector)"
   ]
  },
  {
   "cell_type": "code",
   "execution_count": 218,
   "metadata": {},
   "outputs": [],
   "source": [
    "def scoreMarketsBinary(admittedMarkets, \n",
    "                       secondsAhead, \n",
    "                       kernelFunction, \n",
    "                       kernelWidth, \n",
    "                       scoreFunction, \n",
    "                       minTrades = 1, \n",
    "                       minWeight = 0.):\n",
    "    \n",
    "    weightVector = np.array([0])\n",
    "    scoreVector = np.array([0])\n",
    "    for thisMarket in admittedMarkets:\n",
    "        marketData = thisMarket[0]\n",
    "        if len(list(thisMarket[1].keys())) < minTrades:\n",
    "            continue\n",
    "        else:\n",
    "            pricedOutcome = list(thisMarket[1].keys())[0]\n",
    "        priceData = thisMarket[1][pricedOutcome]\n",
    "        marketId = marketData['id']\n",
    "        endTime = marketData['endTime']\n",
    "        consensusIndex = np.argmax(marketData['consensus']['payout'])\n",
    "        centerTime = endTime - secondsAhead\n",
    "        flipFlag = (int(pricedOutcome) != consensusIndex)\n",
    "        for i,thisTrade in enumerate(priceData):\n",
    "            \n",
    "            # if the price of the designated outcome doesn't occur, flip the probability\n",
    "            if not flipFlag:\n",
    "                price = float(thisTrade['price'])\n",
    "            else:\n",
    "                price = 1. - float(thisTrade['price'])\n",
    "                \n",
    "            amount = float(thisTrade['amount'])\n",
    "            tradeTime = thisTrade['timestamp']\n",
    "            \n",
    "            timeWeight = kernelFunction(centerTime, tradeTime, kernelWidth)\n",
    "            weight = timeWeight * amount\n",
    "            if weight >= minWeight:\n",
    "                weightVector = np.append(weightVector, weight)\n",
    "                if consensusIndex == 0:\n",
    "                    scoreVector = np.append(scoreVector,[scoreFunction([price, 1-price], 0)],0)\n",
    "                else:\n",
    "                    scoreVector = np.append(scoreVector,[scoreFunction([1-price, price],1)],0)\n",
    "            \n",
    "    return np.average(scoreVector[1:],axis = 0,weights=weightVector[1:])\n",
    "            \n",
    "            \n",
    "            \n",
    "            \n",
    "            "
   ]
  },
  {
   "cell_type": "code",
   "execution_count": 219,
   "metadata": {},
   "outputs": [
    {
     "data": {
      "text/plain": [
       "-0.4840179420016009"
      ]
     },
     "execution_count": 219,
     "metadata": {},
     "output_type": "execute_result"
    }
   ],
   "source": [
    "scoreMarketsBinary(binaryMarkets, secondsAhead, gaussianKernel, secondsAhead, logScore)"
   ]
  },
  {
   "cell_type": "code",
   "execution_count": 206,
   "metadata": {},
   "outputs": [
    {
     "name": "stdout",
     "output_type": "stream",
     "text": [
      "> \u001b[0;32m/anaconda3/lib/python3.6/site-packages/IPython/core/compilerop.py\u001b[0m(99)\u001b[0;36mast_parse\u001b[0;34m()\u001b[0m\n",
      "\u001b[0;32m     97 \u001b[0;31m        \u001b[0mArguments\u001b[0m \u001b[0mare\u001b[0m \u001b[0mexactly\u001b[0m \u001b[0mthe\u001b[0m \u001b[0msame\u001b[0m \u001b[0;32mas\u001b[0m \u001b[0mast\u001b[0m\u001b[0;34m.\u001b[0m\u001b[0mparse\u001b[0m \u001b[0;34m(\u001b[0m\u001b[0;32min\u001b[0m \u001b[0mthe\u001b[0m \u001b[0mstandard\u001b[0m \u001b[0mlibrary\u001b[0m\u001b[0;34m)\u001b[0m\u001b[0;34m,\u001b[0m\u001b[0;34m\u001b[0m\u001b[0m\n",
      "\u001b[0m\u001b[0;32m     98 \u001b[0;31m        and are passed to the built-in compile function.\"\"\"\n",
      "\u001b[0m\u001b[0;32m---> 99 \u001b[0;31m        \u001b[0;32mreturn\u001b[0m \u001b[0mcompile\u001b[0m\u001b[0;34m(\u001b[0m\u001b[0msource\u001b[0m\u001b[0;34m,\u001b[0m \u001b[0mfilename\u001b[0m\u001b[0;34m,\u001b[0m \u001b[0msymbol\u001b[0m\u001b[0;34m,\u001b[0m \u001b[0mself\u001b[0m\u001b[0;34m.\u001b[0m\u001b[0mflags\u001b[0m \u001b[0;34m|\u001b[0m \u001b[0mPyCF_ONLY_AST\u001b[0m\u001b[0;34m,\u001b[0m \u001b[0;36m1\u001b[0m\u001b[0;34m)\u001b[0m\u001b[0;34m\u001b[0m\u001b[0m\n",
      "\u001b[0m\u001b[0;32m    100 \u001b[0;31m\u001b[0;34m\u001b[0m\u001b[0m\n",
      "\u001b[0m\u001b[0;32m    101 \u001b[0;31m    \u001b[0;32mdef\u001b[0m \u001b[0mreset_compiler_flags\u001b[0m\u001b[0;34m(\u001b[0m\u001b[0mself\u001b[0m\u001b[0;34m)\u001b[0m\u001b[0;34m:\u001b[0m\u001b[0;34m\u001b[0m\u001b[0m\n",
      "\u001b[0m\n",
      "ipdb> up\n",
      "*** Oldest frame\n",
      "ipdb> quit\n"
     ]
    }
   ],
   "source": [
    "debug"
   ]
  },
  {
   "cell_type": "code",
   "execution_count": null,
   "metadata": {},
   "outputs": [],
   "source": []
  }
 ],
 "metadata": {
  "kernelspec": {
   "display_name": "Python 3",
   "language": "python",
   "name": "python3"
  },
  "language_info": {
   "codemirror_mode": {
    "name": "ipython",
    "version": 3
   },
   "file_extension": ".py",
   "mimetype": "text/x-python",
   "name": "python",
   "nbconvert_exporter": "python",
   "pygments_lexer": "ipython3",
   "version": "3.6.5"
  }
 },
 "nbformat": 4,
 "nbformat_minor": 2
}
