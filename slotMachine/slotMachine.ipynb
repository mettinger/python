{
 "cells": [
  {
   "cell_type": "code",
   "execution_count": 1,
   "metadata": {},
   "outputs": [],
   "source": [
    "import numpy as np\n",
    "import itertools"
   ]
  },
  {
   "cell_type": "code",
   "execution_count": 2,
   "metadata": {},
   "outputs": [],
   "source": [
    "def makeSymbolList(numSymbolOnReel, numSymbolTotal, precision):\n",
    "    fenceposts = [round(i, int(np.log10(precision))) for i in list(np.random.random(size=numSymbolOnReel - 1))]\n",
    "    fenceposts = sorted([0] + fenceposts + [1])\n",
    "    symbols = np.random.choice(numSymbolTotal, size=numSymbolOnReel, replace=False)\n",
    "    symbolList = [(symbols[i],round((fenceposts[i+1] - fenceposts[i]), \n",
    "                                    int(np.log10(precision)))) for i in range(numSymbolOnReel)]\n",
    "    return symbolList\n",
    "    \n",
    "def makeMachine(numSymbolList, numSymbolsTotal, precision):\n",
    "    if numSymbolsTotal < max(numSymbolList):\n",
    "        print(\"Total number of symbols too small...\")\n",
    "        return\n",
    "    numReel = len(numSymbolList)\n",
    "    machineDefList = [sorted(makeSymbolList(numSymbolList[i], \n",
    "                                            numSymbolsTotal, precision),\n",
    "                             key=lambda x: x[1], reverse = True) for i in range(numReel)]\n",
    "    print(\"Probabilities sum to 1? \" + str([sum([j[1] for j in i]) for i in machineDefList]))\n",
    "    return machineDefList\n",
    "\n",
    "def evaluateMachine(machineDefList):\n",
    "    numReel = len(machineDefList)\n",
    "    probDict = {i:0 for i in range(1, numReel + 1)}\n",
    "    for thisTuple in itertools.product(*machineDefList):\n",
    "        thisCount = numReel + 1 - len(set([i[0] for i in thisTuple]))\n",
    "        thisProb = np.product([i[1] for i in thisTuple])\n",
    "        if thisCount == numReel:\n",
    "            probDict[str(thisTuple[0][0]) * numReel] = thisProb\n",
    "        probDict[thisCount] += thisProb\n",
    "    return probDict\n",
    "\n",
    "def probDictToSolidity(probDict, payoutKeys):\n",
    "    payoutString = \"\"\n",
    "    numPayout = len(payoutKeys)\n",
    "    for thisKey in payoutKeys:\n",
    "        thisProb = probDict[thisKey]\n",
    "        thisString = \"    if (maxMatch == %s) {\\n      return betAmount * %s;\\n    }\\n\" % (thisKey, str(int(1./(thisProb * numPayout))))\n",
    "        payoutString += thisString\n",
    "    return payoutString\n",
    "\n",
    "def makeMachineToSolidity(machine):\n",
    "    flatMachine = [item for sublist in machine for item in sublist]\n",
    "    precision = max([10**(len(str(i[1]).split(\".\")[1])) for i in flatMachine])\n",
    "    solidityString = \"function makeMachine() internal {\\n\"\n",
    "    for index, reel in enumerate(machine):\n",
    "        reelString0 = \"    reels[%s].probDenominator = %s;\\n\" % (str(index), str(precision))\n",
    "        reelString1 = \"    reels[%s].probs = %s;\\n\" % (str(index), str([int(i[1] * precision) for i in reel]))\n",
    "        reelString2 = \"    reels[%s].eventLabels = %s;\\n\" % (str(index), str([i[0] for i in reel]))\n",
    "        \n",
    "        reelString = reelString0 + reelString1 + reelString2\n",
    "        solidityString += reelString\n",
    "    return solidityString + \"}\"\n",
    "\n"
   ]
  },
  {
   "cell_type": "code",
   "execution_count": 3,
   "metadata": {},
   "outputs": [
    {
     "name": "stdout",
     "output_type": "stream",
     "text": [
      "Probabilities sum to 1? [1.0, 1.0, 1.0000000000000002, 1.0000000000000002, 1.0]\n"
     ]
    }
   ],
   "source": [
    "numSymbolOnReel = [10,10,10,10,10]\n",
    "numSymbolTotal = 20\n",
    "precision = 1000\n",
    "\n",
    "numReel = len(numSymbolOnReel)\n",
    "\n",
    "machineOne = makeMachine(numSymbolOnReel, numSymbolTotal, precision)"
   ]
  },
  {
   "cell_type": "code",
   "execution_count": 4,
   "metadata": {},
   "outputs": [
    {
     "name": "stdout",
     "output_type": "stream",
     "text": [
      "{1: 0.5881871851878981, 2: 0.3672459684087343, 3: 0.0437485591428482, 4: 0.0008178743994880002, 5: 4.1286102e-07, '1616161616': 3.58182e-07, '1212121212': 1.2175019999999998e-08, '99999': 4.2504e-08}\n",
      "0.9999999999999887\n"
     ]
    }
   ],
   "source": [
    "probDict = evaluateMachine(machineOne)\n",
    "print(probDict)\n",
    "print(sum([i[1] for i in probDict.items() if type(i[0]) == int]))"
   ]
  },
  {
   "cell_type": "code",
   "execution_count": 5,
   "metadata": {},
   "outputs": [],
   "source": [
    "payoutString = probDictToSolidity(probDict,[4,5])"
   ]
  },
  {
   "cell_type": "code",
   "execution_count": 6,
   "metadata": {},
   "outputs": [],
   "source": [
    "def makeMachineToSolidity(machine):\n",
    "    flatMachine = [item for sublist in machine for item in sublist]\n",
    "    precision = max([10**(len(str(i[1]).split(\".\")[1])) for i in flatMachine])\n",
    "    solidityString = \"function makeMachine() internal {\\n\"\n",
    "    for index, reel in enumerate(machine):\n",
    "        reelString0 = \"    reels[%s].probDenominator = %s;\\n\" % (str(index), str(precision))\n",
    "        reelString1 = \"    reels[%s].probs = %s;\\n\" % (str(index), str([int(i[1] * precision) for i in reel]))\n",
    "        reelString2 = \"    reels[%s].eventLabels = %s;\\n\" % (str(index), str([i[0] for i in reel]))\n",
    "        \n",
    "        reelString = reelString0 + reelString1 + reelString2\n",
    "        solidityString += reelString\n",
    "    return solidityString + \"}\""
   ]
  },
  {
   "cell_type": "code",
   "execution_count": 7,
   "metadata": {},
   "outputs": [],
   "source": [
    "makeMachineString = makeMachineToSolidity(machineOne)"
   ]
  },
  {
   "cell_type": "code",
   "execution_count": 8,
   "metadata": {},
   "outputs": [],
   "source": [
    "solidityCode = '''\n",
    "// ******************************\n",
    "// DEFINE THE MACHINE\n",
    "\n",
    "  // MACHINE SPECIFIC CONSTANTS AND VARIABLES\n",
    "  uint8 constant numReel = %s;\n",
    "  \n",
    "  // DEFINE THE PROBABILITIES FOR THE REEL SYMBOLS\n",
    "  %s\n",
    "  \n",
    "  // CALCULATE THE PAYOUT\n",
    "  function paytable(uint[numReel] memory outcome, uint betAmount) internal returns (uint) {\n",
    "    uint maxMatch = countMaxMatch(outcome);\n",
    "%s}\n",
    "  \n",
    "// END MACHINE DEFINITION\n",
    "// ***************************************\n",
    "  \n",
    "''' % (str(numReel), makeMachineString, payoutString)"
   ]
  },
  {
   "cell_type": "code",
   "execution_count": 9,
   "metadata": {},
   "outputs": [
    {
     "name": "stdout",
     "output_type": "stream",
     "text": [
      "\n",
      "// ******************************\n",
      "// DEFINE THE MACHINE\n",
      "\n",
      "  // MACHINE SPECIFIC CONSTANTS AND VARIABLES\n",
      "  uint8 constant numReel = 5;\n",
      "  \n",
      "  // DEFINE THE PROBABILITIES FOR THE REEL SYMBOLS\n",
      "  function makeMachine() internal {\n",
      "    reels[0].probDenominator = 1000;\n",
      "    reels[0].probs = [335, 205, 133, 93, 86, 74, 39, 14, 11, 10];\n",
      "    reels[0].eventLabels = [16, 8, 6, 11, 3, 17, 12, 15, 19, 9];\n",
      "    reels[1].probDenominator = 1000;\n",
      "    reels[1].probs = [494, 126, 108, 98, 92, 37, 31, 11, 2, 1];\n",
      "    reels[1].eventLabels = [5, 6, 16, 1, 9, 7, 13, 12, 11, 10];\n",
      "    reels[2].probDenominator = 1000;\n",
      "    reels[2].probs = [331, 243, 119, 75, 60, 43, 40, 37, 35, 17];\n",
      "    reels[2].eventLabels = [4, 3, 13, 1, 16, 12, 9, 18, 8, 19];\n",
      "    reels[3].probDenominator = 1000;\n",
      "    reels[3].probs = [234, 185, 156, 153, 137, 57, 40, 21, 11, 6];\n",
      "    reels[3].eventLabels = [15, 7, 3, 19, 8, 2, 11, 9, 16, 12];\n",
      "    reels[4].probDenominator = 1000;\n",
      "    reels[4].probs = [365, 117, 110, 104, 95, 87, 55, 50, 15, 2];\n",
      "    reels[4].eventLabels = [15, 6, 12, 7, 4, 11, 9, 8, 16, 3];\n",
      "}\n",
      "  \n",
      "  // CALCULATE THE PAYOUT\n",
      "  function paytable(uint[numReel] memory outcome, uint betAmount) internal returns (uint) {\n",
      "    uint maxMatch = countMaxMatch(outcome);\n",
      "    if (maxMatch == 4) {\n",
      "      return betAmount * 611;\n",
      "    }\n",
      "    if (maxMatch == 5) {\n",
      "      return betAmount * 1211061;\n",
      "    }\n",
      "}\n",
      "  \n",
      "// END MACHINE DEFINITION\n",
      "// ***************************************\n",
      "  \n",
      "\n"
     ]
    }
   ],
   "source": [
    "print(solidityCode)"
   ]
  },
  {
   "cell_type": "code",
   "execution_count": null,
   "metadata": {},
   "outputs": [],
   "source": []
  },
  {
   "cell_type": "code",
   "execution_count": null,
   "metadata": {},
   "outputs": [],
   "source": []
  }
 ],
 "metadata": {
  "kernelspec": {
   "display_name": "Python 3",
   "language": "python",
   "name": "python3"
  },
  "language_info": {
   "codemirror_mode": {
    "name": "ipython",
    "version": 3
   },
   "file_extension": ".py",
   "mimetype": "text/x-python",
   "name": "python",
   "nbconvert_exporter": "python",
   "pygments_lexer": "ipython3",
   "version": "3.6.5"
  }
 },
 "nbformat": 4,
 "nbformat_minor": 2
}
