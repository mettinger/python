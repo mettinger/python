{
 "cells": [
  {
   "cell_type": "code",
   "execution_count": 4,
   "metadata": {},
   "outputs": [],
   "source": [
    "import angr"
   ]
  },
  {
   "cell_type": "code",
   "execution_count": 5,
   "metadata": {},
   "outputs": [],
   "source": [
    "# Load the project\n",
    "b = angr.Project(\"C:/Users/jetti/github/angr-examples/examples/fauxware/fauxware\", load_options={\"auto_load_libs\": False})"
   ]
  },
  {
   "cell_type": "code",
   "execution_count": 3,
   "metadata": {},
   "outputs": [
    {
     "name": "stderr",
     "output_type": "stream",
     "text": [
      "WARNING  | 2023-11-05 06:59:25,653 | angr.storage.memory_mixins.default_filler_mixin | The program is accessing register with an unspecified value. This could indicate unwanted behavior.\n",
      "WARNING  | 2023-11-05 06:59:25,654 | angr.storage.memory_mixins.default_filler_mixin | angr will cope with this by generating an unconstrained symbolic variable and continuing. You can resolve this by:\n",
      "WARNING  | 2023-11-05 06:59:25,654 | angr.storage.memory_mixins.default_filler_mixin | 1) setting a value to the initial state\n",
      "WARNING  | 2023-11-05 06:59:25,655 | angr.storage.memory_mixins.default_filler_mixin | 2) adding the state option ZERO_FILL_UNCONSTRAINED_{MEMORY,REGISTERS}, to make unknown regions hold null\n",
      "WARNING  | 2023-11-05 06:59:25,655 | angr.storage.memory_mixins.default_filler_mixin | 3) adding the state option SYMBOL_FILL_UNCONSTRAINED_{MEMORY,REGISTERS}, to suppress these messages.\n",
      "WARNING  | 2023-11-05 06:59:25,656 | angr.storage.memory_mixins.default_filler_mixin | Filling register r12 with 8 unconstrained bytes referenced from 0x40082a (__libc_csu_init+0x4a in fauxware (0x40082a))\n",
      "WARNING  | 2023-11-05 06:59:25,840 | angr.storage.memory_mixins.default_filler_mixin | Filling register rbx with 8 unconstrained bytes referenced from 0x400830 (__libc_csu_init+0x50 in fauxware (0x400830))\n",
      "WARNING  | 2023-11-05 06:59:25,841 | angr.storage.memory_mixins.default_filler_mixin | Filling register r12 with 8 unconstrained bytes referenced from 0x400830 (__libc_csu_init+0x50 in fauxware (0x400830))\n"
     ]
    },
    {
     "name": "stdout",
     "output_type": "stream",
     "text": [
      "BackwardSlice (to [(<CFGENode 0x400570[6]>, -1)])\n"
     ]
    }
   ],
   "source": [
    "\n",
    "# Generate a CFG first. In order to generate data dependence graph afterwards, you'll have to:\n",
    "# - keep all input states by specifying keep_state=True.\n",
    "# - store memory, register and temporary values accesses by adding the angr.options.refs option set.\n",
    "# Feel free to provide more parameters (for example, context_sensitivity_level) for CFG\n",
    "# recovery based on your needs.\n",
    "cfg = b.analyses.CFGEmulated(keep_state=True,\n",
    "                             state_add_options=angr.sim_options.refs,\n",
    "                             context_sensitivity_level=2)\n",
    "\n",
    "# Generate the control dependence graph\n",
    "cdg = b.analyses.CDG(cfg)\n",
    "\n",
    "# Build the data dependence graph. It might take a while. Be patient!\n",
    "ddg = b.analyses.DDG(cfg)\n",
    "\n",
    "# See where we wanna go... let's go to the exit() call, which is modeled as a\n",
    "# SimProcedure.\n",
    "target_func = cfg.kb.functions.function(name=\"exit\")\n",
    "# We need the CFGNode instance\n",
    "target_node = cfg.get_any_node(target_func.addr)\n",
    "\n",
    "# Let's get a BackwardSlice out of them!\n",
    "# ``targets`` is a list of objects, where each one is either a CodeLocation\n",
    "# object, or a tuple of CFGNode instance and a statement ID. Setting statement\n",
    "# ID to -1 means the very beginning of that CFGNode. A SimProcedure does not\n",
    "# have any statement, so you should always specify -1 for it.\n",
    "bs = b.analyses.BackwardSlice(cfg, cdg=cdg, ddg=ddg, targets=[ (target_node, -1) ])\n",
    "\n",
    "print(bs)"
   ]
  },
  {
   "cell_type": "code",
   "execution_count": 9,
   "metadata": {},
   "outputs": [
    {
     "data": {
      "text/plain": [
       "<dict_itemiterator at 0x1d61f17c2c0>"
      ]
     },
     "execution_count": 9,
     "metadata": {},
     "output_type": "execute_result"
    }
   ],
   "source": [
    "bs."
   ]
  },
  {
   "cell_type": "code",
   "execution_count": null,
   "metadata": {},
   "outputs": [],
   "source": []
  }
 ],
 "metadata": {
  "kernelspec": {
   "display_name": "angr",
   "language": "python",
   "name": "python3"
  },
  "language_info": {
   "codemirror_mode": {
    "name": "ipython",
    "version": 3
   },
   "file_extension": ".py",
   "mimetype": "text/x-python",
   "name": "python",
   "nbconvert_exporter": "python",
   "pygments_lexer": "ipython3",
   "version": "3.10.12"
  },
  "orig_nbformat": 4
 },
 "nbformat": 4,
 "nbformat_minor": 2
}
