{
 "cells": [
  {
   "cell_type": "code",
   "execution_count": 2,
   "metadata": {},
   "outputs": [],
   "source": [
    "from triton import *"
   ]
  },
  {
   "cell_type": "code",
   "execution_count": 3,
   "metadata": {},
   "outputs": [
    {
     "name": "stdout",
     "output_type": "stream",
     "text": [
      "(define-fun ref!8 () (_ BitVec 64) ref!1) ; MOV operation\n"
     ]
    }
   ],
   "source": [
    "\n",
    "# Create the Triton context with a defined architecture\n",
    "ctx = TritonContext(ARCH.X86_64)\n",
    "\n",
    "# Define concrete values (optional)\n",
    "ctx.setConcreteRegisterValue(ctx.registers.rip, 0x40000)\n",
    "\n",
    "# Symbolize data (optional)\n",
    "ctx.symbolizeRegister(ctx.registers.rax, 'my_rax')\n",
    "\n",
    "# Execute instructions\n",
    "ctx.processing(Instruction(b\"\\x48\\x35\\x34\\x12\\x00\\x00\")) # xor rax, 0x1234\n",
    "ctx.processing(Instruction(b\"\\x48\\x89\\xc1\")) # mov rcx, rax\n",
    "\n",
    "# Get the symbolic expression\n",
    "rcx_expr = ctx.getSymbolicRegister(ctx.registers.rcx)\n",
    "print(rcx_expr)"
   ]
  },
  {
   "cell_type": "code",
   "execution_count": 4,
   "metadata": {},
   "outputs": [
    {
     "data": {
      "text/plain": [
       "{0: my_rax:64 = 0xcc99}"
      ]
     },
     "execution_count": 4,
     "metadata": {},
     "output_type": "execute_result"
    }
   ],
   "source": [
    "ctx.getModel(rcx_expr.getAst() == 0xdead)"
   ]
  },
  {
   "cell_type": "code",
   "execution_count": 5,
   "metadata": {},
   "outputs": [
    {
     "data": {
      "text/plain": [
       "'0xdead'"
      ]
     },
     "execution_count": 5,
     "metadata": {},
     "output_type": "execute_result"
    }
   ],
   "source": [
    "hex(0xcc99 ^ 0x1234)"
   ]
  },
  {
   "cell_type": "code",
   "execution_count": null,
   "metadata": {},
   "outputs": [],
   "source": []
  }
 ],
 "metadata": {
  "kernelspec": {
   "display_name": "Python 3",
   "language": "python",
   "name": "python3"
  },
  "language_info": {
   "codemirror_mode": {
    "name": "ipython",
    "version": 3
   },
   "file_extension": ".py",
   "mimetype": "text/x-python",
   "name": "python",
   "nbconvert_exporter": "python",
   "pygments_lexer": "ipython3",
   "version": "3.11.6"
  }
 },
 "nbformat": 4,
 "nbformat_minor": 2
}
