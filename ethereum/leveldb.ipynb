{
 "cells": [
  {
   "cell_type": "code",
   "execution_count": 80,
   "metadata": {
    "collapsed": true
   },
   "outputs": [],
   "source": [
    "import leveldb\n",
    "import binascii"
   ]
  },
  {
   "cell_type": "code",
   "execution_count": 2,
   "metadata": {
    "collapsed": false
   },
   "outputs": [],
   "source": [
    "db = leveldb.LevelDB('/Users/mettinger/Library/Ethereum/chaindata/')"
   ]
  },
  {
   "cell_type": "code",
   "execution_count": 82,
   "metadata": {
    "collapsed": true
   },
   "outputs": [],
   "source": [
    "dbIter = db.RangeIter()"
   ]
  },
  {
   "cell_type": "code",
   "execution_count": 84,
   "metadata": {
    "collapsed": false
   },
   "outputs": [
    {
     "name": "stdout",
     "output_type": "stream",
     "text": [
      "['\\x00', '\\x00', '\\x03', ')', 'N', '`', '\\xa2', '\\xf0', '\\x1b', '\\xed', '\\x87', '\\xec', '9', '\\xcf', '\\xf8', 'y', '\\xd1', '\\xbe', '\\x85', '\\xbd', '\\x92', '>', '\\xb8', '\\x93', '\\xd8', '\\xa7', 'd', '{', '\\x14', '\\x88', '\\xe1', 'R']\n"
     ]
    },
    {
     "data": {
      "text/plain": [
       "32"
      ]
     },
     "execution_count": 84,
     "metadata": {},
     "output_type": "execute_result"
    }
   ],
   "source": [
    "(key,value) = dbIter.next()\n",
    "temp = [i for i in key]\n",
    "print temp\n",
    "len(key)"
   ]
  },
  {
   "cell_type": "code",
   "execution_count": 92,
   "metadata": {
    "collapsed": false
   },
   "outputs": [
    {
     "data": {
      "text/plain": [
       "['\\xf8',\n",
       " 'n',\n",
       " '\\x82',\n",
       " '\\x01',\n",
       " '\\xf4',\n",
       " '\\x85',\n",
       " '\\r',\n",
       " '\\xf8',\n",
       " 'G',\n",
       " 'X',\n",
       " '\\x00',\n",
       " '\\x82',\n",
       " 'R',\n",
       " '\\x08',\n",
       " '\\x94',\n",
       " '2',\n",
       " '\\xbe',\n",
       " '4',\n",
       " ';',\n",
       " '\\x94',\n",
       " '\\xf8',\n",
       " '`',\n",
       " '\\x12',\n",
       " 'M',\n",
       " '\\xc4',\n",
       " '\\xfe',\n",
       " '\\xe2',\n",
       " 'x',\n",
       " '\\xfd',\n",
       " '\\xcb',\n",
       " '\\xd3',\n",
       " '\\x8c',\n",
       " '\\x10',\n",
       " '-',\n",
       " '\\x88',\n",
       " '\\x88',\n",
       " '\\x19',\n",
       " '\\x91',\n",
       " '\\xad',\n",
       " '\\x85',\n",
       " '(',\n",
       " '\\xeb',\n",
       " ',',\n",
       " '\\x00',\n",
       " '\\x80',\n",
       " '\\x1b',\n",
       " '\\xa0',\n",
       " '\\x1d',\n",
       " 'I',\n",
       " '\\xcf',\n",
       " '`',\n",
       " '\\x95',\n",
       " '\\x05',\n",
       " '\\xf9',\n",
       " '\\xda',\n",
       " 'j',\n",
       " '\\xdc',\n",
       " 'a',\n",
       " '\\xb6',\n",
       " '4',\n",
       " '\\xcc',\n",
       " '\\xbd',\n",
       " 'v',\n",
       " '\\xfe',\n",
       " '\\x95',\n",
       " '\\x8b',\n",
       " '\\n',\n",
       " '\\xef',\n",
       " 'C',\n",
       " '9',\n",
       " 'F',\n",
       " 'E',\n",
       " 'a',\n",
       " '\\xe3',\n",
       " '\\xc2',\n",
       " '\\xde',\n",
       " 'D',\n",
       " '\\xa0',\n",
       " '\\x90',\n",
       " '\\xa0',\n",
       " '>',\n",
       " 'p',\n",
       " '.',\n",
       " '\\xe9',\n",
       " '\\x91',\n",
       " 'N',\n",
       " '\\x8b',\n",
       " 'F',\n",
       " '\\xdc',\n",
       " 'B',\n",
       " '&',\n",
       " 'l',\n",
       " 'S',\n",
       " '\\x18',\n",
       " '\\t',\n",
       " '\\xf6',\n",
       " '\\xe8',\n",
       " '\\xb6',\n",
       " '\\xe8',\n",
       " 'E',\n",
       " 'q',\n",
       " 'G',\n",
       " '\\x14',\n",
       " '8',\n",
       " '\\x1e',\n",
       " '\\x1d',\n",
       " '\\xe2',\n",
       " '\\xb5',\n",
       " '\\x85',\n",
       " '+',\n",
       " '5',\n",
       " 'h']"
      ]
     },
     "execution_count": 92,
     "metadata": {},
     "output_type": "execute_result"
    }
   ],
   "source": [
    "myKey = \"41d06b0b7977479b9eaedf306a252cc7ea5e815ea591b39e6f53939a64fdf570\" # transaction\n",
    "#myBlockKey = \"e53078b0c30022151272b644f60350f8f419e39cdd3a638312e443e4fd565ea2\"\n",
    "#myKey = \"52bc44d5378309ee2abf1539bf71de1b7d7be3b5\"\n",
    "result = db.Get(binascii.a2b_hex(myKey))\n",
    "[i for i in result]"
   ]
  },
  {
   "cell_type": "code",
   "execution_count": 69,
   "metadata": {
    "collapsed": false
   },
   "outputs": [
    {
     "data": {
      "text/plain": [
       "{8, 9, 10, 11, 12, 13, 17, 22, 25, 27, 28, 32, 33, 41, 43, 45, 47}"
      ]
     },
     "execution_count": 69,
     "metadata": {},
     "output_type": "execute_result"
    }
   ],
   "source": [
    "set([len(i) for (i,j) in dbIter])"
   ]
  },
  {
   "cell_type": "code",
   "execution_count": 96,
   "metadata": {
    "collapsed": false
   },
   "outputs": [
    {
     "data": {
      "text/plain": [
       "'\\xf8n\\x82\\x01\\xf4\\x85\\r\\xf8GX\\x00\\x82R\\x08\\x942\\xbe4;\\x94\\xf8`\\x12M\\xc4\\xfe\\xe2x\\xfd\\xcb\\xd3\\x8c\\x10-\\x88\\x88\\x19\\x91\\xad\\x85(\\xeb,\\x00\\x80\\x1b\\xa0\\x1dI\\xcf`\\x95\\x05\\xf9\\xdaj\\xdca\\xb64\\xcc\\xbdv\\xfe\\x95\\x8b\\n\\xefC9FEa\\xe3\\xc2\\xdeD\\xa0\\x90\\xa0>p.\\xe9\\x91N\\x8bF\\xdcB&lS\\x18\\t\\xf6\\xe8\\xb6\\xe8EqG\\x148\\x1e\\x1d\\xe2\\xb5\\x85+5h'"
      ]
     },
     "execution_count": 96,
     "metadata": {},
     "output_type": "execute_result"
    }
   ],
   "source": [
    "result"
   ]
  },
  {
   "cell_type": "code",
   "execution_count": null,
   "metadata": {
    "collapsed": true
   },
   "outputs": [],
   "source": []
  }
 ],
 "metadata": {
  "kernelspec": {
   "display_name": "Python 2",
   "language": "python",
   "name": "python2"
  },
  "language_info": {
   "codemirror_mode": {
    "name": "ipython",
    "version": 2
   },
   "file_extension": ".py",
   "mimetype": "text/x-python",
   "name": "python",
   "nbconvert_exporter": "python",
   "pygments_lexer": "ipython2",
   "version": "2.7.10"
  }
 },
 "nbformat": 4,
 "nbformat_minor": 0
}
