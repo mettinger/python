{
 "cells": [
  {
   "cell_type": "code",
   "execution_count": 1,
   "id": "fa763c6b-8a30-4d6e-a022-1c8b93e4ab17",
   "metadata": {},
   "outputs": [],
   "source": [
    "import requests\n",
    "import datetime\n",
    "import time\n",
    "from bs4 import BeautifulSoup\n",
    "import pickle"
   ]
  },
  {
   "cell_type": "code",
   "execution_count": 2,
   "id": "fe5fa1e7-dd54-43ae-bb87-e98c765420c2",
   "metadata": {},
   "outputs": [],
   "source": [
    "def processBondDay(thisDate, treasuryDay):\n",
    "    thisDay = []\n",
    "    for thisRow in treasuryDay:\n",
    "        thisRow = thisRow.find_all('td')\n",
    "        thisDay.append([thisDate] + [i.text for i in thisRow])\n",
    "    return thisDay"
   ]
  },
  {
   "cell_type": "code",
   "execution_count": 3,
   "id": "840aff08-0be8-46c1-8a50-3ce193c763a2",
   "metadata": {},
   "outputs": [
    {
     "name": "stdout",
     "output_type": "stream",
     "text": [
      "0\n",
      "100\n",
      "200\n",
      "300\n",
      "109569\n"
     ]
    }
   ],
   "source": [
    "url = 'https://treasurydirect.gov/GA-FI/FedInvest/selectSecurityPriceDate'\n",
    "daysBack = 366\n",
    "dataList = []\n",
    "sleepTime = 0.0\n",
    "\n",
    "for thisDay in range(0, daysBack):\n",
    "    if thisDay % 100 == 0:\n",
    "        print(thisDay)\n",
    "    thisDate = datetime.datetime(2023, 9, 16) + datetime.timedelta(-thisDay)\n",
    "    if thisDate.weekday() < 5:\n",
    "        day = thisDate.day\n",
    "        month = thisDate.month\n",
    "        year = thisDate.year\n",
    "        data = {'submit': 'Show Prices', \n",
    "                'priceDate.month':str(month), \n",
    "                'priceDate.day':str(day), \n",
    "                'priceDate.year':str(year)}\n",
    "    \n",
    "        r = requests.post(url, data=data)\n",
    "        soup = BeautifulSoup(r.text, 'html.parser')\n",
    "        rows = soup.findAll('tr')\n",
    "\n",
    "        processedDay = processBondDay(thisDate, rows[1:])\n",
    "        dataList.extend(processedDay)\n",
    "        time.sleep(sleepTime)\n",
    "\n",
    "#dataList = [processBondDay(i) for i in dataList]\n",
    "print(len(dataList))"
   ]
  },
  {
   "cell_type": "code",
   "execution_count": 7,
   "id": "7ea1e1dc-a922-4260-bac2-bca8d1ca3141",
   "metadata": {},
   "outputs": [],
   "source": [
    "with open('../bonds/treasures.pkl', 'wb') as f:\n",
    "  pickle.dump(dataList, f)"
   ]
  },
  {
   "cell_type": "code",
   "execution_count": null,
   "id": "0e6620f5-c4ec-4165-977b-965709eb0693",
   "metadata": {},
   "outputs": [],
   "source": []
  }
 ],
 "metadata": {
  "kernelspec": {
   "display_name": "Python 3 (ipykernel)",
   "language": "python",
   "name": "python3"
  },
  "language_info": {
   "codemirror_mode": {
    "name": "ipython",
    "version": 3
   },
   "file_extension": ".py",
   "mimetype": "text/x-python",
   "name": "python",
   "nbconvert_exporter": "python",
   "pygments_lexer": "ipython3",
   "version": "3.10.12"
  }
 },
 "nbformat": 4,
 "nbformat_minor": 5
}
