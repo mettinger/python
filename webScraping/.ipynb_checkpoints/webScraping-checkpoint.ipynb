{
 "cells": [
  {
   "cell_type": "code",
   "execution_count": 3,
   "id": "fa763c6b-8a30-4d6e-a022-1c8b93e4ab17",
   "metadata": {},
   "outputs": [],
   "source": [
    "import requests\n",
    "import datetime\n",
    "import time\n",
    "from bs4 import BeautifulSoup\n",
    "import pickle"
   ]
  },
  {
   "cell_type": "code",
   "execution_count": 38,
   "id": "fe5fa1e7-dd54-43ae-bb87-e98c765420c2",
   "metadata": {},
   "outputs": [],
   "source": [
    "def processBondDay(treasuryDay):\n",
    "    thisDate = treasuryDay[0]\n",
    "    thisDay = []\n",
    "    for thisRow in treasuryDay[1]:\n",
    "        thisRow = thisRow.find_all('td')\n",
    "        thisDay.append([thisDate] + [i.text for i in thisRow])\n",
    "    return thisDay"
   ]
  },
  {
   "cell_type": "code",
   "execution_count": 19,
   "id": "840aff08-0be8-46c1-8a50-3ce193c763a2",
   "metadata": {},
   "outputs": [
    {
     "name": "stdout",
     "output_type": "stream",
     "text": [
      "0\n",
      "10\n",
      "20\n",
      "30\n",
      "40\n",
      "50\n",
      "60\n",
      "70\n",
      "80\n",
      "90\n",
      "100\n",
      "110\n",
      "120\n",
      "130\n",
      "140\n",
      "150\n",
      "160\n",
      "170\n",
      "180\n",
      "190\n",
      "200\n",
      "210\n",
      "220\n",
      "230\n",
      "240\n",
      "250\n",
      "260\n",
      "270\n",
      "280\n",
      "290\n",
      "300\n",
      "310\n",
      "320\n",
      "330\n",
      "340\n",
      "350\n",
      "360\n",
      "261\n"
     ]
    }
   ],
   "source": [
    "url = 'https://treasurydirect.gov/GA-FI/FedInvest/selectSecurityPriceDate'\n",
    "daysBack = 366\n",
    "dataList = []\n",
    "sleepTime = .1\n",
    "\n",
    "for thisDay in range(0, daysBack):\n",
    "    if thisDay % 100 == 0:\n",
    "        print(thisDay)\n",
    "    thisDate = datetime.datetime(2023, 9, 16) + datetime.timedelta(-thisDay)\n",
    "    if thisDate.weekday() < 5:\n",
    "        day = thisDate.day\n",
    "        month = thisDate.month\n",
    "        year = thisDate.year\n",
    "        data = {'submit': 'Show Prices', \n",
    "                'priceDate.month':str(month), \n",
    "                'priceDate.day':str(day), \n",
    "                'priceDate.year':str(year)}\n",
    "    \n",
    "        r = requests.post(url, data=data)\n",
    "        soup = BeautifulSoup(r.text, 'html.parser')\n",
    "        rows = soup.findAll('tr')\n",
    "        \n",
    "        dataList.append([thisDate, rows[1:]])\n",
    "        time.sleep(sleepTime)\n",
    "\n",
    "dataList = [processBondDay(i) for i in dataList]\n",
    "print(len(dataList))"
   ]
  },
  {
   "cell_type": "code",
   "execution_count": 37,
   "id": "7ea1e1dc-a922-4260-bac2-bca8d1ca3141",
   "metadata": {},
   "outputs": [],
   "source": [
    "with open('../bonds/treasures.pkl', 'wb') as f:\n",
    "  pickle.dump(dataListMod, f)"
   ]
  }
 ],
 "metadata": {
  "kernelspec": {
   "display_name": "Python 3 (ipykernel)",
   "language": "python",
   "name": "python3"
  },
  "language_info": {
   "codemirror_mode": {
    "name": "ipython",
    "version": 3
   },
   "file_extension": ".py",
   "mimetype": "text/x-python",
   "name": "python",
   "nbconvert_exporter": "python",
   "pygments_lexer": "ipython3",
   "version": "3.10.12"
  }
 },
 "nbformat": 4,
 "nbformat_minor": 5
}
