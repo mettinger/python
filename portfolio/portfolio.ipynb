{
 "cells": [
  {
   "cell_type": "code",
   "execution_count": null,
   "metadata": {},
   "outputs": [],
   "source": [
    "%matplotlib notebook\n",
    "import datetime as datetime\n",
    "import pandas as pd\n",
    "import numpy as np\n",
    "import seaborn \n",
    "from alpha_vantage.timeseries import TimeSeries\n",
    "from alpha_vantage.cryptocurrencies import CryptoCurrencies\n",
    "import matplotlib.pyplot as plt\n",
    "import time\n",
    "\n",
    "#import pandas_datareader.data as web\n",
    "#import quandl \n",
    "#quandl.ApiConfig.api_key = 'DeZUeasSpK9QqNz3UMkk'"
   ]
  },
  {
   "cell_type": "code",
   "execution_count": null,
   "metadata": {},
   "outputs": [],
   "source": [
    "portfolioCSVPathMark = '/Users/mettinger/Google Drive/myPapers/myPortfolio.csv'\n",
    "portfolioCSVPathCathy = '/Users/mettinger/Google Drive/myPapers/cathyPortfolio.csv'\n",
    "cryptoCSVPath = '/Users/mettinger/Google Drive/myPapers/crypto.csv'"
   ]
  },
  {
   "cell_type": "markdown",
   "metadata": {},
   "source": [
    "## Funds (Mark)"
   ]
  },
  {
   "cell_type": "code",
   "execution_count": null,
   "metadata": {},
   "outputs": [],
   "source": [
    "dfPortfolio = pd.read_csv(portfolioCSVPathMark,header=None)\n",
    "dfPortfolio"
   ]
  },
  {
   "cell_type": "code",
   "execution_count": null,
   "metadata": {},
   "outputs": [],
   "source": [
    "def df2Value(dfPortfolio):\n",
    "    ts = TimeSeries(key='7AS7YUCGDVZUSODF', output_format='pandas')\n",
    "    \n",
    "    dfDict = {}\n",
    "    dfDict['CASH'] = (1.0,0,'various cash...')\n",
    "    \n",
    "    for desc,symbol, shares in dfPortfolio.values:\n",
    "        print(\"getting: \" + symbol)\n",
    "        if symbol != 'FDRXX' and symbol !='CORE' and symbol != 'SPAXX':\n",
    "            #dfDict[symbol] = (web.DataReader(symbol, \"google\", start, end), shares,desc)\n",
    "            #dfDict[symbol] = quandl.get(\"WIKI/%s\" % symbol, start_date=start, end_date=end)\n",
    "            \n",
    "            data, meta_data = ts.get_daily(symbol=symbol,outputsize='compact')\n",
    "            dfDict[desc] = (data,shares,desc)\n",
    "            \n",
    "        else:\n",
    "            dfDict['CASH'] = (1.0, dfDict['CASH'][1] + shares,'various cash...')\n",
    "    print(\"finished...\")\n",
    "    return dfDict "
   ]
  },
  {
   "cell_type": "code",
   "execution_count": null,
   "metadata": {},
   "outputs": [],
   "source": [
    "result0 = df2Value(dfPortfolio)"
   ]
  },
  {
   "cell_type": "code",
   "execution_count": null,
   "metadata": {},
   "outputs": [],
   "source": [
    "portfolioValueTimeSeriesMark = np.sum(np.array([triple[0]['4. close'].values * triple[1] \n",
    "                                            for key,triple in result0.items() if key !='CASH']),\n",
    "                                  axis=0) + result0['CASH'][1]"
   ]
  },
  {
   "cell_type": "code",
   "execution_count": null,
   "metadata": {},
   "outputs": [],
   "source": [
    "plt.figure()\n",
    "plt.plot(portfolioValueTimeSeriesMark)\n",
    "plt.title(\"Mark Fund Portfolio Over Previous 100 Days\");"
   ]
  },
  {
   "cell_type": "code",
   "execution_count": null,
   "metadata": {},
   "outputs": [],
   "source": [
    "print(\"stock portfolio: \"+ str(portfolioValueTimeSeriesMark[-1]))"
   ]
  },
  {
   "cell_type": "markdown",
   "metadata": {},
   "source": [
    "## Funds (Cathy)"
   ]
  },
  {
   "cell_type": "code",
   "execution_count": null,
   "metadata": {},
   "outputs": [],
   "source": [
    "dfPortfolio = pd.read_csv(portfolioCSVPathCathy,header=None)\n",
    "dfPortfolio"
   ]
  },
  {
   "cell_type": "code",
   "execution_count": null,
   "metadata": {},
   "outputs": [],
   "source": [
    "result1 = df2Value(dfPortfolio)"
   ]
  },
  {
   "cell_type": "code",
   "execution_count": null,
   "metadata": {},
   "outputs": [],
   "source": [
    "portfolioValueTimeSeriesCathy = np.sum(np.array([triple[0]['4. close'].values * triple[1] \n",
    "                                            for key,triple in result1.items() if key !='CASH']),\n",
    "                                  axis=0) + result1['CASH'][1]"
   ]
  },
  {
   "cell_type": "code",
   "execution_count": null,
   "metadata": {},
   "outputs": [],
   "source": [
    "plt.figure()\n",
    "plt.plot(portfolioValueTimeSeriesCathy)\n",
    "plt.title(\"Cathy Fund Portfolio Over Previous 100 Days\");"
   ]
  },
  {
   "cell_type": "code",
   "execution_count": null,
   "metadata": {},
   "outputs": [],
   "source": [
    "print(\"Cathy stock portfolio: \"+ str(portfolioValueTimeSeriesCathy[-1]))"
   ]
  },
  {
   "cell_type": "code",
   "execution_count": null,
   "metadata": {},
   "outputs": [],
   "source": [
    "print(\"Mark + Cathy (no crypto): \" + str(portfolioValueTimeSeriesMark[-1] + portfolioValueTimeSeriesCathy[-1]))"
   ]
  },
  {
   "cell_type": "markdown",
   "metadata": {},
   "source": [
    "# Crypto part NOT WORKING"
   ]
  },
  {
   "cell_type": "markdown",
   "metadata": {},
   "source": [
    "## Crypto"
   ]
  },
  {
   "cell_type": "code",
   "execution_count": null,
   "metadata": {},
   "outputs": [],
   "source": [
    "dfCrypto = pd.read_csv(cryptoCSVPath,header=None)\n",
    "dfCrypto"
   ]
  },
  {
   "cell_type": "code",
   "execution_count": null,
   "metadata": {},
   "outputs": [],
   "source": [
    "def dfCrypto2Value(dfCrypto):\n",
    "    \n",
    "    cc = CryptoCurrencies(key='7AS7YUCGDVZUSODF', output_format='pandas')\n",
    "    dfDict = {}\n",
    "    currencyDict = {}\n",
    "    \n",
    "    currencies = list(set([i[1] for i in dfCrypto.values]))\n",
    "    \n",
    "    for symbol in currencies:\n",
    "        print(\"getting: \" + symbol)\n",
    "        try:\n",
    "            data, meta_data = cc.get_digital_currency_intraday(symbol=symbol, market='USD')\n",
    "            currencyDict[symbol] = data\n",
    "        except Exception as err:\n",
    "            print(\"ERROR: \" + symbol)\n",
    "            print(err)\n",
    "        time.sleep(1.0)\n",
    "            \n",
    "    for desc,symbol, shares in dfCrypto.values:\n",
    "        dfDict[desc] = (currencyDict[symbol],shares,desc)\n",
    "        \n",
    "            \n",
    "    '''\n",
    "    for desc,symbol, shares in dfCrypto.values:\n",
    "        print(\"getting: \" + symbol)\n",
    "        #data, meta_data = cc.get_digital_currency_daily(symbol='ETH', market='USD')\n",
    "        try:\n",
    "            data, meta_data = cc.get_digital_currency_intraday(symbol=symbol, market='USD')\n",
    "            dfDict[desc] = (data,shares,desc)\n",
    "        except:\n",
    "            print(\"ERROR: \" + desc)\n",
    "            '''\n",
    "    print(\"finished...\")\n",
    "    return dfDict "
   ]
  },
  {
   "cell_type": "code",
   "execution_count": null,
   "metadata": {},
   "outputs": [],
   "source": [
    "result = dfCrypto2Value(dfCrypto)"
   ]
  },
  {
   "cell_type": "code",
   "execution_count": null,
   "metadata": {},
   "outputs": [],
   "source": [
    "result.keys()"
   ]
  },
  {
   "cell_type": "code",
   "execution_count": null,
   "metadata": {},
   "outputs": [],
   "source": [
    "cryptoValueTimeSeries = np.sum(np.array([(triple[0]['1b. price (USD)'].values * triple[1])[-12*48:] for key,triple in result.items()]),axis=0)"
   ]
  },
  {
   "cell_type": "code",
   "execution_count": null,
   "metadata": {},
   "outputs": [],
   "source": [
    "np.array([(triple[0]['1b. price (USD)'].values * triple[1])[-12*48:] for key,triple in result.items()])"
   ]
  },
  {
   "cell_type": "code",
   "execution_count": null,
   "metadata": {},
   "outputs": [],
   "source": [
    "cryptoValueTimeSeries = np.sum(np.array([(triple[0]['1b. price (USD)'].values[:,0] * triple[1])[-12*48:] for key,triple in result.items()]),axis=0)"
   ]
  },
  {
   "cell_type": "code",
   "execution_count": null,
   "metadata": {},
   "outputs": [],
   "source": [
    "plt.figure()\n",
    "plt.plot(cryptoValueTimeSeries)\n",
    "plt.title('Crypto Portfolio over previous 48 hours (increments of 5 minutes)');"
   ]
  },
  {
   "cell_type": "code",
   "execution_count": null,
   "metadata": {},
   "outputs": [],
   "source": [
    "print(\"crypto portfolio:  \" + str(cryptoValueTimeSeries[-1]))"
   ]
  },
  {
   "cell_type": "code",
   "execution_count": null,
   "metadata": {},
   "outputs": [],
   "source": [
    "print(\"total: \" + str(cryptoValueTimeSeries[-1] + portfolioValueTimeSeriesMark[-1] + portfolioValueTimeSeriesCathy[-1]))"
   ]
  },
  {
   "cell_type": "code",
   "execution_count": null,
   "metadata": {},
   "outputs": [],
   "source": []
  }
 ],
 "metadata": {
  "anaconda-cloud": {},
  "kernelspec": {
   "display_name": "Python 3",
   "language": "python",
   "name": "python3"
  },
  "language_info": {
   "codemirror_mode": {
    "name": "ipython",
    "version": 3
   },
   "file_extension": ".py",
   "mimetype": "text/x-python",
   "name": "python",
   "nbconvert_exporter": "python",
   "pygments_lexer": "ipython3",
   "version": "3.6.5"
  }
 },
 "nbformat": 4,
 "nbformat_minor": 2
}
