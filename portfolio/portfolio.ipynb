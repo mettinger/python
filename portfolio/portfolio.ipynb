{
 "cells": [
  {
   "cell_type": "code",
   "execution_count": null,
   "metadata": {
    "collapsed": true
   },
   "outputs": [],
   "source": [
    "%matplotlib notebook\n",
    "import datetime as datetime\n",
    "import pandas as pd\n",
    "import numpy as np\n",
    "import seaborn \n",
    "from alpha_vantage.timeseries import TimeSeries\n",
    "import matplotlib.pyplot as plt\n",
    "\n",
    "#import pandas_datareader.data as web\n",
    "#import quandl \n",
    "#quandl.ApiConfig.api_key = 'DeZUeasSpK9QqNz3UMkk'"
   ]
  },
  {
   "cell_type": "code",
   "execution_count": null,
   "metadata": {
    "collapsed": true
   },
   "outputs": [],
   "source": [
    "portfolioCSVPath = '/Users/marke/Google Drive/myPapers/myPortfolio.csv'"
   ]
  },
  {
   "cell_type": "code",
   "execution_count": null,
   "metadata": {},
   "outputs": [],
   "source": [
    "dfPortfolio = pd.read_csv(portfolioCSVPath,header=None)\n",
    "dfPortfolio"
   ]
  },
  {
   "cell_type": "code",
   "execution_count": null,
   "metadata": {
    "collapsed": true
   },
   "outputs": [],
   "source": [
    "def df2Value(dfPortfolio):\n",
    "    ts = TimeSeries(key='7AS7YUCGDVZUSODF', output_format='pandas')\n",
    "    \n",
    "    dfDict = {}\n",
    "    for desc,symbol, shares in dfPortfolio.values:\n",
    "        print \"getting: \" + symbol\n",
    "        if symbol != 'FDRXX':\n",
    "            #dfDict[symbol] = (web.DataReader(symbol, \"google\", start, end), shares,desc)\n",
    "            #dfDict[symbol] = quandl.get(\"WIKI/%s\" % symbol, start_date=start, end_date=end)\n",
    "            \n",
    "            data, meta_data = ts.get_daily(symbol=symbol,outputsize='compact')\n",
    "            dfDict[symbol] = (data,shares,desc)\n",
    "            \n",
    "        else:\n",
    "            dfDict[symbol] = (1.0,shares,desc)\n",
    "    print \"finished...\"\n",
    "    return dfDict "
   ]
  },
  {
   "cell_type": "code",
   "execution_count": null,
   "metadata": {},
   "outputs": [],
   "source": [
    "result = df2Value(dfPortfolio)"
   ]
  },
  {
   "cell_type": "code",
   "execution_count": null,
   "metadata": {},
   "outputs": [],
   "source": [
    "portfolioValueTimeSeries = np.sum(np.array([triple[0]['close'].values * triple[1] \n",
    "                                            for key,triple in result.items() if key !='FDRXX']),\n",
    "                                  axis=0) + result['FDRXX'][1] \n",
    "\n",
    "print portfolioValueTimeSeries"
   ]
  },
  {
   "cell_type": "code",
   "execution_count": null,
   "metadata": {},
   "outputs": [],
   "source": [
    "plt.figure()\n",
    "plt.plot(portfolioValueTimeSeries)"
   ]
  },
  {
   "cell_type": "code",
   "execution_count": null,
   "metadata": {
    "collapsed": true
   },
   "outputs": [],
   "source": []
  }
 ],
 "metadata": {
  "anaconda-cloud": {},
  "kernelspec": {
   "display_name": "Python [conda root]",
   "language": "python",
   "name": "conda-root-py"
  },
  "language_info": {
   "codemirror_mode": {
    "name": "ipython",
    "version": 2
   },
   "file_extension": ".py",
   "mimetype": "text/x-python",
   "name": "python",
   "nbconvert_exporter": "python",
   "pygments_lexer": "ipython2",
   "version": "2.7.13"
  }
 },
 "nbformat": 4,
 "nbformat_minor": 2
}
