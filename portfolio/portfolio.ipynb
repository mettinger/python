{
 "cells": [
  {
   "cell_type": "code",
   "execution_count": null,
   "metadata": {
    "collapsed": true
   },
   "outputs": [],
   "source": [
    "%matplotlib notebook\n",
    "import datetime as datetime\n",
    "import pandas as pd\n",
    "import numpy as np\n",
    "import seaborn \n",
    "from alpha_vantage.timeseries import TimeSeries\n",
    "from alpha_vantage.cryptocurrencies import CryptoCurrencies\n",
    "import matplotlib.pyplot as plt\n",
    "\n",
    "#import pandas_datareader.data as web\n",
    "#import quandl \n",
    "#quandl.ApiConfig.api_key = 'DeZUeasSpK9QqNz3UMkk'"
   ]
  },
  {
   "cell_type": "code",
   "execution_count": null,
   "metadata": {
    "collapsed": true
   },
   "outputs": [],
   "source": [
    "portfolioCSVPath = '/Users/marke/Google Drive/myPapers/myPortfolio.csv'\n",
    "#portfolioCSVPath = '/Users/marke/Google Drive/myPapers/cathyPortfolio.csv'\n",
    "cryptoCSVPath = '/Users/marke/Google Drive/myPapers/crypto.csv'"
   ]
  },
  {
   "cell_type": "markdown",
   "metadata": {},
   "source": [
    "## Funds"
   ]
  },
  {
   "cell_type": "code",
   "execution_count": null,
   "metadata": {},
   "outputs": [],
   "source": [
    "dfPortfolio = pd.read_csv(portfolioCSVPath,header=None)\n",
    "dfPortfolio"
   ]
  },
  {
   "cell_type": "code",
   "execution_count": null,
   "metadata": {
    "collapsed": true
   },
   "outputs": [],
   "source": [
    "def df2Value(dfPortfolio):\n",
    "    ts = TimeSeries(key='7AS7YUCGDVZUSODF', output_format='pandas')\n",
    "    \n",
    "    dfDict = {}\n",
    "    dfDict['CASH'] = (1.0,0,'various cash...')\n",
    "    \n",
    "    for desc,symbol, shares in dfPortfolio.values:\n",
    "        print \"getting: \" + symbol\n",
    "        if symbol != 'FDRXX' and symbol !='CORE':\n",
    "            #dfDict[symbol] = (web.DataReader(symbol, \"google\", start, end), shares,desc)\n",
    "            #dfDict[symbol] = quandl.get(\"WIKI/%s\" % symbol, start_date=start, end_date=end)\n",
    "            \n",
    "            data, meta_data = ts.get_daily(symbol=symbol,outputsize='compact')\n",
    "            dfDict[desc] = (data,shares,desc)\n",
    "            \n",
    "        else:\n",
    "            dfDict['CASH'] = (1.0, dfDict['CASH'][1] + shares,'various cash...')\n",
    "    print \"finished...\"\n",
    "    return dfDict "
   ]
  },
  {
   "cell_type": "code",
   "execution_count": null,
   "metadata": {},
   "outputs": [],
   "source": [
    "result0 = df2Value(dfPortfolio)"
   ]
  },
  {
   "cell_type": "code",
   "execution_count": null,
   "metadata": {
    "collapsed": true
   },
   "outputs": [],
   "source": [
    "portfolioValueTimeSeries = np.sum(np.array([triple[0]['close'].values * triple[1] \n",
    "                                            for key,triple in result0.items() if key !='CASH']),\n",
    "                                  axis=0) + result0['CASH'][1]"
   ]
  },
  {
   "cell_type": "code",
   "execution_count": null,
   "metadata": {},
   "outputs": [],
   "source": [
    "plt.figure()\n",
    "plt.plot(portfolioValueTimeSeries)\n",
    "plt.title(\"Fund Portfolio Over Previous 100 Days\");"
   ]
  },
  {
   "cell_type": "code",
   "execution_count": null,
   "metadata": {},
   "outputs": [],
   "source": [
    "print \"stock portfolio: \"+ str(portfolioValueTimeSeries[-1])"
   ]
  },
  {
   "cell_type": "markdown",
   "metadata": {},
   "source": [
    "## Crypto"
   ]
  },
  {
   "cell_type": "code",
   "execution_count": null,
   "metadata": {},
   "outputs": [],
   "source": [
    "dfCrypto = pd.read_csv(cryptoCSVPath,header=None)\n",
    "dfCrypto"
   ]
  },
  {
   "cell_type": "code",
   "execution_count": null,
   "metadata": {
    "collapsed": true
   },
   "outputs": [],
   "source": [
    "def dfCrypto2Value(dfCrypto):\n",
    "    \n",
    "    cc = CryptoCurrencies(key='7AS7YUCGDVZUSODF', output_format='pandas')\n",
    "    dfDict = {}\n",
    "    for desc,symbol, shares in dfCrypto.values:\n",
    "        print \"getting: \" + symbol\n",
    "        #data, meta_data = cc.get_digital_currency_daily(symbol='ETH', market='USD')\n",
    "        try:\n",
    "            data, meta_data = cc.get_digital_currency_intraday(symbol=symbol, market='USD')\n",
    "            dfDict[desc] = (data,shares,desc)\n",
    "        except:\n",
    "            \"ERROR: \" + desc\n",
    "    print \"finished...\"\n",
    "    return dfDict "
   ]
  },
  {
   "cell_type": "code",
   "execution_count": null,
   "metadata": {},
   "outputs": [],
   "source": [
    "result = dfCrypto2Value(dfCrypto)"
   ]
  },
  {
   "cell_type": "code",
   "execution_count": null,
   "metadata": {
    "collapsed": true
   },
   "outputs": [],
   "source": [
    "cryptoValueTimeSeries = np.sum(np.array([(triple[0]['. price (USD)'].values[:,0] * triple[1])[-12*48:] for key,triple in result.items()]),axis=0)"
   ]
  },
  {
   "cell_type": "code",
   "execution_count": null,
   "metadata": {},
   "outputs": [],
   "source": [
    "plt.figure()\n",
    "plt.plot(cryptoValueTimeSeries)\n",
    "plt.title('Crypto Portfolio over previous 48 hours (increments of 5 minutes)');"
   ]
  },
  {
   "cell_type": "code",
   "execution_count": null,
   "metadata": {},
   "outputs": [],
   "source": [
    "print \"crypto portfolio:  \" + str(cryptoValueTimeSeries[-1])"
   ]
  },
  {
   "cell_type": "code",
   "execution_count": null,
   "metadata": {},
   "outputs": [],
   "source": [
    "print \"total: \" + str(cryptoValueTimeSeries[-1] + portfolioValueTimeSeries[-1])"
   ]
  },
  {
   "cell_type": "code",
   "execution_count": null,
   "metadata": {
    "collapsed": true
   },
   "outputs": [],
   "source": []
  }
 ],
 "metadata": {
  "anaconda-cloud": {},
  "kernelspec": {
   "display_name": "Python [conda root]",
   "language": "python",
   "name": "conda-root-py"
  },
  "language_info": {
   "codemirror_mode": {
    "name": "ipython",
    "version": 2
   },
   "file_extension": ".py",
   "mimetype": "text/x-python",
   "name": "python",
   "nbconvert_exporter": "python",
   "pygments_lexer": "ipython2",
   "version": "2.7.13"
  }
 },
 "nbformat": 4,
 "nbformat_minor": 2
}
