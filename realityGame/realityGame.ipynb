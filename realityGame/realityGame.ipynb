{
 "cells": [
  {
   "cell_type": "code",
   "execution_count": 1,
   "metadata": {},
   "outputs": [],
   "source": [
    "import numpy as np"
   ]
  },
  {
   "cell_type": "code",
   "execution_count": 23,
   "metadata": {},
   "outputs": [
    {
     "data": {
      "text/plain": [
       "array([[1, 1, 0],\n",
       "       [0, 2, 3],\n",
       "       [0, 0, 2],\n",
       "       [0, 1, 2],\n",
       "       [1, 0, 3],\n",
       "       [1, 1, 1],\n",
       "       [1, 1, 3],\n",
       "       [1, 2, 3],\n",
       "       [1, 1, 2],\n",
       "       [0, 2, 0]])"
      ]
     },
     "execution_count": 23,
     "metadata": {},
     "output_type": "execute_result"
    }
   ],
   "source": [
    "countsForProperties = [2,3,4]\n",
    "numObjects = 10\n",
    "\n",
    "numProperty =len(countsForProperties)\n",
    "ground = np.zeros((numObjects,numProperty), dtype=np.int)\n",
    "\n",
    "for i in range(numProperty):\n",
    "    ground[:,i] = np.random.randint(low=0, high=countsForProperties[i], size=numObjects)\n",
    "    \n",
    "ground"
   ]
  },
  {
   "cell_type": "code",
   "execution_count": 53,
   "metadata": {},
   "outputs": [],
   "source": [
    "def appearance(array, countsForProperties=None, permList=None):\n",
    "    numObjects, numProperties = array.shape\n",
    "    if countsForProperties == None:\n",
    "        countsForProperties = [len(set(array[:,i])) for i in range(numProperties)]\n",
    "    if permList == None:\n",
    "        permList = [np.random.permutation(i) for i in countsForProperties]\n",
    "        \n",
    "    permArray = np.zeros_like(array)\n",
    "    for i in range(numProperties):\n",
    "        thisPerm = permList[i]\n",
    "        for j in range(numObjects):\n",
    "            permArray[j,i] = thisPerm[array[j,i]]\n",
    "            \n",
    "    return permArray,permList\n",
    "        "
   ]
  },
  {
   "cell_type": "code",
   "execution_count": 54,
   "metadata": {},
   "outputs": [
    {
     "name": "stdout",
     "output_type": "stream",
     "text": [
      "[[1 1 0]\n",
      " [0 2 3]\n",
      " [0 0 2]\n",
      " [0 1 2]\n",
      " [1 0 3]\n",
      " [1 1 1]\n",
      " [1 1 3]\n",
      " [1 2 3]\n",
      " [1 1 2]\n",
      " [0 2 0]]\n",
      "[[1 1 3]\n",
      " [0 2 1]\n",
      " [0 0 2]\n",
      " [0 1 2]\n",
      " [1 0 1]\n",
      " [1 1 0]\n",
      " [1 1 1]\n",
      " [1 2 1]\n",
      " [1 1 2]\n",
      " [0 2 3]]\n"
     ]
    }
   ],
   "source": [
    "print(ground)\n",
    "permArray, permList = appearance(ground)\n",
    "print(permArray)"
   ]
  },
  {
   "cell_type": "code",
   "execution_count": null,
   "metadata": {},
   "outputs": [],
   "source": []
  }
 ],
 "metadata": {
  "@webio": {
   "lastCommId": null,
   "lastKernelId": null
  },
  "kernelspec": {
   "display_name": "Python 3",
   "language": "python",
   "name": "python3"
  },
  "language_info": {
   "codemirror_mode": {
    "name": "ipython",
    "version": 3
   },
   "file_extension": ".py",
   "mimetype": "text/x-python",
   "name": "python",
   "nbconvert_exporter": "python",
   "pygments_lexer": "ipython3",
   "version": "3.8.5"
  }
 },
 "nbformat": 4,
 "nbformat_minor": 4
}
