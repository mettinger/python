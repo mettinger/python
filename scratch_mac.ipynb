{
 "cells": [
  {
   "cell_type": "code",
   "execution_count": 3,
   "metadata": {},
   "outputs": [
    {
     "name": "stdout",
     "output_type": "stream",
     "text": [
      "Your browser has been opened to visit:\n",
      "\n",
      "    https://accounts.google.com/o/oauth2/auth?client_id=421111697115-vgsg2gpa5s8qvglfpsf3crnresvv4sfo.apps.googleusercontent.com&redirect_uri=http%3A%2F%2Flocalhost%3A8080%2F&scope=https%3A%2F%2Fwww.googleapis.com%2Fauth%2Fdrive&access_type=offline&response_type=code\n",
      "\n",
      "Authentication successful.\n"
     ]
    }
   ],
   "source": [
    "from pydrive.auth import GoogleAuth\n",
    "\n",
    "gauth = GoogleAuth()\n",
    "gauth.LocalWebserverAuth()"
   ]
  },
  {
   "cell_type": "code",
   "execution_count": 4,
   "metadata": {},
   "outputs": [],
   "source": [
    "from pydrive.drive import GoogleDrive\n",
    "\n",
    "drive = GoogleDrive(gauth)"
   ]
  },
  {
   "cell_type": "code",
   "execution_count": 5,
   "metadata": {},
   "outputs": [
    {
     "name": "stdout",
     "output_type": "stream",
     "text": [
      "title: Colab Notebooks, id: 1gdQ9kmX38lumZjtjYpdRtYTIEIpLgSM1\n",
      "title: harperDoc, id: 1m6UiMkGu8eGcbPCtvIpAauNQvUhe7bwF\n",
      "title: dorsetExpenses, id: 1Cfzm6O9IZwhYlGGE8NAPrghj4yZFBpFp6DOWEQ7GtgI\n",
      "title: mark_mom_and_dad_expenses, id: 1GzjN1DX0JowVB1smKh4UmT7DAlx4BpJ2K_c_gfkd7ZY\n",
      "title: wedding.mp4, id: 1En3fnb6iWD4p1Geen4zflSETdCs1nX5S\n",
      "title: Wedding Ceremony_Mark Ettinger and Cathy Tipton_V2_11-11-17.docx, id: 1ZcfVJbWzVCjPk9DUnKJYdKnjJt_mlrIh\n",
      "title: extract_passwd_jmect!!.pdf, id: 0B0JKApEv6abNWFlJcTFEYVJOWXM\n",
      "title: _obit-clergy record..John H. Ettinger, id: 1FD0Zz9E8ynqjl9VPVmaJsVCRJDKOi4MyzBlWOnOSed4\n",
      "title: Hurts-so-good-posechart.pdf, id: 0B0JKApEv6abNenhVRTQ0S3k5ajg\n",
      "title: mark_and_cathy_expenses_online, id: 1t-XhIgjxVurgCH32FxGhKF1xxH9H0iORYgtRX0QwcyQ\n",
      "title: audio, id: 0B0JKApEv6abNdXhLNHY5em1xTFU\n",
      "title: ebooks, id: 0B0JKApEv6abNVXh2TW1SM2o1bkU\n",
      "title: bitcoin, id: 0B0JKApEv6abNOURyNW1qVUlVSDA\n",
      "title: resumes, id: 0B0JKApEv6abNZ0F2QkNzVm5mbHc\n",
      "title: MyPapers, id: 0B0JKApEv6abNcGNaQ3JQaDdYa2M\n"
     ]
    }
   ],
   "source": [
    "# Auto-iterate through all files that matches this query\n",
    "file_list = drive.ListFile({'q': \"'root' in parents and trashed=false\"}).GetList()\n",
    "for file1 in file_list:\n",
    "  print('title: %s, id: %s' % (file1['title'], file1['id']))"
   ]
  },
  {
   "cell_type": "code",
   "execution_count": null,
   "metadata": {},
   "outputs": [],
   "source": [
    "from PyPDF2 import PdfFileReader\n",
    " \n",
    " \n",
    "def text_extractor(path):\n",
    "    with open(path, 'rb') as f:\n",
    "        pdf = PdfFileReader(f)\n",
    " \n",
    "        # get the first page\n",
    "        page = pdf.getPage(1)\n",
    "        print(page)\n",
    "        print('Page type: {}'.format(str(type(page))))\n",
    " \n",
    "        text = page.extractText()\n",
    "        print(text)\n",
    " \n",
    " \n",
    "if __name__ == '__main__':\n",
    "    path = 'reportlab-sample.pdf'\n",
    "    text_extractor(path)"
   ]
  },
  {
   "cell_type": "code",
   "execution_count": 1,
   "metadata": {},
   "outputs": [
    {
     "data": {
      "application/javascript": [
       "require.config({\n",
       "    paths: {\n",
       "        d3: 'https://d3js.org/d3.v5.min'\n",
       "    }\n",
       "});"
      ],
      "text/plain": [
       "<IPython.core.display.Javascript object>"
      ]
     },
     "metadata": {},
     "output_type": "display_data"
    }
   ],
   "source": [
    "%%javascript\n",
    "require.config({\n",
    "    paths: {\n",
    "        d3: 'https://d3js.org/d3.v5.min'\n",
    "    }\n",
    "});"
   ]
  },
  {
   "cell_type": "code",
   "execution_count": 2,
   "metadata": {},
   "outputs": [
    {
     "data": {
      "application/javascript": [
       "(function(element) {\n",
       "    require(['d3'], function(d3) {   \n",
       "        var data = [1, 2, 4, 8, 16, 8, 4, 2, 1]\n",
       "\n",
       "        var svg = d3.select(element.get(0)).append('svg')\n",
       "            .attr('width', 400)\n",
       "            .attr('height', 200);\n",
       "        svg.selectAll('circle')\n",
       "            .data(data)\n",
       "            .enter()\n",
       "            .append('circle')\n",
       "            .attr(\"cx\", function(d, i) {return 40 * (i + 1);})\n",
       "            .attr(\"cy\", function(d, i) {return 100 + 30 * (i % 3 - 1);})\n",
       "            .style(\"fill\", \"#1570a4\")\n",
       "            .transition().duration(2000)\n",
       "            .attr(\"r\", function(d) {return 2*d;})\n",
       "        ;\n",
       "    })\n",
       "})(element);"
      ],
      "text/plain": [
       "<IPython.core.display.Javascript object>"
      ]
     },
     "metadata": {},
     "output_type": "display_data"
    }
   ],
   "source": [
    "%%javascript\n",
    "(function(element) {\n",
    "    require(['d3'], function(d3) {   \n",
    "        var data = [1, 2, 4, 8, 16, 8, 4, 2, 1]\n",
    "\n",
    "        var svg = d3.select(element.get(0)).append('svg')\n",
    "            .attr('width', 400)\n",
    "            .attr('height', 200);\n",
    "        svg.selectAll('circle')\n",
    "            .data(data)\n",
    "            .enter()\n",
    "            .append('circle')\n",
    "            .attr(\"cx\", function(d, i) {return 40 * (i + 1);})\n",
    "            .attr(\"cy\", function(d, i) {return 100 + 30 * (i % 3 - 1);})\n",
    "            .style(\"fill\", \"#1570a4\")\n",
    "            .transition().duration(2000)\n",
    "            .attr(\"r\", function(d) {return 2*d;})\n",
    "        ;\n",
    "    })\n",
    "})(element);"
   ]
  },
  {
   "cell_type": "code",
   "execution_count": null,
   "metadata": {},
   "outputs": [],
   "source": []
  }
 ],
 "metadata": {
  "kernelspec": {
   "display_name": "Python 3",
   "language": "python",
   "name": "python3"
  },
  "language_info": {
   "codemirror_mode": {
    "name": "ipython",
    "version": 3
   },
   "file_extension": ".py",
   "mimetype": "text/x-python",
   "name": "python",
   "nbconvert_exporter": "python",
   "pygments_lexer": "ipython3",
   "version": "3.6.5"
  }
 },
 "nbformat": 4,
 "nbformat_minor": 2
}
