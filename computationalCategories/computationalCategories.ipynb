{
 "cells": [
  {
   "cell_type": "code",
   "execution_count": 1,
   "metadata": {},
   "outputs": [],
   "source": [
    "class Category:\n",
    "    def __init__(self, generators:dict, relations:dict, verts:set = set([])) -> None:\n",
    "        verts = set(verts)\n",
    "        src = set([i[0] for i in generators.values()])\n",
    "        target = set([i[1] for i in generators.values()])\n",
    "\n",
    "        self.verts = verts.union(src).union(target)\n",
    "        self.morphs = set(list(generators.keys()) + ['id_' + str(i) for i in self.verts])\n",
    "        self.relations = relations\n",
    "\n",
    "        associativeBoolean = self.checkAssociativity()\n",
    "        self.simplifyComposition()\n",
    "\n",
    "    def __str__(self) -> str:\n",
    "        return str((self.verts, self.morphs, self.relations))\n",
    "\n",
    "    def checkAssociativity(self) -> bool:\n",
    "        return True\n",
    "\n",
    "    def simplifyComposition(self) -> None:\n",
    "        pass\n",
    "\n",
    "class Functor:\n",
    "    def __init__(self, c0: Category, c1: Category, nodeMap: dict, morphMap: dict) -> None:\n",
    "        self.c0 = c0\n",
    "        self.c1 = c1\n",
    "        self.nodeMap = nodeMap\n",
    "        self.morphMap = morphMap\n",
    "\n",
    "        self.extendMorphMap()\n",
    "\n",
    "    def validate() -> bool:\n",
    "        pass\n",
    "\n",
    "    def extendMorphMap() -> dict:\n",
    "        pass\n"
   ]
  },
  {
   "cell_type": "code",
   "execution_count": 2,
   "metadata": {},
   "outputs": [],
   "source": [
    "verts = []\n",
    "generators = {'f':(0,1), 'g':(1,0)}\n",
    "relations = {('f', 'g'): 'id_0', ('g', 'f'): 'id_1'}"
   ]
  },
  {
   "cell_type": "code",
   "execution_count": 3,
   "metadata": {},
   "outputs": [
    {
     "name": "stdout",
     "output_type": "stream",
     "text": [
      "({0, 1}, {'f', 'id_1', 'g', 'id_0'}, {('f', 'g'): 'id_0', ('g', 'f'): 'id_1'})\n"
     ]
    }
   ],
   "source": [
    "category = Category(generators, relations, verts)\n",
    "print(category)"
   ]
  },
  {
   "cell_type": "code",
   "execution_count": null,
   "metadata": {},
   "outputs": [],
   "source": []
  }
 ],
 "metadata": {
  "kernelspec": {
   "display_name": "base",
   "language": "python",
   "name": "python3"
  },
  "language_info": {
   "codemirror_mode": {
    "name": "ipython",
    "version": 3
   },
   "file_extension": ".py",
   "mimetype": "text/x-python",
   "name": "python",
   "nbconvert_exporter": "python",
   "pygments_lexer": "ipython3",
   "version": "3.10.12"
  }
 },
 "nbformat": 4,
 "nbformat_minor": 2
}
