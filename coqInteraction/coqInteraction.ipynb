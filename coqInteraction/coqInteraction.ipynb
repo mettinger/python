{
 "cells": [
  {
   "cell_type": "code",
   "execution_count": 89,
   "metadata": {},
   "outputs": [
    {
     "name": "stderr",
     "output_type": "stream",
     "text": [
      "Exception in thread Thread-25:\n",
      "Traceback (most recent call last):\n",
      "  File \"/home/ubuntu/anaconda3/lib/python3.6/threading.py\", line 916, in _bootstrap_inner\n",
      "    self.run()\n",
      "  File \"/home/ubuntu/anaconda3/lib/python3.6/threading.py\", line 864, in run\n",
      "    self._target(*self._args, **self._kwargs)\n",
      "  File \"<ipython-input-80-ec69062adc49>\", line 28, in _populateQueue\n",
      "    raise UnexpectedEndOfStream\n",
      "UnexpectedEndOfStream\n",
      "\n"
     ]
    }
   ],
   "source": [
    "from threading import Thread\n",
    "from queue import Queue, Empty\n",
    "from subprocess import Popen, PIPE\n",
    "from time import sleep\n",
    "import numpy as np\n",
    "\n",
    "class NonBlockingStreamReader:\n",
    "\n",
    "    def __init__(self, stream):\n",
    "        '''\n",
    "        stream: the stream to read from.\n",
    "                Usually a process' stdout or stderr.\n",
    "        '''\n",
    "\n",
    "        self._s = stream\n",
    "        self._q = Queue()\n",
    "\n",
    "        def _populateQueue(stream, queue):\n",
    "            '''\n",
    "            Collect lines from 'stream' and put them in 'quque'.\n",
    "            '''\n",
    "\n",
    "            while True:\n",
    "                line = stream.readline()\n",
    "                if line:\n",
    "                    queue.put(line)\n",
    "                else:\n",
    "                    raise UnexpectedEndOfStream\n",
    "\n",
    "        self._t = Thread(target = _populateQueue,\n",
    "                args = (self._s, self._q))\n",
    "        self._t.daemon = True\n",
    "        self._t.start() #start collecting lines from the stream\n",
    "\n",
    "    def readline(self, timeout = None):\n",
    "        try:\n",
    "            return self._q.get(block = timeout is not None,\n",
    "                    timeout = timeout)\n",
    "        except Empty:\n",
    "            return None\n",
    "\n",
    "class UnexpectedEndOfStream(Exception): pass\n",
    "\n",
    "def output_from_command(command=None):\n",
    "    if command:\n",
    "        command = command.encode()\n",
    "        p.stdin.write(command)\n",
    "        p.stdin.flush()\n",
    "    outputList = []\n",
    "    while True:\n",
    "        output = nbsr.readline(0.1) # 0.1 secs to let the shell output the result\n",
    "        if not output:\n",
    "            outputList.append('No more data\\n\\n')\n",
    "            return outputList\n",
    "        else:\n",
    "            outputList.append(output)\n",
    "            \n",
    "def pretty(d, indent=0):\n",
    "    for key, value in d.items():\n",
    "        print('\\t' * indent + str(key))\n",
    "        if isinstance(value, dict):\n",
    "            pretty(value, indent+1)\n",
    "        elif isinstance(value, list):\n",
    "            for i in value:\n",
    "                print('\\t' * (indent+1) + str(i))\n",
    "        else:\n",
    "            print('\\t' * (indent+1) + str(value))\n",
    "\n",
    "def doAdd(coqString, resultDict):\n",
    "    commandExtended = '(Add () \"%s\")' % coqString\n",
    "    result = output_from_command(command=commandExtended)[-3].decode('ASCII')\n",
    "    start = result.find(\"Added\")\n",
    "    end = result.find(\"((\")\n",
    "    thisID = result[start + 6:end]\n",
    "    \n",
    "    execCommand = '(Exec %s)' % thisID\n",
    "    execResult = output_from_command(execCommand)\n",
    "    \n",
    "    goalCommand = '(Query ((pp ((pp_format PpStr)))) Goals)'\n",
    "    goalResult = output_from_command(goalCommand)\n",
    "    \n",
    "    result = goalResult[1].decode('ASCII').replace('\\\\n','\\n')\n",
    "    \n",
    "    start = result.find('\"')\n",
    "    result = result[start + 1:]\n",
    "    end = result.find('\"')\n",
    "    result = result[:end]\n",
    "   \n",
    "    goalList = result.strip().split(\"\\n\\n\")\n",
    "   \n",
    "    result = [i.split('\\n============================\\n') for i in goalList]\n",
    "    result = [(i[0].strip().split('\\n'),i[1].replace('\\n','')) for i in result]\n",
    "    result = [([j.strip() for j in i[0]], \" \".join(i[1].split())) for i in result]\n",
    "    \n",
    "    if coqString in resultDict.keys():\n",
    "        resultDict[coqString + \"     duplicate: \" + str(np.random.randint(0,1000))] = result\n",
    "    else:\n",
    "        resultDict[coqString] = result\n",
    "    return resultDict\n",
    "    \n",
    "def doCommand(command, resultDict={}):\n",
    "    if command in resultDict.keys():\n",
    "        resultDict[command + \"     duplicate: \" + str(np.random.randint(0,1000))] = output_from_command(command=command)\n",
    "    else:\n",
    "        resultDict[command] = output_from_command(command=command)\n",
    "    return resultDict\n",
    "\n",
    "try:\n",
    "    p.terminate()\n",
    "except:\n",
    "    pass\n",
    "\n",
    "p = Popen([\"/home/ubuntu/.opam/4.06.1/bin/sertop\"], stdin=PIPE, stdout=PIPE, shell=True)\n",
    "nbsr = NonBlockingStreamReader(p.stdout)\n",
    "\n",
    "load = output_from_command(None) # omits Coq initialization data from results\n",
    "resultDict = {}"
   ]
  },
  {
   "cell_type": "code",
   "execution_count": null,
   "metadata": {},
   "outputs": [],
   "source": [
    "command = '(Add () \"Theorem my_first_proof : (forall A : Prop, A -> A).\")'"
   ]
  },
  {
   "cell_type": "code",
   "execution_count": null,
   "metadata": {},
   "outputs": [],
   "source": [
    "command = '(Add () \"Lemma addn0 n : n + 0 = n. Proof. induction n.\")'"
   ]
  },
  {
   "cell_type": "code",
   "execution_count": null,
   "metadata": {},
   "outputs": [],
   "source": [
    "command = '(Add () \"Theorem test_prop : forall A B C:Prop, (A -> B -> C) -> (A -> B) -> A -> C.\")'"
   ]
  },
  {
   "cell_type": "code",
   "execution_count": null,
   "metadata": {},
   "outputs": [],
   "source": [
    "command = '(Query ((sid 3)) Goals)'"
   ]
  },
  {
   "cell_type": "code",
   "execution_count": null,
   "metadata": {},
   "outputs": [],
   "source": [
    "command = '(Query ( (pp ((pp_format PpStr))) (sid 2) ) Ast)'"
   ]
  },
  {
   "cell_type": "code",
   "execution_count": null,
   "metadata": {},
   "outputs": [],
   "source": [
    "command = '(Cancel (0))'"
   ]
  },
  {
   "cell_type": "code",
   "execution_count": null,
   "metadata": {},
   "outputs": [],
   "source": [
    "command = '(Exec 7)'"
   ]
  },
  {
   "cell_type": "code",
   "execution_count": null,
   "metadata": {},
   "outputs": [],
   "source": [
    "command = '(Query () Goals)'"
   ]
  },
  {
   "cell_type": "code",
   "execution_count": null,
   "metadata": {},
   "outputs": [],
   "source": [
    "command = '(Query ((pp ((pp_format PpStr)))) Goals)'"
   ]
  },
  {
   "cell_type": "code",
   "execution_count": null,
   "metadata": {},
   "outputs": [],
   "source": [
    "command = '(Add () \"intros.\")'"
   ]
  },
  {
   "cell_type": "code",
   "execution_count": 81,
   "metadata": {},
   "outputs": [],
   "source": [
    "coqString = \"Theorem test_prop : forall A B C:Prop, (A -> B -> C) -> (A -> B) -> A -> C.  Proof.\""
   ]
  },
  {
   "cell_type": "code",
   "execution_count": 85,
   "metadata": {},
   "outputs": [],
   "source": [
    "coqString = \"intro.\""
   ]
  },
  {
   "cell_type": "code",
   "execution_count": 90,
   "metadata": {},
   "outputs": [],
   "source": [
    "coqString = \"Lemma addn0 n : n + 0 = n. Proof. induction n.\""
   ]
  },
  {
   "cell_type": "code",
   "execution_count": 91,
   "metadata": {},
   "outputs": [
    {
     "name": "stdout",
     "output_type": "stream",
     "text": [
      "Lemma addn0 n : n + 0 = n. Proof. induction n.\n",
      "\t(['none'], '0 + 0 = 0')\n",
      "\t(['IHn : n + 0 = n', 'n : nat'], 'S n + 0 = S n')\n"
     ]
    }
   ],
   "source": [
    "resultDict = doAdd(coqString,resultDict)\n",
    "pretty(resultDict)"
   ]
  },
  {
   "cell_type": "code",
   "execution_count": null,
   "metadata": {},
   "outputs": [],
   "source": [
    "#resultDict = doCommand(command, resultDict)\n",
    "#pretty(resultDict)"
   ]
  },
  {
   "cell_type": "code",
   "execution_count": null,
   "metadata": {},
   "outputs": [],
   "source": [
    "#resultDict = {thisCommand:output_from_command(thisCommand) for thisCommand in commandList}\n",
    "#pretty(resultDict)"
   ]
  }
 ],
 "metadata": {
  "anaconda-cloud": {},
  "kernelspec": {
   "display_name": "Python 3",
   "language": "python",
   "name": "python3"
  },
  "language_info": {
   "codemirror_mode": {
    "name": "ipython",
    "version": 3
   },
   "file_extension": ".py",
   "mimetype": "text/x-python",
   "name": "python",
   "nbconvert_exporter": "python",
   "pygments_lexer": "ipython3",
   "version": "3.6.4"
  }
 },
 "nbformat": 4,
 "nbformat_minor": 1
}
