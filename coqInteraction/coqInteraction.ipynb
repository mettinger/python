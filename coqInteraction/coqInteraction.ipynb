{
 "cells": [
  {
   "cell_type": "code",
   "execution_count": 1,
   "metadata": {},
   "outputs": [],
   "source": [
    "from threading import Thread\n",
    "from queue import Queue, Empty\n",
    "from subprocess import Popen, PIPE\n",
    "from time import sleep"
   ]
  },
  {
   "cell_type": "code",
   "execution_count": 2,
   "metadata": {},
   "outputs": [],
   "source": [
    "class NonBlockingStreamReader:\n",
    "\n",
    "    def __init__(self, stream):\n",
    "        '''\n",
    "        stream: the stream to read from.\n",
    "                Usually a process' stdout or stderr.\n",
    "        '''\n",
    "\n",
    "        self._s = stream\n",
    "        self._q = Queue()\n",
    "\n",
    "        def _populateQueue(stream, queue):\n",
    "            '''\n",
    "            Collect lines from 'stream' and put them in 'quque'.\n",
    "            '''\n",
    "\n",
    "            while True:\n",
    "                line = stream.readline()\n",
    "                if line:\n",
    "                    queue.put(line)\n",
    "                else:\n",
    "                    raise UnexpectedEndOfStream\n",
    "\n",
    "        self._t = Thread(target = _populateQueue,\n",
    "                args = (self._s, self._q))\n",
    "        self._t.daemon = True\n",
    "        self._t.start() #start collecting lines from the stream\n",
    "\n",
    "    def readline(self, timeout = None):\n",
    "        try:\n",
    "            return self._q.get(block = timeout is not None,\n",
    "                    timeout = timeout)\n",
    "        except Empty:\n",
    "            return None\n",
    "\n",
    "class UnexpectedEndOfStream(Exception): pass\n",
    "\n",
    "def output_from_command(command=None):\n",
    "    if command:\n",
    "        p.stdin.write(command)\n",
    "        p.stdin.flush()\n",
    "    outputList = []\n",
    "    while True:\n",
    "        output = nbsr.readline(0.1) # 0.1 secs to let the shell output the result\n",
    "        if not output:\n",
    "            outputList.append('No more data\\n\\n')\n",
    "            return outputList\n",
    "        else:\n",
    "            outputList.append(output)"
   ]
  },
  {
   "cell_type": "code",
   "execution_count": 3,
   "metadata": {},
   "outputs": [
    {
     "name": "stdout",
     "output_type": "stream",
     "text": [
      "b'(Feedback((doc_id 0)(span_id 0)(route 0)(contents(FileLoaded Coq.Init.Prelude /home/ubuntu/.opam/4.06.1/lib/coq/theories/Init/Prelude.vo))))\\n'\n",
      "b'(Feedback((doc_id 0)(span_id 0)(route 0)(contents(FileLoaded Coq.Init.Notations /home/ubuntu/.opam/4.06.1/lib/coq/theories/Init/Notations.vo))))\\n'\n",
      "b'(Feedback((doc_id 0)(span_id 0)(route 0)(contents(FileLoaded Coq.Init.Logic /home/ubuntu/.opam/4.06.1/lib/coq/theories/Init/Logic.vo))))\\n'\n",
      "b'(Feedback((doc_id 0)(span_id 0)(route 0)(contents(FileLoaded Coq.Init.Datatypes /home/ubuntu/.opam/4.06.1/lib/coq/theories/Init/Datatypes.vo))))\\n'\n",
      "b'(Feedback((doc_id 0)(span_id 0)(route 0)(contents(FileLoaded Coq.Init.Logic_Type /home/ubuntu/.opam/4.06.1/lib/coq/theories/Init/Logic_Type.vo))))\\n'\n",
      "b'(Feedback((doc_id 0)(span_id 0)(route 0)(contents(FileLoaded Coq.Init.Specif /home/ubuntu/.opam/4.06.1/lib/coq/theories/Init/Specif.vo))))\\n'\n",
      "b'(Feedback((doc_id 0)(span_id 0)(route 0)(contents(FileLoaded Coq.Init.Decimal /home/ubuntu/.opam/4.06.1/lib/coq/theories/Init/Decimal.vo))))\\n'\n",
      "b'(Feedback((doc_id 0)(span_id 0)(route 0)(contents(FileLoaded Coq.Init.Nat /home/ubuntu/.opam/4.06.1/lib/coq/theories/Init/Nat.vo))))\\n'\n",
      "b'(Feedback((doc_id 0)(span_id 0)(route 0)(contents(FileLoaded Coq.Init.Peano /home/ubuntu/.opam/4.06.1/lib/coq/theories/Init/Peano.vo))))\\n'\n",
      "b'(Feedback((doc_id 0)(span_id 0)(route 0)(contents(FileLoaded Coq.Init.Wf /home/ubuntu/.opam/4.06.1/lib/coq/theories/Init/Wf.vo))))\\n'\n",
      "b'(Feedback((doc_id 0)(span_id 0)(route 0)(contents(FileLoaded Coq.Init.Tactics /home/ubuntu/.opam/4.06.1/lib/coq/theories/Init/Tactics.vo))))\\n'\n",
      "b'(Feedback((doc_id 0)(span_id 0)(route 0)(contents(FileLoaded Coq.Init.Tauto /home/ubuntu/.opam/4.06.1/lib/coq/theories/Init/Tauto.vo))))\\n'\n",
      "b'(Feedback((doc_id 0)(span_id 1)(route 0)(contents(ProcessingIn master))))\\n'\n",
      "b'(Feedback((doc_id 0)(span_id 1)(route 0)(contents Processed)))\\n'\n",
      "No more data\n",
      "\n",
      "\n"
     ]
    }
   ],
   "source": [
    "#p = Popen([\"/home/ubuntu/.opam/4.06.1/bin/sertop\",\"--printer=human\"], stdin=PIPE, stdout=PIPE, shell=True)\n",
    "p = Popen([\"/home/ubuntu/.opam/4.06.1/bin/sertop\"], stdin=PIPE, stdout=PIPE, shell=True)\n",
    "nbsr = NonBlockingStreamReader(p.stdout)\n",
    "for i in output_from_command(None):\n",
    "    print(i)"
   ]
  },
  {
   "cell_type": "code",
   "execution_count": 4,
   "metadata": {},
   "outputs": [],
   "source": [
    "commandList = [b'(Add () \"Lemma addn0 n : n + 0 = n. Proof. now induction n. Qed.\")\\n',\n",
    "               b'(Exec 5)',\n",
    "               b'(Query ((sid 3)) Goals)',\n",
    "               b'(Query ((sid 3) (pp ((pp_format PpStr)))) Goals)',\n",
    "               b'(Query ((sid 4)) Ast)',\n",
    "               b'(pp_ex (Print () (CoqConstr (App (Rel 0) ((Rel 0))))))',\n",
    "               b'(Query () (Vernac \"Print nat. \"))',\n",
    "               b'(Query () (Definition nat))']"
   ]
  },
  {
   "cell_type": "code",
   "execution_count": 5,
   "metadata": {},
   "outputs": [
    {
     "name": "stdout",
     "output_type": "stream",
     "text": [
      "b'(Query () (Definition nat))'\n",
      "\n",
      "b'(Feedback((doc_id 0)(span_id 1)(route 0)(contents(ProcessingIn master))))\\n'\n",
      "b'(Feedback((doc_id 0)(span_id 1)(route 0)(contents Processed)))\\n'\n",
      "b'(Answer 0 Ack)\\n'\n",
      "No more data\n",
      "\n",
      "\n"
     ]
    },
    {
     "name": "stderr",
     "output_type": "stream",
     "text": [
      "Exception in thread Thread-4:\n",
      "Traceback (most recent call last):\n",
      "  File \"/home/ubuntu/anaconda3/lib/python3.6/threading.py\", line 916, in _bootstrap_inner\n",
      "    self.run()\n",
      "  File \"/home/ubuntu/anaconda3/lib/python3.6/threading.py\", line 864, in run\n",
      "    self._target(*self._args, **self._kwargs)\n",
      "  File \"<ipython-input-2-ba18f13ddfe7>\", line 22, in _populateQueue\n",
      "    raise UnexpectedEndOfStream\n",
      "UnexpectedEndOfStream\n",
      "\n"
     ]
    }
   ],
   "source": [
    "command = commandList[7]\n",
    "\n",
    "print(command)\n",
    "print()\n",
    "for i in output_from_command(command=command):\n",
    "    print(i)"
   ]
  },
  {
   "cell_type": "code",
   "execution_count": null,
   "metadata": {},
   "outputs": [],
   "source": []
  }
 ],
 "metadata": {
  "anaconda-cloud": {},
  "kernelspec": {
   "display_name": "Python 3",
   "language": "python",
   "name": "python3"
  },
  "language_info": {
   "codemirror_mode": {
    "name": "ipython",
    "version": 3
   },
   "file_extension": ".py",
   "mimetype": "text/x-python",
   "name": "python",
   "nbconvert_exporter": "python",
   "pygments_lexer": "ipython3",
   "version": "3.6.4"
  }
 },
 "nbformat": 4,
 "nbformat_minor": 1
}
