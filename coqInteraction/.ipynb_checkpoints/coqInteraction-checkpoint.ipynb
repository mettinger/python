{
 "cells": [
  {
   "cell_type": "code",
   "execution_count": 34,
   "metadata": {},
   "outputs": [],
   "source": [
    "from threading import Thread\n",
    "from queue import Queue, Empty\n",
    "from subprocess import Popen, PIPE\n",
    "from time import sleep\n",
    "import numpy as np\n",
    "\n",
    "class NonBlockingStreamReader:\n",
    "\n",
    "    def __init__(self, stream):\n",
    "        '''\n",
    "        stream: the stream to read from.\n",
    "                Usually a process' stdout or stderr.\n",
    "        '''\n",
    "\n",
    "        self._s = stream\n",
    "        self._q = Queue()\n",
    "\n",
    "        def _populateQueue(stream, queue):\n",
    "            '''\n",
    "            Collect lines from 'stream' and put them in 'quque'.\n",
    "            '''\n",
    "\n",
    "            while True:\n",
    "                line = stream.readline()\n",
    "                if line:\n",
    "                    queue.put(line)\n",
    "                else:\n",
    "                    return\n",
    "                    #raise UnexpectedEndOfStream\n",
    "\n",
    "        self._t = Thread(target = _populateQueue,\n",
    "                args = (self._s, self._q))\n",
    "        self._t.daemon = True\n",
    "        self._t.start() #start collecting lines from the stream\n",
    "\n",
    "    def readline(self, timeout = None):\n",
    "        try:\n",
    "            return self._q.get(block = timeout is not None,\n",
    "                    timeout = timeout)\n",
    "        except Empty:\n",
    "            return None\n",
    "\n",
    "class UnexpectedEndOfStream(Exception): pass\n",
    "\n",
    "def output_from_command(command=None):\n",
    "    if command:\n",
    "        command = command.encode()\n",
    "        p.stdin.write(command)\n",
    "        p.stdin.flush()\n",
    "    outputList = []\n",
    "    while True:\n",
    "        output = nbsr.readline(0.1) # 0.1 secs to let the shell output the result\n",
    "        if not output:\n",
    "            outputList.append('No more data\\n\\n')\n",
    "            return outputList\n",
    "        else:\n",
    "            outputList.append(output)\n",
    "            \n",
    "def pretty(d, indent=0):\n",
    "    for key, value in d.items():\n",
    "        print('\\t' * indent + str(key))\n",
    "        if isinstance(value, dict):\n",
    "            pretty(value, indent+1)\n",
    "        elif isinstance(value, list):\n",
    "            for i in value:\n",
    "                print('\\t' * (indent+1) + str(i))\n",
    "        else:\n",
    "            print('\\t' * (indent+1) + str(value))\n",
    "\n",
    "def findID(serapiString):\n",
    "    start = serapiString.find(\"Added\")\n",
    "    end = serapiString.find(\"((\")\n",
    "    thisID = serapiString[start + 6:end]\n",
    "    return thisID\n",
    "    \n",
    "    \n",
    "def doAdd(coqString, resultDict, debugList = []):\n",
    "    \n",
    "    if 10 in debugList:\n",
    "        debugList = [0,1,2,3]\n",
    "        \n",
    "    commandExtended = '(Add () \"%s\")' % coqString\n",
    "    \n",
    "    if 0 in debugList:\n",
    "        print(\"Add command: \")\n",
    "        print(commandExtended)\n",
    "        print()\n",
    "        \n",
    "    addResult = output_from_command(command=commandExtended)[-3].decode('ASCII')\n",
    "    \n",
    "    if 1 in debugList:\n",
    "        print(\"Add command result: \")\n",
    "        print(addResult)\n",
    "        print()\n",
    "        \n",
    "    thisID = findID(addResult)\n",
    "    \n",
    "    '''\n",
    "    start = result.find(\"Added\")\n",
    "    end = result.find(\"((\")\n",
    "    thisID = result[start + 6:end]\n",
    "    '''\n",
    "    \n",
    "    execCommand = '(Exec %s)' % thisID\n",
    "    execResult = output_from_command(execCommand)\n",
    "    \n",
    "    if 2 in debugList:\n",
    "        print(\"Exec result: \")\n",
    "        print(execResult)\n",
    "        print()\n",
    "    \n",
    "    \n",
    "    if sum([1 if \"Error\" in i.decode('ASCII') else 0 for i in execResult if type(i) == bytes]) > 0:\n",
    "        print(\"Error...\")\n",
    "        cancelCommand = '(Cancel (%s))' % thisID\n",
    "        cancelResult = output_from_command(command=cancelCommand)\n",
    "        print(\"Cancel result: \")\n",
    "        print(cancelResult)\n",
    "        return resultDict\n",
    "    \n",
    "    goalCommand = '(Query ((pp ((pp_format PpStr)))) Goals)'\n",
    "    goalResult = output_from_command(goalCommand)\n",
    "    \n",
    "    if 3 in debugList:\n",
    "        print(\"Goal Query result: \")\n",
    "        print(goalResult)\n",
    "        print()\n",
    "    \n",
    "    if len(goalResult) == 1:\n",
    "        result =  [(['none'],None)]\n",
    "    else:\n",
    "        result = goalResult[1].decode('ASCII').replace('\\\\n','\\n')\n",
    "    \n",
    "    if '\"' not in result:\n",
    "        result = [(['none'],None)]\n",
    "    else:\n",
    "        start = result.find('\"')\n",
    "        result = result[start + 1:]\n",
    "        end = result.find('\"')\n",
    "        result = result[:end]\n",
    "\n",
    "        goalList = result.strip().split(\"\\n\\n\")\n",
    "\n",
    "        result = [i.split('\\n============================\\n') for i in goalList]\n",
    "        result = [(i[0].strip().split('\\n'),i[1].replace('\\n','')) for i in result]\n",
    "        result = [([j.strip() for j in i[0]], \" \".join(i[1].split())) for i in result]\n",
    "    \n",
    "    if coqString in resultDict.keys():\n",
    "        resultDict[coqString + \"     duplicate: \" + str(np.random.randint(0,1000))] = result\n",
    "    else:\n",
    "        resultDict[coqString] = result\n",
    "    return resultDict\n",
    "    \n",
    "def doCommand(command, resultDict={}):\n",
    "    if command in resultDict.keys():\n",
    "        resultDict[command + \"     duplicate: \" + str(np.random.randint(0,1000))] = output_from_command(command=command)\n",
    "    else:\n",
    "        resultDict[command] = output_from_command(command=command)\n",
    "    return resultDict\n",
    "\n",
    "try:\n",
    "    p.terminate()\n",
    "except:\n",
    "    pass\n",
    "\n",
    "p = Popen([\"/home/ubuntu/.opam/4.06.1/bin/sertop\"], stdin=PIPE, stdout=PIPE, shell=True)\n",
    "nbsr = NonBlockingStreamReader(p.stdout)\n",
    "\n",
    "load = output_from_command(None) # omits Coq initialization data from results\n",
    "resultDict = {}"
   ]
  },
  {
   "cell_type": "code",
   "execution_count": null,
   "metadata": {},
   "outputs": [],
   "source": [
    "coqString = \"From Coq Require Import Arith.\""
   ]
  },
  {
   "cell_type": "code",
   "execution_count": null,
   "metadata": {},
   "outputs": [],
   "source": [
    "coqString = \"Lemma example : forall x y, x <= 10 -> 10 <= y -> x <= y. Proof.\""
   ]
  },
  {
   "cell_type": "code",
   "execution_count": null,
   "metadata": {},
   "outputs": [],
   "source": [
    "coqString = \"apply le_trans with (m := 10).\""
   ]
  },
  {
   "cell_type": "code",
   "execution_count": null,
   "metadata": {},
   "outputs": [],
   "source": [
    "coqString = \"apply le_trans.\""
   ]
  },
  {
   "cell_type": "code",
   "execution_count": null,
   "metadata": {},
   "outputs": [],
   "source": [
    "coqString = \"Theorem test_prop : forall A B C:Prop, (A -> B -> C) -> (A -> B) -> A -> C.  Proof.\""
   ]
  },
  {
   "cell_type": "code",
   "execution_count": null,
   "metadata": {},
   "outputs": [],
   "source": [
    "coqString = \"assumption. assumption. Qed.\""
   ]
  },
  {
   "cell_type": "code",
   "execution_count": null,
   "metadata": {},
   "outputs": [],
   "source": [
    "coqString = \"intros.\""
   ]
  },
  {
   "cell_type": "code",
   "execution_count": null,
   "metadata": {},
   "outputs": [],
   "source": [
    "coqString = \"Lemma addn0 n : n + 0 = n. Proof. induction n.\""
   ]
  },
  {
   "cell_type": "code",
   "execution_count": null,
   "metadata": {},
   "outputs": [],
   "source": [
    "coqString = \"Variables A B C: Prop.\""
   ]
  },
  {
   "cell_type": "code",
   "execution_count": null,
   "metadata": {},
   "outputs": [],
   "source": [
    "coqString = \"Goal (A -> B -> C) -> (A -> B) -> A -> C.\""
   ]
  },
  {
   "cell_type": "code",
   "execution_count": 35,
   "metadata": {},
   "outputs": [],
   "source": [
    "coqString = 'Variables V0 V1 V2: Prop.'"
   ]
  },
  {
   "cell_type": "code",
   "execution_count": 39,
   "metadata": {},
   "outputs": [],
   "source": [
    "coqString = \"Hypothesis A2: V2.\""
   ]
  },
  {
   "cell_type": "code",
   "execution_count": 41,
   "metadata": {},
   "outputs": [],
   "source": [
    "coqString = \"Hypothesis I0: V2 -> V1.\""
   ]
  },
  {
   "cell_type": "code",
   "execution_count": 37,
   "metadata": {},
   "outputs": [],
   "source": [
    "coqString = \"Goal V1.\""
   ]
  },
  {
   "cell_type": "code",
   "execution_count": 43,
   "metadata": {},
   "outputs": [],
   "source": [
    "coqString = \"apply I0.\""
   ]
  },
  {
   "cell_type": "code",
   "execution_count": 45,
   "metadata": {},
   "outputs": [],
   "source": [
    "coqString = \"apply A2.\""
   ]
  },
  {
   "cell_type": "code",
   "execution_count": 46,
   "metadata": {},
   "outputs": [
    {
     "name": "stdout",
     "output_type": "stream",
     "text": [
      "Add command: \n",
      "(Add () \"apply A2.\")\n",
      "\n",
      "Add command result: \n",
      "(Answer 15(Added 9((fname ToplevelInput)(line_nb 1)(bol_pos 0)(line_nb_last 1)(bol_pos_last 0)(bp 0)(ep 9))NewTip))\n",
      "\n",
      "\n",
      "Exec result: \n",
      "[b'(Answer 16 Ack)\\n', b'(Feedback((doc_id 0)(span_id 9)(route 0)(contents(ProcessingIn master))))\\n', b'(Feedback((doc_id 0)(span_id 8)(route 0)(contents Processed)))\\n', b'(Feedback((doc_id 0)(span_id 9)(route 0)(contents Processed)))\\n', b'(Answer 16 Completed)\\n', 'No more data\\n\\n']\n",
      "\n",
      "Goal Query result: \n",
      "[b'(Answer 17 Ack)\\n', b'(Answer 17(ObjList((CoqString\"\"))))\\n', b'(Answer 17 Completed)\\n', 'No more data\\n\\n']\n",
      "\n"
     ]
    },
    {
     "ename": "IndexError",
     "evalue": "list index out of range",
     "output_type": "error",
     "traceback": [
      "\u001b[0;31m---------------------------------------------------------------------------\u001b[0m",
      "\u001b[0;31mIndexError\u001b[0m                                Traceback (most recent call last)",
      "\u001b[0;32m<ipython-input-46-f4c662e1808f>\u001b[0m in \u001b[0;36m<module>\u001b[0;34m()\u001b[0m\n\u001b[0;32m----> 1\u001b[0;31m \u001b[0mresultDict\u001b[0m \u001b[0;34m=\u001b[0m \u001b[0mdoAdd\u001b[0m\u001b[0;34m(\u001b[0m\u001b[0mcoqString\u001b[0m\u001b[0;34m,\u001b[0m \u001b[0mresultDict\u001b[0m\u001b[0;34m,\u001b[0m \u001b[0mdebugList\u001b[0m \u001b[0;34m=\u001b[0m \u001b[0;34m[\u001b[0m\u001b[0;36m10\u001b[0m\u001b[0;34m]\u001b[0m\u001b[0;34m)\u001b[0m\u001b[0;34m\u001b[0m\u001b[0m\n\u001b[0m\u001b[1;32m      2\u001b[0m \u001b[0mprint\u001b[0m\u001b[0;34m(\u001b[0m\u001b[0;34m\"Goal dictionary: \"\u001b[0m\u001b[0;34m)\u001b[0m\u001b[0;34m\u001b[0m\u001b[0m\n\u001b[1;32m      3\u001b[0m \u001b[0mpretty\u001b[0m\u001b[0;34m(\u001b[0m\u001b[0mresultDict\u001b[0m\u001b[0;34m)\u001b[0m\u001b[0;34m\u001b[0m\u001b[0m\n",
      "\u001b[0;32m<ipython-input-34-8cadb554484d>\u001b[0m in \u001b[0;36mdoAdd\u001b[0;34m(coqString, resultDict, debugList)\u001b[0m\n\u001b[1;32m    143\u001b[0m \u001b[0;34m\u001b[0m\u001b[0m\n\u001b[1;32m    144\u001b[0m         \u001b[0mresult\u001b[0m \u001b[0;34m=\u001b[0m \u001b[0;34m[\u001b[0m\u001b[0mi\u001b[0m\u001b[0;34m.\u001b[0m\u001b[0msplit\u001b[0m\u001b[0;34m(\u001b[0m\u001b[0;34m'\\n============================\\n'\u001b[0m\u001b[0;34m)\u001b[0m \u001b[0;32mfor\u001b[0m \u001b[0mi\u001b[0m \u001b[0;32min\u001b[0m \u001b[0mgoalList\u001b[0m\u001b[0;34m]\u001b[0m\u001b[0;34m\u001b[0m\u001b[0m\n\u001b[0;32m--> 145\u001b[0;31m         \u001b[0mresult\u001b[0m \u001b[0;34m=\u001b[0m \u001b[0;34m[\u001b[0m\u001b[0;34m(\u001b[0m\u001b[0mi\u001b[0m\u001b[0;34m[\u001b[0m\u001b[0;36m0\u001b[0m\u001b[0;34m]\u001b[0m\u001b[0;34m.\u001b[0m\u001b[0mstrip\u001b[0m\u001b[0;34m(\u001b[0m\u001b[0;34m)\u001b[0m\u001b[0;34m.\u001b[0m\u001b[0msplit\u001b[0m\u001b[0;34m(\u001b[0m\u001b[0;34m'\\n'\u001b[0m\u001b[0;34m)\u001b[0m\u001b[0;34m,\u001b[0m\u001b[0mi\u001b[0m\u001b[0;34m[\u001b[0m\u001b[0;36m1\u001b[0m\u001b[0;34m]\u001b[0m\u001b[0;34m.\u001b[0m\u001b[0mreplace\u001b[0m\u001b[0;34m(\u001b[0m\u001b[0;34m'\\n'\u001b[0m\u001b[0;34m,\u001b[0m\u001b[0;34m''\u001b[0m\u001b[0;34m)\u001b[0m\u001b[0;34m)\u001b[0m \u001b[0;32mfor\u001b[0m \u001b[0mi\u001b[0m \u001b[0;32min\u001b[0m \u001b[0mresult\u001b[0m\u001b[0;34m]\u001b[0m\u001b[0;34m\u001b[0m\u001b[0m\n\u001b[0m\u001b[1;32m    146\u001b[0m         \u001b[0mresult\u001b[0m \u001b[0;34m=\u001b[0m \u001b[0;34m[\u001b[0m\u001b[0;34m(\u001b[0m\u001b[0;34m[\u001b[0m\u001b[0mj\u001b[0m\u001b[0;34m.\u001b[0m\u001b[0mstrip\u001b[0m\u001b[0;34m(\u001b[0m\u001b[0;34m)\u001b[0m \u001b[0;32mfor\u001b[0m \u001b[0mj\u001b[0m \u001b[0;32min\u001b[0m \u001b[0mi\u001b[0m\u001b[0;34m[\u001b[0m\u001b[0;36m0\u001b[0m\u001b[0;34m]\u001b[0m\u001b[0;34m]\u001b[0m\u001b[0;34m,\u001b[0m \u001b[0;34m\" \"\u001b[0m\u001b[0;34m.\u001b[0m\u001b[0mjoin\u001b[0m\u001b[0;34m(\u001b[0m\u001b[0mi\u001b[0m\u001b[0;34m[\u001b[0m\u001b[0;36m1\u001b[0m\u001b[0;34m]\u001b[0m\u001b[0;34m.\u001b[0m\u001b[0msplit\u001b[0m\u001b[0;34m(\u001b[0m\u001b[0;34m)\u001b[0m\u001b[0;34m)\u001b[0m\u001b[0;34m)\u001b[0m \u001b[0;32mfor\u001b[0m \u001b[0mi\u001b[0m \u001b[0;32min\u001b[0m \u001b[0mresult\u001b[0m\u001b[0;34m]\u001b[0m\u001b[0;34m\u001b[0m\u001b[0m\n\u001b[1;32m    147\u001b[0m \u001b[0;34m\u001b[0m\u001b[0m\n",
      "\u001b[0;32m<ipython-input-34-8cadb554484d>\u001b[0m in \u001b[0;36m<listcomp>\u001b[0;34m(.0)\u001b[0m\n\u001b[1;32m    143\u001b[0m \u001b[0;34m\u001b[0m\u001b[0m\n\u001b[1;32m    144\u001b[0m         \u001b[0mresult\u001b[0m \u001b[0;34m=\u001b[0m \u001b[0;34m[\u001b[0m\u001b[0mi\u001b[0m\u001b[0;34m.\u001b[0m\u001b[0msplit\u001b[0m\u001b[0;34m(\u001b[0m\u001b[0;34m'\\n============================\\n'\u001b[0m\u001b[0;34m)\u001b[0m \u001b[0;32mfor\u001b[0m \u001b[0mi\u001b[0m \u001b[0;32min\u001b[0m \u001b[0mgoalList\u001b[0m\u001b[0;34m]\u001b[0m\u001b[0;34m\u001b[0m\u001b[0m\n\u001b[0;32m--> 145\u001b[0;31m         \u001b[0mresult\u001b[0m \u001b[0;34m=\u001b[0m \u001b[0;34m[\u001b[0m\u001b[0;34m(\u001b[0m\u001b[0mi\u001b[0m\u001b[0;34m[\u001b[0m\u001b[0;36m0\u001b[0m\u001b[0;34m]\u001b[0m\u001b[0;34m.\u001b[0m\u001b[0mstrip\u001b[0m\u001b[0;34m(\u001b[0m\u001b[0;34m)\u001b[0m\u001b[0;34m.\u001b[0m\u001b[0msplit\u001b[0m\u001b[0;34m(\u001b[0m\u001b[0;34m'\\n'\u001b[0m\u001b[0;34m)\u001b[0m\u001b[0;34m,\u001b[0m\u001b[0mi\u001b[0m\u001b[0;34m[\u001b[0m\u001b[0;36m1\u001b[0m\u001b[0;34m]\u001b[0m\u001b[0;34m.\u001b[0m\u001b[0mreplace\u001b[0m\u001b[0;34m(\u001b[0m\u001b[0;34m'\\n'\u001b[0m\u001b[0;34m,\u001b[0m\u001b[0;34m''\u001b[0m\u001b[0;34m)\u001b[0m\u001b[0;34m)\u001b[0m \u001b[0;32mfor\u001b[0m \u001b[0mi\u001b[0m \u001b[0;32min\u001b[0m \u001b[0mresult\u001b[0m\u001b[0;34m]\u001b[0m\u001b[0;34m\u001b[0m\u001b[0m\n\u001b[0m\u001b[1;32m    146\u001b[0m         \u001b[0mresult\u001b[0m \u001b[0;34m=\u001b[0m \u001b[0;34m[\u001b[0m\u001b[0;34m(\u001b[0m\u001b[0;34m[\u001b[0m\u001b[0mj\u001b[0m\u001b[0;34m.\u001b[0m\u001b[0mstrip\u001b[0m\u001b[0;34m(\u001b[0m\u001b[0;34m)\u001b[0m \u001b[0;32mfor\u001b[0m \u001b[0mj\u001b[0m \u001b[0;32min\u001b[0m \u001b[0mi\u001b[0m\u001b[0;34m[\u001b[0m\u001b[0;36m0\u001b[0m\u001b[0;34m]\u001b[0m\u001b[0;34m]\u001b[0m\u001b[0;34m,\u001b[0m \u001b[0;34m\" \"\u001b[0m\u001b[0;34m.\u001b[0m\u001b[0mjoin\u001b[0m\u001b[0;34m(\u001b[0m\u001b[0mi\u001b[0m\u001b[0;34m[\u001b[0m\u001b[0;36m1\u001b[0m\u001b[0;34m]\u001b[0m\u001b[0;34m.\u001b[0m\u001b[0msplit\u001b[0m\u001b[0;34m(\u001b[0m\u001b[0;34m)\u001b[0m\u001b[0;34m)\u001b[0m\u001b[0;34m)\u001b[0m \u001b[0;32mfor\u001b[0m \u001b[0mi\u001b[0m \u001b[0;32min\u001b[0m \u001b[0mresult\u001b[0m\u001b[0;34m]\u001b[0m\u001b[0;34m\u001b[0m\u001b[0m\n\u001b[1;32m    147\u001b[0m \u001b[0;34m\u001b[0m\u001b[0m\n",
      "\u001b[0;31mIndexError\u001b[0m: list index out of range"
     ]
    }
   ],
   "source": [
    "resultDict = doAdd(coqString, resultDict, debugList = [10])\n",
    "print(\"Goal dictionary: \")\n",
    "pretty(resultDict)"
   ]
  },
  {
   "cell_type": "code",
   "execution_count": 10,
   "metadata": {},
   "outputs": [
    {
     "name": "stdout",
     "output_type": "stream",
     "text": [
      "Goal dictionary: \n",
      "(Cancel (0))\n",
      "\tb'(Answer 4 Ack)\\n'\n",
      "\tb'(Feedback((doc_id 0)(span_id 1)(route 0)(contents Processed)))\\n'\n",
      "\tb'(Answer 4(Canceled()))\\n'\n",
      "\tb'(Answer 4 Completed)\\n'\n",
      "\tNo more data\n",
      "\n",
      "\n"
     ]
    }
   ],
   "source": [
    "resultDict = doCommand(command, resultDict={})\n",
    "print(\"Goal dictionary: \")\n",
    "pretty(resultDict)"
   ]
  },
  {
   "cell_type": "code",
   "execution_count": null,
   "metadata": {},
   "outputs": [],
   "source": [
    "command = '(Add () \"Theorem my_first_proof : (forall A : Prop, A -> A).\")'"
   ]
  },
  {
   "cell_type": "code",
   "execution_count": null,
   "metadata": {},
   "outputs": [],
   "source": [
    "command = '(Add () \"Lemma addn0 n : n + 0 = n. Proof. induction n.\")'"
   ]
  },
  {
   "cell_type": "code",
   "execution_count": null,
   "metadata": {},
   "outputs": [],
   "source": [
    "command = '(Add () \"Theorem test_prop : forall A B C:Prop, (A -> B -> C) -> (A -> B) -> A -> C.\")'"
   ]
  },
  {
   "cell_type": "code",
   "execution_count": null,
   "metadata": {},
   "outputs": [],
   "source": [
    "command = '(Query ((sid 3)) Goals)'"
   ]
  },
  {
   "cell_type": "code",
   "execution_count": null,
   "metadata": {},
   "outputs": [],
   "source": [
    "command = '(Query ( (pp ((pp_format PpStr))) (sid 2) ) Ast)'"
   ]
  },
  {
   "cell_type": "code",
   "execution_count": 9,
   "metadata": {},
   "outputs": [],
   "source": [
    "command = '(Cancel (0))'"
   ]
  },
  {
   "cell_type": "code",
   "execution_count": null,
   "metadata": {},
   "outputs": [],
   "source": [
    "command = '(Exec 7)'"
   ]
  },
  {
   "cell_type": "code",
   "execution_count": null,
   "metadata": {},
   "outputs": [],
   "source": [
    "command = '(Query () Goals)'"
   ]
  },
  {
   "cell_type": "code",
   "execution_count": null,
   "metadata": {},
   "outputs": [],
   "source": [
    "command = '(Query ((pp ((pp_format PpStr)))) Goals)'"
   ]
  },
  {
   "cell_type": "code",
   "execution_count": null,
   "metadata": {},
   "outputs": [],
   "source": [
    "command = '(Add () \"intros.\")'"
   ]
  },
  {
   "cell_type": "code",
   "execution_count": null,
   "metadata": {},
   "outputs": [],
   "source": [
    "type(b'hello')"
   ]
  },
  {
   "cell_type": "code",
   "execution_count": null,
   "metadata": {},
   "outputs": [],
   "source": [
    "#resultDict = doCommand(command, resultDict)\n",
    "#pretty(resultDict)"
   ]
  }
 ],
 "metadata": {
  "anaconda-cloud": {},
  "kernelspec": {
   "display_name": "Python 3",
   "language": "python",
   "name": "python3"
  },
  "language_info": {
   "codemirror_mode": {
    "name": "ipython",
    "version": 3
   },
   "file_extension": ".py",
   "mimetype": "text/x-python",
   "name": "python",
   "nbconvert_exporter": "python",
   "pygments_lexer": "ipython3",
   "version": "3.6.4"
  }
 },
 "nbformat": 4,
 "nbformat_minor": 1
}
