{
 "cells": [
  {
   "cell_type": "code",
   "execution_count": 1,
   "metadata": {},
   "outputs": [
    {
     "data": {
      "text/html": [],
      "text/plain": [
       "<IPython.core.display.HTML object>"
      ]
     },
     "metadata": {},
     "output_type": "display_data"
    }
   ],
   "source": [
    "%matplotlib inline\n",
    "\n",
    "import time\n",
    "import urllib3\n",
    "import cv2\n",
    "import numpy as np\n",
    "import ssl\n",
    "import matplotlib.pyplot as plt\n",
    "import jupyter_beeper\n",
    "\n",
    "b = jupyter_beeper.Beeper()"
   ]
  },
  {
   "cell_type": "code",
   "execution_count": 2,
   "metadata": {},
   "outputs": [],
   "source": [
    "# USING IP WEBCAM APP ON ANDROID\n",
    "\n",
    "url = 'http://192.168.1.16:8080/video'  # router\n",
    "#url = 'http://192.168.43.1:8080/video'  # mobile hotspot"
   ]
  },
  {
   "cell_type": "code",
   "execution_count": 5,
   "metadata": {},
   "outputs": [],
   "source": [
    "# FLAG FOR SAVING VIDEO FILE\n",
    "saveFlag = True\n",
    "\n",
    "recordingTimeSeconds = 10\n",
    "beginWarningSeconds = 5\n",
    "\n",
    "# FPS FOR SAVED FILE\n",
    "recordedFPS = 10"
   ]
  },
  {
   "cell_type": "code",
   "execution_count": null,
   "metadata": {},
   "outputs": [],
   "source": [
    "cap = cv2.VideoCapture(url)\n",
    "\n",
    "# Check if camera opened successfully\n",
    "if (cap.isOpened() == False): \n",
    "  print(\"Unable to read camera feed\")\n",
    "\n",
    "# Default resolutions of the frame are obtained.The default resolutions are system dependent.\n",
    "# We convert the resolutions from float to integer.\n",
    "frame_width = int(cap.get(3))\n",
    "frame_height = int(cap.get(4))\n",
    "\n",
    "# Define the codec and create VideoWriter object.The output is stored in 'outpy.avi' file.\n",
    "if saveFlag:\n",
    "    out = cv2.VideoWriter('output.avi',\n",
    "                          cv2.VideoWriter_fourcc('M','J','P','G'), \n",
    "                          fps=recordedFPS, \n",
    "                          frameSize=(frame_width,frame_height))\n",
    "\n",
    "b.beep(secs=1)\n",
    "time.sleep(beginWarningSeconds)\n",
    "b.beep(secs=1)\n",
    "\n",
    "beginTime = time.time()\n",
    "thisTime = time.time()\n",
    "\n",
    "while(thisTime - beginTime <= recordingTimeSeconds):\n",
    "    ret, frame = cap.read()\n",
    "    if ret == True: \n",
    "        # Write the frame into the file 'output.avi'\n",
    "        if saveFlag:\n",
    "            out.write(frame)\n",
    "\n",
    "        # Display the resulting frame    \n",
    "        cv2.imshow('frame',frame)\n",
    "\n",
    "        # Press Q on keyboard to stop recording\n",
    "        if cv2.waitKey(1) & 0xFF == ord('q'):\n",
    "            break\n",
    "    else:\n",
    "        break\n",
    "    thisTime = time.time()\n",
    "\n",
    "b.beep(secs=1)\n",
    "\n",
    "# When everything done, release the video capture and video write objects\n",
    "cap.release()\n",
    "\n",
    "if saveFlag:\n",
    "    out.release()\n",
    "\n",
    "#frame_height, frame_width"
   ]
  },
  {
   "cell_type": "code",
   "execution_count": 3,
   "metadata": {},
   "outputs": [],
   "source": [
    "# Function to extract frames \n",
    "def frameCapture(path, recordedFPS, extractedFPS, saveFlag, beginSkipSeconds, endSecond): \n",
    "      \n",
    "    frameList = []\n",
    "    \n",
    "    # Path to video file \n",
    "    vidObj = cv2.VideoCapture(path) \n",
    "  \n",
    "    # Used as counter variable \n",
    "    count = 0\n",
    "  \n",
    "    # checks whether frames were extracted \n",
    "    success = 1\n",
    "  \n",
    "    freq = recordedFPS/extractedFPS\n",
    "    \n",
    "    while success: \n",
    "  \n",
    "        # vidObj object calls read \n",
    "        # function extract frames \n",
    "        success, image = vidObj.read() \n",
    "  \n",
    "        if count % freq == 0 and (count / recordedFPS) >= beginSkipSeconds and (count / recordedFPS) <= endSecond:\n",
    "            # Saves the frames with frame-count \n",
    "            if saveFlag:\n",
    "                cv2.imwrite(\"frame%d.jpg\" % count, image) \n",
    "            frameList.append(image)\n",
    "  \n",
    "        count += 1\n",
    "    return frameList"
   ]
  },
  {
   "cell_type": "code",
   "execution_count": 6,
   "metadata": {},
   "outputs": [],
   "source": [
    "# SET EXTRACTION FPS\n",
    "extractedFPS = 1\n",
    "\n",
    "frameList = frameCapture('/Users/mettinger/github/python/photogrammetry/output.avi', \n",
    "                         recordedFPS=recordedFPS, \n",
    "                         extractedFPS=extractedFPS, \n",
    "                         saveFlag=True, \n",
    "                         beginSkipSeconds=1, \n",
    "                         endSecond=6)"
   ]
  },
  {
   "cell_type": "code",
   "execution_count": null,
   "metadata": {},
   "outputs": [],
   "source": [
    "plt.imshow(frameList[-1][:,:,[2,1,0]])"
   ]
  },
  {
   "cell_type": "code",
   "execution_count": null,
   "metadata": {},
   "outputs": [],
   "source": [
    "'''\n",
    "cap = cv2.VideoCapture(url)\n",
    "while(True):\n",
    "    ret, frame = cap.read()\n",
    "    if frame is not None:\n",
    "        cv2.imshow('frame',frame)\n",
    "    q = cv2.waitKey(1)\n",
    "    if q == ord(\"q\"):\n",
    "        break\n",
    "\n",
    "cap.release()\n",
    "cv2.destroyAllWindows()\n",
    "'''"
   ]
  },
  {
   "cell_type": "code",
   "execution_count": null,
   "metadata": {},
   "outputs": [],
   "source": [
    "'''\n",
    "import urllib\n",
    "import cv2\n",
    "import numpy as np\n",
    "import ssl\n",
    "\n",
    "ctx = ssl.create_default_context()\n",
    "ctx.check_hostname = False\n",
    "ctx.verify_mode = ssl.CERT_NONE\n",
    "\n",
    "url = 'Your URL'\n",
    "\n",
    "while True:\n",
    "    imgResp = urllib3.urlopen(url)\n",
    "    imgNp = np.array(bytearray(imgResp.read()), dtype=np.uint8)\n",
    "    img = cv2.imdecode(imgNp, -1)\n",
    "    cv2.imshow('temp',cv2.resize(img,(600,400)))\n",
    "    q = cv2.waitKey(1)\n",
    "    if q == ord(\"q\"):\n",
    "        break;\n",
    "\n",
    "cv2.destroyAllWindows()\n",
    "'''"
   ]
  }
 ],
 "metadata": {
  "kernelspec": {
   "display_name": "Python 3",
   "language": "python",
   "name": "python3"
  },
  "language_info": {
   "codemirror_mode": {
    "name": "ipython",
    "version": 3
   },
   "file_extension": ".py",
   "mimetype": "text/x-python",
   "name": "python",
   "nbconvert_exporter": "python",
   "pygments_lexer": "ipython3",
   "version": "3.7.3"
  }
 },
 "nbformat": 4,
 "nbformat_minor": 2
}
