{
 "cells": [
  {
   "cell_type": "code",
   "execution_count": 68,
   "metadata": {},
   "outputs": [],
   "source": [
    "import pyautogui\n",
    "import time\n",
    "from subprocess import call\n",
    "import os\n",
    "from PIL import Image\n",
    "import numpy as np\n",
    "from pynput.mouse import Listener, Button, Controller"
   ]
  },
  {
   "cell_type": "code",
   "execution_count": 53,
   "metadata": {},
   "outputs": [],
   "source": [
    "upperCornerX = 128\n",
    "upperCornerY = 44\n",
    "lowerCornerX = 1570\n",
    "lowerCornerY = 1010\n",
    "\n",
    "captureWidth = lowerCornerX - upperCornerX\n",
    "captureHeight = lowerCornerY - upperCornerY\n",
    "\n",
    "clickX = 1634\n",
    "clickY = 530\n",
    "startPause = 7\n",
    "imageFolder = \"/Users/mettinger/Data/kindle/\""
   ]
  },
  {
   "cell_type": "code",
   "execution_count": 54,
   "metadata": {},
   "outputs": [],
   "source": [
    "pngFileList = [thisFile for thisFile in os.listdir(imageFolder) if thisFile.endswith(\".png\")]\n",
    "for thisFile in pngFileList:\n",
    "    os.remove(imageFolder + thisFile)"
   ]
  },
  {
   "cell_type": "code",
   "execution_count": 55,
   "metadata": {},
   "outputs": [
    {
     "name": "stdout",
     "output_type": "stream",
     "text": [
      "Done scanning Kindle book!\n"
     ]
    }
   ],
   "source": [
    "time.sleep(startPause)\n",
    "mouse = Controller()\n",
    "\n",
    "i = 0\n",
    "while True:\n",
    "    thisPath = imageFolder + \"image%s.png\" % str(i)\n",
    "    rectangleParam = \"-R%s,%s,%s,%s\" % (str(upperCornerX), str(upperCornerY), str(captureWidth), str(captureHeight))\n",
    "    call([\"screencapture\", rectangleParam, thisPath])\n",
    "    if i > 0:\n",
    "        newImage = Image.open(thisPath)\n",
    "        if newImage == oldImage:\n",
    "            print(\"Done scanning Kindle book!\")\n",
    "            break\n",
    "        else:\n",
    "            oldImage = newImage\n",
    "    else:\n",
    "        oldImage = Image.open(thisPath)\n",
    "    \n",
    "    mouse.position = (clickX, clickY)\n",
    "    mouse.click(Button.left)\n",
    "    time.sleep(.1)\n",
    "    i = i + 1"
   ]
  },
  {
   "cell_type": "code",
   "execution_count": 66,
   "metadata": {},
   "outputs": [],
   "source": [
    "pngList = sorted([i for i in os.listdir(imageFolder) if i.endswith('.png')], key = lambda x: int(x[5:-4]))\n",
    "images = [Image.open(imageFolder + i) for i in pngList][0:5]\n",
    "widths, heights = zip(*(i.size for i in images))\n",
    "\n",
    "max_width = max(widths)\n",
    "total_height = sum(heights)\n",
    "\n",
    "new_im = Image.new('RGB', (max_width, total_height))\n",
    "\n",
    "y_offset = 0\n",
    "for im in images:\n",
    "    new_im.paste(im, (0,y_offset))\n",
    "    y_offset += im.size[1]\n",
    "\n",
    "#new_im\n",
    "new_im.save('/Users/mettinger/Desktop/test.png')"
   ]
  },
  {
   "cell_type": "code",
   "execution_count": 37,
   "metadata": {},
   "outputs": [
    {
     "data": {
      "text/plain": [
       "'\\ntime.sleep(startPause)\\npyautogui.PAUSE = 2.0\\nrandomBound = 1\\n\\ni = 0\\nwhile True:\\n    thisPath = imageFolder + \"image%s.png\" % str(i)\\n    rectangleParam = \"-R%s,%s,%s,%s\" % (str(upperCornerX), str(upperCornerY), str(lowerCornerX), str(lowerCornerY))\\n    call([\"screencapture\", rectangleParam, thisPath])\\n    if i > 0:\\n        newImage = Image.open(thisPath)\\n        if newImage == oldImage:\\n            print(\"Done scanning Kindle book!\")\\n            break\\n        else:\\n            oldImage = newImage\\n    else:\\n        oldImage = Image.open(thisPath)\\n    \\n    x = clickX + np.random.randint(-randomBound, randomBound)\\n    y = clickY + np.random.randint(-randomBound, randomBound)\\n    pyautogui.moveTo(x, y, duration=0.1)\\n    pyautogui.click()\\n    i = i + 1\\n'"
      ]
     },
     "execution_count": 37,
     "metadata": {},
     "output_type": "execute_result"
    }
   ],
   "source": [
    "'''\n",
    "i = 0\n",
    "\n",
    "def on_move(x, y):\n",
    "    pass\n",
    "\n",
    "def on_scroll(x, y, dx, dy):\n",
    "    pass\n",
    "\n",
    "def on_click(x, y, button, pressed):\n",
    "    global i\n",
    "    \n",
    "    if x > 1600 and not pressed:\n",
    "        thisPath = imageFolder + \"image%s.png\" % str(i)\n",
    "        rectangleParam = \"-R%s,%s,%s,%s\" % (str(upperCornerX), str(upperCornerY), str(lowerCornerX), str(lowerCornerY))\n",
    "        call([\"screencapture\", rectangleParam, thisPath])\n",
    "        i = i + 1\n",
    "\n",
    "with Listener(on_move=on_move, on_click=on_click, on_scroll=on_scroll) as listener:\n",
    "    listener.join()\n",
    "    \n",
    "    \n",
    "    \n",
    "    \n",
    "    \n",
    "time.sleep(startPause)\n",
    "pyautogui.PAUSE = 2.0\n",
    "randomBound = 1\n",
    "\n",
    "i = 0\n",
    "while True:\n",
    "    thisPath = imageFolder + \"image%s.png\" % str(i)\n",
    "    rectangleParam = \"-R%s,%s,%s,%s\" % (str(upperCornerX), str(upperCornerY), str(lowerCornerX), str(lowerCornerY))\n",
    "    call([\"screencapture\", rectangleParam, thisPath])\n",
    "    if i > 0:\n",
    "        newImage = Image.open(thisPath)\n",
    "        if newImage == oldImage:\n",
    "            print(\"Done scanning Kindle book!\")\n",
    "            break\n",
    "        else:\n",
    "            oldImage = newImage\n",
    "    else:\n",
    "        oldImage = Image.open(thisPath)\n",
    "    \n",
    "    x = clickX + np.random.randint(-randomBound, randomBound)\n",
    "    y = clickY + np.random.randint(-randomBound, randomBound)\n",
    "    pyautogui.moveTo(x, y, duration=0.1)\n",
    "    pyautogui.click()\n",
    "    i = i + 1\n",
    "'''"
   ]
  }
 ],
 "metadata": {
  "kernelspec": {
   "display_name": "Python 3",
   "language": "python",
   "name": "python3"
  },
  "language_info": {
   "codemirror_mode": {
    "name": "ipython",
    "version": 3
   },
   "file_extension": ".py",
   "mimetype": "text/x-python",
   "name": "python",
   "nbconvert_exporter": "python",
   "pygments_lexer": "ipython3",
   "version": "3.6.8"
  }
 },
 "nbformat": 4,
 "nbformat_minor": 2
}
