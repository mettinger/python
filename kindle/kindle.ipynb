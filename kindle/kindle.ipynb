{
 "cells": [
  {
   "cell_type": "code",
   "execution_count": 2,
   "metadata": {},
   "outputs": [],
   "source": [
    "import time\n",
    "from subprocess import call\n",
    "import os\n",
    "from PIL import Image\n",
    "import numpy as np\n",
    "from pynput.mouse import Listener, Button, Controller\n",
    "import io\n",
    "import boto3"
   ]
  },
  {
   "cell_type": "code",
   "execution_count": 3,
   "metadata": {},
   "outputs": [],
   "source": [
    "upperCornerX = 128\n",
    "upperCornerY = 44\n",
    "lowerCornerX = 1570\n",
    "lowerCornerY = 1010\n",
    "\n",
    "captureWidth = lowerCornerX - upperCornerX\n",
    "captureHeight = lowerCornerY - upperCornerY\n",
    "\n",
    "clickX = 1634\n",
    "clickY = 530\n",
    "startPause = 7\n",
    "imageFolder = \"/Users/mettinger/Data/kindle/\""
   ]
  },
  {
   "cell_type": "code",
   "execution_count": null,
   "metadata": {},
   "outputs": [],
   "source": [
    "# DELETE ALL PNG FILES\n",
    "\n",
    "pngFileList = [thisFile for thisFile in os.listdir(imageFolder) if thisFile.endswith(\".png\")]\n",
    "for thisFile in pngFileList:\n",
    "    os.remove(imageFolder + thisFile)"
   ]
  },
  {
   "cell_type": "code",
   "execution_count": null,
   "metadata": {},
   "outputs": [],
   "source": [
    "# CAPTURE PAGES FROM KINDLE BOOK\n",
    "\n",
    "time.sleep(startPause)\n",
    "mouse = Controller()\n",
    "\n",
    "i = 0\n",
    "while True:\n",
    "    thisPath = imageFolder + \"image%s.png\" % str(i)\n",
    "    rectangleParam = \"-R%s,%s,%s,%s\" % (str(upperCornerX), str(upperCornerY), str(captureWidth), str(captureHeight))\n",
    "    call([\"screencapture\", rectangleParam, thisPath])\n",
    "    if i > 0:\n",
    "        newImage = Image.open(thisPath)\n",
    "        if newImage == oldImage:\n",
    "            print(\"Done scanning Kindle book!\")\n",
    "            break\n",
    "        else:\n",
    "            oldImage = newImage\n",
    "    else:\n",
    "        oldImage = Image.open(thisPath)\n",
    "    \n",
    "    mouse.position = (clickX, clickY)\n",
    "    mouse.click(Button.left)\n",
    "    time.sleep(.1)\n",
    "    i = i + 1"
   ]
  },
  {
   "cell_type": "code",
   "execution_count": 8,
   "metadata": {},
   "outputs": [],
   "source": [
    "# USE AWS TEXTRACT ON AN IMAGE\n",
    "\n",
    "with open('/Users/mettinger/Data/kindle/image0.png','rb') as fp:\n",
    "    image_binary = fp.read()\n",
    "    \n",
    "client = boto3.client('textract')\n",
    "response = client.detect_document_text(Document={'Bytes': image_binary})"
   ]
  },
  {
   "cell_type": "code",
   "execution_count": 5,
   "metadata": {},
   "outputs": [
    {
     "data": {
      "text/plain": [
       "dict_keys(['DocumentMetadata', 'Blocks', 'ResponseMetadata'])"
      ]
     },
     "execution_count": 5,
     "metadata": {},
     "output_type": "execute_result"
    }
   ],
   "source": [
    "response.keys()"
   ]
  },
  {
   "cell_type": "code",
   "execution_count": 6,
   "metadata": {},
   "outputs": [
    {
     "data": {
      "text/plain": [
       "(list, 285)"
      ]
     },
     "execution_count": 6,
     "metadata": {},
     "output_type": "execute_result"
    }
   ],
   "source": [
    "type(response['Blocks']), len(response['Blocks'])"
   ]
  },
  {
   "cell_type": "code",
   "execution_count": 7,
   "metadata": {},
   "outputs": [
    {
     "data": {
      "text/plain": [
       "{'BlockType': 'LINE',\n",
       " 'Confidence': 95.05030822753906,\n",
       " 'Text': \"In 2010 when I finished The Book of Not Knowing after nearly a decade of writing and revision, most people assumed I'd amassed the definitive\",\n",
       " 'Geometry': {'BoundingBox': {'Width': 0.9279351234436035,\n",
       "   'Height': 0.02442827820777893,\n",
       "   'Left': 0.04637227579951286,\n",
       "   'Top': 0.6055635809898376},\n",
       "  'Polygon': [{'X': 0.04637227579951286, 'Y': 0.6055635809898376},\n",
       "   {'X': 0.9743074178695679, 'Y': 0.6055635809898376},\n",
       "   {'X': 0.9743074178695679, 'Y': 0.629991888999939},\n",
       "   {'X': 0.04637227579951286, 'Y': 0.629991888999939}]},\n",
       " 'Id': 'd07b73a6-576b-4036-abfa-c202c87105a7',\n",
       " 'Relationships': [{'Type': 'CHILD',\n",
       "   'Ids': ['67633739-088b-48be-88bc-42aca97fa585',\n",
       "    'af6943b4-497a-4ed1-967c-c6a493d22c24',\n",
       "    '556cd942-89e5-4eb5-afec-1c4b0c9b782f',\n",
       "    '0e01d75f-b108-429b-80cc-fefceb49d6fd',\n",
       "    'a3d86c40-87b8-439d-9e83-ef437e44c117',\n",
       "    '8259fc18-a6b9-4a2d-a2d5-6ce4357237dc',\n",
       "    '66e82590-81d6-46f9-8ae0-455c75393c9a',\n",
       "    '029f6685-c5f0-4c40-9d0c-8b7f808f3661',\n",
       "    '1445b95a-e212-4a3f-9345-a8de1e35c595',\n",
       "    'a787bc05-9b37-437c-bf5e-e3aa35202f0c',\n",
       "    '67fb20ba-b87a-4995-8522-dcd770efda41',\n",
       "    '0c6399da-765c-4532-8cce-eb2696d4643f',\n",
       "    'de61c187-f6f4-4799-a27d-6d5b40f15547',\n",
       "    '43035ee8-388a-4e14-b926-a706576b1275',\n",
       "    '0911aca8-7155-448b-bcaa-b0329d771680',\n",
       "    'b9e961f2-7b5c-4abf-91ab-685c6ccd6281',\n",
       "    '2ede02e0-d51f-40d0-aaee-e4457a431f13',\n",
       "    '8652cbab-e109-40f3-bb24-a1e9dc3122b8',\n",
       "    '807a8bde-e080-4845-81e1-f002b2bf00ac',\n",
       "    '8cf9e8b5-1ed1-4374-9179-18dd40eb3d18',\n",
       "    '6b214164-e31d-4a7e-ada9-c7a88c13ba40',\n",
       "    '94eb83ec-1069-48d6-81c3-7e10bf0fa2b5',\n",
       "    '94b6769b-87a0-4348-9e1f-b831fefbae21',\n",
       "    '528e0088-ed58-4622-9f2b-bb300586a7e0',\n",
       "    '9fccb6f5-8c97-46e4-9824-8db8ce205450']}]}"
      ]
     },
     "execution_count": 7,
     "metadata": {},
     "output_type": "execute_result"
    }
   ],
   "source": [
    "response['Blocks'][2]"
   ]
  },
  {
   "cell_type": "code",
   "execution_count": null,
   "metadata": {},
   "outputs": [],
   "source": [
    "'''\n",
    "pngList = sorted([i for i in os.listdir(imageFolder) if i.endswith('.png')], key = lambda x: int(x[5:-4]))\n",
    "images = [Image.open(imageFolder + i) for i in pngList][0:5]\n",
    "widths, heights = zip(*(i.size for i in images))\n",
    "\n",
    "max_width = max(widths)\n",
    "total_height = sum(heights)\n",
    "\n",
    "new_im = Image.new('RGB', (max_width, total_height))\n",
    "\n",
    "y_offset = 0\n",
    "for im in images:\n",
    "    new_im.paste(im, (0,y_offset))\n",
    "    y_offset += im.size[1]\n",
    "\n",
    "#new_im\n",
    "new_im.save('/Users/mettinger/Desktop/test.png')\n",
    "\n",
    "\n",
    "i = 0\n",
    "\n",
    "def on_move(x, y):\n",
    "    pass\n",
    "\n",
    "def on_scroll(x, y, dx, dy):\n",
    "    pass\n",
    "\n",
    "def on_click(x, y, button, pressed):\n",
    "    global i\n",
    "    \n",
    "    if x > 1600 and not pressed:\n",
    "        thisPath = imageFolder + \"image%s.png\" % str(i)\n",
    "        rectangleParam = \"-R%s,%s,%s,%s\" % (str(upperCornerX), str(upperCornerY), str(lowerCornerX), str(lowerCornerY))\n",
    "        call([\"screencapture\", rectangleParam, thisPath])\n",
    "        i = i + 1\n",
    "\n",
    "with Listener(on_move=on_move, on_click=on_click, on_scroll=on_scroll) as listener:\n",
    "    listener.join()\n",
    "    \n",
    "    \n",
    "    \n",
    "    \n",
    "    \n",
    "time.sleep(startPause)\n",
    "pyautogui.PAUSE = 2.0\n",
    "randomBound = 1\n",
    "\n",
    "i = 0\n",
    "while True:\n",
    "    thisPath = imageFolder + \"image%s.png\" % str(i)\n",
    "    rectangleParam = \"-R%s,%s,%s,%s\" % (str(upperCornerX), str(upperCornerY), str(lowerCornerX), str(lowerCornerY))\n",
    "    call([\"screencapture\", rectangleParam, thisPath])\n",
    "    if i > 0:\n",
    "        newImage = Image.open(thisPath)\n",
    "        if newImage == oldImage:\n",
    "            print(\"Done scanning Kindle book!\")\n",
    "            break\n",
    "        else:\n",
    "            oldImage = newImage\n",
    "    else:\n",
    "        oldImage = Image.open(thisPath)\n",
    "    \n",
    "    x = clickX + np.random.randint(-randomBound, randomBound)\n",
    "    y = clickY + np.random.randint(-randomBound, randomBound)\n",
    "    pyautogui.moveTo(x, y, duration=0.1)\n",
    "    pyautogui.click()\n",
    "    i = i + 1\n",
    "'''"
   ]
  }
 ],
 "metadata": {
  "kernelspec": {
   "display_name": "Python 3",
   "language": "python",
   "name": "python3"
  },
  "language_info": {
   "codemirror_mode": {
    "name": "ipython",
    "version": 3
   },
   "file_extension": ".py",
   "mimetype": "text/x-python",
   "name": "python",
   "nbconvert_exporter": "python",
   "pygments_lexer": "ipython3",
   "version": "3.7.3"
  }
 },
 "nbformat": 4,
 "nbformat_minor": 2
}
