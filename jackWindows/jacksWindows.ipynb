{
 "cells": [
  {
   "cell_type": "code",
   "execution_count": 56,
   "metadata": {},
   "outputs": [],
   "source": [
    "import glob\n",
    "from shutil import copyfile\n",
    "import imagehash\n",
    "from PIL import Image\n",
    "import os"
   ]
  },
  {
   "cell_type": "code",
   "execution_count": null,
   "metadata": {},
   "outputs": [],
   "source": [
    "destinationDirectory = \"/Users/the_m/Desktop/imageTemp/\"\n",
    "repeatDirectory = \"/Users/the_m/Desktop/repeatTemp/\""
   ]
  },
  {
   "cell_type": "code",
   "execution_count": 70,
   "metadata": {},
   "outputs": [],
   "source": [
    "jpgFileList = glob.glob('C:/**/*.jpg', recursive=True)"
   ]
  },
  {
   "cell_type": "code",
   "execution_count": 66,
   "metadata": {},
   "outputs": [
    {
     "name": "stdout",
     "output_type": "stream",
     "text": [
      "0 of 1505\n",
      "100 of 1505\n",
      "200 of 1505\n",
      "300 of 1505\n",
      "400 of 1505\n",
      "500 of 1505\n",
      "600 of 1505\n",
      "700 of 1505\n",
      "800 of 1505\n",
      "900 of 1505\n",
      "1000 of 1505\n",
      "1100 of 1505\n",
      "1200 of 1505\n",
      "Error: /Users\\the_m\\anaconda3\\pkgs\\torchvision-0.8.2-py38_cu110\\info\\test\\test\\assets\\damaged_jpeg\\corrupt.jpg\n",
      "Error: /Users\\the_m\\anaconda3\\pkgs\\torchvision-0.8.2-py38_cu110\\info\\test\\test\\assets\\damaged_jpeg\\corrupt34_2.jpg\n",
      "Error: /Users\\the_m\\anaconda3\\pkgs\\torchvision-0.8.2-py38_cu110\\info\\test\\test\\assets\\damaged_jpeg\\corrupt34_3.jpg\n",
      "Error: /Users\\the_m\\anaconda3\\pkgs\\torchvision-0.8.2-py38_cu110\\info\\test\\test\\assets\\damaged_jpeg\\corrupt34_4.jpg\n",
      "1300 of 1505\n",
      "Error: /Users\\the_m\\AppData\\Local\\Packages\\Microsoft.Windows.Photos_8wekyb3d8bbwe\\LocalCache\\ba4185aafb5b2843.jpg\n",
      "1400 of 1505\n",
      "Error: /Windows\\servicing\\LCU\\Package_for_RollupFix~31bf3856ad364e35~amd64~~19041.928.1.10\\amd64_microsoft-windows-fax-common_31bf3856ad364e35_10.0.19041.906_none_ea293d31af4f56ea\\f\\welcomescan.jpg\n",
      "Error: /Windows\\servicing\\LCU\\Package_for_RollupFix~31bf3856ad364e35~amd64~~19041.928.1.10\\amd64_microsoft-windows-fax-common_31bf3856ad364e35_10.0.19041.906_none_ea293d31af4f56ea\\r\\welcomescan.jpg\n",
      "Error: /Windows\\servicing\\LCU\\Package_for_RollupFix~31bf3856ad364e35~amd64~~19041.985.1.6\\amd64_microsoft-windows-fax-common_31bf3856ad364e35_10.0.19041.906_none_ea293d31af4f56ea\\f\\welcomescan.jpg\n",
      "Error: /Windows\\servicing\\LCU\\Package_for_RollupFix~31bf3856ad364e35~amd64~~19041.985.1.6\\amd64_microsoft-windows-fax-common_31bf3856ad364e35_10.0.19041.906_none_ea293d31af4f56ea\\r\\welcomescan.jpg\n",
      "1500 of 1505\n"
     ]
    }
   ],
   "source": [
    "hashList = []\n",
    "repeatList = []\n",
    "errorList = []\n",
    "\n",
    "for i,thisFile in enumerate(jpgFileList):\n",
    "    if i % 1000 == 0:\n",
    "        print(\"%s of %s\" % (str(i), str(len(jpgFileList))))\n",
    "        \n",
    "    try:\n",
    "        thisHash = str(imagehash.phash(Image.open(thisFile)))\n",
    "        if thisHash not in hashList:\n",
    "            copyfile(thisFile, destinationDirectory + os.path.basename(thisFile))\n",
    "            hashList.append(thisHash)\n",
    "        else:\n",
    "            copyfile(thisFile, repeatDirectory + os.path.basename(thisFile))\n",
    "            repeatList.append(thisFile)\n",
    "    except:\n",
    "        print('Error: ' + thisFile)\n",
    "        errorList.append(thisFile)"
   ]
  },
  {
   "cell_type": "code",
   "execution_count": null,
   "metadata": {},
   "outputs": [],
   "source": []
  }
 ],
 "metadata": {
  "@webio": {
   "lastCommId": null,
   "lastKernelId": null
  },
  "kernelspec": {
   "display_name": "Python 3",
   "language": "python",
   "name": "python3"
  },
  "language_info": {
   "codemirror_mode": {
    "name": "ipython",
    "version": 3
   },
   "file_extension": ".py",
   "mimetype": "text/x-python",
   "name": "python",
   "nbconvert_exporter": "python",
   "pygments_lexer": "ipython3",
   "version": "3.8.5"
  }
 },
 "nbformat": 4,
 "nbformat_minor": 4
}
