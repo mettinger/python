{
 "cells": [
  {
   "cell_type": "code",
   "execution_count": 22,
   "metadata": {},
   "outputs": [],
   "source": [
    "%matplotlib notebook\n",
    "\n",
    "import numpy as np\n",
    "import random\n",
    "import matplotlib.pyplot as plt"
   ]
  },
  {
   "cell_type": "code",
   "execution_count": 81,
   "metadata": {},
   "outputs": [],
   "source": [
    "def centerSample1():\n",
    "    center = [random.random() for i in range(3)]\n",
    "    return np.array(center)\n",
    "\n",
    "def radiusSample1(radiusLimit=.2):\n",
    "    return radiusLimit * random.random()\n",
    "\n",
    "def makeSpheres(centerSampleFunction, radiusSampleFunction, numSphere):\n",
    "    spheres = [(centerSampleFunction(), radiusSampleFunction()) for i in range(numSphere)]\n",
    "    return spheres\n",
    "\n",
    "def depthGet(sphereList, cameraPosition, polarAngle, azimuthalAngle, step, rayLimit):\n",
    "    \n",
    "    unitRayVector = np.array([np.cos(azimuthalAngle)*np.sin(polarAngle),\n",
    "                              np.sin(azimuthalAngle)*np.sin(polarAngle),\n",
    "                              np.cos(polarAngle)])\n",
    "    \n",
    "    for thisRadius in np.arange(0.0, rayLimit, step):\n",
    "        thisRayPosition = cameraPosition + (thisRadius * unitRayVector)\n",
    "        for thisSphere in sphereList:\n",
    "            if np.sum((thisRayPosition - thisSphere[0])**2) <  thisSphere[1]**2:\n",
    "                return np.linalg.norm(thisRayPosition)\n",
    "    return rayLimit\n",
    "            \n",
    "def depthMapMake(sphereList, cameraPosition, rayAngleList, step=.001, rayLimit = 2):\n",
    "    depthList = [depthGet(sphereList, cameraPosition, polarAngle, azimuthalAngle, step, rayLimit) \n",
    "                 for polarAngle, azimuthalAngle in rayAngleList]\n",
    "    return depthList"
   ]
  },
  {
   "cell_type": "code",
   "execution_count": null,
   "metadata": {},
   "outputs": [],
   "source": [
    "sphereList = list(makeSpheres(centerSample1, radiusSample1, 10))\n",
    "cameraPosition = np.array([0,0,0])\n",
    "rayAngleList = [(azAngle, polarAngle) for azAngle in np.linspace(0,np.pi/2.,100) for polarAngle in np.linspace(0,np.pi/2.,100)]\n",
    "\n",
    "depthMap = depthMapMake(sphereList, cameraPosition, rayAngleList)"
   ]
  },
  {
   "cell_type": "code",
   "execution_count": null,
   "metadata": {},
   "outputs": [],
   "source": [
    "depthMapArray = np.array(depthMap).reshape((100,100))\n",
    "plt.imshow(depthMapArray, cmap='gray')"
   ]
  },
  {
   "cell_type": "code",
   "execution_count": null,
   "metadata": {
    "collapsed": true
   },
   "outputs": [],
   "source": []
  }
 ],
 "metadata": {
  "anaconda-cloud": {},
  "kernelspec": {
   "display_name": "Python [conda env:python3]",
   "language": "python",
   "name": "conda-env-python3-py"
  },
  "language_info": {
   "codemirror_mode": {
    "name": "ipython",
    "version": 3
   },
   "file_extension": ".py",
   "mimetype": "text/x-python",
   "name": "python",
   "nbconvert_exporter": "python",
   "pygments_lexer": "ipython3",
   "version": "3.5.2"
  }
 },
 "nbformat": 4,
 "nbformat_minor": 2
}
