{
 "cells": [
  {
   "cell_type": "code",
   "execution_count": 1,
   "metadata": {},
   "outputs": [],
   "source": [
    "const TronWeb = require('tronweb')"
   ]
  },
  {
   "cell_type": "code",
   "execution_count": 2,
   "metadata": {},
   "outputs": [],
   "source": [
    "// This provider is optional, you can just use a url for the nodes instead\n",
    "const HttpProvider = TronWeb.providers.HttpProvider;"
   ]
  },
  {
   "cell_type": "code",
   "execution_count": 7,
   "metadata": {},
   "outputs": [
    {
     "name": "stdout",
     "output_type": "stream",
     "text": [
      "{ balance: 0 }\n",
      "{ balance: 0 }\n",
      "{ balance: 0 }\n"
     ]
    }
   ],
   "source": [
    "/*\n",
    "var fullNode = new HttpProvider('https://api.trongrid.io'); // Full node http endpoint\n",
    "var solidityNode = new HttpProvider('https://api.trongrid.io'); // Solidity node http endpoint\n",
    "var eventServer = new HttpProvider('https://api.trongrid.io'); // Contract events http endpoint\n",
    "*/\n",
    "\n",
    "\n",
    "var fullNode = new HttpProvider('http://127.0.0.1:8090'); // Full node http endpoint\n",
    "var solidityNode = new HttpProvider('http://127.0.0.1:8091'); // Solidity node http endpoint\n",
    "var eventServer = new HttpProvider('http://127.0.0.1:8092'); // Contract events http endpoint\n",
    "\n",
    "\n",
    "/*\n",
    "var fullNode = new HttpProvider('https://api.shasta.trongrid.io'); // Full node http endpoint\n",
    "var solidityNode = new HttpProvider('https://api.shasta.trongrid.io'); // Solidity node http endpoint\n",
    "var eventServer = new HttpProvider('https://api.shasta.trongrid.io'); // Contract events http endpoint\n",
    "*/\n",
    "\n",
    "/*  AWS VERSION NOT WORKING!!!\n",
    "var fullNode = new HttpProvider('http://18.208.37.82:8090'); // Full node http endpoint\n",
    "var solidityNode = new HttpProvider('http://18.208.37.82:8091'); // Solidity node http endpoint\n",
    "var eventServer = new HttpProvider('http://18.208.37.82:8092'); // Contract events http endpoint\n",
    "*/\n",
    "\n",
    "var privateKey = '75eebee1920463cc12656ab6e6e39c46d478fce3214edff90add485964a9398e';//'da146374a75310b9666e834ee4ad0866d6f4035967bfc76217c5a495fff9f0d0';\n",
    "\n",
    "var tronWeb = new TronWeb(\n",
    "    fullNode,\n",
    "    solidityNode,\n",
    "    eventServer,\n",
    "    privateKey\n",
    ");\n",
    "\n",
    "\n",
    "async function getBalance() {\n",
    "\n",
    "    const address = 'TVwcbc4hNsXC5J6GkkbVShRNTzekEgPtWo'; //'TPL66VK2gCXNCD7EJg9pgJRfqcRazjhUZY';\n",
    "\n",
    "    // The majority of the function calls are asynchronus,\n",
    "    // meaning that they cannot return the result instantly.\n",
    "    // These methods therefore return a promise, which you can await.\n",
    "    const balance = await tronWeb.trx.getBalance(address);\n",
    "    console.log({balance});\n",
    "\n",
    "    // You can also bind a `then` and `catch` method.\n",
    "    tronWeb.trx.getBalance(address).then(balance => {\n",
    "        console.log({balance});\n",
    "    }).catch(err => console.error(err));\n",
    "\n",
    "    // If you'd like to use a similar API to Web3, provide a callback function.\n",
    "    tronWeb.trx.getBalance(address, (err, balance) => {\n",
    "        if (err)\n",
    "            return console.error(err);\n",
    "\n",
    "        console.log({balance});\n",
    "    });\n",
    "}\n",
    "\n",
    "getBalance();"
   ]
  },
  {
   "cell_type": "code",
   "execution_count": null,
   "metadata": {},
   "outputs": [],
   "source": []
  }
 ],
 "metadata": {
  "kernelspec": {
   "display_name": "Javascript (Node.js)",
   "language": "javascript",
   "name": "javascript"
  },
  "language_info": {
   "file_extension": ".js",
   "mimetype": "application/javascript",
   "name": "javascript",
   "version": "11.1.0"
  }
 },
 "nbformat": 4,
 "nbformat_minor": 2
}
