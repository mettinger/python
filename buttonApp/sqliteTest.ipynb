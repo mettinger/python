{
 "cells": [
  {
   "cell_type": "code",
   "execution_count": 1,
   "metadata": {},
   "outputs": [],
   "source": [
    "import sqlite3"
   ]
  },
  {
   "cell_type": "code",
   "execution_count": 6,
   "metadata": {},
   "outputs": [],
   "source": [
    "# DROP TABLE\n",
    "conn = sqlite3.connect('two_buttons.db')\n",
    "cur = conn.cursor()\n",
    "cur.execute('''DROP TABLE button_press''')\n",
    "\n",
    "conn.commit()\n",
    "conn.close()"
   ]
  },
  {
   "cell_type": "code",
   "execution_count": 7,
   "metadata": {},
   "outputs": [],
   "source": [
    "# CREATE TABLE\n",
    "conn = sqlite3.connect('two_buttons.db')\n",
    "cur = conn.cursor()\n",
    "cur.execute('''CREATE TABLE button_press (timestamp text, button_id int)''')\n",
    "\n",
    "conn.commit()\n",
    "conn.close()"
   ]
  },
  {
   "cell_type": "code",
   "execution_count": 9,
   "metadata": {},
   "outputs": [
    {
     "name": "stdout",
     "output_type": "stream",
     "text": [
      "[('2018.04.11.07.25.10.095', 0), ('2018.04.11.07.25.10.662', 0), ('2018.04.11.07.25.11.517', 1), ('2018.04.11.07.25.12.050', 1)]\n"
     ]
    }
   ],
   "source": [
    "# READ TABLE\n",
    "conn = sqlite3.connect('two_buttons.db')\n",
    "cur = conn.cursor()\n",
    "cur.execute('''SELECT * FROM button_press''')\n",
    "results = cur.fetchall()\n",
    "conn.close()\n",
    "\n",
    "print(results)"
   ]
  },
  {
   "cell_type": "code",
   "execution_count": 100,
   "metadata": {},
   "outputs": [],
   "source": [
    "# INSERT INTO TABLE\n",
    "conn = sqlite3.connect('two_buttons.db')\n",
    "cur = conn.cursor()\n",
    "text = 'this_timestamp_text'\n",
    "id = 0\n",
    "cur.execute(\"INSERT INTO button_press VALUES ('%s','%s')\" % (text, id))\n",
    "conn.commit()\n",
    "conn.close()\n"
   ]
  },
  {
   "cell_type": "code",
   "execution_count": null,
   "metadata": {},
   "outputs": [],
   "source": []
  }
 ],
 "metadata": {
  "anaconda-cloud": {},
  "kernelspec": {
   "display_name": "Python [conda env:python36]",
   "language": "python",
   "name": "conda-env-python36-py"
  },
  "language_info": {
   "codemirror_mode": {
    "name": "ipython",
    "version": 3
   },
   "file_extension": ".py",
   "mimetype": "text/x-python",
   "name": "python",
   "nbconvert_exporter": "python",
   "pygments_lexer": "ipython3",
   "version": "3.6.4"
  }
 },
 "nbformat": 4,
 "nbformat_minor": 1
}
