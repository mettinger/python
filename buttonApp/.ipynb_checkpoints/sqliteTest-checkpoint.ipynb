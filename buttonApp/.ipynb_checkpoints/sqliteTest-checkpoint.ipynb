{
 "cells": [
  {
   "cell_type": "code",
   "execution_count": 4,
   "metadata": {},
   "outputs": [],
   "source": [
    "import sqlite3\n",
    "\n",
    "databasePath = '/home/ubuntu/github/python/buttonApp/two_buttons.db'"
   ]
  },
  {
   "cell_type": "code",
   "execution_count": 5,
   "metadata": {},
   "outputs": [],
   "source": [
    "# DROP TABLE\n",
    "conn = sqlite3.connect(databasePath)\n",
    "cur = conn.cursor()\n",
    "cur.execute('''DROP TABLE test_table''')\n",
    "\n",
    "conn.commit()\n",
    "conn.close()"
   ]
  },
  {
   "cell_type": "code",
   "execution_count": 6,
   "metadata": {},
   "outputs": [],
   "source": [
    "# CREATE TABLE\n",
    "conn = sqlite3.connect(databasePath)\n",
    "cur = conn.cursor()\n",
    "cur.execute('''CREATE TABLE test_table (comment text)''')\n",
    "\n",
    "conn.commit()\n",
    "conn.close()"
   ]
  },
  {
   "cell_type": "code",
   "execution_count": 7,
   "metadata": {},
   "outputs": [
    {
     "name": "stdout",
     "output_type": "stream",
     "text": [
      "[]\n"
     ]
    }
   ],
   "source": [
    "# READ TABLE\n",
    "conn = sqlite3.connect(databasePath)\n",
    "cur = conn.cursor()\n",
    "cur.execute('''SELECT * FROM test_table''')\n",
    "results = cur.fetchall()\n",
    "conn.close()\n",
    "\n",
    "print(results)"
   ]
  },
  {
   "cell_type": "code",
   "execution_count": 11,
   "metadata": {},
   "outputs": [],
   "source": [
    "# INSERT INTO TABLE\n",
    "conn = sqlite3.connect(databasePath)\n",
    "cur = conn.cursor()\n",
    "text = 'THREE'\n",
    "cur.execute(\"INSERT INTO test_table VALUES ('%s')\" % text)\n",
    "conn.commit()\n",
    "conn.close()\n"
   ]
  },
  {
   "cell_type": "code",
   "execution_count": null,
   "metadata": {},
   "outputs": [],
   "source": []
  }
 ],
 "metadata": {
  "anaconda-cloud": {},
  "kernelspec": {
   "display_name": "Python [conda env:python36]",
   "language": "python",
   "name": "conda-env-python36-py"
  },
  "language_info": {
   "codemirror_mode": {
    "name": "ipython",
    "version": 3
   },
   "file_extension": ".py",
   "mimetype": "text/x-python",
   "name": "python",
   "nbconvert_exporter": "python",
   "pygments_lexer": "ipython3",
   "version": "3.6.4"
  }
 },
 "nbformat": 4,
 "nbformat_minor": 1
}
