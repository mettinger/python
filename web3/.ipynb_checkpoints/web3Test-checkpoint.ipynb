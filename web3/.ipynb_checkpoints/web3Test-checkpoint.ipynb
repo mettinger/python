{
 "cells": [
  {
   "cell_type": "code",
   "execution_count": 1,
   "metadata": {},
   "outputs": [
    {
     "name": "stderr",
     "output_type": "stream",
     "text": [
      "/anaconda3/lib/python3.6/site-packages/requests/__init__.py:80: RequestsDependencyWarning: urllib3 (1.22) or chardet (2.3.0) doesn't match a supported version!\n",
      "  RequestsDependencyWarning)\n"
     ]
    },
    {
     "data": {
      "text/plain": [
       "True"
      ]
     },
     "execution_count": 1,
     "metadata": {},
     "output_type": "execute_result"
    }
   ],
   "source": [
    "from web3 import Web3\n",
    "\n",
    "#web3 = Web3(Web3.HTTPProvider(\"https://mainnet.infura.io/v3/f565925a6c5143188b5589a37b28139b\"))\n",
    "#web3 = Web3(Web3.HTTPProvider(\"https://ropsten.infura.io/v3/f565925a6c5143188b5589a37b28139b\"))\n",
    "web3 = Web3(Web3.HTTPProvider('http://localhost:7545')) # Ganache\n",
    "#web3 = Web3(Web3.HTTPProvider('http://18.208.37.82:8811')) # Ganache on my AWS machine\n",
    "#web3 = Web3(Web3.HTTPProvider('http://localhost:9545')) # truffle develop\n",
    "web3.isConnected()"
   ]
  },
  {
   "cell_type": "code",
   "execution_count": 2,
   "metadata": {},
   "outputs": [
    {
     "data": {
      "text/plain": [
       "70"
      ]
     },
     "execution_count": 2,
     "metadata": {},
     "output_type": "execute_result"
    }
   ],
   "source": [
    "web3.eth.blockNumber"
   ]
  },
  {
   "cell_type": "code",
   "execution_count": 3,
   "metadata": {},
   "outputs": [
    {
     "data": {
      "text/plain": [
       "0"
      ]
     },
     "execution_count": 3,
     "metadata": {},
     "output_type": "execute_result"
    }
   ],
   "source": [
    "address1 = '0x28ef59a6e10256c31bd69c1a845845613459ae8c'\n",
    "\n",
    "address1 = Web3.toChecksumAddress(address1)\n",
    "ether_balance = web3.fromWei(web3.eth.getBalance(address1),'ether')\n",
    "ether_balance"
   ]
  },
  {
   "cell_type": "code",
   "execution_count": 4,
   "metadata": {},
   "outputs": [
    {
     "data": {
      "text/plain": [
       "AttributeDict({'number': 10,\n",
       " 'hash': HexBytes('0x4a70811e738b2a5fe692f159902c884c4c6251fc0965842c64fd26570670df42'),\n",
       " 'parentHash': HexBytes('0x98c12d4696f0ba4a01b2f3c5233f3160994d428a75caf9d4d3c5c9417ac5d0ab'),\n",
       " 'mixHash': HexBytes('0x0000000000000000000000000000000000000000000000000000000000000000'),\n",
       " 'nonce': HexBytes('0x0000000000000000'),\n",
       " 'sha3Uncles': HexBytes('0x1dcc4de8dec75d7aab85b567b6ccd41ad312451b948a7413f0a142fd40d49347'),\n",
       " 'logsBloom': HexBytes('0x00000000000000000000000000000000000000000000000000000000000000000000000000000000000000000000000000000000000000000000000000000000000000000000000000000000000000000000000000000000000000000000000000000000000000000000000000000000000000000000000000000000000000000000000000000000000000000000000000000000000000000000000000000000000000000000000000000000000000000000000000000000000000000000000000000000000000000000000000000000000000000000000000000000000000000000000000000000000000000000000000000000000000000000000000000000'),\n",
       " 'transactionsRoot': HexBytes('0x56e81f171bcc55a6ff8345e692c0f86e5b48e01b996cadc001622fb5e363b421'),\n",
       " 'stateRoot': HexBytes('0x2ce3eadb54c226505382ac53acddd42e162bc866082f0db29af39572e862ba1e'),\n",
       " 'receiptsRoot': HexBytes('0x56e81f171bcc55a6ff8345e692c0f86e5b48e01b996cadc001622fb5e363b421'),\n",
       " 'miner': '0x0000000000000000000000000000000000000000',\n",
       " 'difficulty': 0,\n",
       " 'totalDifficulty': 0,\n",
       " 'extraData': HexBytes('0x'),\n",
       " 'size': 1000,\n",
       " 'gasLimit': 6721975,\n",
       " 'gasUsed': 27034,\n",
       " 'timestamp': 1550341320,\n",
       " 'transactions': [HexBytes('0xc83c11b73809edf46e250ad8f29a7169d29239ef01946653a4d82dc9b6cc1bc2')],\n",
       " 'uncles': []})"
      ]
     },
     "execution_count": 4,
     "metadata": {},
     "output_type": "execute_result"
    }
   ],
   "source": [
    "latestBlock = web3.eth.getBlock('latest')\n",
    "latestBlock"
   ]
  },
  {
   "cell_type": "code",
   "execution_count": null,
   "metadata": {},
   "outputs": [],
   "source": [
    "address2 = Web3.toChecksumAddress('0x783068935ea9f8b43310bbe880a3498c23070e1d')\n",
    "web3.eth.sendTransaction({'from': address1, 'to': address2, 'value':Web3.toWei(5,'ether')})"
   ]
  },
  {
   "cell_type": "code",
   "execution_count": null,
   "metadata": {},
   "outputs": [],
   "source": [
    "print(str(web3.eth.getTransactionCount(address1)) + ' ' + Web3.toHex(web3.eth.getTransactionCount(address1)))"
   ]
  },
  {
   "cell_type": "code",
   "execution_count": null,
   "metadata": {},
   "outputs": [],
   "source": [
    "'''\n",
    "Available Accounts\n",
    "==================\n",
    "(0) 0x28ef59a6e10256c31bd69c1a845845613459ae8c (~100 ETH)\n",
    "(1) 0x783068935ea9f8b43310bbe880a3498c23070e1d (~100 ETH)\n",
    "(2) 0x58638fbf8c9f656cd42e88c12a4883bd56fbcc79 (~100 ETH)\n",
    "(3) 0xaf6e8d35dd8500e28c39c9971fbcaeefc57a0145 (~100 ETH)\n",
    "(4) 0xd2f1b53b989306b5401619bd1a8ffd593940b5ab (~100 ETH)\n",
    "(5) 0x7beb70c77ae69922ff67af8d1dfc99a797e036d4 (~100 ETH)\n",
    "(6) 0xf4d35bb87b76bdede4847519271024e458a5d71b (~100 ETH)\n",
    "(7) 0xdea2bfbd40d83b0f17d82cf661ea8b0b6311b9ed (~100 ETH)\n",
    "(8) 0x562c685e9c6b907e1e8a295665d3a6c716d5ad72 (~100 ETH)\n",
    "(9) 0x751f778c18b053208a6827cf9e989724e84aee24 (~100 ETH)\n",
    "\n",
    "Private Keys\n",
    "==================\n",
    "(0) 0x98b1d6280ff03fb66a8387b9b784c1c07cb234a3b68e7c63a4bd7d35da78145d\n",
    "(1) 0x6355ec93ee31e6c26737da4be5cf5473e53d716c4428696f7563dfd2db173aac\n",
    "(2) 0x2f1ba2d3fba5b07642d58d0f099a1f8e20adec3f498bb9801eb0bedf0c05457c\n",
    "(3) 0xe29a1892f0f64ae81a767d3b8cde68da3fa67643cfcc78dfeeabd60ca5fd5c82\n",
    "(4) 0x39e6db661cc220fdd69006b4a9c814dab844eca478f31f3a933602c506506880\n",
    "(5) 0x649a63088c13ffa57a255469dabe7b1c69c8eeec3cd4934509506d57048e82a2\n",
    "(6) 0x73bb91fd7c03edc5ca93a9fa4daf413d134845e7546a06bdc752acec15755c2a\n",
    "(7) 0xd6dbebd9c08ccd432fa7df9a08e4af3a6003a35d27563492876dbc131b6287bd\n",
    "(8) 0x0d911fa02f0f91bb62827cbafc29ad7a3a6b418c76cbe71188330911ab6923d6\n",
    "(9) 0x4e03f0288a7febf935418388a450d3dc27ac5b538cc81897b60483ec0fd4d237\n",
    "\n",
    "HD Wallet\n",
    "==================\n",
    "Mnemonic:      web table dinner check mention ugly demand silver cannon tumble public found\n",
    "Base HD Path:  m/44'/60'/0'/0/{account_index}\n",
    "\n",
    "Gas Price\n",
    "==================\n",
    "20000000000\n",
    "\n",
    "Gas Limit\n",
    "==================\n",
    "6721975\n",
    "\n",
    "Listening on 0.0.0.0:8811\n",
    "'''"
   ]
  },
  {
   "cell_type": "code",
   "execution_count": null,
   "metadata": {},
   "outputs": [],
   "source": []
  }
 ],
 "metadata": {
  "kernelspec": {
   "display_name": "Python 3",
   "language": "python",
   "name": "python3"
  },
  "language_info": {
   "codemirror_mode": {
    "name": "ipython",
    "version": 3
   },
   "file_extension": ".py",
   "mimetype": "text/x-python",
   "name": "python",
   "nbconvert_exporter": "python",
   "pygments_lexer": "ipython3",
   "version": "3.6.5"
  }
 },
 "nbformat": 4,
 "nbformat_minor": 2
}
