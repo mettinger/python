{
 "cells": [
  {
   "cell_type": "markdown",
   "metadata": {},
   "source": [
    "# Web 3"
   ]
  },
  {
   "cell_type": "code",
   "execution_count": 1,
   "metadata": {},
   "outputs": [],
   "source": [
    "const Web3 = require('web3')\n",
    "//const web3 = new Web3(\"https://mainnet.infura.io/v3/f565925a6c5143188b5589a37b28139b\")\n",
    "const web3 = new Web3(\"http://127.0.0.1:7545\")\n",
    "//const web3 = new Web3(\"http://18.208.37.82:8811\") // my aws machine"
   ]
  },
  {
   "cell_type": "code",
   "execution_count": 10,
   "metadata": {},
   "outputs": [
    {
     "data": {
      "text/plain": [
       "'100000000000000000000'"
      ]
     },
     "execution_count": 10,
     "metadata": {},
     "output_type": "execute_result"
    }
   ],
   "source": [
    "var address1 = '0x6F605C07E34ac19214B2DaA8d23e42d73FC8814F'\n",
    "var balance = web3.eth.getBalance(address1)\n",
    "balance"
   ]
  },
  {
   "cell_type": "code",
   "execution_count": 4,
   "metadata": {},
   "outputs": [],
   "source": [
    "const abi = [\n",
    "    {\n",
    "      \"constant\": true,\n",
    "      \"inputs\": [],\n",
    "      \"name\": \"storedData\",\n",
    "      \"outputs\": [\n",
    "        {\n",
    "          \"name\": \"\",\n",
    "          \"type\": \"uint256\"\n",
    "        }\n",
    "      ],\n",
    "      \"payable\": false,\n",
    "      \"stateMutability\": \"view\",\n",
    "      \"type\": \"function\",\n",
    "      \"signature\": \"0x2a1afcd9\"\n",
    "    },\n",
    "    {\n",
    "      \"inputs\": [],\n",
    "      \"payable\": false,\n",
    "      \"stateMutability\": \"nonpayable\",\n",
    "      \"type\": \"constructor\",\n",
    "      \"signature\": \"constructor\"\n",
    "    },\n",
    "    {\n",
    "      \"anonymous\": false,\n",
    "      \"inputs\": [\n",
    "        {\n",
    "          \"indexed\": false,\n",
    "          \"name\": \"message\",\n",
    "          \"type\": \"string\"\n",
    "        },\n",
    "        {\n",
    "          \"indexed\": false,\n",
    "          \"name\": \"newVal\",\n",
    "          \"type\": \"uint256\"\n",
    "        }\n",
    "      ],\n",
    "      \"name\": \"Change\",\n",
    "      \"type\": \"event\",\n",
    "      \"signature\": \"0xbb1cb5be1009ed69d54a8f3da20ed253be50c4dbbcade4f0a12114dedd9be5d7\"\n",
    "    },\n",
    "    {\n",
    "      \"constant\": false,\n",
    "      \"inputs\": [\n",
    "        {\n",
    "          \"name\": \"x\",\n",
    "          \"type\": \"uint256\"\n",
    "        }\n",
    "      ],\n",
    "      \"name\": \"set\",\n",
    "      \"outputs\": [],\n",
    "      \"payable\": false,\n",
    "      \"stateMutability\": \"nonpayable\",\n",
    "      \"type\": \"function\",\n",
    "      \"signature\": \"0x60fe47b1\"\n",
    "    },\n",
    "    {\n",
    "      \"constant\": true,\n",
    "      \"inputs\": [],\n",
    "      \"name\": \"get\",\n",
    "      \"outputs\": [\n",
    "        {\n",
    "          \"name\": \"\",\n",
    "          \"type\": \"uint256\"\n",
    "        }\n",
    "      ],\n",
    "      \"payable\": false,\n",
    "      \"stateMutability\": \"view\",\n",
    "      \"type\": \"function\",\n",
    "      \"signature\": \"0x6d4ce63c\"\n",
    "    }\n",
    "  ]\n",
    "const address = '0x85D3a064743A72cD2Da2ce25be69Ae53fc70D7FD'\n",
    "\n",
    "const contract = new web3.eth.Contract(abi, address)"
   ]
  },
  {
   "cell_type": "code",
   "execution_count": 36,
   "metadata": {},
   "outputs": [
    {
     "data": {
      "text/plain": [
       "'2'"
      ]
     },
     "execution_count": 36,
     "metadata": {},
     "output_type": "execute_result"
    }
   ],
   "source": [
    "contract.methods.get().call()"
   ]
  },
  {
   "cell_type": "code",
   "execution_count": 38,
   "metadata": {},
   "outputs": [
    {
     "data": {
      "text/plain": [
       "{ transactionHash:\n",
       "   '0x5e8728500a3e58ae7b7425dc320ad375c22a69da2298328f2d501651e74ac486',\n",
       "  transactionIndex: 0,\n",
       "  blockHash:\n",
       "   '0xd86971e14a2fb88594270dca01bf0f06d39d2cf8d3d7dda2364d2ed54c32a6d6',\n",
       "  blockNumber: 19,\n",
       "  gasUsed: 28622,\n",
       "  cumulativeGasUsed: 28622,\n",
       "  contractAddress: null,\n",
       "  status: true,\n",
       "  logsBloom:\n",
       "   '0x00000000000000000000000000000000000000000000000000000000000000000000000000000000000000000000000000000000000000000000000000000000000000000000000000000000000000000000000000000000000000000080000000000010000000000000000000000000000000000000000000000020000000000000000000000000000000000000200000000000000000000000000000000000000000000000000000000000000000000000000000000000000000000000000000000000000000000000000000000000000000008000000000000000000000000000000000000000000000000000000000000000000000000000000000000001',\n",
       "  events:\n",
       "   { Change:\n",
       "      { logIndex: 0,\n",
       "        transactionIndex: 0,\n",
       "        transactionHash:\n",
       "         '0x5e8728500a3e58ae7b7425dc320ad375c22a69da2298328f2d501651e74ac486',\n",
       "        blockHash:\n",
       "         '0xd86971e14a2fb88594270dca01bf0f06d39d2cf8d3d7dda2364d2ed54c32a6d6',\n",
       "        blockNumber: 19,\n",
       "        address: '0x85D3a064743A72cD2Da2ce25be69Ae53fc70D7FD',\n",
       "        type: 'mined',\n",
       "        id: 'log_afae4d21',\n",
       "        returnValues: Result { '0': 'set', '1': '4', message: 'set', newVal: '4' },\n",
       "        event: 'Change',\n",
       "        signature:\n",
       "         '0xbb1cb5be1009ed69d54a8f3da20ed253be50c4dbbcade4f0a12114dedd9be5d7',\n",
       "        raw:\n",
       "         { data:\n",
       "            '0x0000000000000000000000000000000000000000000000000000000000000040000000000000000000000000000000000000000000000000000000000000000400000000000000000000000000000000000000000000000000000000000000037365740000000000000000000000000000000000000000000000000000000000',\n",
       "           topics:\n",
       "            [ '0xbb1cb5be1009ed69d54a8f3da20ed253be50c4dbbcade4f0a12114dedd9be5d7' ] } } } }"
      ]
     },
     "execution_count": 38,
     "metadata": {},
     "output_type": "execute_result"
    }
   ],
   "source": [
    "var transactionObject1 = {\n",
    "  from: address1,\n",
    "  gas: 3000000,\n",
    "  gasPrice: 50\n",
    "};\n",
    "\n",
    "contract.methods.set('4').send(transactionObject1);"
   ]
  },
  {
   "cell_type": "code",
   "execution_count": null,
   "metadata": {},
   "outputs": [],
   "source": [
    "// OMG Token Contract\n",
    "const abi = [{\"constant\":true,\"inputs\":[],\"name\":\"mintingFinished\",\"outputs\":[{\"name\":\"\",\"type\":\"bool\"}],\"payable\":false,\"type\":\"function\"},{\"constant\":true,\"inputs\":[],\"name\":\"name\",\"outputs\":[{\"name\":\"\",\"type\":\"string\"}],\"payable\":false,\"type\":\"function\"},{\"constant\":false,\"inputs\":[{\"name\":\"_spender\",\"type\":\"address\"},{\"name\":\"_value\",\"type\":\"uint256\"}],\"name\":\"approve\",\"outputs\":[],\"payable\":false,\"type\":\"function\"},{\"constant\":true,\"inputs\":[],\"name\":\"totalSupply\",\"outputs\":[{\"name\":\"\",\"type\":\"uint256\"}],\"payable\":false,\"type\":\"function\"},{\"constant\":false,\"inputs\":[{\"name\":\"_from\",\"type\":\"address\"},{\"name\":\"_to\",\"type\":\"address\"},{\"name\":\"_value\",\"type\":\"uint256\"}],\"name\":\"transferFrom\",\"outputs\":[],\"payable\":false,\"type\":\"function\"},{\"constant\":true,\"inputs\":[],\"name\":\"decimals\",\"outputs\":[{\"name\":\"\",\"type\":\"uint256\"}],\"payable\":false,\"type\":\"function\"},{\"constant\":false,\"inputs\":[],\"name\":\"unpause\",\"outputs\":[{\"name\":\"\",\"type\":\"bool\"}],\"payable\":false,\"type\":\"function\"},{\"constant\":false,\"inputs\":[{\"name\":\"_to\",\"type\":\"address\"},{\"name\":\"_amount\",\"type\":\"uint256\"}],\"name\":\"mint\",\"outputs\":[{\"name\":\"\",\"type\":\"bool\"}],\"payable\":false,\"type\":\"function\"},{\"constant\":true,\"inputs\":[],\"name\":\"paused\",\"outputs\":[{\"name\":\"\",\"type\":\"bool\"}],\"payable\":false,\"type\":\"function\"},{\"constant\":true,\"inputs\":[{\"name\":\"_owner\",\"type\":\"address\"}],\"name\":\"balanceOf\",\"outputs\":[{\"name\":\"balance\",\"type\":\"uint256\"}],\"payable\":false,\"type\":\"function\"},{\"constant\":false,\"inputs\":[],\"name\":\"finishMinting\",\"outputs\":[{\"name\":\"\",\"type\":\"bool\"}],\"payable\":false,\"type\":\"function\"},{\"constant\":false,\"inputs\":[],\"name\":\"pause\",\"outputs\":[{\"name\":\"\",\"type\":\"bool\"}],\"payable\":false,\"type\":\"function\"},{\"constant\":true,\"inputs\":[],\"name\":\"owner\",\"outputs\":[{\"name\":\"\",\"type\":\"address\"}],\"payable\":false,\"type\":\"function\"},{\"constant\":true,\"inputs\":[],\"name\":\"symbol\",\"outputs\":[{\"name\":\"\",\"type\":\"string\"}],\"payable\":false,\"type\":\"function\"},{\"constant\":false,\"inputs\":[{\"name\":\"_to\",\"type\":\"address\"},{\"name\":\"_value\",\"type\":\"uint256\"}],\"name\":\"transfer\",\"outputs\":[],\"payable\":false,\"type\":\"function\"},{\"constant\":false,\"inputs\":[{\"name\":\"_to\",\"type\":\"address\"},{\"name\":\"_amount\",\"type\":\"uint256\"},{\"name\":\"_releaseTime\",\"type\":\"uint256\"}],\"name\":\"mintTimelocked\",\"outputs\":[{\"name\":\"\",\"type\":\"address\"}],\"payable\":false,\"type\":\"function\"},{\"constant\":true,\"inputs\":[{\"name\":\"_owner\",\"type\":\"address\"},{\"name\":\"_spender\",\"type\":\"address\"}],\"name\":\"allowance\",\"outputs\":[{\"name\":\"remaining\",\"type\":\"uint256\"}],\"payable\":false,\"type\":\"function\"},{\"constant\":false,\"inputs\":[{\"name\":\"newOwner\",\"type\":\"address\"}],\"name\":\"transferOwnership\",\"outputs\":[],\"payable\":false,\"type\":\"function\"},{\"anonymous\":false,\"inputs\":[{\"indexed\":true,\"name\":\"to\",\"type\":\"address\"},{\"indexed\":false,\"name\":\"value\",\"type\":\"uint256\"}],\"name\":\"Mint\",\"type\":\"event\"},{\"anonymous\":false,\"inputs\":[],\"name\":\"MintFinished\",\"type\":\"event\"},{\"anonymous\":false,\"inputs\":[],\"name\":\"Pause\",\"type\":\"event\"},{\"anonymous\":false,\"inputs\":[],\"name\":\"Unpause\",\"type\":\"event\"},{\"anonymous\":false,\"inputs\":[{\"indexed\":true,\"name\":\"owner\",\"type\":\"address\"},{\"indexed\":true,\"name\":\"spender\",\"type\":\"address\"},{\"indexed\":false,\"name\":\"value\",\"type\":\"uint256\"}],\"name\":\"Approval\",\"type\":\"event\"},{\"anonymous\":false,\"inputs\":[{\"indexed\":true,\"name\":\"from\",\"type\":\"address\"},{\"indexed\":true,\"name\":\"to\",\"type\":\"address\"},{\"indexed\":false,\"name\":\"value\",\"type\":\"uint256\"}],\"name\":\"Transfer\",\"type\":\"event\"}]\n",
    "const address = '0xd26114cd6EE289AccF82350c8d8487fedB8A0C07'\n",
    "\n",
    "const contract = new web3.eth.Contract(abi, address)"
   ]
  },
  {
   "cell_type": "code",
   "execution_count": null,
   "metadata": {},
   "outputs": [],
   "source": [
    "// Get Contract Event Stream\n",
    "contract.getPastEvents(\n",
    "  'AllEvents',\n",
    "  {\n",
    "    fromBlock: 6500000,\n",
    "    toBlock: 6500100\n",
    "  },\n",
    "  (err, events) => { console.log(events) }\n",
    ")"
   ]
  },
  {
   "cell_type": "markdown",
   "metadata": {},
   "source": [
    "# Augur"
   ]
  },
  {
   "cell_type": "code",
   "execution_count": null,
   "metadata": {},
   "outputs": [],
   "source": [
    "var Augur = require('augur.js');\n",
    "var augur = new Augur();\n",
    "\n",
    "var myConnectionInfo;\n",
    "\n",
    "var httpAddress = \"https://mainnet.infura.io/v3/f565925a6c5143188b5589a37b28139b\"\n",
    "//var httpAddress = \"https://rinkeby.augur.net/ethereum-http\"\n",
    "\n",
    "var ethereumNode = { \n",
    "  httpAddresses: [\n",
    "    httpAddress,\n",
    "  ]\n",
    "};\n",
    "\n",
    "//var augurNode = \"ws://127.0.0.1:9001\" // local Augur Node\n",
    "var augurNode = \"ws://18.208.37.82:9001\" // Augur Node on my aws machine\n",
    "\n",
    "augur.connect({ ethereumNode, augurNode }, function (err, connectionInfo) { myConnectionInfo = connectionInfo});\n",
    "//var connectionInfo = augur.connect({ ethereumNode, augurNode });"
   ]
  },
  {
   "cell_type": "code",
   "execution_count": null,
   "metadata": {},
   "outputs": [],
   "source": [
    "myConnectionInfo"
   ]
  },
  {
   "cell_type": "code",
   "execution_count": null,
   "metadata": {},
   "outputs": [],
   "source": [
    "var universe = myConnectionInfo.ethereumNode.contracts.Universe;\n",
    "universe"
   ]
  },
  {
   "cell_type": "code",
   "execution_count": null,
   "metadata": {},
   "outputs": [],
   "source": [
    "var markets;\n",
    "\n",
    "//var searchString = \"category: Ethereum OR tags: ETH\"\n",
    "//var searchString = \"category: POLITICS\"\n",
    "\n",
    "augur.markets.getMarkets({\n",
    "  universe: universe,\n",
    "  //search: searchString\n",
    "}, function (error, result) {\n",
    "  markets = result;\n",
    "});"
   ]
  },
  {
   "cell_type": "code",
   "execution_count": null,
   "metadata": {},
   "outputs": [],
   "source": [
    "markets.length"
   ]
  },
  {
   "cell_type": "code",
   "execution_count": null,
   "metadata": {},
   "outputs": [],
   "source": [
    "var outcomeBound = 2;\n",
    "\n",
    "var i;\n",
    "var thisID;\n",
    "var finalizedMarketInfo = [];\n",
    "\n",
    "for (i = 0; i < markets.length; i++) { \n",
    "    thisID = markets[i];\n",
    "    augur.markets.getMarketsInfo({marketIds: [thisID]}, \n",
    "        function (error, result) {if (result[0].finalizationBlockNumber != null && \n",
    "                                      result[0].numOutcomes >= outcomeBound)\n",
    "            {finalizedMarketInfo.push(result[0])}});\n",
    "}\n"
   ]
  },
  {
   "cell_type": "code",
   "execution_count": null,
   "metadata": {},
   "outputs": [],
   "source": [
    "finalizedMarketInfo.length"
   ]
  },
  {
   "cell_type": "code",
   "execution_count": null,
   "metadata": {},
   "outputs": [],
   "source": [
    "finalizedMarketInfo"
   ]
  },
  {
   "cell_type": "code",
   "execution_count": null,
   "metadata": {},
   "outputs": [],
   "source": [
    "var marketInfoList = finalizedMarketInfo; // get all markets\n",
    "//var marketIndex = 5\n",
    "//var marketInfoList = [finalizedMarketInfo[marketIndex]] // get a single market\n",
    "var allMarketPriceHistory = [];\n",
    "\n",
    "marketInfoList.forEach(function(arrayElement) {\n",
    "  augur.markets.getMarketPriceHistory({marketId: arrayElement.id}, function(error, result) {\n",
    "    allMarketPriceHistory.push([arrayElement, result]);\n",
    "  });\n",
    "});"
   ]
  },
  {
   "cell_type": "code",
   "execution_count": null,
   "metadata": {},
   "outputs": [],
   "source": [
    "allMarketPriceHistory.length"
   ]
  },
  {
   "cell_type": "code",
   "execution_count": null,
   "metadata": {},
   "outputs": [],
   "source": [
    "allMarketPriceHistory"
   ]
  },
  {
   "cell_type": "code",
   "execution_count": null,
   "metadata": {},
   "outputs": [],
   "source": [
    "allMarketPriceHistory[0][1]['1'].length"
   ]
  },
  {
   "cell_type": "code",
   "execution_count": null,
   "metadata": {},
   "outputs": [],
   "source": [
    "var orderBookResults;\n",
    "var marketID = '0x79ee0681a6090ac5169aaf04422daa8c5cccacb3';\n",
    "\n",
    "augur.trading.getOrders({\n",
    "  marketId: marketID,\n",
    "  universe: universe,\n",
    "  //outcome: '1',\n",
    "  //orderType: \"buy\",\n",
    "  orderState: \"ALL\",\n",
    "}, function (error, result) {\n",
    "  orderBookResults = result;\n",
    "});"
   ]
  },
  {
   "cell_type": "code",
   "execution_count": null,
   "metadata": {},
   "outputs": [],
   "source": [
    "orderBookResults['0x79ee0681a6090ac5169aaf04422daa8c5cccacb3']"
   ]
  },
  {
   "cell_type": "code",
   "execution_count": null,
   "metadata": {},
   "outputs": [],
   "source": [
    "Object.keys(orderBookResults['0x79ee0681a6090ac5169aaf04422daa8c5cccacb3']['1'].buy).length"
   ]
  },
  {
   "cell_type": "code",
   "execution_count": null,
   "metadata": {},
   "outputs": [],
   "source": []
  }
 ],
 "metadata": {
  "kernelspec": {
   "display_name": "Javascript (Node.js)",
   "language": "javascript",
   "name": "javascript"
  },
  "language_info": {
   "file_extension": ".js",
   "mimetype": "application/javascript",
   "name": "javascript",
   "version": "11.1.0"
  }
 },
 "nbformat": 4,
 "nbformat_minor": 2
}
