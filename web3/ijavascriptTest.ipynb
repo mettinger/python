{
 "cells": [
  {
   "cell_type": "markdown",
   "metadata": {},
   "source": [
    "# Web 3"
   ]
  },
  {
   "cell_type": "code",
   "execution_count": 1,
   "metadata": {},
   "outputs": [],
   "source": [
    "const Web3 = require('web3')\n",
    "const web3 = new Web3(\"https://mainnet.infura.io/v3/f565925a6c5143188b5589a37b28139b\")\n",
    "//const web3 = new Web3(\"http://18.208.37.82:8811\") // my aws machine"
   ]
  },
  {
   "cell_type": "code",
   "execution_count": null,
   "metadata": {},
   "outputs": [],
   "source": [
    "var address1 = '0x28ef59a6e10256c31bd69c1a845845613459ae8c'\n",
    "var balance = web3.eth.getBalance(address1)\n",
    "balance"
   ]
  },
  {
   "cell_type": "code",
   "execution_count": null,
   "metadata": {},
   "outputs": [],
   "source": [
    "// OMG Token Contract\n",
    "const abi = [{\"constant\":true,\"inputs\":[],\"name\":\"mintingFinished\",\"outputs\":[{\"name\":\"\",\"type\":\"bool\"}],\"payable\":false,\"type\":\"function\"},{\"constant\":true,\"inputs\":[],\"name\":\"name\",\"outputs\":[{\"name\":\"\",\"type\":\"string\"}],\"payable\":false,\"type\":\"function\"},{\"constant\":false,\"inputs\":[{\"name\":\"_spender\",\"type\":\"address\"},{\"name\":\"_value\",\"type\":\"uint256\"}],\"name\":\"approve\",\"outputs\":[],\"payable\":false,\"type\":\"function\"},{\"constant\":true,\"inputs\":[],\"name\":\"totalSupply\",\"outputs\":[{\"name\":\"\",\"type\":\"uint256\"}],\"payable\":false,\"type\":\"function\"},{\"constant\":false,\"inputs\":[{\"name\":\"_from\",\"type\":\"address\"},{\"name\":\"_to\",\"type\":\"address\"},{\"name\":\"_value\",\"type\":\"uint256\"}],\"name\":\"transferFrom\",\"outputs\":[],\"payable\":false,\"type\":\"function\"},{\"constant\":true,\"inputs\":[],\"name\":\"decimals\",\"outputs\":[{\"name\":\"\",\"type\":\"uint256\"}],\"payable\":false,\"type\":\"function\"},{\"constant\":false,\"inputs\":[],\"name\":\"unpause\",\"outputs\":[{\"name\":\"\",\"type\":\"bool\"}],\"payable\":false,\"type\":\"function\"},{\"constant\":false,\"inputs\":[{\"name\":\"_to\",\"type\":\"address\"},{\"name\":\"_amount\",\"type\":\"uint256\"}],\"name\":\"mint\",\"outputs\":[{\"name\":\"\",\"type\":\"bool\"}],\"payable\":false,\"type\":\"function\"},{\"constant\":true,\"inputs\":[],\"name\":\"paused\",\"outputs\":[{\"name\":\"\",\"type\":\"bool\"}],\"payable\":false,\"type\":\"function\"},{\"constant\":true,\"inputs\":[{\"name\":\"_owner\",\"type\":\"address\"}],\"name\":\"balanceOf\",\"outputs\":[{\"name\":\"balance\",\"type\":\"uint256\"}],\"payable\":false,\"type\":\"function\"},{\"constant\":false,\"inputs\":[],\"name\":\"finishMinting\",\"outputs\":[{\"name\":\"\",\"type\":\"bool\"}],\"payable\":false,\"type\":\"function\"},{\"constant\":false,\"inputs\":[],\"name\":\"pause\",\"outputs\":[{\"name\":\"\",\"type\":\"bool\"}],\"payable\":false,\"type\":\"function\"},{\"constant\":true,\"inputs\":[],\"name\":\"owner\",\"outputs\":[{\"name\":\"\",\"type\":\"address\"}],\"payable\":false,\"type\":\"function\"},{\"constant\":true,\"inputs\":[],\"name\":\"symbol\",\"outputs\":[{\"name\":\"\",\"type\":\"string\"}],\"payable\":false,\"type\":\"function\"},{\"constant\":false,\"inputs\":[{\"name\":\"_to\",\"type\":\"address\"},{\"name\":\"_value\",\"type\":\"uint256\"}],\"name\":\"transfer\",\"outputs\":[],\"payable\":false,\"type\":\"function\"},{\"constant\":false,\"inputs\":[{\"name\":\"_to\",\"type\":\"address\"},{\"name\":\"_amount\",\"type\":\"uint256\"},{\"name\":\"_releaseTime\",\"type\":\"uint256\"}],\"name\":\"mintTimelocked\",\"outputs\":[{\"name\":\"\",\"type\":\"address\"}],\"payable\":false,\"type\":\"function\"},{\"constant\":true,\"inputs\":[{\"name\":\"_owner\",\"type\":\"address\"},{\"name\":\"_spender\",\"type\":\"address\"}],\"name\":\"allowance\",\"outputs\":[{\"name\":\"remaining\",\"type\":\"uint256\"}],\"payable\":false,\"type\":\"function\"},{\"constant\":false,\"inputs\":[{\"name\":\"newOwner\",\"type\":\"address\"}],\"name\":\"transferOwnership\",\"outputs\":[],\"payable\":false,\"type\":\"function\"},{\"anonymous\":false,\"inputs\":[{\"indexed\":true,\"name\":\"to\",\"type\":\"address\"},{\"indexed\":false,\"name\":\"value\",\"type\":\"uint256\"}],\"name\":\"Mint\",\"type\":\"event\"},{\"anonymous\":false,\"inputs\":[],\"name\":\"MintFinished\",\"type\":\"event\"},{\"anonymous\":false,\"inputs\":[],\"name\":\"Pause\",\"type\":\"event\"},{\"anonymous\":false,\"inputs\":[],\"name\":\"Unpause\",\"type\":\"event\"},{\"anonymous\":false,\"inputs\":[{\"indexed\":true,\"name\":\"owner\",\"type\":\"address\"},{\"indexed\":true,\"name\":\"spender\",\"type\":\"address\"},{\"indexed\":false,\"name\":\"value\",\"type\":\"uint256\"}],\"name\":\"Approval\",\"type\":\"event\"},{\"anonymous\":false,\"inputs\":[{\"indexed\":true,\"name\":\"from\",\"type\":\"address\"},{\"indexed\":true,\"name\":\"to\",\"type\":\"address\"},{\"indexed\":false,\"name\":\"value\",\"type\":\"uint256\"}],\"name\":\"Transfer\",\"type\":\"event\"}]\n",
    "const address = '0xd26114cd6EE289AccF82350c8d8487fedB8A0C07'\n",
    "\n",
    "const contract = new web3.eth.Contract(abi, address)"
   ]
  },
  {
   "cell_type": "code",
   "execution_count": null,
   "metadata": {},
   "outputs": [],
   "source": [
    "// Get Contract Event Stream\n",
    "contract.getPastEvents(\n",
    "  'AllEvents',\n",
    "  {\n",
    "    fromBlock: 6500000,\n",
    "    toBlock: 6500100\n",
    "  },\n",
    "  (err, events) => { console.log(events) }\n",
    ")"
   ]
  },
  {
   "cell_type": "markdown",
   "metadata": {},
   "source": [
    "# Augur"
   ]
  },
  {
   "cell_type": "code",
   "execution_count": null,
   "metadata": {},
   "outputs": [],
   "source": [
    "var Augur = require('augur.js');\n",
    "var augur = new Augur();\n",
    "\n",
    "var myConnectionInfo;\n",
    "\n",
    "var httpAddress = \"https://mainnet.infura.io/v3/f565925a6c5143188b5589a37b28139b\"\n",
    "//var httpAddress = \"https://rinkeby.augur.net/ethereum-http\"\n",
    "\n",
    "var ethereumNode = { \n",
    "  httpAddresses: [\n",
    "    httpAddress,\n",
    "  ]\n",
    "};\n",
    "\n",
    "//var augurNode = \"ws://127.0.0.1:9001\" // local Augur Node\n",
    "var augurNode = \"ws://18.208.37.82:9001\" // Augur Node on my aws machine\n",
    "\n",
    "augur.connect({ ethereumNode, augurNode }, function (err, connectionInfo) { myConnectionInfo = connectionInfo});\n",
    "//var connectionInfo = augur.connect({ ethereumNode, augurNode });"
   ]
  },
  {
   "cell_type": "code",
   "execution_count": null,
   "metadata": {},
   "outputs": [],
   "source": [
    "myConnectionInfo"
   ]
  },
  {
   "cell_type": "code",
   "execution_count": null,
   "metadata": {},
   "outputs": [],
   "source": [
    "var universe = myConnectionInfo.ethereumNode.contracts.Universe;\n",
    "universe"
   ]
  },
  {
   "cell_type": "code",
   "execution_count": null,
   "metadata": {},
   "outputs": [],
   "source": [
    "var markets;\n",
    "\n",
    "//var searchString = \"category: Ethereum OR tags: ETH\"\n",
    "//var searchString = \"category: POLITICS\"\n",
    "\n",
    "augur.markets.getMarkets({\n",
    "  universe: universe,\n",
    "  //search: searchString\n",
    "}, function (error, result) {\n",
    "  markets = result;\n",
    "});"
   ]
  },
  {
   "cell_type": "code",
   "execution_count": null,
   "metadata": {},
   "outputs": [],
   "source": [
    "markets.length"
   ]
  },
  {
   "cell_type": "code",
   "execution_count": null,
   "metadata": {},
   "outputs": [],
   "source": [
    "var outcomeBound = 2;\n",
    "\n",
    "var i;\n",
    "var thisID;\n",
    "var finalizedMarketInfo = [];\n",
    "\n",
    "for (i = 0; i < markets.length; i++) { \n",
    "    thisID = markets[i];\n",
    "    augur.markets.getMarketsInfo({marketIds: [thisID]}, \n",
    "        function (error, result) {if (result[0].finalizationBlockNumber != null && \n",
    "                                      result[0].numOutcomes >= outcomeBound)\n",
    "            {finalizedMarketInfo.push(result[0])}});\n",
    "}\n"
   ]
  },
  {
   "cell_type": "code",
   "execution_count": null,
   "metadata": {},
   "outputs": [],
   "source": [
    "finalizedMarketInfo.length"
   ]
  },
  {
   "cell_type": "code",
   "execution_count": null,
   "metadata": {},
   "outputs": [],
   "source": [
    "finalizedMarketInfo"
   ]
  },
  {
   "cell_type": "code",
   "execution_count": null,
   "metadata": {},
   "outputs": [],
   "source": [
    "var marketInfoList = finalizedMarketInfo; // get all markets\n",
    "//var marketIndex = 5\n",
    "//var marketInfoList = [finalizedMarketInfo[marketIndex]] // get a single market\n",
    "var allMarketPriceHistory = [];\n",
    "\n",
    "marketInfoList.forEach(function(arrayElement) {\n",
    "  augur.markets.getMarketPriceHistory({marketId: arrayElement.id}, function(error, result) {\n",
    "    allMarketPriceHistory.push([arrayElement, result]);\n",
    "  });\n",
    "});"
   ]
  },
  {
   "cell_type": "code",
   "execution_count": null,
   "metadata": {},
   "outputs": [],
   "source": [
    "allMarketPriceHistory.length"
   ]
  },
  {
   "cell_type": "code",
   "execution_count": null,
   "metadata": {},
   "outputs": [],
   "source": [
    "allMarketPriceHistory"
   ]
  },
  {
   "cell_type": "code",
   "execution_count": null,
   "metadata": {},
   "outputs": [],
   "source": [
    "allMarketPriceHistory[0][1]['1'].length"
   ]
  },
  {
   "cell_type": "code",
   "execution_count": null,
   "metadata": {},
   "outputs": [],
   "source": [
    "var orderBookResults;\n",
    "var marketID = '0x79ee0681a6090ac5169aaf04422daa8c5cccacb3';\n",
    "\n",
    "augur.trading.getOrders({\n",
    "  marketId: marketID,\n",
    "  universe: universe,\n",
    "  //outcome: '1',\n",
    "  //orderType: \"buy\",\n",
    "  orderState: \"ALL\",\n",
    "}, function (error, result) {\n",
    "  orderBookResults = result;\n",
    "});"
   ]
  },
  {
   "cell_type": "code",
   "execution_count": null,
   "metadata": {},
   "outputs": [],
   "source": [
    "orderBookResults['0x79ee0681a6090ac5169aaf04422daa8c5cccacb3']"
   ]
  },
  {
   "cell_type": "code",
   "execution_count": null,
   "metadata": {},
   "outputs": [],
   "source": [
    "Object.keys(orderBookResults['0x79ee0681a6090ac5169aaf04422daa8c5cccacb3']['1'].buy).length"
   ]
  },
  {
   "cell_type": "code",
   "execution_count": null,
   "metadata": {},
   "outputs": [],
   "source": []
  }
 ],
 "metadata": {
  "kernelspec": {
   "display_name": "Javascript (Node.js)",
   "language": "javascript",
   "name": "javascript"
  },
  "language_info": {
   "file_extension": ".js",
   "mimetype": "application/javascript",
   "name": "javascript",
   "version": "11.1.0"
  }
 },
 "nbformat": 4,
 "nbformat_minor": 2
}
