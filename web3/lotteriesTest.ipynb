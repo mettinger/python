{
 "cells": [
  {
   "cell_type": "code",
   "execution_count": 1,
   "metadata": {},
   "outputs": [
    {
     "data": {
      "text/plain": [
       "True"
      ]
     },
     "execution_count": 1,
     "metadata": {},
     "output_type": "execute_result"
    }
   ],
   "source": [
    "from web3 import Web3\n",
    "\n",
    "web3 = Web3(Web3.HTTPProvider('http://localhost:7545')) # Ganache\n",
    "web3.isConnected()"
   ]
  },
  {
   "cell_type": "code",
   "execution_count": 2,
   "metadata": {},
   "outputs": [],
   "source": [
    "import json\n",
    "\n",
    "PATH_TRUFFLE_WK = '/Users/mettinger/Desktop/truffle/lotteries'\n",
    "truffleFile = json.load(open(PATH_TRUFFLE_WK + '/build/contracts/SimpleLottery.json'))\n",
    "\n",
    "abi = truffleFile['abi']\n",
    "bytecode = truffleFile['bytecode']"
   ]
  },
  {
   "cell_type": "code",
   "execution_count": 20,
   "metadata": {},
   "outputs": [],
   "source": [
    "address1 = '0x8a38346Df3E1F5053e669F9B5272693f90d55876'\n",
    "address2 = '0x95C39d607610DcB7CB8Ed38502cB073e4591ad59'"
   ]
  },
  {
   "cell_type": "code",
   "execution_count": 14,
   "metadata": {},
   "outputs": [
    {
     "data": {
      "text/plain": [
       "Decimal('99.9246718')"
      ]
     },
     "execution_count": 14,
     "metadata": {},
     "output_type": "execute_result"
    }
   ],
   "source": [
    "address1 = Web3.toChecksumAddress(address1)\n",
    "ether_balance = web3.fromWei(web3.eth.getBalance(address1),'ether')\n",
    "ether_balance"
   ]
  },
  {
   "cell_type": "code",
   "execution_count": 4,
   "metadata": {},
   "outputs": [],
   "source": [
    "contractAddress = '0xd4d8e6a5999d1d8ee0797db0dbd3db5d27653cd1'\n",
    "lotteryContractAddress = Web3.toChecksumAddress(contractAddress)\n",
    "\n",
    "contract = web3.eth.contract(address = lotteryContractAddress, abi = abi)"
   ]
  },
  {
   "cell_type": "code",
   "execution_count": 5,
   "metadata": {},
   "outputs": [
    {
     "data": {
      "text/plain": [
       "10000000000000000"
      ]
     },
     "execution_count": 5,
     "metadata": {},
     "output_type": "execute_result"
    }
   ],
   "source": [
    "contract.functions.TICKET_PRICE().call()"
   ]
  },
  {
   "cell_type": "code",
   "execution_count": 6,
   "metadata": {},
   "outputs": [
    {
     "data": {
      "text/plain": [
       "1544300618"
      ]
     },
     "execution_count": 6,
     "metadata": {},
     "output_type": "execute_result"
    }
   ],
   "source": [
    "contract.functions.ticketingCloses().call()"
   ]
  },
  {
   "cell_type": "code",
   "execution_count": 21,
   "metadata": {},
   "outputs": [
    {
     "data": {
      "text/plain": [
       "HexBytes('0x41a6eaf5f99fa1abc3a624624d30c558a7cb69885298128d627d27dc4d868894')"
      ]
     },
     "execution_count": 21,
     "metadata": {},
     "output_type": "execute_result"
    }
   ],
   "source": [
    "web3.eth.sendTransaction({'from': address2, 'to': lotteryContractAddress, 'value':Web3.toWei(.01,'ether')})"
   ]
  },
  {
   "cell_type": "code",
   "execution_count": 23,
   "metadata": {},
   "outputs": [
    {
     "data": {
      "text/plain": [
       "'0x95C39d607610DcB7CB8Ed38502cB073e4591ad59'"
      ]
     },
     "execution_count": 23,
     "metadata": {},
     "output_type": "execute_result"
    }
   ],
   "source": [
    "contract.functions.tickets(1).call()"
   ]
  },
  {
   "cell_type": "code",
   "execution_count": 40,
   "metadata": {},
   "outputs": [
    {
     "data": {
      "text/plain": [
       "HexBytes('0x2623c82c6b20feadae920faf857fbb18bdbc5943b1558686dc24fdfb9f0ecbb4')"
      ]
     },
     "execution_count": 40,
     "metadata": {},
     "output_type": "execute_result"
    }
   ],
   "source": [
    "contract.functions.drawWinner().transact({'from':address1})"
   ]
  },
  {
   "cell_type": "code",
   "execution_count": 41,
   "metadata": {},
   "outputs": [
    {
     "data": {
      "text/plain": [
       "'0x8a38346Df3E1F5053e669F9B5272693f90d55876'"
      ]
     },
     "execution_count": 41,
     "metadata": {},
     "output_type": "execute_result"
    }
   ],
   "source": [
    "contract.functions.winner().call()"
   ]
  },
  {
   "cell_type": "code",
   "execution_count": 42,
   "metadata": {},
   "outputs": [
    {
     "data": {
      "text/plain": [
       "Decimal('0.02')"
      ]
     },
     "execution_count": 42,
     "metadata": {},
     "output_type": "execute_result"
    }
   ],
   "source": [
    "ether_balance = web3.fromWei(web3.eth.getBalance(lotteryContractAddress),'ether')\n",
    "ether_balance"
   ]
  },
  {
   "cell_type": "code",
   "execution_count": 43,
   "metadata": {},
   "outputs": [
    {
     "data": {
      "text/plain": [
       "HexBytes('0xda7278964b7c64068384a07b76622a7c3943de18a9bc3c4644f899a8fde29e76')"
      ]
     },
     "execution_count": 43,
     "metadata": {},
     "output_type": "execute_result"
    }
   ],
   "source": [
    "contract.functions.withdraw().transact({'from':address1})"
   ]
  },
  {
   "cell_type": "code",
   "execution_count": 45,
   "metadata": {},
   "outputs": [
    {
     "data": {
      "text/plain": [
       "0"
      ]
     },
     "execution_count": 45,
     "metadata": {},
     "output_type": "execute_result"
    }
   ],
   "source": [
    "ether_balance = web3.fromWei(web3.eth.getBalance(lotteryContractAddress),'ether')\n",
    "ether_balance"
   ]
  },
  {
   "cell_type": "code",
   "execution_count": null,
   "metadata": {},
   "outputs": [],
   "source": [
    "'''\n",
    "pragma solidity ^0.4.18; \n",
    "\n",
    "contract SimpleLottery {\n",
    "    uint public constant TICKET_PRICE = 1e16; // 0.01 ether\n",
    "\n",
    "    address[] public tickets;\n",
    "    address public winner;\n",
    "    uint public ticketingCloses;\n",
    "\n",
    "    function SimpleLottery (uint duration) public {\n",
    "        ticketingCloses = now + duration;\n",
    "    }\n",
    "\n",
    "    function buy () public payable {\n",
    "        require(msg.value == TICKET_PRICE); \n",
    "        //require(now < ticketingCloses);\n",
    "\n",
    "        tickets.push(msg.sender);\n",
    "    }\n",
    "\n",
    "    function drawWinner () public {\n",
    "        require(now > ticketingCloses + 1 minutes);\n",
    "        require(winner == address(0));\n",
    "\n",
    "        bytes32 rand = keccak256(\n",
    "            block.blockhash(block.number-1)\n",
    "        );\n",
    "        winner = tickets[uint(rand) % tickets.length];\n",
    "    }\n",
    "\n",
    "\n",
    "    function withdraw () public {\n",
    "        require(msg.sender == winner);\n",
    "        msg.sender.transfer(this.balance);\n",
    "    }\n",
    "\n",
    "    function () payable public {\n",
    "        buy();\n",
    "    }\n",
    "}\n",
    "'''"
   ]
  }
 ],
 "metadata": {
  "kernelspec": {
   "display_name": "Python 3",
   "language": "python",
   "name": "python3"
  },
  "language_info": {
   "codemirror_mode": {
    "name": "ipython",
    "version": 3
   },
   "file_extension": ".py",
   "mimetype": "text/x-python",
   "name": "python",
   "nbconvert_exporter": "python",
   "pygments_lexer": "ipython3",
   "version": "3.6.5"
  }
 },
 "nbformat": 4,
 "nbformat_minor": 2
}
